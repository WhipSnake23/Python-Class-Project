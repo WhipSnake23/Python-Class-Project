{
 "cells": [
  {
   "cell_type": "markdown",
   "metadata": {},
   "source": [
    "# Linear Regression Analysis of Covid 19 Deaths in Canada\n",
    "\n",
    "### Group 2: Ian, Sanjaya, Nermin, Stephanie\n",
    "\n",
    "#### Import needed Libraries"
   ]
  },
  {
   "cell_type": "code",
   "execution_count": 45,
   "metadata": {},
   "outputs": [],
   "source": [
    "##Import Key Libraries for use\n",
    "import datetime as dt\n",
    "import math\n",
    "import pandas as pd\n",
    "import numpy as np\n",
    "import sklearn\n",
    "from sklearn.model_selection import train_test_split\n",
    "from sklearn.svm import SVR\n",
    "from sklearn.metrics import explained_variance_score, mean_absolute_error, r2_score, mean_squared_error"
   ]
  },
  {
   "cell_type": "markdown",
   "metadata": {},
   "source": [
    "### Import and Scrub Data from Github"
   ]
  },
  {
   "cell_type": "code",
   "execution_count": 47,
   "metadata": {},
   "outputs": [],
   "source": [
    "#Import CSV\n",
    "covid19Dataframe = pd.read_csv(\"https://raw.githubusercontent.com/WhipSnake23/Python-Class-Project/main/Data/owid-covid-data.csv\")\n",
    "#Filter Dataset to Canada\n",
    "covid19Dataframe = covid19Dataframe[covid19Dataframe.iso_code.str.contains(\"CAN\")]\n",
    "#Remove Smoothed Columns from dataframe\n",
    "covid19Dataframe = covid19Dataframe.drop(columns=['new_cases_smoothed','new_deaths_smoothed','new_cases_smoothed_per_million','new_deaths_smoothed_per_million','new_tests_smoothed','new_tests_smoothed_per_thousand','new_vaccinations_smoothed','new_vaccinations_smoothed_per_million'])\n",
    "#Reset Index\n",
    "covid19Dataframe.reset_index(drop=True, inplace=True)\n",
    "#Drop rows where Total Deaths is blank. This is required for the ML\n",
    "covid19Dataframe.dropna(subset=['total_deaths'],inplace=True)\n",
    "\n",
    "#Import Comparison Data set containing data from March. The data set we are using stops in February\n",
    "canadaMarchCovidData = pd.read_csv(\"https://raw.githubusercontent.com/WhipSnake23/Python-Class-Project/main/Data/Canada-MarchData.csv\")\n",
    "canadaMarchCovidData = canadaMarchCovidData.drop(columns=['new_cases_smoothed','new_deaths_smoothed','new_cases_smoothed_per_million','new_deaths_smoothed_per_million','new_tests_smoothed','new_tests_smoothed_per_thousand','new_vaccinations_smoothed','new_vaccinations_smoothed_per_million'])\n",
    "#Reset Index\n",
    "canadaMarchCovidData.reset_index(drop=True, inplace=True)\n",
    "#Drop rows where hosp_patients hasnt been reported\n",
    "canadaMarchCovidData.dropna(subset=['hosp_patients'],inplace=True)"
   ]
  },
  {
   "cell_type": "markdown",
   "metadata": {},
   "source": [
    "### Define Notebook Functions"
   ]
  },
  {
   "cell_type": "code",
   "execution_count": 48,
   "metadata": {},
   "outputs": [],
   "source": [
    "#These functions make it easier to test configuration changes and features easier\n",
    "\n",
    "#Prints the Scores from the run of the algorithum against the data\n",
    "def printMetrics(test, predictions):\n",
    "    print(f\"Score: {explained_variance_score(test, predictions):.2f}\")\n",
    "    print(f\"MAE: {mean_absolute_error(test, predictions):.2f}\")\n",
    "    print(f\"RMSE: {math.sqrt(mean_squared_error(test, predictions)):.2f}\")\n",
    "    print(f\"r2: {r2_score(test, predictions):.2f}\")\n",
    "\n",
    "#Function to run the algorithum and call metric function\n",
    "def  calculateScore(F_Features,F_Target):\n",
    "    X_train, X_test, y_train, y_test = train_test_split(F_Features, F_Target, test_size=0.25, random_state=1)\n",
    "    model = SVR(kernel='rbf',epsilon=0)\n",
    "    model.fit(X_train, y_train)\n",
    "    predictions = model.predict(X_test)\n",
    "    printMetrics(y_test, predictions)\n",
    "\n",
    "#Function which will run the predictions and return the predictions given a block of data\n",
    "def  predictValue(F_Features,F_Target,predict_df):\n",
    "    X_train, X_test, y_train, y_test = train_test_split(F_Features, F_Target, test_size=0.25, random_state=1)\n",
    "    model = SVR(kernel='rbf',epsilon=0)\n",
    "    model.fit(X_train, y_train)\n",
    "    predictions = model.predict(predict_df)\n",
    "    return predictions"
   ]
  },
  {
   "cell_type": "markdown",
   "metadata": {},
   "source": [
    "### Set Target Column"
   ]
  },
  {
   "cell_type": "code",
   "execution_count": 49,
   "metadata": {},
   "outputs": [],
   "source": [
    "#Target column is the same across all the test\n",
    "targetColumn = \"total_deaths\""
   ]
  },
  {
   "cell_type": "markdown",
   "metadata": {},
   "source": [
    "## Test 1\n",
    "### Using the following features\n",
    "#### New Cases\n",
    "#### Median Age\n",
    "#### Population Density\n",
    "#### Population\n",
    "#### Total Cases"
   ]
  },
  {
   "cell_type": "code",
   "execution_count": 38,
   "metadata": {},
   "outputs": [
    {
     "name": "stdout",
     "output_type": "stream",
     "text": [
      "Score: 0.00\n",
      "MAE: 4202.09\n",
      "RMSE: 6022.67\n",
      "r2: -0.09\n"
     ]
    },
    {
     "name": "stderr",
     "output_type": "stream",
     "text": [
      "C:\\Users\\k300891\\AppData\\Local\\Continuum\\anaconda3\\lib\\site-packages\\sklearn\\svm\\base.py:193: FutureWarning: The default value of gamma will change from 'auto' to 'scale' in version 0.22 to account better for unscaled features. Set gamma explicitly to 'auto' or 'scale' to avoid this warning.\n",
      "  \"avoid this warning.\", FutureWarning)\n",
      "C:\\Users\\k300891\\AppData\\Local\\Continuum\\anaconda3\\lib\\site-packages\\sklearn\\svm\\base.py:193: FutureWarning: The default value of gamma will change from 'auto' to 'scale' in version 0.22 to account better for unscaled features. Set gamma explicitly to 'auto' or 'scale' to avoid this warning.\n",
      "  \"avoid this warning.\", FutureWarning)\n"
     ]
    }
   ],
   "source": [
    "featureColumns = [\"new_cases\", \"median_age\",\"population_density\",\"population\",'total_cases']\n",
    "\n",
    "features=covid19Dataframe[featureColumns]\n",
    "target=covid19Dataframe[targetColumn]\n",
    "\n",
    "calculateScore(features,target)\n",
    "\n",
    "#Prediction Methods\n",
    "featureColumns = [\"new_cases\", \"median_age\",\"population_density\",\"population\",'total_cases']\n",
    "predictionDataFrame = canadaMarchCovidData[featureColumns]\n",
    "predictedValues = predictValue(features,target,predictionDataFrame)\n",
    "predictedValues = np.around(predictedValues)\n",
    "predictedValuesFrame = predictionDataFrame.copy()\n",
    "predictedValuesFrame['total_deaths'] = predictedValues"
   ]
  },
  {
   "cell_type": "markdown",
   "metadata": {},
   "source": [
    "## Test 2\n",
    "### Using the following features\n",
    "#### New Cases\n",
    "#### Median Age\n",
    "#### Population Density\n",
    "#### Population\n"
   ]
  },
  {
   "cell_type": "code",
   "execution_count": 50,
   "metadata": {},
   "outputs": [
    {
     "name": "stdout",
     "output_type": "stream",
     "text": [
      "Score: 0.00\n",
      "MAE: 4201.90\n",
      "RMSE: 6022.60\n",
      "r2: -0.09\n"
     ]
    },
    {
     "name": "stderr",
     "output_type": "stream",
     "text": [
      "C:\\Users\\k300891\\AppData\\Local\\Continuum\\anaconda3\\lib\\site-packages\\sklearn\\svm\\base.py:193: FutureWarning: The default value of gamma will change from 'auto' to 'scale' in version 0.22 to account better for unscaled features. Set gamma explicitly to 'auto' or 'scale' to avoid this warning.\n",
      "  \"avoid this warning.\", FutureWarning)\n"
     ]
    }
   ],
   "source": [
    "##Missing Total Cases\n",
    "featureColumns = [\"new_cases\", \"median_age\",\"population_density\",\"population\"]\n",
    "\n",
    "features=covid19Dataframe[featureColumns]\n",
    "target=covid19Dataframe[targetColumn]\n",
    "\n",
    "calculateScore(features,target)"
   ]
  },
  {
   "cell_type": "markdown",
   "metadata": {},
   "source": [
    "## Test 3\n",
    "### Using the following features\n",
    "#### New Cases\n",
    "#### Median Age\n",
    "#### Population Density\n",
    "#### Population\n",
    "#### Hospital Patients"
   ]
  },
  {
   "cell_type": "code",
   "execution_count": 52,
   "metadata": {},
   "outputs": [
    {
     "name": "stdout",
     "output_type": "stream",
     "text": [
      "Score: 0.00\n",
      "MAE: 3231.30\n",
      "RMSE: 4964.96\n",
      "r2: -0.01\n"
     ]
    },
    {
     "name": "stderr",
     "output_type": "stream",
     "text": [
      "C:\\Users\\k300891\\AppData\\Local\\Continuum\\anaconda3\\lib\\site-packages\\sklearn\\svm\\base.py:193: FutureWarning: The default value of gamma will change from 'auto' to 'scale' in version 0.22 to account better for unscaled features. Set gamma explicitly to 'auto' or 'scale' to avoid this warning.\n",
      "  \"avoid this warning.\", FutureWarning)\n"
     ]
    }
   ],
   "source": [
    "covid19Dataframe.dropna(subset=['hosp_patients'],inplace=True)\n",
    "featureColumns = [\"new_cases\", \"median_age\",\"population_density\",\"population\",\"hosp_patients\"]\n",
    "\n",
    "features=covid19Dataframe[featureColumns]\n",
    "target=covid19Dataframe[targetColumn]\n",
    "\n",
    "calculateScore(features,target)"
   ]
  },
  {
   "cell_type": "markdown",
   "metadata": {},
   "source": [
    "## Test 4\n",
    "### Using the following features\n",
    "#### New Cases\n",
    "#### Median Age\n",
    "#### Population Density\n",
    "#### Population\n",
    "#### Total Cases\n",
    "#### Hospital Patients"
   ]
  },
  {
   "cell_type": "code",
   "execution_count": 53,
   "metadata": {},
   "outputs": [
    {
     "name": "stdout",
     "output_type": "stream",
     "text": [
      "Score: 0.00\n",
      "MAE: 3231.30\n",
      "RMSE: 4964.96\n",
      "r2: -0.01\n"
     ]
    },
    {
     "name": "stderr",
     "output_type": "stream",
     "text": [
      "C:\\Users\\k300891\\AppData\\Local\\Continuum\\anaconda3\\lib\\site-packages\\sklearn\\svm\\base.py:193: FutureWarning: The default value of gamma will change from 'auto' to 'scale' in version 0.22 to account better for unscaled features. Set gamma explicitly to 'auto' or 'scale' to avoid this warning.\n",
      "  \"avoid this warning.\", FutureWarning)\n"
     ]
    }
   ],
   "source": [
    "featureColumns = [\"new_cases\", \"median_age\",\"population_density\",\"population\",\"hosp_patients\",\"total_cases\"]\n",
    "\n",
    "features=covid19Dataframe[featureColumns]\n",
    "target=covid19Dataframe[targetColumn]\n",
    "\n",
    "calculateScore(features,target)"
   ]
  },
  {
   "cell_type": "markdown",
   "metadata": {},
   "source": [
    "## Test 5\n",
    "### Using the following features\n",
    "#### New Cases\n",
    "#### Median Age\n",
    "#### Population Density\n",
    "#### Population\n",
    "#### Total Cases\n",
    "#### Hospital Patients\n",
    "#### Positive Rate"
   ]
  },
  {
   "cell_type": "code",
   "execution_count": 54,
   "metadata": {},
   "outputs": [
    {
     "name": "stdout",
     "output_type": "stream",
     "text": [
      "Score: 0.00\n",
      "MAE: 2875.20\n",
      "RMSE: 4560.93\n",
      "r2: -0.00\n"
     ]
    },
    {
     "name": "stderr",
     "output_type": "stream",
     "text": [
      "C:\\Users\\k300891\\AppData\\Local\\Continuum\\anaconda3\\lib\\site-packages\\sklearn\\svm\\base.py:193: FutureWarning: The default value of gamma will change from 'auto' to 'scale' in version 0.22 to account better for unscaled features. Set gamma explicitly to 'auto' or 'scale' to avoid this warning.\n",
      "  \"avoid this warning.\", FutureWarning)\n"
     ]
    }
   ],
   "source": [
    "covid19Dataframe.dropna(subset=['positive_rate'],inplace=True)\n",
    "featureColumns = [\"new_cases\", \"median_age\",\"population_density\",\"population\",\"hosp_patients\",\"total_cases\",\"positive_rate\"]\n",
    "\n",
    "features=covid19Dataframe[featureColumns]\n",
    "target=covid19Dataframe[targetColumn]\n",
    "\n",
    "calculateScore(features,target)"
   ]
  },
  {
   "cell_type": "markdown",
   "metadata": {},
   "source": [
    "## Test 6\n",
    "### Using the following features\n",
    "#### New Cases\n",
    "#### Median Age\n",
    "#### Population Density\n",
    "#### Population\n",
    "#### Total Cases\n",
    "#### Hospital Patients\n",
    "#### Positive Rate"
   ]
  },
  {
   "cell_type": "code",
   "execution_count": 43,
   "metadata": {},
   "outputs": [
    {
     "name": "stdout",
     "output_type": "stream",
     "text": [
      "Score: 0.00\n",
      "MAE: 2875.20\n",
      "RMSE: 4560.93\n",
      "r2: -0.00\n"
     ]
    },
    {
     "name": "stderr",
     "output_type": "stream",
     "text": [
      "C:\\Users\\k300891\\AppData\\Local\\Continuum\\anaconda3\\lib\\site-packages\\sklearn\\svm\\base.py:193: FutureWarning: The default value of gamma will change from 'auto' to 'scale' in version 0.22 to account better for unscaled features. Set gamma explicitly to 'auto' or 'scale' to avoid this warning.\n",
      "  \"avoid this warning.\", FutureWarning)\n"
     ]
    }
   ],
   "source": [
    "covid19Dataframe['positive_rate'] = covid19Dataframe['positive_rate'] * 100\n",
    "featureColumns = [\"new_cases\", \"median_age\",\"population_density\",\"population\",\"hosp_patients\",\"total_cases\",\"positive_rate\"]\n",
    "\n",
    "features=covid19Dataframe[featureColumns]\n",
    "target=covid19Dataframe[targetColumn]\n",
    "\n",
    "calculateScore(features,target)\n"
   ]
  }
 ],
 "metadata": {
  "kernelspec": {
   "display_name": "Python 3",
   "language": "python",
   "name": "python3"
  },
  "language_info": {
   "codemirror_mode": {
    "name": "ipython",
    "version": 3
   },
   "file_extension": ".py",
   "mimetype": "text/x-python",
   "name": "python",
   "nbconvert_exporter": "python",
   "pygments_lexer": "ipython3",
   "version": "3.7.4"
  }
 },
 "nbformat": 4,
 "nbformat_minor": 2
}
