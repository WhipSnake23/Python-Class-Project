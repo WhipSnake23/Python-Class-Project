{
 "cells": [
  {
   "cell_type": "code",
   "metadata": {
    "collapsed": true,
    "pycharm": {
     "name": "#%%\n"
    }
   },
   "source": [
    "##Import Key Libraries for use\n",
    "import datetime as dt\n",
    "import math\n",
    "import pandas as pd\n",
    "import numpy as np\n",
    "import sklearn\n",
    "from sklearn.model_selection import train_test_split\n",
    "from sklearn.linear_model import ElasticNet\n",
    "from sklearn.metrics import explained_variance_score, mean_absolute_error, r2_score, mean_squared_error"
   ],
   "execution_count": 62,
   "outputs": []
  },
  {
   "cell_type": "code",
   "execution_count": 63,
   "outputs": [],
   "source": [
    "#Import CSV\n",
    "covid19Dataframe = pd.read_csv(\"https://raw.githubusercontent.com/WhipSnake23/Python-Class-Project/main/Data/owid-covid-data.csv\")\n",
    "#Filter Dataset to Canada\n",
    "covid19Dataframe = covid19Dataframe[covid19Dataframe.iso_code.str.contains(\"CAN\")]\n",
    "#Remove Smoothed Columns from dataframe\n",
    "\n",
    "covid19Dataframe = covid19Dataframe.drop(columns=['new_cases_smoothed','new_deaths_smoothed','new_cases_smoothed_per_million','new_deaths_smoothed_per_million','new_tests_smoothed','new_tests_smoothed_per_thousand','new_vaccinations_smoothed','new_vaccinations_smoothed_per_million'])\n",
    "#Reset Index\n",
    "covid19Dataframe.reset_index(drop=True, inplace=True)\n",
    "#covid19Dataframe.dropna(inplace=True)\n",
    "covid19Dataframe.dropna(subset=['total_deaths'],inplace=True)"
   ],
   "metadata": {
    "collapsed": false,
    "pycharm": {
     "name": "#%%\n"
    }
   }
  },
  {
   "cell_type": "code",
   "execution_count": 64,
   "outputs": [
    {
     "name": "stdout",
     "output_type": "stream",
     "text": [
      "     total_cases  new_cases  median_age  gdp_per_capita\n",
      "43          77.0       13.0        41.4       44017.591\n",
      "44          79.0        2.0        41.4       44017.591\n",
      "45         108.0       29.0        41.4       44017.591\n",
      "46         117.0        9.0        41.4       44017.591\n",
      "47         193.0       76.0        41.4       44017.591\n",
      "..           ...        ...         ...             ...\n",
      "388     839155.0     2561.0        41.4       44017.591\n",
      "389     842590.0     3435.0        41.4       44017.591\n",
      "390     845673.0     3083.0        41.4       44017.591\n",
      "391     848330.0     2657.0        41.4       44017.591\n",
      "392     850737.0     2407.0        41.4       44017.591\n",
      "\n",
      "[350 rows x 4 columns]\n",
      "43         1.0\n",
      "44         1.0\n",
      "45         1.0\n",
      "46         1.0\n",
      "47         1.0\n",
      "        ...   \n",
      "388    21439.0\n",
      "389    21509.0\n",
      "390    21581.0\n",
      "391    21631.0\n",
      "392    21675.0\n",
      "Name: total_deaths, Length: 350, dtype: float64\n"
     ]
    }
   ],
   "source": [
    "#Set x and y\n",
    "#print(covid19Dataframe.head)\n",
    "\n",
    "columns = [\"total_cases\", \"new_cases\", \"median_age\", \"gdp_per_capita\"]\n",
    "target = \"total_deaths\"\n",
    "\n",
    "Features=covid19Dataframe[columns]\n",
    "target=covid19Dataframe[target]\n",
    "\n",
    "print(Features)\n",
    "print(target)"
   ],
   "metadata": {
    "collapsed": false,
    "pycharm": {
     "name": "#%%\n"
    }
   }
  },
  {
   "cell_type": "code",
   "execution_count": 65,
   "outputs": [],
   "source": [
    "X_train, X_test, y_train, y_test = train_test_split(Features, target, test_size=0.25, random_state=1)"
   ],
   "metadata": {
    "collapsed": false,
    "pycharm": {
     "name": "#%%\n"
    }
   }
  },
  {
   "cell_type": "code",
   "execution_count": 66,
   "outputs": [
    {
     "name": "stdout",
     "output_type": "stream",
     "text": [
      "0.8891313496981199\n",
      "Score: 0.89\n",
      "MAE: 1548.75\n",
      "RMSE: 1921.68\n",
      "r2: 0.89\n"
     ]
    }
   ],
   "source": [
    "def printMetrics(test, predictions):\n",
    "    print(f\"Score: {explained_variance_score(test, predictions):.2f}\")\n",
    "    print(f\"MAE: {mean_absolute_error(test, predictions):.2f}\")\n",
    "    print(f\"RMSE: {math.sqrt(mean_squared_error(test, predictions)):.2f}\")\n",
    "    print(f\"r2: {r2_score(test, predictions):.2f}\")\n",
    "\n",
    "reg = ElasticNet()\n",
    "reg.fit(X_train, y_train)\n",
    "print(reg.score(X_test, y_test))\n",
    "predictions = reg.predict(X_test)\n",
    "printMetrics(y_test, predictions)"
   ],
   "metadata": {
    "collapsed": false,
    "pycharm": {
     "name": "#%%\n"
    }
   }
  }
 ],
 "metadata": {
  "kernelspec": {
   "display_name": "Python 3",
   "language": "python",
   "name": "python3"
  },
  "language_info": {
   "codemirror_mode": {
    "name": "ipython",
    "version": 2
   },
   "file_extension": ".py",
   "mimetype": "text/x-python",
   "name": "python",
   "nbconvert_exporter": "python",
   "pygments_lexer": "ipython2",
   "version": "2.7.6"
  }
 },
 "nbformat": 4,
 "nbformat_minor": 0
}