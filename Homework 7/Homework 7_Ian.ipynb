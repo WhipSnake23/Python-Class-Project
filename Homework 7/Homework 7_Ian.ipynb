{
 "cells": [
  {
   "cell_type": "code",
   "metadata": {
    "collapsed": true,
    "pycharm": {
     "name": "#%%\n"
    }
   },
   "source": [
    "##Import Key Libraries for use\n",
    "import datetime as dt\n",
    "import math\n",
    "import pandas as pd\n",
    "import numpy as np\n",
    "import sklearn\n",
    "from sklearn.model_selection import train_test_split\n",
    "from sklearn.linear_model import ElasticNet\n",
    "from sklearn.metrics import explained_variance_score, mean_absolute_error, r2_score, mean_squared_error"
   ],
   "execution_count": 175,
   "outputs": []
  },
  {
   "cell_type": "code",
   "execution_count": 176,
   "outputs": [],
   "source": [
    "#Import CSV\n",
    "covid19Dataframe = pd.read_csv(\"https://raw.githubusercontent.com/WhipSnake23/Python-Class-Project/main/Data/owid-covid-data.csv\")\n",
    "#Filter Dataset to Canada\n",
    "covid19Dataframe = covid19Dataframe[covid19Dataframe.iso_code.str.contains(\"CAN\")]\n",
    "#Remove Smoothed Columns from dataframe\n",
    "\n",
    "covid19Dataframe = covid19Dataframe.drop(columns=['new_cases_smoothed','new_deaths_smoothed','new_cases_smoothed_per_million','new_deaths_smoothed_per_million','new_tests_smoothed','new_tests_smoothed_per_thousand','new_vaccinations_smoothed','new_vaccinations_smoothed_per_million'])\n",
    "#Reset Index\n",
    "covid19Dataframe.reset_index(drop=True, inplace=True)\n",
    "#covid19Dataframe.dropna(inplace=True)\n",
    "covid19Dataframe.dropna(subset=['total_deaths'],inplace=True)"
   ],
   "metadata": {
    "collapsed": false,
    "pycharm": {
     "name": "#%%\n"
    }
   }
  },
  {
   "cell_type": "code",
   "execution_count": 177,
   "outputs": [],
   "source": [
    "##Functions\n",
    "def printMetrics(test, predictions):\n",
    "    print(f\"Score: {explained_variance_score(test, predictions):.2f}\")\n",
    "    print(f\"MAE: {mean_absolute_error(test, predictions):.2f}\")\n",
    "    print(f\"RMSE: {math.sqrt(mean_squared_error(test, predictions)):.2f}\")\n",
    "    print(f\"r2: {r2_score(test, predictions):.2f}\")"
   ],
   "metadata": {
    "collapsed": false,
    "pycharm": {
     "name": "#%%\n"
    }
   }
  },
  {
   "cell_type": "code",
   "execution_count": 178,
   "outputs": [
    {
     "name": "stdout",
     "output_type": "stream",
     "text": [
      "Score: 0.89\n",
      "MAE: 1548.75\n",
      "RMSE: 1921.68\n",
      "r2: 0.89\n"
     ]
    }
   ],
   "source": [
    "#print(covid19Dataframe.head)\n",
    "\n",
    "columns = [\"new_cases\", \"median_age\",\"population_density\",\"population\",'total_cases']\n",
    "target = \"total_deaths\"\n",
    "Features=covid19Dataframe[columns]\n",
    "target=covid19Dataframe[target]\n",
    "\n",
    "#print(Features)\n",
    "#print(target)\n",
    "\n",
    "X_train, X_test, y_train, y_test = train_test_split(Features, target, test_size=0.25, random_state=1)\n",
    "\n",
    "reg = ElasticNet()\n",
    "reg.fit(X_train, y_train)\n",
    "predictions = reg.predict(X_test)\n",
    "printMetrics(y_test, predictions)"
   ],
   "metadata": {
    "collapsed": false,
    "pycharm": {
     "name": "#%%\n"
    }
   }
  },
  {
   "cell_type": "code",
   "execution_count": 179,
   "outputs": [
    {
     "name": "stdout",
     "output_type": "stream",
     "text": [
      "Score: 0.35\n",
      "MAE: 3503.82\n",
      "RMSE: 4831.17\n",
      "r2: 0.30\n"
     ]
    }
   ],
   "source": [
    "##Missing Total Cases\n",
    "columns = [\"new_cases\", \"median_age\",\"population_density\",\"population\"]\n",
    "target = \"total_deaths\"\n",
    "Features=covid19Dataframe[columns]\n",
    "target=covid19Dataframe[target]\n",
    "\n",
    "#print(Features)\n",
    "#print(target)\n",
    "\n",
    "X_train, X_test, y_train, y_test = train_test_split(Features, target, test_size=0.25, random_state=1)\n",
    "\n",
    "reg = ElasticNet()\n",
    "reg.fit(X_train, y_train)\n",
    "predictions = reg.predict(X_test)\n",
    "printMetrics(y_test, predictions)"
   ],
   "metadata": {
    "collapsed": false,
    "pycharm": {
     "name": "#%%\n"
    }
   }
  },
  {
   "cell_type": "code",
   "execution_count": 180,
   "outputs": [
    {
     "name": "stdout",
     "output_type": "stream",
     "text": [
      "Score: 0.45\n",
      "MAE: 2792.94\n",
      "RMSE: 3672.82\n",
      "r2: 0.45\n"
     ]
    }
   ],
   "source": [
    "covid19Dataframe.dropna(subset=['hosp_patients'],inplace=True)\n",
    "columns = [\"new_cases\", \"median_age\",\"population_density\",\"population\",\"hosp_patients\"]\n",
    "target = \"total_deaths\"\n",
    "Features=covid19Dataframe[columns]\n",
    "target=covid19Dataframe[target]\n",
    "\n",
    "#print(Features)\n",
    "#print(target)\n",
    "\n",
    "X_train, X_test, y_train, y_test = train_test_split(Features, target, test_size=0.25, random_state=1)\n",
    "\n",
    "reg = ElasticNet()\n",
    "reg.fit(X_train, y_train)\n",
    "predictions = reg.predict(X_test)\n",
    "printMetrics(y_test, predictions)"
   ],
   "metadata": {
    "collapsed": false,
    "pycharm": {
     "name": "#%%\n"
    }
   }
  },
  {
   "cell_type": "code",
   "execution_count": 181,
   "outputs": [
    {
     "name": "stdout",
     "output_type": "stream",
     "text": [
      "Score: 0.85\n",
      "MAE: 1431.59\n",
      "RMSE: 1941.16\n",
      "r2: 0.85\n"
     ]
    }
   ],
   "source": [
    "columns = [\"new_cases\", \"median_age\",\"population_density\",\"population\",\"hosp_patients\",\"total_cases\"]\n",
    "target = \"total_deaths\"\n",
    "Features=covid19Dataframe[columns]\n",
    "target=covid19Dataframe[target]\n",
    "\n",
    "#print(Features)\n",
    "#print(target)\n",
    "\n",
    "X_train, X_test, y_train, y_test = train_test_split(Features, target, test_size=0.25, random_state=1)\n",
    "\n",
    "reg = ElasticNet()\n",
    "reg.fit(X_train, y_train)\n",
    "predictions = reg.predict(X_test)\n",
    "printMetrics(y_test, predictions)\n"
   ],
   "metadata": {
    "collapsed": false,
    "pycharm": {
     "name": "#%%\n"
    }
   }
  },
  {
   "cell_type": "code",
   "execution_count": 182,
   "outputs": [
    {
     "name": "stdout",
     "output_type": "stream",
     "text": [
      "Score: 0.85\n",
      "MAE: 1197.78\n",
      "RMSE: 1784.20\n",
      "r2: 0.85\n"
     ]
    }
   ],
   "source": [
    "covid19Dataframe.dropna(subset=['positive_rate'],inplace=True)\n",
    "columns = [\"new_cases\", \"median_age\",\"population_density\",\"population\",\"hosp_patients\",\"total_cases\",\"positive_rate\"]\n",
    "target = \"total_deaths\"\n",
    "Features=covid19Dataframe[columns]\n",
    "target=covid19Dataframe[target]\n",
    "\n",
    "#print(Features)\n",
    "#print(target)\n",
    "\n",
    "X_train, X_test, y_train, y_test = train_test_split(Features, target, test_size=0.25, random_state=1)\n",
    "\n",
    "reg = ElasticNet()\n",
    "reg.fit(X_train, y_train)\n",
    "predictions = reg.predict(X_test)\n",
    "printMetrics(y_test, predictions)"
   ],
   "metadata": {
    "collapsed": false,
    "pycharm": {
     "name": "#%%\n"
    }
   }
  },
  {
   "cell_type": "code",
   "execution_count": 183,
   "outputs": [
    {
     "name": "stdout",
     "output_type": "stream",
     "text": [
      "Score: 0.89\n",
      "MAE: 923.87\n",
      "RMSE: 1485.52\n",
      "r2: 0.89\n"
     ]
    }
   ],
   "source": [
    "covid19Dataframe['positive_rate'] = covid19Dataframe['positive_rate'] * 100\n",
    "columns = [\"new_cases\", \"median_age\",\"population_density\",\"population\",\"hosp_patients\",\"total_cases\",\"positive_rate\"]\n",
    "target = \"total_deaths\"\n",
    "Features=covid19Dataframe[columns]\n",
    "target=covid19Dataframe[target]\n",
    "\n",
    "#print(Features)\n",
    "#print(target)\n",
    "\n",
    "X_train, X_test, y_train, y_test = train_test_split(Features, target, test_size=0.25, random_state=1)\n",
    "\n",
    "reg = ElasticNet()\n",
    "reg.fit(X_train, y_train)\n",
    "predictions = reg.predict(X_test)\n",
    "printMetrics(y_test, predictions)\n"
   ],
   "metadata": {
    "collapsed": false,
    "pycharm": {
     "name": "#%%\n"
    }
   }
  }
 ],
 "metadata": {
  "kernelspec": {
   "display_name": "Python 3",
   "language": "python",
   "name": "python3"
  },
  "language_info": {
   "codemirror_mode": {
    "name": "ipython",
    "version": 2
   },
   "file_extension": ".py",
   "mimetype": "text/x-python",
   "name": "python",
   "nbconvert_exporter": "python",
   "pygments_lexer": "ipython2",
   "version": "2.7.6"
  }
 },
 "nbformat": 4,
 "nbformat_minor": 0
}