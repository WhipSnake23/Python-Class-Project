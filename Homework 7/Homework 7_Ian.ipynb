{
 "cells": [
  {
   "cell_type": "markdown",
   "metadata": {
    "collapsed": true,
    "pycharm": {
     "name": "#%% md\n"
    }
   },
   "source": [
    "## Linear Regression Analysis of Covid 19 Deaths in Canada\n",
    "#### Group 2: Ian, Sanjaya, Nermin, Stephanie"
   ]
  },
  {
   "cell_type": "markdown",
   "source": [
    "### Import needed Libraries"
   ],
   "metadata": {
    "collapsed": false,
    "pycharm": {
     "name": "#%% md\n"
    }
   }
  },
  {
   "cell_type": "code",
   "execution_count": 1,
   "outputs": [],
   "source": [
    "##Import Key Libraries for use\n",
    "import datetime as dt\n",
    "import math\n",
    "import pandas as pd\n",
    "import numpy as np\n",
    "import sklearn\n",
    "from sklearn.model_selection import train_test_split\n",
    "from sklearn.linear_model import ElasticNet\n",
    "from sklearn.metrics import explained_variance_score, mean_absolute_error, r2_score, mean_squared_error"
   ],
   "metadata": {
    "collapsed": false,
    "pycharm": {
     "name": "#%%\n"
    }
   }
  },
  {
   "cell_type": "markdown",
   "source": [
    "### Import and Scrub Data from Github"
   ],
   "metadata": {
    "collapsed": false,
    "pycharm": {
     "name": "#%% md\n"
    }
   }
  },
  {
   "cell_type": "code",
   "execution_count": null,
   "outputs": [],
   "source": [
    "#Import CSV\n",
    "covid19Dataframe = pd.read_csv(\"https://raw.githubusercontent.com/WhipSnake23/Python-Class-Project/main/Data/owid-covid-data.csv\")\n",
    "#Filter Dataset to Canada\n",
    "covid19Dataframe = covid19Dataframe[covid19Dataframe.iso_code.str.contains(\"CAN\")]\n",
    "#Remove Smoothed Columns from dataframe\n",
    "covid19Dataframe = covid19Dataframe.drop(columns=['new_cases_smoothed','new_deaths_smoothed','new_cases_smoothed_per_million','new_deaths_smoothed_per_million','new_tests_smoothed','new_tests_smoothed_per_thousand','new_vaccinations_smoothed','new_vaccinations_smoothed_per_million'])\n",
    "#Reset Index\n",
    "covid19Dataframe.reset_index(drop=True, inplace=True)\n",
    "#Drop rows where Total Deaths is blank. This is required for the ML\n",
    "covid19Dataframe.dropna(subset=['total_deaths'],inplace=True)\n",
    "\n",
    "#Import Comparison Data set containing data from March. The data set we are using stops in February\n",
    "canadaMarchCovidData = pd.read_csv(\"https://raw.githubusercontent.com/WhipSnake23/Python-Class-Project/main/Data/Canada-MarchData.csv\")\n",
    "canadaMarchCovidData = canadaMarchCovidData.drop(columns=['new_cases_smoothed','new_deaths_smoothed','new_cases_smoothed_per_million','new_deaths_smoothed_per_million','new_tests_smoothed','new_tests_smoothed_per_thousand','new_vaccinations_smoothed','new_vaccinations_smoothed_per_million'])\n",
    "#Reset Index\n",
    "canadaMarchCovidData.reset_index(drop=True, inplace=True)\n",
    "#Drop rows where hosp_patients hasnt been reported\n",
    "canadaMarchCovidData.dropna(subset=['hosp_patients'],inplace=True)"
   ],
   "metadata": {
    "collapsed": false,
    "pycharm": {
     "name": "#%%\n",
     "is_executing": true
    }
   }
  },
  {
   "cell_type": "markdown",
   "source": [
    "### Define Notebook Functions"
   ],
   "metadata": {
    "collapsed": false,
    "pycharm": {
     "name": "#%% md\n"
    }
   }
  },
  {
   "cell_type": "code",
   "execution_count": null,
   "outputs": [],
   "source": [
    "#These functions make it easier to test configuration changes and features easier\n",
    "\n",
    "#Prints the Scores from the run of the algorithum against the data\n",
    "def printMetrics(test, predictions):\n",
    "    print(f\"Score: {explained_variance_score(test, predictions):.2f}\")\n",
    "    print(f\"MAE: {mean_absolute_error(test, predictions):.2f}\")\n",
    "    print(f\"RMSE: {math.sqrt(mean_squared_error(test, predictions)):.2f}\")\n",
    "    print(f\"r2: {r2_score(test, predictions):.2f}\")\n",
    "\n",
    "#Function to run the algorithum and call metric function\n",
    "def  calculateScore(F_Features,F_Target):\n",
    "    X_train, X_test, y_train, y_test = train_test_split(F_Features, F_Target, test_size=0.25, random_state=1)\n",
    "    model = ElasticNet(random_state=1)\n",
    "    model.fit(X_train, y_train)\n",
    "    predictions = model.predict(X_test)\n",
    "    printMetrics(y_test, predictions)\n",
    "\n",
    "#Function which will run the predictions and return the predictions given a block of data\n",
    "def  predictValue(F_Features,F_Target,predict_df):\n",
    "    X_train, X_test, y_train, y_test = train_test_split(F_Features, F_Target, test_size=0.25, random_state=1)\n",
    "    model = ElasticNet(random_state=1)\n",
    "    model.fit(X_train, y_train)\n",
    "    predictions = model.predict(predict_df)\n",
    "    return predictions"
   ],
   "metadata": {
    "collapsed": false,
    "pycharm": {
     "name": "#%%\n",
     "is_executing": true
    }
   }
  },
  {
   "cell_type": "markdown",
   "source": [
    "#### Set Target Column"
   ],
   "metadata": {
    "collapsed": false,
    "pycharm": {
     "name": "#%% md\n"
    }
   }
  },
  {
   "cell_type": "code",
   "execution_count": null,
   "outputs": [],
   "source": [
    "#Target column is the same across all the test\n",
    "targetColumn = \"total_deaths\""
   ],
   "metadata": {
    "collapsed": false,
    "pycharm": {
     "name": "#%%\n",
     "is_executing": true
    }
   }
  },
  {
   "cell_type": "markdown",
   "source": [
    "### Test 1\n",
    "#### Using the following features\n",
    "- New Cases\n",
    "- Median Age\n",
    "- Population Density\n",
    "- Population\n",
    "- Total Cases"
   ],
   "metadata": {
    "collapsed": false,
    "pycharm": {
     "name": "#%% md\n"
    }
   }
  },
  {
   "cell_type": "code",
   "execution_count": null,
   "outputs": [],
   "source": [
    "featureColumns = [\"new_cases\", \"median_age\",\"population_density\",\"population\",'total_cases']\n",
    "\n",
    "features=covid19Dataframe[featureColumns]\n",
    "target=covid19Dataframe[targetColumn]\n",
    "\n",
    "calculateScore(features,target)\n",
    "\n",
    "#Prediction Methods\n",
    "featureColumns = [\"new_cases\", \"median_age\",\"population_density\",\"population\",'total_cases']\n",
    "predictionDataFrame = canadaMarchCovidData[featureColumns]\n",
    "predictedValues = predictValue(features,target,predictionDataFrame)\n",
    "predictedValues = np.around(predictedValues)\n",
    "predictedValuesFrame = predictionDataFrame.copy()\n",
    "predictedValuesFrame['total_deaths'] = predictedValues"
   ],
   "metadata": {
    "collapsed": false,
    "pycharm": {
     "name": "#%%\n",
     "is_executing": true
    }
   }
  },
  {
   "cell_type": "markdown",
   "source": [
    "#### Comparing Model against real data"
   ],
   "metadata": {
    "collapsed": false,
    "pycharm": {
     "name": "#%% md\n"
    }
   }
  },
  {
   "cell_type": "code",
   "execution_count": null,
   "outputs": [],
   "source": [
    "columnToCompare = ['total_deaths']\n",
    "actualDeaths = canadaMarchCovidData[columnToCompare]\n",
    "predictedDeaths = predictedValuesFrame[columnToCompare]\n",
    "comparedDataFrame = actualDeaths.compare(predictedDeaths)\n",
    "comparedDataFrame = comparedDataFrame[\"total_deaths\"]\n",
    "\n",
    "comparedDataFrame = comparedDataFrame.rename(columns={\"self\": \"Actual_Deaths\", \"other\": \"Predicted_Deaths\"})\n",
    "\n",
    "comparedDataFrame[\"Difference\"] = np.nan\n",
    "comparedDataFrame['Difference'] = comparedDataFrame['Actual_Deaths'] - comparedDataFrame['Predicted_Deaths']\n",
    "comparedDataFrame"
   ],
   "metadata": {
    "collapsed": false,
    "pycharm": {
     "name": "#%%\n",
     "is_executing": true
    }
   }
  },
  {
   "cell_type": "markdown",
   "source": [
    "### Test 2\n",
    "#### Using the following Columns\n",
    "- New Cases\n",
    "- Median Age\n",
    "- Population Density\n",
    "- Population"
   ],
   "metadata": {
    "collapsed": false
   }
  },
  {
   "cell_type": "code",
   "execution_count": null,
   "outputs": [],
   "source": [
    "##Missing Total Cases\n",
    "featureColumns = [\"new_cases\", \"median_age\",\"population_density\",\"population\"]\n",
    "\n",
    "features=covid19Dataframe[featureColumns]\n",
    "target=covid19Dataframe[targetColumn]\n",
    "\n",
    "calculateScore(features,target)"
   ],
   "metadata": {
    "collapsed": false,
    "pycharm": {
     "name": "#%%\n",
     "is_executing": true
    }
   }
  },
  {
   "cell_type": "markdown",
   "source": [
    "### Test 3\n",
    "#### Using the following Columns\n",
    "- New Cases\n",
    "- Median Age\n",
    "- Population Density\n",
    "- Population\n",
    "- Hospital Patients"
   ],
   "metadata": {
    "collapsed": false
   }
  },
  {
   "cell_type": "code",
   "execution_count": null,
   "outputs": [],
   "source": [
    "covid19Dataframe.dropna(subset=['hosp_patients'],inplace=True)\n",
    "featureColumns = [\"new_cases\", \"median_age\",\"population_density\",\"population\",\"hosp_patients\"]\n",
    "\n",
    "features=covid19Dataframe[featureColumns]\n",
    "target=covid19Dataframe[targetColumn]\n",
    "\n",
    "calculateScore(features,target)"
   ],
   "metadata": {
    "collapsed": false,
    "pycharm": {
     "name": "#%%\n",
     "is_executing": true
    }
   }
  },
  {
   "cell_type": "markdown",
   "source": [
    "### Test 4\n",
    "#### Using the following Columns\n",
    "- New Cases\n",
    "- Median Age\n",
    "- Population Density\n",
    "- Population\n",
    "- Total Cases\n",
    "- Hospital Patients"
   ],
   "metadata": {
    "collapsed": false
   }
  },
  {
   "cell_type": "code",
   "execution_count": null,
   "outputs": [],
   "source": [
    "featureColumns = [\"new_cases\", \"median_age\",\"population_density\",\"population\",\"hosp_patients\",\"total_cases\"]\n",
    "\n",
    "features=covid19Dataframe[featureColumns]\n",
    "target=covid19Dataframe[targetColumn]\n",
    "\n",
    "calculateScore(features,target)\n"
   ],
   "metadata": {
    "collapsed": false,
    "pycharm": {
     "name": "#%%\n",
     "is_executing": true
    }
   }
  },
  {
   "cell_type": "markdown",
   "source": [
    "### Test 5\n",
    "#### Using the following Columns\n",
    "- New Cases\n",
    "- Median Age\n",
    "- Population Density\n",
    "- Population\n",
    "- Total Cases\n",
    "- Hospital Patients\n",
    "- Positive Rate"
   ],
   "metadata": {
    "collapsed": false
   }
  },
  {
   "cell_type": "code",
   "execution_count": null,
   "outputs": [],
   "source": [
    "covid19Dataframe.dropna(subset=['positive_rate'],inplace=True)\n",
    "featureColumns = [\"new_cases\", \"median_age\",\"population_density\",\"population\",\"hosp_patients\",\"total_cases\",\"positive_rate\"]\n",
    "\n",
    "features=covid19Dataframe[featureColumns]\n",
    "target=covid19Dataframe[targetColumn]\n",
    "\n",
    "calculateScore(features,target)"
   ],
   "metadata": {
    "collapsed": false,
    "pycharm": {
     "name": "#%%\n",
     "is_executing": true
    }
   }
  },
  {
   "cell_type": "markdown",
   "source": [
    "### Test 6\n",
    "#### Using the following Columns\n",
    "- New Cases\n",
    "- Median Age\n",
    "- Population Density\n",
    "- Population\n",
    "- Total Cases\n",
    "- Hospital Patients\n",
    "- Positive Rate"
   ],
   "metadata": {
    "collapsed": false,
    "pycharm": {
     "name": "#%% md\n",
     "is_executing": true
    }
   },
   "outputs": [
    {
     "ename": "SyntaxError",
     "evalue": "invalid syntax (<ipython-input-236-16963341f39c>, line 2)",
     "output_type": "error",
     "traceback": [
      "\u001B[0;36m  File \u001B[0;32m\"<ipython-input-236-16963341f39c>\"\u001B[0;36m, line \u001B[0;32m2\u001B[0m\n\u001B[0;31m    - New Cases\u001B[0m\n\u001B[0m          ^\u001B[0m\n\u001B[0;31mSyntaxError\u001B[0m\u001B[0;31m:\u001B[0m invalid syntax\n"
     ]
    }
   ]
  },
  {
   "cell_type": "code",
   "execution_count": null,
   "outputs": [],
   "source": [
    "covid19Dataframe['positive_rate'] = covid19Dataframe['positive_rate'] * 100\n",
    "featureColumns = [\"new_cases\", \"median_age\",\"population_density\",\"population\",\"hosp_patients\",\"total_cases\",\"positive_rate\"]\n",
    "\n",
    "features=covid19Dataframe[featureColumns]\n",
    "target=covid19Dataframe[targetColumn]\n",
    "\n",
    "calculateScore(features,target)"
   ],
   "metadata": {
    "collapsed": false,
    "pycharm": {
     "name": "#%%\n",
     "is_executing": true
    }
   }
  },
  {
   "cell_type": "markdown",
   "source": [
    "#### Compairing Model against real data"
   ],
   "metadata": {
    "collapsed": false
   }
  },
  {
   "cell_type": "code",
   "execution_count": null,
   "outputs": [],
   "source": [
    "featureColumns = [\"new_cases\", \"median_age\",\"population_density\",\"population\",\"hosp_patients\",\"total_cases\",\"positive_rate\"]\n",
    "predictionDataFrame = canadaMarchCovidData[featureColumns]\n",
    "predictedValues = predictValue(features,target,predictionDataFrame)\n",
    "predictedValues = np.around(predictedValues)\n",
    "predictedValuesFrame = predictionDataFrame.copy()\n",
    "predictedValuesFrame['total_deaths'] = predictedValues\n",
    "\n",
    "\n",
    "columnToCompare = ['total_deaths']\n",
    "actualDeaths = canadaMarchCovidData[columnToCompare]\n",
    "predictedDeaths = predictedValuesFrame[columnToCompare]\n",
    "comparedDataFrame = actualDeaths.compare(predictedDeaths)\n",
    "comparedDataFrame = comparedDataFrame[\"total_deaths\"]\n",
    "\n",
    "comparedDataFrame = comparedDataFrame.rename(columns={\"self\": \"Actual_Deaths\", \"other\": \"Predicted_Deaths\"})\n",
    "\n",
    "comparedDataFrame[\"Difference\"] = np.nan\n",
    "comparedDataFrame['Difference'] = comparedDataFrame['Actual_Deaths'] - comparedDataFrame['Predicted_Deaths']\n",
    "comparedDataFrame"
   ],
   "metadata": {
    "collapsed": false,
    "pycharm": {
     "name": "#%%\n",
     "is_executing": true
    }
   }
  },
  {
   "cell_type": "markdown",
   "source": [
    "### Observations\n",
    "- total_cases plays a significant factor in the model being good\n",
    "- Adding more features does not mean the model will get better"
   ],
   "metadata": {
    "collapsed": false
   }
  },
  {
   "cell_type": "markdown",
   "source": [
    "### Questions\n",
    "- How well does the algorithm perform?\n",
    "    It performed moderately well. I think there are additional improvements to the data we could make further refining the feature list.\n",
    "- What options performed the best?\n",
    "    After trying several of the options, we found that the defaults really performed the best. Adjusting the Alpha or the L1_Ratio didn't have any real positive impact.\n",
    "- What features were more useful than others?\n",
    "    The feature with the biggest impact was total cases. Removing that column rendered the model unusable. Additionally, the hospital patients feature had positive impact as well."
   ],
   "metadata": {
    "collapsed": false,
    "pycharm": {
     "name": "#%% md\n"
    }
   }
  }
 ],
 "metadata": {
  "kernelspec": {
   "display_name": "Python 3",
   "language": "python",
   "name": "python3"
  },
  "language_info": {
   "codemirror_mode": {
    "name": "ipython",
    "version": 2
   },
   "file_extension": ".py",
   "mimetype": "text/x-python",
   "name": "python",
   "nbconvert_exporter": "python",
   "pygments_lexer": "ipython2",
   "version": "2.7.6"
  }
 },
 "nbformat": 4,
 "nbformat_minor": 0
}