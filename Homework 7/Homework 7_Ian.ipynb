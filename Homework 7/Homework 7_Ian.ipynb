{
 "cells": [
  {
   "cell_type": "markdown",
   "metadata": {
    "collapsed": true,
    "pycharm": {
     "name": "#%% md\n"
    }
   },
   "source": [
    "## Linear Regression Analysis of Covid 19 Deaths in Canada\n",
    "#### Group 2: Ian, Sanjaya, Nermin, Stephanie"
   ]
  },
  {
   "cell_type": "markdown",
   "source": [
    "### Import needed Libraries"
   ],
   "metadata": {
    "collapsed": false,
    "pycharm": {
     "name": "#%% md\n"
    }
   }
  },
  {
   "cell_type": "code",
   "execution_count": 25,
   "outputs": [],
   "source": [
    "##Import Key Libraries for use\n",
    "import datetime as dt\n",
    "import math\n",
    "import pandas as pd\n",
    "import numpy as np\n",
    "import sklearn\n",
    "from sklearn.model_selection import train_test_split\n",
    "from sklearn.linear_model import ElasticNet\n",
    "from sklearn.metrics import explained_variance_score, mean_absolute_error, r2_score, mean_squared_error"
   ],
   "metadata": {
    "collapsed": false,
    "pycharm": {
     "name": "#%%\n"
    }
   }
  },
  {
   "cell_type": "markdown",
   "source": [
    "### Import and Scrub Data from Github"
   ],
   "metadata": {
    "collapsed": false,
    "pycharm": {
     "name": "#%% md\n"
    }
   }
  },
  {
   "cell_type": "code",
   "execution_count": 26,
   "outputs": [],
   "source": [
    "#Import CSV\n",
    "covid19Dataframe = pd.read_csv(\"https://raw.githubusercontent.com/WhipSnake23/Python-Class-Project/main/Data/owid-covid-data.csv\")\n",
    "#Filter Dataset to Canada\n",
    "covid19Dataframe = covid19Dataframe[covid19Dataframe.iso_code.str.contains(\"CAN\")]\n",
    "#Remove Smoothed Columns from dataframe\n",
    "covid19Dataframe = covid19Dataframe.drop(columns=['new_cases_smoothed','new_deaths_smoothed','new_cases_smoothed_per_million','new_deaths_smoothed_per_million','new_tests_smoothed','new_tests_smoothed_per_thousand','new_vaccinations_smoothed','new_vaccinations_smoothed_per_million'])\n",
    "#Reset Index\n",
    "covid19Dataframe.reset_index(drop=True, inplace=True)\n",
    "#Drop rows where Total Deaths is blank. This is required for the ML\n",
    "covid19Dataframe.dropna(subset=['total_deaths'],inplace=True)\n",
    "\n",
    "#Import Comparison Data set containing data from March. The data set we are using stops in February\n",
    "canadaMarchCovidData = pd.read_csv(\"https://raw.githubusercontent.com/WhipSnake23/Python-Class-Project/main/Data/Canada-MarchData.csv\")\n",
    "canadaMarchCovidData = canadaMarchCovidData.drop(columns=['new_cases_smoothed','new_deaths_smoothed','new_cases_smoothed_per_million','new_deaths_smoothed_per_million','new_tests_smoothed','new_tests_smoothed_per_thousand','new_vaccinations_smoothed','new_vaccinations_smoothed_per_million'])\n",
    "#Reset Index\n",
    "canadaMarchCovidData.reset_index(drop=True, inplace=True)\n",
    "#Drop rows where hosp_patients hasnt been reported\n",
    "canadaMarchCovidData.dropna(subset=['hosp_patients'],inplace=True)"
   ],
   "metadata": {
    "collapsed": false,
    "pycharm": {
     "name": "#%%\n"
    }
   }
  },
  {
   "cell_type": "markdown",
   "source": [
    "### Define Notebook Functions"
   ],
   "metadata": {
    "collapsed": false,
    "pycharm": {
     "name": "#%% md\n"
    }
   }
  },
  {
   "cell_type": "code",
   "execution_count": 27,
   "outputs": [],
   "source": [
    "#These functions make it easier to test configuration changes and features easier\n",
    "\n",
    "#Prints the Scores from the run of the algorithum against the data\n",
    "def printMetrics(test, predictions):\n",
    "    print(f\"Score: {explained_variance_score(test, predictions):.2f}\")\n",
    "    print(f\"MAE: {mean_absolute_error(test, predictions):.2f}\")\n",
    "    print(f\"RMSE: {math.sqrt(mean_squared_error(test, predictions)):.2f}\")\n",
    "    print(f\"r2: {r2_score(test, predictions):.2f}\")\n",
    "\n",
    "#Function to run the algorithum and call metric function\n",
    "def  calculateScore(F_Features,F_Target):\n",
    "    X_train, X_test, y_train, y_test = train_test_split(F_Features, F_Target, test_size=0.25, random_state=1)\n",
    "    model = ElasticNet(random_state=1)\n",
    "    model.fit(X_train, y_train)\n",
    "    predictions = model.predict(X_test)\n",
    "    printMetrics(y_test, predictions)\n",
    "\n",
    "#Function which will run the predictions and return the predictions given a block of data\n",
    "def  predictValue(F_Features,F_Target,predict_df):\n",
    "    X_train, X_test, y_train, y_test = train_test_split(F_Features, F_Target, test_size=0.25, random_state=1)\n",
    "    model = ElasticNet(random_state=1)\n",
    "    model.fit(X_train, y_train)\n",
    "    predictions = model.predict(predict_df)\n",
    "    return predictions"
   ],
   "metadata": {
    "collapsed": false,
    "pycharm": {
     "name": "#%%\n"
    }
   }
  },
  {
   "cell_type": "markdown",
   "source": [
    "#### Set Target Column"
   ],
   "metadata": {
    "collapsed": false,
    "pycharm": {
     "name": "#%% md\n"
    }
   }
  },
  {
   "cell_type": "code",
   "execution_count": 28,
   "outputs": [],
   "source": [
    "#Target column is the same across all the test\n",
    "targetColumn = \"total_deaths\""
   ],
   "metadata": {
    "collapsed": false,
    "pycharm": {
     "name": "#%%\n"
    }
   }
  },
  {
   "cell_type": "markdown",
   "source": [
    "### Test 1\n",
    "#### Using the following features\n",
    "- New Cases\n",
    "- Median Age\n",
    "- Population Density\n",
    "- Population\n",
    "- Total Cases"
   ],
   "metadata": {
    "collapsed": false,
    "pycharm": {
     "name": "#%% md\n"
    }
   }
  },
  {
   "cell_type": "code",
   "execution_count": 29,
   "outputs": [
    {
     "name": "stdout",
     "output_type": "stream",
     "text": [
      "Score: 0.89\n",
      "MAE: 1548.75\n",
      "RMSE: 1921.68\n",
      "r2: 0.89\n"
     ]
    }
   ],
   "source": [
    "featureColumns = [\"new_cases\", \"median_age\",\"population_density\",\"population\",'total_cases']\n",
    "\n",
    "features=covid19Dataframe[featureColumns]\n",
    "target=covid19Dataframe[targetColumn]\n",
    "\n",
    "calculateScore(features,target)\n",
    "\n",
    "#Prediction Methods\n",
    "featureColumns = [\"new_cases\", \"median_age\",\"population_density\",\"population\",'total_cases']\n",
    "predictionDataFrame = canadaMarchCovidData[featureColumns]\n",
    "predictedValues = predictValue(features,target,predictionDataFrame)\n",
    "predictedValues = np.around(predictedValues)\n",
    "predictedValuesFrame = predictionDataFrame.copy()\n",
    "predictedValuesFrame['total_deaths'] = predictedValues"
   ],
   "metadata": {
    "collapsed": false,
    "pycharm": {
     "name": "#%%\n"
    }
   }
  },
  {
   "cell_type": "markdown",
   "source": [
    "#### Comparing Model against real data"
   ],
   "metadata": {
    "collapsed": false,
    "pycharm": {
     "name": "#%% md\n"
    }
   }
  },
  {
   "cell_type": "code",
   "execution_count": 30,
   "outputs": [
    {
     "data": {
      "text/plain": "    Actual_Deaths  Predicted_Deaths  Difference\n0           22014           23683.0     -1669.0\n1           22043           24062.0     -2019.0\n2           22105           24088.0     -1983.0\n3           22152           24096.0     -1944.0\n4           22183           24167.0     -1984.0\n5           22212           24292.0     -2080.0\n6           22234           24390.0     -2156.0\n7           22271           24051.0     -1780.0\n8           22302           24463.0     -2161.0\n9           22330           24492.0     -2162.0\n10          22367           24549.0     -2182.0\n11          22397           24503.0     -2106.0\n12          22426           24722.0     -2296.0\n13          22455           24882.0     -2427.0\n14          22484           24630.0     -2146.0\n15          22509           24990.0     -2481.0\n16          22543           24898.0     -2355.0\n17          22577           24917.0     -2340.0\n18          22605           24823.0     -2218.0\n19          22635           25152.0     -2517.0\n20          22656           25314.0     -2658.0\n21          22695           24889.0     -2194.0\n22          22715           25370.0     -2655.0\n23          22739           25343.0     -2604.0\n24          22771           25104.0     -2333.0",
      "text/html": "<div>\n<style scoped>\n    .dataframe tbody tr th:only-of-type {\n        vertical-align: middle;\n    }\n\n    .dataframe tbody tr th {\n        vertical-align: top;\n    }\n\n    .dataframe thead th {\n        text-align: right;\n    }\n</style>\n<table border=\"1\" class=\"dataframe\">\n  <thead>\n    <tr style=\"text-align: right;\">\n      <th></th>\n      <th>Actual_Deaths</th>\n      <th>Predicted_Deaths</th>\n      <th>Difference</th>\n    </tr>\n  </thead>\n  <tbody>\n    <tr>\n      <th>0</th>\n      <td>22014</td>\n      <td>23683.0</td>\n      <td>-1669.0</td>\n    </tr>\n    <tr>\n      <th>1</th>\n      <td>22043</td>\n      <td>24062.0</td>\n      <td>-2019.0</td>\n    </tr>\n    <tr>\n      <th>2</th>\n      <td>22105</td>\n      <td>24088.0</td>\n      <td>-1983.0</td>\n    </tr>\n    <tr>\n      <th>3</th>\n      <td>22152</td>\n      <td>24096.0</td>\n      <td>-1944.0</td>\n    </tr>\n    <tr>\n      <th>4</th>\n      <td>22183</td>\n      <td>24167.0</td>\n      <td>-1984.0</td>\n    </tr>\n    <tr>\n      <th>5</th>\n      <td>22212</td>\n      <td>24292.0</td>\n      <td>-2080.0</td>\n    </tr>\n    <tr>\n      <th>6</th>\n      <td>22234</td>\n      <td>24390.0</td>\n      <td>-2156.0</td>\n    </tr>\n    <tr>\n      <th>7</th>\n      <td>22271</td>\n      <td>24051.0</td>\n      <td>-1780.0</td>\n    </tr>\n    <tr>\n      <th>8</th>\n      <td>22302</td>\n      <td>24463.0</td>\n      <td>-2161.0</td>\n    </tr>\n    <tr>\n      <th>9</th>\n      <td>22330</td>\n      <td>24492.0</td>\n      <td>-2162.0</td>\n    </tr>\n    <tr>\n      <th>10</th>\n      <td>22367</td>\n      <td>24549.0</td>\n      <td>-2182.0</td>\n    </tr>\n    <tr>\n      <th>11</th>\n      <td>22397</td>\n      <td>24503.0</td>\n      <td>-2106.0</td>\n    </tr>\n    <tr>\n      <th>12</th>\n      <td>22426</td>\n      <td>24722.0</td>\n      <td>-2296.0</td>\n    </tr>\n    <tr>\n      <th>13</th>\n      <td>22455</td>\n      <td>24882.0</td>\n      <td>-2427.0</td>\n    </tr>\n    <tr>\n      <th>14</th>\n      <td>22484</td>\n      <td>24630.0</td>\n      <td>-2146.0</td>\n    </tr>\n    <tr>\n      <th>15</th>\n      <td>22509</td>\n      <td>24990.0</td>\n      <td>-2481.0</td>\n    </tr>\n    <tr>\n      <th>16</th>\n      <td>22543</td>\n      <td>24898.0</td>\n      <td>-2355.0</td>\n    </tr>\n    <tr>\n      <th>17</th>\n      <td>22577</td>\n      <td>24917.0</td>\n      <td>-2340.0</td>\n    </tr>\n    <tr>\n      <th>18</th>\n      <td>22605</td>\n      <td>24823.0</td>\n      <td>-2218.0</td>\n    </tr>\n    <tr>\n      <th>19</th>\n      <td>22635</td>\n      <td>25152.0</td>\n      <td>-2517.0</td>\n    </tr>\n    <tr>\n      <th>20</th>\n      <td>22656</td>\n      <td>25314.0</td>\n      <td>-2658.0</td>\n    </tr>\n    <tr>\n      <th>21</th>\n      <td>22695</td>\n      <td>24889.0</td>\n      <td>-2194.0</td>\n    </tr>\n    <tr>\n      <th>22</th>\n      <td>22715</td>\n      <td>25370.0</td>\n      <td>-2655.0</td>\n    </tr>\n    <tr>\n      <th>23</th>\n      <td>22739</td>\n      <td>25343.0</td>\n      <td>-2604.0</td>\n    </tr>\n    <tr>\n      <th>24</th>\n      <td>22771</td>\n      <td>25104.0</td>\n      <td>-2333.0</td>\n    </tr>\n  </tbody>\n</table>\n</div>"
     },
     "execution_count": 30,
     "metadata": {},
     "output_type": "execute_result"
    }
   ],
   "source": [
    "columnToCompare = ['total_deaths']\n",
    "actualDeaths = canadaMarchCovidData[columnToCompare]\n",
    "predictedDeaths = predictedValuesFrame[columnToCompare]\n",
    "comparedDataFrame = actualDeaths.compare(predictedDeaths)\n",
    "comparedDataFrame = comparedDataFrame[\"total_deaths\"]\n",
    "\n",
    "comparedDataFrame = comparedDataFrame.rename(columns={\"self\": \"Actual_Deaths\", \"other\": \"Predicted_Deaths\"})\n",
    "\n",
    "comparedDataFrame[\"Difference\"] = np.nan\n",
    "comparedDataFrame['Difference'] = comparedDataFrame['Actual_Deaths'] - comparedDataFrame['Predicted_Deaths']\n",
    "comparedDataFrame"
   ],
   "metadata": {
    "collapsed": false,
    "pycharm": {
     "name": "#%%\n"
    }
   }
  },
  {
   "cell_type": "markdown",
   "source": [
    "### Test 2\n",
    "#### Using the following Columns\n",
    "- New Cases\n",
    "- Median Age\n",
    "- Population Density\n",
    "- Population"
   ],
   "metadata": {
    "collapsed": false
   }
  },
  {
   "cell_type": "code",
   "execution_count": 31,
   "outputs": [
    {
     "name": "stdout",
     "output_type": "stream",
     "text": [
      "Score: 0.35\n",
      "MAE: 3503.82\n",
      "RMSE: 4831.17\n",
      "r2: 0.30\n"
     ]
    }
   ],
   "source": [
    "##Missing Total Cases\n",
    "featureColumns = [\"new_cases\", \"median_age\",\"population_density\",\"population\"]\n",
    "\n",
    "features=covid19Dataframe[featureColumns]\n",
    "target=covid19Dataframe[targetColumn]\n",
    "\n",
    "calculateScore(features,target)"
   ],
   "metadata": {
    "collapsed": false,
    "pycharm": {
     "name": "#%%\n"
    }
   }
  },
  {
   "cell_type": "markdown",
   "source": [
    "### Test 3\n",
    "#### Using the following Columns\n",
    "- New Cases\n",
    "- Median Age\n",
    "- Population Density\n",
    "- Population\n",
    "- Hospital Patients"
   ],
   "metadata": {
    "collapsed": false
   }
  },
  {
   "cell_type": "code",
   "execution_count": 32,
   "outputs": [
    {
     "name": "stdout",
     "output_type": "stream",
     "text": [
      "Score: 0.45\n",
      "MAE: 2792.94\n",
      "RMSE: 3672.82\n",
      "r2: 0.45\n"
     ]
    }
   ],
   "source": [
    "covid19Dataframe.dropna(subset=['hosp_patients'],inplace=True)\n",
    "featureColumns = [\"new_cases\", \"median_age\",\"population_density\",\"population\",\"hosp_patients\"]\n",
    "\n",
    "features=covid19Dataframe[featureColumns]\n",
    "target=covid19Dataframe[targetColumn]\n",
    "\n",
    "calculateScore(features,target)"
   ],
   "metadata": {
    "collapsed": false,
    "pycharm": {
     "name": "#%%\n"
    }
   }
  },
  {
   "cell_type": "markdown",
   "source": [
    "### Test 4\n",
    "#### Using the following Columns\n",
    "- New Cases\n",
    "- Median Age\n",
    "- Population Density\n",
    "- Population\n",
    "- Total Cases\n",
    "- Hospital Patients"
   ],
   "metadata": {
    "collapsed": false
   }
  },
  {
   "cell_type": "code",
   "execution_count": 33,
   "outputs": [
    {
     "name": "stdout",
     "output_type": "stream",
     "text": [
      "Score: 0.85\n",
      "MAE: 1431.59\n",
      "RMSE: 1941.16\n",
      "r2: 0.85\n"
     ]
    }
   ],
   "source": [
    "featureColumns = [\"new_cases\", \"median_age\",\"population_density\",\"population\",\"hosp_patients\",\"total_cases\"]\n",
    "\n",
    "features=covid19Dataframe[featureColumns]\n",
    "target=covid19Dataframe[targetColumn]\n",
    "\n",
    "calculateScore(features,target)\n"
   ],
   "metadata": {
    "collapsed": false,
    "pycharm": {
     "name": "#%%\n"
    }
   }
  },
  {
   "cell_type": "markdown",
   "source": [
    "### Test 5\n",
    "#### Using the following Columns\n",
    "- New Cases\n",
    "- Median Age\n",
    "- Population Density\n",
    "- Population\n",
    "- Total Cases\n",
    "- Hospital Patients\n",
    "- Positive Rate"
   ],
   "metadata": {
    "collapsed": false
   }
  },
  {
   "cell_type": "code",
   "execution_count": 34,
   "outputs": [
    {
     "name": "stdout",
     "output_type": "stream",
     "text": [
      "Score: 0.85\n",
      "MAE: 1197.78\n",
      "RMSE: 1784.20\n",
      "r2: 0.85\n"
     ]
    }
   ],
   "source": [
    "covid19Dataframe.dropna(subset=['positive_rate'],inplace=True)\n",
    "featureColumns = [\"new_cases\", \"median_age\",\"population_density\",\"population\",\"hosp_patients\",\"total_cases\",\"positive_rate\"]\n",
    "\n",
    "features=covid19Dataframe[featureColumns]\n",
    "target=covid19Dataframe[targetColumn]\n",
    "\n",
    "calculateScore(features,target)"
   ],
   "metadata": {
    "collapsed": false,
    "pycharm": {
     "name": "#%%\n"
    }
   }
  },
  {
   "cell_type": "markdown",
   "source": [
    "### Test 6\n",
    "#### Using the following Columns\n",
    "- New Cases\n",
    "- Median Age\n",
    "- Population Density\n",
    "- Population\n",
    "- Total Cases\n",
    "- Hospital Patients\n",
    "- Positive Rate"
   ],
   "metadata": {
    "collapsed": false,
    "pycharm": {
     "name": "#%% md\n",
     "is_executing": true
    }
   },
   "outputs": [
    {
     "ename": "SyntaxError",
     "evalue": "invalid syntax (<ipython-input-236-16963341f39c>, line 2)",
     "output_type": "error",
     "traceback": [
      "\u001B[0;36m  File \u001B[0;32m\"<ipython-input-236-16963341f39c>\"\u001B[0;36m, line \u001B[0;32m2\u001B[0m\n\u001B[0;31m    - New Cases\u001B[0m\n\u001B[0m          ^\u001B[0m\n\u001B[0;31mSyntaxError\u001B[0m\u001B[0;31m:\u001B[0m invalid syntax\n"
     ]
    }
   ]
  },
  {
   "cell_type": "code",
   "execution_count": 35,
   "outputs": [
    {
     "name": "stdout",
     "output_type": "stream",
     "text": [
      "Score: 0.89\n",
      "MAE: 923.87\n",
      "RMSE: 1485.52\n",
      "r2: 0.89\n"
     ]
    }
   ],
   "source": [
    "covid19Dataframe['positive_rate'] = covid19Dataframe['positive_rate'] * 100\n",
    "featureColumns = [\"new_cases\", \"median_age\",\"population_density\",\"population\",\"hosp_patients\",\"total_cases\",\"positive_rate\"]\n",
    "\n",
    "features=covid19Dataframe[featureColumns]\n",
    "target=covid19Dataframe[targetColumn]\n",
    "\n",
    "calculateScore(features,target)"
   ],
   "metadata": {
    "collapsed": false,
    "pycharm": {
     "name": "#%%\n"
    }
   }
  },
  {
   "cell_type": "markdown",
   "source": [
    "#### Compairing Model against real data"
   ],
   "metadata": {
    "collapsed": false
   }
  },
  {
   "cell_type": "code",
   "execution_count": 36,
   "outputs": [
    {
     "data": {
      "text/plain": "    Actual_Deaths  Predicted_Deaths  Difference\n0           22014           26685.0     -4671.0\n1           22043           26756.0     -4713.0\n2           22105           26823.0     -4718.0\n3           22152           26894.0     -4742.0\n4           22183           26968.0     -4785.0\n5           22212           27042.0     -4830.0\n6           22234           27108.0     -4874.0\n7           22271           27182.0     -4911.0\n8           22302           27258.0     -4956.0\n9           22330           27331.0     -5001.0\n10          22367           27405.0     -5038.0\n11          22397           27484.0     -5087.0\n12          22426           27560.0     -5134.0\n13          22455           27641.0     -5186.0\n14          22484           27699.0     -5215.0\n15          22509           27772.0     -5263.0\n16          22543           27847.0     -5304.0\n17          22577           27931.0     -5354.0\n18          22605           28020.0     -5415.0\n19          22635           28110.0     -5475.0\n20          22656           28187.0     -5531.0\n21          22695           28267.0     -5572.0\n22          22715           28357.0     -5642.0\n23          22739           28446.0     -5707.0\n24          22771           28547.0     -5776.0",
      "text/html": "<div>\n<style scoped>\n    .dataframe tbody tr th:only-of-type {\n        vertical-align: middle;\n    }\n\n    .dataframe tbody tr th {\n        vertical-align: top;\n    }\n\n    .dataframe thead th {\n        text-align: right;\n    }\n</style>\n<table border=\"1\" class=\"dataframe\">\n  <thead>\n    <tr style=\"text-align: right;\">\n      <th></th>\n      <th>Actual_Deaths</th>\n      <th>Predicted_Deaths</th>\n      <th>Difference</th>\n    </tr>\n  </thead>\n  <tbody>\n    <tr>\n      <th>0</th>\n      <td>22014</td>\n      <td>26685.0</td>\n      <td>-4671.0</td>\n    </tr>\n    <tr>\n      <th>1</th>\n      <td>22043</td>\n      <td>26756.0</td>\n      <td>-4713.0</td>\n    </tr>\n    <tr>\n      <th>2</th>\n      <td>22105</td>\n      <td>26823.0</td>\n      <td>-4718.0</td>\n    </tr>\n    <tr>\n      <th>3</th>\n      <td>22152</td>\n      <td>26894.0</td>\n      <td>-4742.0</td>\n    </tr>\n    <tr>\n      <th>4</th>\n      <td>22183</td>\n      <td>26968.0</td>\n      <td>-4785.0</td>\n    </tr>\n    <tr>\n      <th>5</th>\n      <td>22212</td>\n      <td>27042.0</td>\n      <td>-4830.0</td>\n    </tr>\n    <tr>\n      <th>6</th>\n      <td>22234</td>\n      <td>27108.0</td>\n      <td>-4874.0</td>\n    </tr>\n    <tr>\n      <th>7</th>\n      <td>22271</td>\n      <td>27182.0</td>\n      <td>-4911.0</td>\n    </tr>\n    <tr>\n      <th>8</th>\n      <td>22302</td>\n      <td>27258.0</td>\n      <td>-4956.0</td>\n    </tr>\n    <tr>\n      <th>9</th>\n      <td>22330</td>\n      <td>27331.0</td>\n      <td>-5001.0</td>\n    </tr>\n    <tr>\n      <th>10</th>\n      <td>22367</td>\n      <td>27405.0</td>\n      <td>-5038.0</td>\n    </tr>\n    <tr>\n      <th>11</th>\n      <td>22397</td>\n      <td>27484.0</td>\n      <td>-5087.0</td>\n    </tr>\n    <tr>\n      <th>12</th>\n      <td>22426</td>\n      <td>27560.0</td>\n      <td>-5134.0</td>\n    </tr>\n    <tr>\n      <th>13</th>\n      <td>22455</td>\n      <td>27641.0</td>\n      <td>-5186.0</td>\n    </tr>\n    <tr>\n      <th>14</th>\n      <td>22484</td>\n      <td>27699.0</td>\n      <td>-5215.0</td>\n    </tr>\n    <tr>\n      <th>15</th>\n      <td>22509</td>\n      <td>27772.0</td>\n      <td>-5263.0</td>\n    </tr>\n    <tr>\n      <th>16</th>\n      <td>22543</td>\n      <td>27847.0</td>\n      <td>-5304.0</td>\n    </tr>\n    <tr>\n      <th>17</th>\n      <td>22577</td>\n      <td>27931.0</td>\n      <td>-5354.0</td>\n    </tr>\n    <tr>\n      <th>18</th>\n      <td>22605</td>\n      <td>28020.0</td>\n      <td>-5415.0</td>\n    </tr>\n    <tr>\n      <th>19</th>\n      <td>22635</td>\n      <td>28110.0</td>\n      <td>-5475.0</td>\n    </tr>\n    <tr>\n      <th>20</th>\n      <td>22656</td>\n      <td>28187.0</td>\n      <td>-5531.0</td>\n    </tr>\n    <tr>\n      <th>21</th>\n      <td>22695</td>\n      <td>28267.0</td>\n      <td>-5572.0</td>\n    </tr>\n    <tr>\n      <th>22</th>\n      <td>22715</td>\n      <td>28357.0</td>\n      <td>-5642.0</td>\n    </tr>\n    <tr>\n      <th>23</th>\n      <td>22739</td>\n      <td>28446.0</td>\n      <td>-5707.0</td>\n    </tr>\n    <tr>\n      <th>24</th>\n      <td>22771</td>\n      <td>28547.0</td>\n      <td>-5776.0</td>\n    </tr>\n  </tbody>\n</table>\n</div>"
     },
     "execution_count": 36,
     "metadata": {},
     "output_type": "execute_result"
    }
   ],
   "source": [
    "featureColumns = [\"new_cases\", \"median_age\",\"population_density\",\"population\",\"hosp_patients\",\"total_cases\",\"positive_rate\"]\n",
    "predictionDataFrame = canadaMarchCovidData[featureColumns]\n",
    "predictedValues = predictValue(features,target,predictionDataFrame)\n",
    "predictedValues = np.around(predictedValues)\n",
    "predictedValuesFrame = predictionDataFrame.copy()\n",
    "predictedValuesFrame['total_deaths'] = predictedValues\n",
    "\n",
    "\n",
    "columnToCompare = ['total_deaths']\n",
    "actualDeaths = canadaMarchCovidData[columnToCompare]\n",
    "predictedDeaths = predictedValuesFrame[columnToCompare]\n",
    "comparedDataFrame = actualDeaths.compare(predictedDeaths)\n",
    "comparedDataFrame = comparedDataFrame[\"total_deaths\"]\n",
    "\n",
    "comparedDataFrame = comparedDataFrame.rename(columns={\"self\": \"Actual_Deaths\", \"other\": \"Predicted_Deaths\"})\n",
    "\n",
    "comparedDataFrame[\"Difference\"] = np.nan\n",
    "comparedDataFrame['Difference'] = comparedDataFrame['Actual_Deaths'] - comparedDataFrame['Predicted_Deaths']\n",
    "comparedDataFrame"
   ],
   "metadata": {
    "collapsed": false,
    "pycharm": {
     "name": "#%%\n"
    }
   }
  },
  {
   "cell_type": "markdown",
   "source": [
    "### Observations\n",
    "- total_cases plays a significant factor in the model being good\n",
    "- Adding more features does not mean the model will get better"
   ],
   "metadata": {
    "collapsed": false
   }
  },
  {
   "cell_type": "markdown",
   "source": [
    "### Questions\n",
    "- How well does the algorithm perform?\n",
    "    It performed moderately well. I think there are additional improvements to the data we could make further refining the feature list.\n",
    "- What options performed the best?\n",
    "    After trying several of the options, we found that the defaults really performed the best. Adjusting the Alpha or the L1_Ratio didn't have any real positive impact.\n",
    "- What features were more useful than others?\n",
    "    The feature with the biggest impact was total cases. Removing that column rendered the model unusable. Additionally, the hospital patients feature had positive impact as well."
   ],
   "metadata": {
    "collapsed": false,
    "pycharm": {
     "name": "#%% md\n"
    }
   }
  }
 ],
 "metadata": {
  "kernelspec": {
   "display_name": "Python 3",
   "language": "python",
   "name": "python3"
  },
  "language_info": {
   "codemirror_mode": {
    "name": "ipython",
    "version": 2
   },
   "file_extension": ".py",
   "mimetype": "text/x-python",
   "name": "python",
   "nbconvert_exporter": "python",
   "pygments_lexer": "ipython2",
   "version": "2.7.6"
  }
 },
 "nbformat": 4,
 "nbformat_minor": 0
}