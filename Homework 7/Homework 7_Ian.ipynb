{
 "cells": [
  {
   "cell_type": "code",
   "metadata": {
    "collapsed": true,
    "pycharm": {
     "name": "#%%\n"
    }
   },
   "source": [
    "##Import Key Libraries for use\n",
    "import datetime as dt\n",
    "import math\n",
    "import pandas as pd\n",
    "import numpy as np\n",
    "import sklearn\n",
    "from sklearn.model_selection import train_test_split\n",
    "from sklearn.linear_model import ElasticNet\n",
    "from sklearn.metrics import explained_variance_score, mean_absolute_error, r2_score, mean_squared_error"
   ],
   "execution_count": 380,
   "outputs": []
  },
  {
   "cell_type": "code",
   "execution_count": 381,
   "outputs": [],
   "source": [
    "#Import CSV\n",
    "covid19Dataframe = pd.read_csv(\"https://raw.githubusercontent.com/WhipSnake23/Python-Class-Project/main/Data/owid-covid-data.csv\")\n",
    "#Filter Dataset to Canada\n",
    "covid19Dataframe = covid19Dataframe[covid19Dataframe.iso_code.str.contains(\"CAN\")]\n",
    "#Remove Smoothed Columns from dataframe\n",
    "\n",
    "covid19Dataframe = covid19Dataframe.drop(columns=['new_cases_smoothed','new_deaths_smoothed','new_cases_smoothed_per_million','new_deaths_smoothed_per_million','new_tests_smoothed','new_tests_smoothed_per_thousand','new_vaccinations_smoothed','new_vaccinations_smoothed_per_million'])\n",
    "#Reset Index\n",
    "covid19Dataframe.reset_index(drop=True, inplace=True)\n",
    "#covid19Dataframe.dropna(inplace=True)\n",
    "covid19Dataframe.dropna(subset=['total_deaths'],inplace=True)\n",
    "\n",
    "\n",
    "canadaMarchCovidData = pd.read_csv(\"https://raw.githubusercontent.com/WhipSnake23/Python-Class-Project/main/Data/Canada-MarchData.csv\")\n",
    "canadaMarchCovidData = canadaMarchCovidData.drop(columns=['new_cases_smoothed','new_deaths_smoothed','new_cases_smoothed_per_million','new_deaths_smoothed_per_million','new_tests_smoothed','new_tests_smoothed_per_thousand','new_vaccinations_smoothed','new_vaccinations_smoothed_per_million'])\n",
    "#Reset Index\n",
    "canadaMarchCovidData.reset_index(drop=True, inplace=True)"
   ],
   "metadata": {
    "collapsed": false,
    "pycharm": {
     "name": "#%%\n"
    }
   }
  },
  {
   "cell_type": "code",
   "execution_count": 382,
   "outputs": [],
   "source": [
    "##Functions\n",
    "def printMetrics(test, predictions):\n",
    "    print(f\"Score: {explained_variance_score(test, predictions):.2f}\")\n",
    "    print(f\"MAE: {mean_absolute_error(test, predictions):.2f}\")\n",
    "    print(f\"RMSE: {math.sqrt(mean_squared_error(test, predictions)):.2f}\")\n",
    "    print(f\"r2: {r2_score(test, predictions):.2f}\")\n",
    "\n",
    "def  calculateScore(F_Features,F_Target):\n",
    "    X_train, X_test, y_train, y_test = train_test_split(F_Features, F_Target, test_size=0.25, random_state=1)\n",
    "    reg = ElasticNet()\n",
    "    reg.fit(X_train, y_train)\n",
    "    predictions = reg.predict(X_test)\n",
    "    printMetrics(y_test, predictions)\n",
    "\n",
    "def  predictValue(F_Features,F_Target,predict_df):\n",
    "    X_train, X_test, y_train, y_test = train_test_split(F_Features, F_Target, test_size=0.25, random_state=1)\n",
    "    reg = ElasticNet()\n",
    "    reg.fit(X_train, y_train)\n",
    "    predictions = reg.predict(predict_df)\n",
    "    return predictions"
   ],
   "metadata": {
    "collapsed": false,
    "pycharm": {
     "name": "#%%\n"
    }
   }
  },
  {
   "cell_type": "markdown",
   "source": [
    "#### Set Target Column"
   ],
   "metadata": {
    "collapsed": false,
    "pycharm": {
     "name": "#%% md\n"
    }
   }
  },
  {
   "cell_type": "code",
   "execution_count": 383,
   "outputs": [],
   "source": [
    "targetColumn = \"total_deaths\"\n",
    "reg = ElasticNet()"
   ],
   "metadata": {
    "collapsed": false,
    "pycharm": {
     "name": "#%%\n"
    }
   }
  },
  {
   "cell_type": "markdown",
   "source": [
    "### Test 1\n",
    "- New Cases\n",
    "- Median Age\n",
    "- Population Density\n",
    "- Population\n",
    "- Total Cases"
   ],
   "metadata": {
    "collapsed": false,
    "pycharm": {
     "name": "#%% md\n"
    }
   }
  },
  {
   "cell_type": "code",
   "execution_count": 384,
   "outputs": [
    {
     "name": "stdout",
     "output_type": "stream",
     "text": [
      "Score: 0.89\n",
      "MAE: 1548.75\n",
      "RMSE: 1921.68\n",
      "r2: 0.89\n"
     ]
    }
   ],
   "source": [
    "featureColumns = [\"new_cases\", \"median_age\",\"population_density\",\"population\",'total_cases']\n",
    "\n",
    "Features=covid19Dataframe[featureColumns]\n",
    "Target=covid19Dataframe[targetColumn]\n",
    "\n",
    "calculateScore(Features,Target)"
   ],
   "metadata": {
    "collapsed": false,
    "pycharm": {
     "name": "#%%\n"
    }
   }
  },
  {
   "cell_type": "code",
   "execution_count": 385,
   "outputs": [
    {
     "data": {
      "text/plain": "    new_cases  median_age  population_density  population  total_cases  \\\n0        3694        41.4               4.037    37742157       875388   \n1        2663        41.4               4.037    37742157       878051   \n2        2784        41.4               4.037    37742157       880835   \n3        2980        41.4               4.037    37742157       883815   \n4        2967        41.4               4.037    37742157       886782   \n5        2769        41.4               4.037    37742157       889551   \n6        2648        41.4               4.037    37742157       892199   \n7        4048        41.4               4.037    37742157       896247   \n8        2928        41.4               4.037    37742157       899175   \n9        3059        41.4               4.037    37742157       902234   \n10       3105        41.4               4.037    37742157       905339   \n11       3515        41.4               4.037    37742157       908854   \n12       3030        41.4               4.037    37742157       911884   \n13       2711        41.4               4.037    37742157       914595   \n14       3811        41.4               4.037    37742157       918406   \n15       2857        41.4               4.037    37742157       921263   \n16       3407        41.4               4.037    37742157       924670   \n17       3613        41.4               4.037    37742157       928283   \n18       4232        41.4               4.037    37742157       932515   \n19       3417        41.4               4.037    37742157       935932   \n20       3125        41.4               4.037    37742157       939057   \n21       4863        41.4               4.037    37742157       943920   \n22       3569        41.4               4.037    37742157       947489   \n23       3949        41.4               4.037    37742157       951438   \n24       5104        41.4               4.037    37742157       956542   \n25       5025        41.4               4.037    37742157       961567   \n26       4315        41.4               4.037    37742157       965882   \n\n    Predicted_Death  \n0           23683.0  \n1           24062.0  \n2           24088.0  \n3           24096.0  \n4           24167.0  \n5           24292.0  \n6           24390.0  \n7           24051.0  \n8           24463.0  \n9           24492.0  \n10          24549.0  \n11          24503.0  \n12          24722.0  \n13          24882.0  \n14          24630.0  \n15          24990.0  \n16          24898.0  \n17          24917.0  \n18          24823.0  \n19          25152.0  \n20          25314.0  \n21          24889.0  \n22          25370.0  \n23          25343.0  \n24          25104.0  \n25          25243.0  \n26          25560.0  ",
      "text/html": "<div>\n<style scoped>\n    .dataframe tbody tr th:only-of-type {\n        vertical-align: middle;\n    }\n\n    .dataframe tbody tr th {\n        vertical-align: top;\n    }\n\n    .dataframe thead th {\n        text-align: right;\n    }\n</style>\n<table border=\"1\" class=\"dataframe\">\n  <thead>\n    <tr style=\"text-align: right;\">\n      <th></th>\n      <th>new_cases</th>\n      <th>median_age</th>\n      <th>population_density</th>\n      <th>population</th>\n      <th>total_cases</th>\n      <th>Predicted_Death</th>\n    </tr>\n  </thead>\n  <tbody>\n    <tr>\n      <th>0</th>\n      <td>3694</td>\n      <td>41.4</td>\n      <td>4.037</td>\n      <td>37742157</td>\n      <td>875388</td>\n      <td>23683.0</td>\n    </tr>\n    <tr>\n      <th>1</th>\n      <td>2663</td>\n      <td>41.4</td>\n      <td>4.037</td>\n      <td>37742157</td>\n      <td>878051</td>\n      <td>24062.0</td>\n    </tr>\n    <tr>\n      <th>2</th>\n      <td>2784</td>\n      <td>41.4</td>\n      <td>4.037</td>\n      <td>37742157</td>\n      <td>880835</td>\n      <td>24088.0</td>\n    </tr>\n    <tr>\n      <th>3</th>\n      <td>2980</td>\n      <td>41.4</td>\n      <td>4.037</td>\n      <td>37742157</td>\n      <td>883815</td>\n      <td>24096.0</td>\n    </tr>\n    <tr>\n      <th>4</th>\n      <td>2967</td>\n      <td>41.4</td>\n      <td>4.037</td>\n      <td>37742157</td>\n      <td>886782</td>\n      <td>24167.0</td>\n    </tr>\n    <tr>\n      <th>5</th>\n      <td>2769</td>\n      <td>41.4</td>\n      <td>4.037</td>\n      <td>37742157</td>\n      <td>889551</td>\n      <td>24292.0</td>\n    </tr>\n    <tr>\n      <th>6</th>\n      <td>2648</td>\n      <td>41.4</td>\n      <td>4.037</td>\n      <td>37742157</td>\n      <td>892199</td>\n      <td>24390.0</td>\n    </tr>\n    <tr>\n      <th>7</th>\n      <td>4048</td>\n      <td>41.4</td>\n      <td>4.037</td>\n      <td>37742157</td>\n      <td>896247</td>\n      <td>24051.0</td>\n    </tr>\n    <tr>\n      <th>8</th>\n      <td>2928</td>\n      <td>41.4</td>\n      <td>4.037</td>\n      <td>37742157</td>\n      <td>899175</td>\n      <td>24463.0</td>\n    </tr>\n    <tr>\n      <th>9</th>\n      <td>3059</td>\n      <td>41.4</td>\n      <td>4.037</td>\n      <td>37742157</td>\n      <td>902234</td>\n      <td>24492.0</td>\n    </tr>\n    <tr>\n      <th>10</th>\n      <td>3105</td>\n      <td>41.4</td>\n      <td>4.037</td>\n      <td>37742157</td>\n      <td>905339</td>\n      <td>24549.0</td>\n    </tr>\n    <tr>\n      <th>11</th>\n      <td>3515</td>\n      <td>41.4</td>\n      <td>4.037</td>\n      <td>37742157</td>\n      <td>908854</td>\n      <td>24503.0</td>\n    </tr>\n    <tr>\n      <th>12</th>\n      <td>3030</td>\n      <td>41.4</td>\n      <td>4.037</td>\n      <td>37742157</td>\n      <td>911884</td>\n      <td>24722.0</td>\n    </tr>\n    <tr>\n      <th>13</th>\n      <td>2711</td>\n      <td>41.4</td>\n      <td>4.037</td>\n      <td>37742157</td>\n      <td>914595</td>\n      <td>24882.0</td>\n    </tr>\n    <tr>\n      <th>14</th>\n      <td>3811</td>\n      <td>41.4</td>\n      <td>4.037</td>\n      <td>37742157</td>\n      <td>918406</td>\n      <td>24630.0</td>\n    </tr>\n    <tr>\n      <th>15</th>\n      <td>2857</td>\n      <td>41.4</td>\n      <td>4.037</td>\n      <td>37742157</td>\n      <td>921263</td>\n      <td>24990.0</td>\n    </tr>\n    <tr>\n      <th>16</th>\n      <td>3407</td>\n      <td>41.4</td>\n      <td>4.037</td>\n      <td>37742157</td>\n      <td>924670</td>\n      <td>24898.0</td>\n    </tr>\n    <tr>\n      <th>17</th>\n      <td>3613</td>\n      <td>41.4</td>\n      <td>4.037</td>\n      <td>37742157</td>\n      <td>928283</td>\n      <td>24917.0</td>\n    </tr>\n    <tr>\n      <th>18</th>\n      <td>4232</td>\n      <td>41.4</td>\n      <td>4.037</td>\n      <td>37742157</td>\n      <td>932515</td>\n      <td>24823.0</td>\n    </tr>\n    <tr>\n      <th>19</th>\n      <td>3417</td>\n      <td>41.4</td>\n      <td>4.037</td>\n      <td>37742157</td>\n      <td>935932</td>\n      <td>25152.0</td>\n    </tr>\n    <tr>\n      <th>20</th>\n      <td>3125</td>\n      <td>41.4</td>\n      <td>4.037</td>\n      <td>37742157</td>\n      <td>939057</td>\n      <td>25314.0</td>\n    </tr>\n    <tr>\n      <th>21</th>\n      <td>4863</td>\n      <td>41.4</td>\n      <td>4.037</td>\n      <td>37742157</td>\n      <td>943920</td>\n      <td>24889.0</td>\n    </tr>\n    <tr>\n      <th>22</th>\n      <td>3569</td>\n      <td>41.4</td>\n      <td>4.037</td>\n      <td>37742157</td>\n      <td>947489</td>\n      <td>25370.0</td>\n    </tr>\n    <tr>\n      <th>23</th>\n      <td>3949</td>\n      <td>41.4</td>\n      <td>4.037</td>\n      <td>37742157</td>\n      <td>951438</td>\n      <td>25343.0</td>\n    </tr>\n    <tr>\n      <th>24</th>\n      <td>5104</td>\n      <td>41.4</td>\n      <td>4.037</td>\n      <td>37742157</td>\n      <td>956542</td>\n      <td>25104.0</td>\n    </tr>\n    <tr>\n      <th>25</th>\n      <td>5025</td>\n      <td>41.4</td>\n      <td>4.037</td>\n      <td>37742157</td>\n      <td>961567</td>\n      <td>25243.0</td>\n    </tr>\n    <tr>\n      <th>26</th>\n      <td>4315</td>\n      <td>41.4</td>\n      <td>4.037</td>\n      <td>37742157</td>\n      <td>965882</td>\n      <td>25560.0</td>\n    </tr>\n  </tbody>\n</table>\n</div>"
     },
     "execution_count": 385,
     "metadata": {},
     "output_type": "execute_result"
    }
   ],
   "source": [
    "##Prediction Methods\n",
    "featureColumns = [\"new_cases\", \"median_age\",\"population_density\",\"population\",'total_cases']\n",
    "predictionDataFrame = canadaMarchCovidData[featureColumns]\n",
    "predictedValues = predictValue(Features,Target,predictionDataFrame)\n",
    "predictedValues = np.around(predictedValues)\n",
    "predictedValuesFrame = predictionDataFrame.copy()\n",
    "predictedValuesFrame['Predicted_Death'] = predictedValues\n",
    "predictedValuesFrame\n"
   ],
   "metadata": {
    "collapsed": false,
    "pycharm": {
     "name": "#%%\n"
    }
   }
  },
  {
   "cell_type": "markdown",
   "source": [
    "### Test 2\n",
    "- New Cases\n",
    "- Median Age\n",
    "- Population Density\n",
    "- Population"
   ],
   "metadata": {
    "collapsed": false
   }
  },
  {
   "cell_type": "code",
   "execution_count": 386,
   "outputs": [
    {
     "name": "stdout",
     "output_type": "stream",
     "text": [
      "Score: 0.35\n",
      "MAE: 3503.82\n",
      "RMSE: 4831.17\n",
      "r2: 0.30\n"
     ]
    }
   ],
   "source": [
    "##Missing Total Cases\n",
    "featureColumns = [\"new_cases\", \"median_age\",\"population_density\",\"population\"]\n",
    "\n",
    "Features=covid19Dataframe[featureColumns]\n",
    "Target=covid19Dataframe[targetColumn]\n",
    "\n",
    "calculateScore(Features,Target)"
   ],
   "metadata": {
    "collapsed": false,
    "pycharm": {
     "name": "#%%\n"
    }
   }
  },
  {
   "cell_type": "markdown",
   "source": [
    "### Test 3\n",
    "- New Cases\n",
    "- Median Age\n",
    "- Population Density\n",
    "- Population\n",
    "- Hospital Patients"
   ],
   "metadata": {
    "collapsed": false
   }
  },
  {
   "cell_type": "code",
   "execution_count": 387,
   "outputs": [
    {
     "name": "stdout",
     "output_type": "stream",
     "text": [
      "Score: 0.45\n",
      "MAE: 2792.94\n",
      "RMSE: 3672.82\n",
      "r2: 0.45\n"
     ]
    }
   ],
   "source": [
    "covid19Dataframe.dropna(subset=['hosp_patients'],inplace=True)\n",
    "featureColumns = [\"new_cases\", \"median_age\",\"population_density\",\"population\",\"hosp_patients\"]\n",
    "\n",
    "Features=covid19Dataframe[featureColumns]\n",
    "Target=covid19Dataframe[targetColumn]\n",
    "\n",
    "calculateScore(Features,Target)"
   ],
   "metadata": {
    "collapsed": false,
    "pycharm": {
     "name": "#%%\n"
    }
   }
  },
  {
   "cell_type": "markdown",
   "source": [
    "### Test 4\n",
    "- New Cases\n",
    "- Median Age\n",
    "- Population Density\n",
    "- Population\n",
    "- Total Cases\n",
    "- Hospital Patients"
   ],
   "metadata": {
    "collapsed": false
   }
  },
  {
   "cell_type": "code",
   "execution_count": 388,
   "outputs": [
    {
     "name": "stdout",
     "output_type": "stream",
     "text": [
      "Score: 0.85\n",
      "MAE: 1431.59\n",
      "RMSE: 1941.16\n",
      "r2: 0.85\n"
     ]
    }
   ],
   "source": [
    "featureColumns = [\"new_cases\", \"median_age\",\"population_density\",\"population\",\"hosp_patients\",\"total_cases\"]\n",
    "\n",
    "Features=covid19Dataframe[featureColumns]\n",
    "Target=covid19Dataframe[targetColumn]\n",
    "\n",
    "calculateScore(Features,Target)\n"
   ],
   "metadata": {
    "collapsed": false,
    "pycharm": {
     "name": "#%%\n"
    }
   }
  },
  {
   "cell_type": "markdown",
   "source": [
    "### Test 5\n",
    "- New Cases\n",
    "- Median Age\n",
    "- Population Density\n",
    "- Population\n",
    "- Total Cases\n",
    "- Hospital Patients\n",
    "- Positive Rate"
   ],
   "metadata": {
    "collapsed": false
   }
  },
  {
   "cell_type": "code",
   "execution_count": 389,
   "outputs": [
    {
     "name": "stdout",
     "output_type": "stream",
     "text": [
      "Score: 0.85\n",
      "MAE: 1197.78\n",
      "RMSE: 1784.20\n",
      "r2: 0.85\n"
     ]
    }
   ],
   "source": [
    "covid19Dataframe.dropna(subset=['positive_rate'],inplace=True)\n",
    "featureColumns = [\"new_cases\", \"median_age\",\"population_density\",\"population\",\"hosp_patients\",\"total_cases\",\"positive_rate\"]\n",
    "\n",
    "Features=covid19Dataframe[featureColumns]\n",
    "Target=covid19Dataframe[targetColumn]\n",
    "\n",
    "calculateScore(Features,Target)"
   ],
   "metadata": {
    "collapsed": false,
    "pycharm": {
     "name": "#%%\n"
    }
   }
  },
  {
   "cell_type": "markdown",
   "source": [
    "### Test 5\n",
    "- New Cases\n",
    "- Median Age\n",
    "- Population Density\n",
    "- Population\n",
    "- Total Cases\n",
    "- Hospital Patients\n",
    "- Positive Rate"
   ],
   "metadata": {
    "collapsed": false,
    "pycharm": {
     "name": "#%% md\n",
     "is_executing": true
    }
   },
   "outputs": [
    {
     "ename": "SyntaxError",
     "evalue": "invalid syntax (<ipython-input-236-16963341f39c>, line 2)",
     "output_type": "error",
     "traceback": [
      "\u001B[0;36m  File \u001B[0;32m\"<ipython-input-236-16963341f39c>\"\u001B[0;36m, line \u001B[0;32m2\u001B[0m\n\u001B[0;31m    - New Cases\u001B[0m\n\u001B[0m          ^\u001B[0m\n\u001B[0;31mSyntaxError\u001B[0m\u001B[0;31m:\u001B[0m invalid syntax\n"
     ]
    }
   ]
  },
  {
   "cell_type": "code",
   "execution_count": 390,
   "outputs": [
    {
     "name": "stdout",
     "output_type": "stream",
     "text": [
      "Score: 0.89\n",
      "MAE: 923.87\n",
      "RMSE: 1485.52\n",
      "r2: 0.89\n"
     ]
    }
   ],
   "source": [
    "covid19Dataframe['positive_rate'] = covid19Dataframe['positive_rate'] * 100\n",
    "featureColumns = [\"new_cases\", \"median_age\",\"population_density\",\"population\",\"hosp_patients\",\"total_cases\",\"positive_rate\"]\n",
    "\n",
    "Features=covid19Dataframe[featureColumns]\n",
    "Target=covid19Dataframe[targetColumn]\n",
    "\n",
    "calculateScore(Features,Target)"
   ],
   "metadata": {
    "collapsed": false,
    "pycharm": {
     "name": "#%%\n"
    }
   }
  },
  {
   "cell_type": "markdown",
   "source": [
    "### Predicting using recent Covid Data in March\n",
    "\n"
   ],
   "metadata": {
    "collapsed": false
   }
  },
  {
   "cell_type": "code",
   "execution_count": 390,
   "outputs": [],
   "source": [],
   "metadata": {
    "collapsed": false,
    "pycharm": {
     "name": "#%%\n"
    }
   }
  }
 ],
 "metadata": {
  "kernelspec": {
   "display_name": "Python 3",
   "language": "python",
   "name": "python3"
  },
  "language_info": {
   "codemirror_mode": {
    "name": "ipython",
    "version": 2
   },
   "file_extension": ".py",
   "mimetype": "text/x-python",
   "name": "python",
   "nbconvert_exporter": "python",
   "pygments_lexer": "ipython2",
   "version": "2.7.6"
  }
 },
 "nbformat": 4,
 "nbformat_minor": 0
}