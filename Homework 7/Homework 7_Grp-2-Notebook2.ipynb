{
 "cells": [
  {
   "cell_type": "markdown",
   "metadata": {
    "collapsed": true,
    "pycharm": {
     "name": "#%% md\n"
    }
   },
   "source": [
    "## Linear Regression Analysis of Covid 19 Deaths in Canada\n",
    "#### Group 2: Ian, Sanjaya, Nermin, Stephanie\n",
    "\n",
    "- What algorithm, of the ones attempted, appear to provide the best results, and why?\n",
    "Elastic Net had the best results of the 4 we tested (SGD REGRESSOR, ELASTICNET, SVR(KERNAL='LINEAR', SVR(KERNAL='RBF'). This fits inline with our initial prediction because we had less than 100 thousand samples and few features are important to us. We based this off of the scikit-learn algorithm cheat-sheet.\n",
    "- What features ended up being the most interesting/meaningful for your test?\n",
    "The feature with the biggest impact was total cases. Removing that column rendered the model unusable. Additionally, the hospital patients feature had positive impact as well.\n",
    "\n"
   ]
  }
 ],
 "metadata": {
  "kernelspec": {
   "display_name": "Python 3",
   "language": "python",
   "name": "python3"
  },
  "language_info": {
   "codemirror_mode": {
    "name": "ipython",
    "version": 2
   },
   "file_extension": ".py",
   "mimetype": "text/x-python",
   "name": "python",
   "nbconvert_exporter": "python",
   "pygments_lexer": "ipython2",
   "version": "2.7.6"
  }
 },
 "nbformat": 4,
 "nbformat_minor": 0
}