{
 "cells": [
  {
   "cell_type": "markdown",
   "source": [],
   "metadata": {
    "collapsed": false
   }
  },
  {
   "cell_type": "markdown",
   "source": [
    "#### Notebook Imports"
   ],
   "metadata": {
    "collapsed": false
   }
  },
  {
   "cell_type": "code",
   "execution_count": 1,
   "outputs": [
    {
     "data": {
      "text/html": "        <script type=\"text/javascript\">\n        window.PlotlyConfig = {MathJaxConfig: 'local'};\n        if (window.MathJax) {MathJax.Hub.Config({SVG: {font: \"STIX-Web\"}});}\n        if (typeof require !== 'undefined') {\n        require.undef(\"plotly\");\n        requirejs.config({\n            paths: {\n                'plotly': ['https://cdn.plot.ly/plotly-latest.min']\n            }\n        });\n        require(['plotly'], function(Plotly) {\n            window._Plotly = Plotly;\n        });\n        }\n        </script>\n        "
     },
     "metadata": {},
     "output_type": "display_data"
    },
    {
     "ename": "ModuleNotFoundError",
     "evalue": "No module named 'cufflinks'",
     "output_type": "error",
     "traceback": [
      "\u001B[0;31m---------------------------------------------------------------------------\u001B[0m",
      "\u001B[0;31mModuleNotFoundError\u001B[0m                       Traceback (most recent call last)",
      "\u001B[0;32m<ipython-input-1-8175a8b90a74>\u001B[0m in \u001B[0;36m<module>\u001B[0;34m\u001B[0m\n\u001B[1;32m     12\u001B[0m \u001B[0;32mfrom\u001B[0m \u001B[0mplotly\u001B[0m\u001B[0;34m.\u001B[0m\u001B[0moffline\u001B[0m \u001B[0;32mimport\u001B[0m \u001B[0minit_notebook_mode\u001B[0m\u001B[0;34m,\u001B[0m\u001B[0miplot\u001B[0m\u001B[0;34m,\u001B[0m\u001B[0mplot\u001B[0m\u001B[0;34m\u001B[0m\u001B[0;34m\u001B[0m\u001B[0m\n\u001B[1;32m     13\u001B[0m \u001B[0minit_notebook_mode\u001B[0m\u001B[0;34m(\u001B[0m\u001B[0mconnected\u001B[0m\u001B[0;34m=\u001B[0m\u001B[0;32mTrue\u001B[0m\u001B[0;34m)\u001B[0m\u001B[0;34m\u001B[0m\u001B[0;34m\u001B[0m\u001B[0m\n\u001B[0;32m---> 14\u001B[0;31m \u001B[0;32mimport\u001B[0m \u001B[0mcufflinks\u001B[0m \u001B[0;32mas\u001B[0m \u001B[0mcf\u001B[0m\u001B[0;34m\u001B[0m\u001B[0;34m\u001B[0m\u001B[0m\n\u001B[0m\u001B[1;32m     15\u001B[0m \u001B[0mcf\u001B[0m\u001B[0;34m.\u001B[0m\u001B[0mgo_offline\u001B[0m\u001B[0;34m(\u001B[0m\u001B[0;34m)\u001B[0m\u001B[0;34m\u001B[0m\u001B[0;34m\u001B[0m\u001B[0m\n\u001B[1;32m     16\u001B[0m \u001B[0;34m\u001B[0m\u001B[0m\n",
      "\u001B[0;31mModuleNotFoundError\u001B[0m: No module named 'cufflinks'"
     ]
    }
   ],
   "source": [
    "import datetime as dt\n",
    "import pandas as pd\n",
    "import numpy as np\n",
    "import matplotlib as mpl\n",
    "import matplotlib.pyplot as plt\n",
    "import seaborn as sns\n",
    "import plotly.express as px\n",
    "import matplotlib.dates as mdates\n",
    "from matplotlib.ticker import FuncFormatter\n",
    "from matplotlib.dates import DateFormatter\n",
    "import plotly.graph_objs as go\n",
    "from plotly.offline import init_notebook_mode,iplot,plot\n",
    "init_notebook_mode(connected=True)\n",
    "import cufflinks as cf\n",
    "cf.go_offline()\n",
    "\n",
    "%matplotlib inline"
   ],
   "metadata": {
    "collapsed": false,
    "pycharm": {
     "name": "#%%\n"
    }
   }
  },
  {
   "cell_type": "markdown",
   "source": [
    "### Data Scrubbing and Organizing"
   ],
   "metadata": {
    "collapsed": false
   }
  },
  {
   "cell_type": "code",
   "execution_count": null,
   "outputs": [],
   "source": [
    "#import CSV from project github\n",
    "\n",
    "covid19Dataframe = pd.read_csv(\"https://raw.githubusercontent.com/WhipSnake23/Python-Class-Project/main/Data/owid-covid-data.csv\")\n",
    "\n",
    "#scrub data from rolled up rows for each region globally. NOTE: ~==\"not\"\n",
    "covid19Dataframe = covid19Dataframe[~covid19Dataframe.iso_code.str.contains(\"OWID\")]\n",
    "\n",
    "#Create a date field for Day, Month, Year to help with Data aggregation.\n",
    "covid19Dataframe.insert(59,'Day',pd.to_datetime(covid19Dataframe['date']),True)\n",
    "covid19Dataframe.insert(60,'Month',pd.to_datetime(covid19Dataframe['date']),True)\n",
    "covid19Dataframe.insert(61,'Year',pd.to_datetime(covid19Dataframe['date']),True)\n",
    "covid19Dataframe.insert(62,'Year_Month',pd.to_datetime(covid19Dataframe['date']),True)\n",
    "covid19Dataframe['Day'] = covid19Dataframe['Day'].dt.day\n",
    "covid19Dataframe['Month'] = covid19Dataframe['Month'].dt.month\n",
    "covid19Dataframe['Year'] = covid19Dataframe['Year'].dt.year\n",
    "#create a column that is the first date of every month for every row. Used in group by statements\n",
    "covid19Dataframe['Year_Month'] = pd.to_datetime(covid19Dataframe['Year'].astype(str) + '-' + covid19Dataframe['Month'].astype(str) + '-' +'01')\n",
    "#Convert Date Column to Date and Time - NOTE: This may not be needed\n",
    "covid19Dataframe['date'] = pd.to_datetime(covid19Dataframe['date'])\n",
    "#Set Positivity Rate to an actual percentage\n",
    "covid19Dataframe['positive_rate'] = covid19Dataframe['positive_rate'] * 100"
   ],
   "metadata": {
    "collapsed": false,
    "pycharm": {
     "name": "#%%\n"
    }
   }
  },
  {
   "cell_type": "markdown",
   "source": [
    "## Notebook Functions"
   ],
   "metadata": {
    "collapsed": false,
    "pycharm": {
     "name": "#%% md\n"
    }
   }
  },
  {
   "cell_type": "code",
   "execution_count": null,
   "outputs": [],
   "source": [
    "def millions(x, pos):\n",
    "    'The two args are the value and tick position'\n",
    "    return '%1.1fM' % (x * 1e-6)"
   ],
   "metadata": {
    "collapsed": false,
    "pycharm": {
     "name": "#%%\n"
    }
   }
  },
  {
   "cell_type": "markdown",
   "source": [
    "### Total Deaths in Mexico"
   ],
   "metadata": {
    "collapsed": false
   }
  },
  {
   "cell_type": "code",
   "execution_count": null,
   "outputs": [],
   "source": [
    "#This function converts the axis into millions so that the chart scale is better\n",
    "\n",
    "\n",
    "#Create a data frame that only has Mexico data\n",
    "covid19DataframeMexico = covid19Dataframe[covid19Dataframe[\"iso_code\"]==\"MEX\"]\n",
    "#Group the data by month\n",
    "covid19DataframeMexicoGrouped = covid19DataframeMexico.groupby(['Year_Month'], as_index=False)['total_deaths'].sum()\n",
    "#reset the index\n",
    "covid19DataframeMexicoGrouped.reset_index()"
   ],
   "metadata": {
    "collapsed": false,
    "pycharm": {
     "name": "#%%\n"
    }
   }
  },
  {
   "cell_type": "code",
   "execution_count": null,
   "outputs": [],
   "source": [
    "#Source: https://www.earthdatascience.org/courses/use-data-open-source-python/use-time-series-data-in-python/date-time-types-in-pandas-python/customize-dates-matplotlib-plots-python/\n",
    "\n",
    "# Create figure and plot space\n",
    "fig, ax = plt.subplots(figsize=(12, 12))\n",
    "\n",
    "# Add x-axis and y-axis from the data frame\n",
    "ax.bar(covid19DataframeMexicoGrouped['Year_Month'],\n",
    "       covid19DataframeMexicoGrouped['total_deaths'],\n",
    "       color='red')\n",
    "\n",
    "# Set title and labels for axis\n",
    "ax.set(xlabel=\"Date\",\n",
    "       ylabel=\"Total Deaths\",\n",
    "       title=\"Mexico Total Deaths by Month\")\n",
    "\n",
    "# Define the date format\n",
    "date_form = DateFormatter(\"%m-%y\")\n",
    "ax.xaxis.set_major_formatter(date_form)\n",
    "ax.xaxis.set_major_locator(mdates.MonthLocator())\n",
    "\n",
    "#Format the y axis ticks\n",
    "formatter = FuncFormatter(millions)\n",
    "ax.yaxis.set_major_formatter(formatter)\n",
    "\n",
    "ax.grid(False)\n",
    "\n",
    "#Render the chart\n",
    "plt.show()"
   ],
   "metadata": {
    "collapsed": false,
    "pycharm": {
     "name": "#%%\n"
    }
   }
  },
  {
   "cell_type": "markdown",
   "source": [
    "### Total Deaths vs the Top 20 countries with the highest Median Age"
   ],
   "metadata": {
    "collapsed": false
   }
  },
  {
   "cell_type": "code",
   "execution_count": null,
   "outputs": [],
   "source": [
    "##This code block will filter the data and get the top n of a column\n",
    "countries = covid19Dataframe[['iso_code','median_age']]\n",
    "countries = countries.drop_duplicates()\n",
    "top20Countries_MedianAge = countries.nlargest(20,'median_age')\n",
    "top20Countries_list = top20Countries_MedianAge['iso_code'].values.tolist()\n",
    "booleanSeries = covid19Dataframe.iso_code.isin(top20Countries_list)\n",
    "top20Countries_MedianAge = covid19Dataframe[booleanSeries]\n",
    "\n",
    "\n",
    "top20Countries_MedianAge = top20Countries_MedianAge[['location','date','total_deaths','median_age']]\n",
    "#This gets one row per location to get the most recent row which has Total Deaths\n",
    "##Needs work for Null Values\n",
    "top20Countries_MedianAge = top20Countries_MedianAge[top20Countries_MedianAge.groupby('location').date.transform('max') == top20Countries_MedianAge['date']]"
   ],
   "metadata": {
    "collapsed": false,
    "pycharm": {
     "name": "#%%\n"
    }
   }
  },
  {
   "cell_type": "code",
   "execution_count": null,
   "outputs": [],
   "source": [
    "sns.set_theme()\n",
    "\n",
    "# Create a visualization\n",
    "sns.relplot(\n",
    "    data=top20Countries_MedianAge,\n",
    "    x=\"total_deaths\", y=\"median_age\",\n",
    "    hue=\"location\", style=\"location\",\n",
    ")\n",
    "#plt.figure(figsize=(10,6))\n",
    "plt.xlabel(\"Total Deaths\")\n",
    "plt.ylabel(\"Median Age\")\n",
    "plt.title(\"Total Deaths vs Top 20 Countries with the Highest Median Age\", size=18)"
   ],
   "metadata": {
    "collapsed": false,
    "pycharm": {
     "name": "#%%\n"
    }
   }
  },
  {
   "cell_type": "markdown",
   "source": [
    "### Total Deaths vs the Top 20 countries with the highest population density"
   ],
   "metadata": {
    "collapsed": false
   }
  },
  {
   "cell_type": "code",
   "execution_count": null,
   "outputs": [],
   "source": [
    "countries = covid19Dataframe[['iso_code','population_density']]\n",
    "countries = countries.drop_duplicates()\n",
    "top20Countries_PopD = countries.nlargest(20,'population_density')\n",
    "top20Countries_list = top20Countries_PopD['iso_code'].values.tolist()\n",
    "booleanSeries = covid19Dataframe.iso_code.isin(top20Countries_list)\n",
    "top20Countries_PopD = covid19Dataframe[booleanSeries]\n",
    "top20Countries_PopD = top20Countries_PopD[['location','date','total_deaths','population_density']]\n",
    "top20Countries_PopD = top20Countries_PopD[top20Countries_PopD.groupby('location').date.transform('max') == top20Countries_PopD['date']]\n"
   ],
   "metadata": {
    "collapsed": false,
    "pycharm": {
     "name": "#%%\n"
    }
   }
  },
  {
   "cell_type": "code",
   "execution_count": null,
   "outputs": [],
   "source": [
    "fig = px.scatter(top20Countries_PopD, x=\"total_deaths\", y=\"population_density\", color=\"location\",\n",
    "                 title=\"Total Deaths vs Top 20 Countries with the Highest Population Density\",\n",
    "                 labels={\n",
    "                     \"total_deaths\" : \"Total Deaths\",\n",
    "                    \"population_density\" : \"Population Density\",\n",
    "                     \"location\" : \"Country\"\n",
    "                    } #Labels are customized using the above dictionary type configuration\n",
    "                )\n",
    "\n",
    "fig.show()"
   ],
   "metadata": {
    "collapsed": false,
    "pycharm": {
     "name": "#%%\n"
    }
   }
  },
  {
   "cell_type": "markdown",
   "source": [
    "### Italy's Positivity Rate"
   ],
   "metadata": {
    "collapsed": false
   }
  },
  {
   "cell_type": "code",
   "execution_count": null,
   "outputs": [],
   "source": [
    "covid19DataframeItaly = covid19Dataframe[covid19Dataframe[\"iso_code\"]==\"ITA\"]\n",
    "covid19DataframeItalyGrouped = covid19DataframeItaly.groupby(['Year_Month'], as_index=False)['positive_rate'].mean()\n",
    "covid19DataframeItalyGrouped.sort_values(by=['Year_Month'])\n",
    "fig = px.line(covid19DataframeItalyGrouped, x=\"Year_Month\", y=\"positive_rate\", title='Italy Positivty Rate',  labels={\n",
    "                  \"positive_rate\" : \"Total Deaths\",\n",
    "                \"Year_Month\" : \"Month\"\n",
    "               } )\n",
    "fig.show()"
   ],
   "metadata": {
    "collapsed": false,
    "pycharm": {
     "name": "#%%\n"
    }
   }
  },
  {
   "cell_type": "markdown",
   "source": [
    "### Asia Region Focus"
   ],
   "metadata": {
    "collapsed": false
   }
  },
  {
   "cell_type": "code",
   "execution_count": null,
   "outputs": [],
   "source": [
    "# Filter dataframe to only include Asian countries on February 21, 2021\n",
    "februaryAsia = covid19Dataframe[covid19Dataframe[\"continent\"] == 'Asia']\n",
    "februaryAsia = februaryAsia[februaryAsia[\"Year\"] == 2021]\n",
    "februaryAsia = februaryAsia[februaryAsia[\"Month\"] == 2]\n",
    "februaryAsia = februaryAsia[februaryAsia[\"Day\"] == 21]"
   ],
   "metadata": {
    "collapsed": false,
    "pycharm": {
     "name": "#%%\n"
    }
   }
  },
  {
   "cell_type": "code",
   "execution_count": null,
   "outputs": [],
   "source": [
    "# Filter out the top 5 highest new case counts in Asian countries for February 21, 2021\n",
    "top5Countries_newcases = februaryAsia.nlargest(5,'new_cases')\n",
    "top5Countries_newcases"
   ],
   "metadata": {
    "collapsed": false,
    "pycharm": {
     "name": "#%%\n"
    }
   }
  },
  {
   "cell_type": "code",
   "execution_count": null,
   "outputs": [],
   "source": [
    "# Top 5 new case counts\n",
    "asiaNewCases = top5Countries_newcases[\"new_cases\"]\n",
    "asiaNewCases"
   ],
   "metadata": {
    "collapsed": false,
    "pycharm": {
     "name": "#%%\n"
    }
   }
  },
  {
   "cell_type": "code",
   "execution_count": null,
   "outputs": [],
   "source": [
    "# Top 5 new case countries\n",
    "asiaTop5 = top5Countries_newcases[\"location\"]\n",
    "asiaTop5"
   ],
   "metadata": {
    "collapsed": false,
    "pycharm": {
     "name": "#%%\n"
    }
   }
  },
  {
   "cell_type": "markdown",
   "source": [
    "### A look at new cases in Asian Countries on Febuary 21st in Three different Charts"
   ],
   "metadata": {
    "collapsed": false,
    "pycharm": {
     "name": "#%% md\n"
    }
   }
  },
  {
   "cell_type": "code",
   "execution_count": null,
   "outputs": [],
   "source": [
    "# Using Matplotlib to generate a scatter plot for top 5 largest new cases in Asia\n",
    "plt.scatter(asiaNewCases,asiaTop5)"
   ],
   "metadata": {
    "collapsed": false,
    "pycharm": {
     "name": "#%%\n"
    }
   }
  },
  {
   "cell_type": "code",
   "execution_count": null,
   "outputs": [],
   "source": [
    "# Using Matplotlib to generate a line plot for top 5 largest new cases in Asia\n",
    "plt.plot(asiaNewCases,asiaTop5)"
   ],
   "metadata": {
    "collapsed": false,
    "pycharm": {
     "name": "#%%\n"
    }
   }
  },
  {
   "cell_type": "code",
   "execution_count": null,
   "outputs": [],
   "source": [
    "# Using Matplotlib to generate a pie chart with labels\n",
    "pie = plt.pie(asiaNewCases, labels=asiaTop5)\n"
   ],
   "metadata": {
    "collapsed": false,
    "pycharm": {
     "name": "#%%\n"
    }
   }
  },
  {
   "cell_type": "code",
   "execution_count": null,
   "outputs": [],
   "source": [
    "# Use Seaborn to create plot graph\n",
    "sns.set_theme()\n",
    "\n",
    "# Create a visualization\n",
    "sns.relplot(\n",
    "    data=top5Countries_newcases,\n",
    "    x=\"new_deaths\", y=\"location\",\n",
    "    hue=\"location\", style=\"location\",\n",
    ")"
   ],
   "metadata": {
    "collapsed": false,
    "pycharm": {
     "name": "#%%\n"
    }
   }
  },
  {
   "cell_type": "code",
   "execution_count": null,
   "outputs": [],
   "source": [
    "# Using plotly to display February, 21 2021 new cases in Asia\n",
    "fig = px.bar(februaryAsia, x='location', y='new_cases', color='location', title='February 21, 2021 New Cases in Asia')\n",
    "fig.show()"
   ],
   "metadata": {
    "collapsed": false,
    "pycharm": {
     "name": "#%%\n"
    }
   }
  },
  {
   "cell_type": "code",
   "execution_count": null,
   "outputs": [],
   "source": [
    "#Create a data frame that only has North America data\n",
    "covid19DataframeNorthAmerica = (covid19Dataframe[covid19Dataframe[\"continent\"]==\"North America\"]).copy()\n",
    "covid19DataframeNorthAmerica.head()"
   ],
   "metadata": {
    "collapsed": false,
    "pycharm": {
     "name": "#%%\n"
    }
   }
  },
  {
   "cell_type": "code",
   "execution_count": null,
   "outputs": [],
   "source": [
    "sns.heatmap(covid19DataframeNorthAmerica.corr(),cmap='coolwarm')"
   ],
   "metadata": {
    "collapsed": false,
    "pycharm": {
     "name": "#%%\n"
    }
   }
  },
  {
   "cell_type": "code",
   "execution_count": null,
   "outputs": [],
   "source": [],
   "metadata": {
    "collapsed": false,
    "pycharm": {
     "name": "#%%\n"
    }
   }
  },
  {
   "cell_type": "code",
   "execution_count": null,
   "outputs": [],
   "source": [
    "#Choropleth World Map - Death Count\n",
    "data = dict(\n",
    "type = 'choropleth',\n",
    "colorscale = 'Viridis',\n",
    "reversescale = True,\n",
    "locations = covid19Dataframe['location'],\n",
    "locationmode = \"country names\",\n",
    "z = covid19Dataframe['total_deaths_per_million'],\n",
    "text = covid19Dataframe['location'],\n",
    "colorbar = {'title' : 'total_deaths_per_million'},\n",
    ")\n",
    "layout = dict(title = 'Total Deaths Per Million',\n",
    "geo = dict(showframe = False,projection = {'type':'mercator'})\n",
    "              )\n",
    "choromap = go.Figure(data = [data],layout = layout)\n",
    "plot(choromap,validate=False)\n",
    "\n"
   ],
   "metadata": {
    "collapsed": false,
    "pycharm": {
     "name": "#%%\n"
    }
   }
  },
  {
   "cell_type": "code",
   "execution_count": null,
   "outputs": [],
   "source": [
    "Country1 = \"USA\"\n",
    "Country2 = \"BRA\"\n",
    "Country3 = \"MEX\"\n",
    "Country4 = \"IND\"\n",
    "Country5 = \"GBR\"\n"
   ],
   "metadata": {
    "collapsed": false,
    "pycharm": {
     "name": "#%%\n"
    }
   }
  },
  {
   "cell_type": "code",
   "execution_count": null,
   "outputs": [],
   "source": [
    "#covid19Data = pd.read_csv(\"https://raw.githubusercontent.com/WhipSnake23/Python-Class-Project/main/Data/owid-covid-data.csv\")\n",
    "\n",
    "covid19DataCountry1= covid19Dataframe[(covid19Dataframe[\"iso_code\"] == Country1)]\n",
    "covid19DataCountry2= covid19Dataframe[(covid19Dataframe[\"iso_code\"] == Country2)]\n",
    "covid19DataCountry3= covid19Dataframe[(covid19Dataframe[\"iso_code\"] == Country3)]\n",
    "covid19DataCountry4= covid19Dataframe[(covid19Dataframe[\"iso_code\"] == Country4)]\n",
    "covid19DataCountry5= covid19Dataframe[(covid19Dataframe[\"iso_code\"] == Country5)]\n",
    "\n",
    "covid19DataCountry1.insert(0,'YearMonth',pd.to_datetime(covid19DataCountry1['date']).dt.to_period('M'))\n",
    "covid19DataCountry2.insert(0,'YearMonth',pd.to_datetime(covid19DataCountry2['date']).dt.to_period('M'))\n",
    "covid19DataCountry3.insert(0,'YearMonth',pd.to_datetime(covid19DataCountry3['date']).dt.to_period('M'))\n",
    "covid19DataCountry4.insert(0,'YearMonth',pd.to_datetime(covid19DataCountry4['date']).dt.to_period('M'))\n",
    "covid19DataCountry5.insert(0,'YearMonth',pd.to_datetime(covid19DataCountry5['date']).dt.to_period('M'))\n",
    "\n",
    "country1Deaths=covid19DataCountry1.groupby(['YearMonth'], as_index=False).agg(total_deaths1=('total_deaths', sum))\n",
    "country2Deaths=covid19DataCountry2.groupby(['YearMonth'], as_index=False).agg(total_deaths2=('total_deaths', sum))\n",
    "country3Deaths=covid19DataCountry3.groupby(['YearMonth'], as_index=False).agg(total_deaths3=('total_deaths', sum))\n",
    "country4Deaths=covid19DataCountry4.groupby(['YearMonth'], as_index=False).agg(total_deaths4=('total_deaths', sum))\n",
    "country5Deaths=covid19DataCountry5.groupby(['YearMonth'], as_index=False).agg(total_deaths5=('total_deaths', sum))\n",
    "\n",
    "deathsByPeriod = pd.concat([country1Deaths['YearMonth'], country1Deaths['total_deaths1'], country2Deaths['total_deaths2'], country3Deaths['total_deaths3']\n",
    "                                                         ,country4Deaths['total_deaths4'], country5Deaths['total_deaths5']\n",
    "                              ], axis=1,join='outer')\n",
    "\n",
    "print(f\"{deathsByPeriod}\")"
   ],
   "metadata": {
    "collapsed": false,
    "pycharm": {
     "name": "#%%\n"
    }
   }
  },
  {
   "cell_type": "code",
   "execution_count": null,
   "outputs": [],
   "source": [
    "def millions(x, pos):\n",
    "    'The two args are the value and tick position'\n",
    "    return '%1.1fM' % (x * 1e-6)"
   ],
   "metadata": {
    "collapsed": false,
    "pycharm": {
     "name": "#%%\n"
    }
   }
  },
  {
   "cell_type": "code",
   "execution_count": null,
   "outputs": [],
   "source": [
    "deathsByPeriod['total_deaths1'] = deathsByPeriod['total_deaths1'].div(1000).round(0)\n",
    "deathsByPeriod['total_deaths2'] = deathsByPeriod['total_deaths2'].div(1000).round(0)\n",
    "deathsByPeriod['total_deaths3'] = deathsByPeriod['total_deaths3'].div(1000).round(0)\n",
    "deathsByPeriod['total_deaths4'] = deathsByPeriod['total_deaths4'].div(1000).round(0)\n",
    "deathsByPeriod['total_deaths5'] = deathsByPeriod['total_deaths5'].div(1000).round(0)"
   ],
   "metadata": {
    "collapsed": false,
    "pycharm": {
     "name": "#%%\n"
    }
   }
  },
  {
   "cell_type": "code",
   "execution_count": null,
   "outputs": [],
   "source": [
    "bars1 = deathsByPeriod['total_deaths1'][:12]\n",
    "bars2 = deathsByPeriod['total_deaths2'][:12]\n",
    "bars3 = deathsByPeriod['total_deaths3'][:12]\n",
    "bars4 = deathsByPeriod['total_deaths4'][:12]\n",
    "bars5 = deathsByPeriod['total_deaths5'][:12]"
   ],
   "metadata": {
    "collapsed": false,
    "pycharm": {
     "name": "#%%\n"
    }
   }
  },
  {
   "cell_type": "code",
   "execution_count": null,
   "outputs": [],
   "source": [
    "names = deathsByPeriod['YearMonth'][:12]\n",
    "#print(f\"{names}\")"
   ],
   "metadata": {
    "collapsed": false,
    "pycharm": {
     "name": "#%%\n"
    }
   }
  },
  {
   "cell_type": "code",
   "execution_count": null,
   "outputs": [],
   "source": [
    "barWidth = 1\n",
    "bars12 = np.add(bars1, bars2).tolist()\n",
    "bars123 = np.add(bars12, bars3).tolist()\n",
    "bars1234 = np.add(bars123, bars4).tolist()\n",
    "p = [0,1,2,3,4,5,6,7,8,9,10,11] # bar position on x-axis\n",
    "plt.subplots(figsize=(12, 12))\n",
    "plt.bar(p, bars1, color='#0000ff', edgecolor='white', width=barWidth)\n",
    "plt.bar(p, bars2, bottom=bars1, color='#557f2d', edgecolor='white', width=barWidth)\n",
    "plt.bar(p, bars3, bottom=bars12, color='#ffff00', edgecolor='white', width=barWidth)\n",
    "plt.bar(p, bars4, bottom=bars123, color='#ff0000', edgecolor='white', width=barWidth)\n",
    "plt.bar(p, bars5, bottom=bars1234, color='#7f6d5f', edgecolor='white', width=barWidth)\n",
    "\n",
    "\n",
    "# Custom X axis\n",
    "plt.xticks(p, names, fontweight='bold')\n",
    "plt.xlabel(\"Time Periods (YYYY-MM)\")\n",
    "\n",
    "plt.show()"
   ],
   "metadata": {
    "collapsed": false,
    "pycharm": {
     "name": "#%%\n"
    }
   }
  }
 ],
 "metadata": {
  "kernelspec": {
   "display_name": "Python 3",
   "language": "python",
   "name": "python3"
  },
  "language_info": {
   "codemirror_mode": {
    "name": "ipython",
    "version": 2
   },
   "file_extension": ".py",
   "mimetype": "text/x-python",
   "name": "python",
   "nbconvert_exporter": "python",
   "pygments_lexer": "ipython2",
   "version": "2.7.6"
  }
 },
 "nbformat": 4,
 "nbformat_minor": 0
}