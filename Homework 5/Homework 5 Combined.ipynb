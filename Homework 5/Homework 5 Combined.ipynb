{
 "cells": [
  {
   "cell_type": "markdown",
   "source": [],
   "metadata": {
    "collapsed": false
   }
  },
  {
   "cell_type": "markdown",
   "source": [
    "#### Notebook Imports"
   ],
   "metadata": {
    "collapsed": false
   }
  },
  {
   "cell_type": "code",
   "execution_count": 1,
   "outputs": [
    {
     "data": {
      "text/html": "        <script type=\"text/javascript\">\n        window.PlotlyConfig = {MathJaxConfig: 'local'};\n        if (window.MathJax) {MathJax.Hub.Config({SVG: {font: \"STIX-Web\"}});}\n        if (typeof require !== 'undefined') {\n        require.undef(\"plotly\");\n        requirejs.config({\n            paths: {\n                'plotly': ['https://cdn.plot.ly/plotly-latest.min']\n            }\n        });\n        require(['plotly'], function(Plotly) {\n            window._Plotly = Plotly;\n        });\n        }\n        </script>\n        "
     },
     "metadata": {},
     "output_type": "display_data"
    }
   ],
   "source": [
    "import datetime as dt\n",
    "import pandas as pd\n",
    "import matplotlib as mpl\n",
    "import matplotlib.pyplot as plt\n",
    "import seaborn as sns\n",
    "import plotly.express as px\n",
    "import matplotlib.dates as mdates\n",
    "from matplotlib.ticker import FuncFormatter\n",
    "from matplotlib.dates import DateFormatter\n",
    "import plotly.graph_objs as go\n",
    "from plotly.offline import init_notebook_mode,iplot,plot\n",
    "init_notebook_mode(connected=True)"
   ],
   "metadata": {
    "collapsed": false,
    "pycharm": {
     "name": "#%%\n"
    }
   }
  },
  {
   "cell_type": "markdown",
   "source": [
    "### Data Scrubbing and Organizing"
   ],
   "metadata": {
    "collapsed": false
   }
  },
  {
   "cell_type": "code",
   "execution_count": 2,
   "outputs": [],
   "source": [
    "#import CSV from project github\n",
    "\n",
    "covid19Dataframe = pd.read_csv(\"https://raw.githubusercontent.com/WhipSnake23/Python-Class-Project/main/Data/owid-covid-data.csv\")\n",
    "\n",
    "#scrub data from rolled up rows for each region globally. NOTE: ~==\"not\"\n",
    "covid19Dataframe = covid19Dataframe[~covid19Dataframe.iso_code.str.contains(\"OWID\")]\n",
    "\n",
    "#Create a date field for Day, Month, Year to help with Data aggregation.\n",
    "covid19Dataframe.insert(59,'Day',pd.to_datetime(covid19Dataframe['date']),True)\n",
    "covid19Dataframe.insert(60,'Month',pd.to_datetime(covid19Dataframe['date']),True)\n",
    "covid19Dataframe.insert(61,'Year',pd.to_datetime(covid19Dataframe['date']),True)\n",
    "covid19Dataframe.insert(62,'Year_Month',pd.to_datetime(covid19Dataframe['date']),True)\n",
    "covid19Dataframe['Day'] = covid19Dataframe['Day'].dt.day\n",
    "covid19Dataframe['Month'] = covid19Dataframe['Month'].dt.month\n",
    "covid19Dataframe['Year'] = covid19Dataframe['Year'].dt.year\n",
    "#create a column that is the first date of every month for every row. Used in group by statements\n",
    "covid19Dataframe['Year_Month'] = pd.to_datetime(covid19Dataframe['Year'].astype(str) + '-' + covid19Dataframe['Month'].astype(str) + '-' +'01')\n",
    "#Convert Date Column to Date and Time - NOTE: This may not be needed\n",
    "covid19Dataframe['date'] = pd.to_datetime(covid19Dataframe['date'])\n",
    "#Set Positivity Rate to an actual percentage\n",
    "covid19Dataframe['positive_rate'] = covid19Dataframe['positive_rate'] * 100"
   ],
   "metadata": {
    "collapsed": false,
    "pycharm": {
     "name": "#%%\n"
    }
   }
  },
  {
   "cell_type": "markdown",
   "source": [
    "## Notebook Functions"
   ],
   "metadata": {
    "collapsed": false,
    "pycharm": {
     "name": "#%% md\n"
    }
   }
  },
  {
   "cell_type": "code",
   "execution_count": 3,
   "outputs": [],
   "source": [
    "def millions(x, pos):\n",
    "    'The two args are the value and tick position'\n",
    "    return '%1.1fM' % (x * 1e-6)"
   ],
   "metadata": {
    "collapsed": false,
    "pycharm": {
     "name": "#%%\n"
    }
   }
  },
  {
   "cell_type": "markdown",
   "source": [
    "### Total Deaths in Mexico"
   ],
   "metadata": {
    "collapsed": false
   }
  },
  {
   "cell_type": "code",
   "execution_count": 4,
   "outputs": [
    {
     "data": {
      "text/plain": "    index Year_Month  total_deaths\n0       0 2020-01-01           0.0\n1       1 2020-02-01           0.0\n2       2 2020-03-01         136.0\n3       3 2020-04-01       19390.0\n4       4 2020-05-01      165485.0\n5       5 2020-06-01      562682.0\n6       6 2020-07-01     1164238.0\n7       7 2020-08-01     1749213.0\n8       8 2020-09-01     2150492.0\n9       9 2020-10-01     2649132.0\n10     10 2020-11-01     2962546.0\n11     11 2020-12-01     3594393.0\n12     12 2021-01-01     4367196.0\n13     13 2021-02-01     3578762.0",
      "text/html": "<div>\n<style scoped>\n    .dataframe tbody tr th:only-of-type {\n        vertical-align: middle;\n    }\n\n    .dataframe tbody tr th {\n        vertical-align: top;\n    }\n\n    .dataframe thead th {\n        text-align: right;\n    }\n</style>\n<table border=\"1\" class=\"dataframe\">\n  <thead>\n    <tr style=\"text-align: right;\">\n      <th></th>\n      <th>index</th>\n      <th>Year_Month</th>\n      <th>total_deaths</th>\n    </tr>\n  </thead>\n  <tbody>\n    <tr>\n      <th>0</th>\n      <td>0</td>\n      <td>2020-01-01</td>\n      <td>0.0</td>\n    </tr>\n    <tr>\n      <th>1</th>\n      <td>1</td>\n      <td>2020-02-01</td>\n      <td>0.0</td>\n    </tr>\n    <tr>\n      <th>2</th>\n      <td>2</td>\n      <td>2020-03-01</td>\n      <td>136.0</td>\n    </tr>\n    <tr>\n      <th>3</th>\n      <td>3</td>\n      <td>2020-04-01</td>\n      <td>19390.0</td>\n    </tr>\n    <tr>\n      <th>4</th>\n      <td>4</td>\n      <td>2020-05-01</td>\n      <td>165485.0</td>\n    </tr>\n    <tr>\n      <th>5</th>\n      <td>5</td>\n      <td>2020-06-01</td>\n      <td>562682.0</td>\n    </tr>\n    <tr>\n      <th>6</th>\n      <td>6</td>\n      <td>2020-07-01</td>\n      <td>1164238.0</td>\n    </tr>\n    <tr>\n      <th>7</th>\n      <td>7</td>\n      <td>2020-08-01</td>\n      <td>1749213.0</td>\n    </tr>\n    <tr>\n      <th>8</th>\n      <td>8</td>\n      <td>2020-09-01</td>\n      <td>2150492.0</td>\n    </tr>\n    <tr>\n      <th>9</th>\n      <td>9</td>\n      <td>2020-10-01</td>\n      <td>2649132.0</td>\n    </tr>\n    <tr>\n      <th>10</th>\n      <td>10</td>\n      <td>2020-11-01</td>\n      <td>2962546.0</td>\n    </tr>\n    <tr>\n      <th>11</th>\n      <td>11</td>\n      <td>2020-12-01</td>\n      <td>3594393.0</td>\n    </tr>\n    <tr>\n      <th>12</th>\n      <td>12</td>\n      <td>2021-01-01</td>\n      <td>4367196.0</td>\n    </tr>\n    <tr>\n      <th>13</th>\n      <td>13</td>\n      <td>2021-02-01</td>\n      <td>3578762.0</td>\n    </tr>\n  </tbody>\n</table>\n</div>"
     },
     "execution_count": 4,
     "metadata": {},
     "output_type": "execute_result"
    }
   ],
   "source": [
    "#This function converts the axis into millions so that the chart scale is better\n",
    "\n",
    "\n",
    "#Create a data frame that only has Mexico data\n",
    "covid19DataframeMexico = covid19Dataframe[covid19Dataframe[\"iso_code\"]==\"MEX\"]\n",
    "#Group the data by month\n",
    "covid19DataframeMexicoGrouped = covid19DataframeMexico.groupby(['Year_Month'], as_index=False)['total_deaths'].sum()\n",
    "#reset the index\n",
    "covid19DataframeMexicoGrouped.reset_index()"
   ],
   "metadata": {
    "collapsed": false,
    "pycharm": {
     "name": "#%%\n"
    }
   }
  },
  {
   "cell_type": "code",
   "execution_count": 5,
   "outputs": [
    {
     "data": {
      "text/plain": "<Figure size 864x864 with 1 Axes>",
      "image/png": "[encoded data removed]"
     },
     "metadata": {
      "needs_background": "light"
     },
     "output_type": "display_data"
    }
   ],
   "source": [
    "#Source: https://www.earthdatascience.org/courses/use-data-open-source-python/use-time-series-data-in-python/date-time-types-in-pandas-python/customize-dates-matplotlib-plots-python/\n",
    "\n",
    "# Create figure and plot space\n",
    "fig, ax = plt.subplots(figsize=(12, 12))\n",
    "\n",
    "# Add x-axis and y-axis from the data frame\n",
    "ax.bar(covid19DataframeMexicoGrouped['Year_Month'],\n",
    "       covid19DataframeMexicoGrouped['total_deaths'],\n",
    "       color='red')\n",
    "\n",
    "# Set title and labels for axis\n",
    "ax.set(xlabel=\"Date\",\n",
    "       ylabel=\"Total Deaths\",\n",
    "       title=\"Mexico Total Deaths by Month\")\n",
    "\n",
    "# Define the date format\n",
    "date_form = DateFormatter(\"%m-%y\")\n",
    "ax.xaxis.set_major_formatter(date_form)\n",
    "ax.xaxis.set_major_locator(mdates.MonthLocator())\n",
    "\n",
    "#Format the y axis ticks\n",
    "formatter = FuncFormatter(millions)\n",
    "ax.yaxis.set_major_formatter(formatter)\n",
    "\n",
    "ax.grid(False)\n",
    "\n",
    "#Render the chart\n",
    "plt.show()"
   ],
   "metadata": {
    "collapsed": false,
    "pycharm": {
     "name": "#%%\n"
    }
   }
  },
  {
   "cell_type": "markdown",
   "source": [
    "### Total Deaths vs the Top 20 countries with the highest Median Age"
   ],
   "metadata": {
    "collapsed": false
   }
  },
  {
   "cell_type": "code",
   "execution_count": 6,
   "outputs": [],
   "source": [
    "##This code block will filter the data and get the top n of a column\n",
    "countries = covid19Dataframe[['iso_code','median_age']]\n",
    "countries = countries.drop_duplicates()\n",
    "top20Countries_MedianAge = countries.nlargest(20,'median_age')\n",
    "top20Countries_list = top20Countries_MedianAge['iso_code'].values.tolist()\n",
    "booleanSeries = covid19Dataframe.iso_code.isin(top20Countries_list)\n",
    "top20Countries_MedianAge = covid19Dataframe[booleanSeries]\n",
    "\n",
    "\n",
    "top20Countries_MedianAge = top20Countries_MedianAge[['location','date','total_deaths','median_age']]\n",
    "#This gets one row per location to get the most recent row which has Total Deaths\n",
    "##Needs work for Null Values\n",
    "top20Countries_MedianAge = top20Countries_MedianAge[top20Countries_MedianAge.groupby('location').date.transform('max') == top20Countries_MedianAge['date']]"
   ],
   "metadata": {
    "collapsed": false,
    "pycharm": {
     "name": "#%%\n"
    }
   }
  },
  {
   "cell_type": "code",
   "execution_count": 7,
   "outputs": [
    {
     "data": {
      "text/plain": "Text(0.5, 1.0, 'Total Deaths vs Top 20 Countries with the Highest Median Age')"
     },
     "execution_count": 7,
     "metadata": {},
     "output_type": "execute_result"
    },
    {
     "data": {
      "text/plain": "<Figure size 467.225x360 with 1 Axes>",
      "image/png": "[encoded data removed]"
     },
     "metadata": {},
     "output_type": "display_data"
    }
   ],
   "source": [
    "sns.set_theme()\n",
    "\n",
    "# Create a visualization\n",
    "sns.relplot(\n",
    "    data=top20Countries_MedianAge,\n",
    "    x=\"total_deaths\", y=\"median_age\",\n",
    "    hue=\"location\", style=\"location\",\n",
    ")\n",
    "#plt.figure(figsize=(10,6))\n",
    "plt.xlabel(\"Total Deaths\")\n",
    "plt.ylabel(\"Median Age\")\n",
    "plt.title(\"Total Deaths vs Top 20 Countries with the Highest Median Age\", size=18)"
   ],
   "metadata": {
    "collapsed": false,
    "pycharm": {
     "name": "#%%\n"
    }
   }
  },
  {
   "cell_type": "markdown",
   "source": [
    "### Total Deaths vs the Top 20 countries with the highest population density"
   ],
   "metadata": {
    "collapsed": false
   }
  },
  {
   "cell_type": "code",
   "execution_count": 8,
   "outputs": [],
   "source": [
    "countries = covid19Dataframe[['iso_code','population_density']]\n",
    "countries = countries.drop_duplicates()\n",
    "top20Countries_PopD = countries.nlargest(20,'population_density')\n",
    "top20Countries_list = top20Countries_PopD['iso_code'].values.tolist()\n",
    "booleanSeries = covid19Dataframe.iso_code.isin(top20Countries_list)\n",
    "top20Countries_PopD = covid19Dataframe[booleanSeries]\n",
    "top20Countries_PopD = top20Countries_PopD[['location','date','total_deaths','population_density']]\n",
    "top20Countries_PopD = top20Countries_PopD[top20Countries_PopD.groupby('location').date.transform('max') == top20Countries_PopD['date']]\n"
   ],
   "metadata": {
    "collapsed": false,
    "pycharm": {
     "name": "#%%\n"
    }
   }
  },
  {
   "cell_type": "code",
   "execution_count": 9,
   "outputs": [
    {
     "data": {
      "application/vnd.plotly.v1+json": {
       "config": {
        "plotlyServerURL": "https://plot.ly"
       },
       "data": [
        {
         "hovertemplate": "Country=Bahrain<br>Total Deaths=%{x}<br>Population Density=%{y}<extra></extra>",
         "legendgroup": "Bahrain",
         "marker": {
          "color": "#636efa",
          "symbol": "circle"
         },
         "mode": "markers",
         "name": "Bahrain",
         "orientation": "v",
         "showlegend": true,
         "type": "scatter",
         "x": [
          423.0
         ],
         "xaxis": "x",
         "y": [
          1935.907
         ],
         "yaxis": "y"
        },
        {
         "hovertemplate": "Country=Bangladesh<br>Total Deaths=%{x}<br>Population Density=%{y}<extra></extra>",
         "legendgroup": "Bangladesh",
         "marker": {
          "color": "#EF553B",
          "symbol": "circle"
         },
         "mode": "markers",
         "name": "Bangladesh",
         "orientation": "v",
         "showlegend": true,
         "type": "scatter",
         "x": [
          8349.0
         ],
         "xaxis": "x",
         "y": [
          1265.036
         ],
         "yaxis": "y"
        },
        {
         "hovertemplate": "Country=Barbados<br>Total Deaths=%{x}<br>Population Density=%{y}<extra></extra>",
         "legendgroup": "Barbados",
         "marker": {
          "color": "#00cc96",
          "symbol": "circle"
         },
         "mode": "markers",
         "name": "Barbados",
         "orientation": "v",
         "showlegend": true,
         "type": "scatter",
         "x": [
          31.0
         ],
         "xaxis": "x",
         "y": [
          664.463
         ],
         "yaxis": "y"
        },
        {
         "hovertemplate": "Country=Bermuda<br>Total Deaths=%{x}<br>Population Density=%{y}<extra></extra>",
         "legendgroup": "Bermuda",
         "marker": {
          "color": "#ab63fa",
          "symbol": "circle"
         },
         "mode": "markers",
         "name": "Bermuda",
         "orientation": "v",
         "showlegend": true,
         "type": "scatter",
         "x": [
          null
         ],
         "xaxis": "x",
         "y": [
          1308.82
         ],
         "yaxis": "y"
        },
        {
         "hovertemplate": "Country=Comoros<br>Total Deaths=%{x}<br>Population Density=%{y}<extra></extra>",
         "legendgroup": "Comoros",
         "marker": {
          "color": "#FFA15A",
          "symbol": "circle"
         },
         "mode": "markers",
         "name": "Comoros",
         "orientation": "v",
         "showlegend": true,
         "type": "scatter",
         "x": [
          143.0
         ],
         "xaxis": "x",
         "y": [
          437.352
         ],
         "yaxis": "y"
        },
        {
         "hovertemplate": "Country=Gibraltar<br>Total Deaths=%{x}<br>Population Density=%{y}<extra></extra>",
         "legendgroup": "Gibraltar",
         "marker": {
          "color": "#19d3f3",
          "symbol": "circle"
         },
         "mode": "markers",
         "name": "Gibraltar",
         "orientation": "v",
         "showlegend": true,
         "type": "scatter",
         "x": [
          null
         ],
         "xaxis": "x",
         "y": [
          3457.1
         ],
         "yaxis": "y"
        },
        {
         "hovertemplate": "Country=Hong Kong<br>Total Deaths=%{x}<br>Population Density=%{y}<extra></extra>",
         "legendgroup": "Hong Kong",
         "marker": {
          "color": "#FF6692",
          "symbol": "circle"
         },
         "mode": "markers",
         "name": "Hong Kong",
         "orientation": "v",
         "showlegend": true,
         "type": "scatter",
         "x": [
          null
         ],
         "xaxis": "x",
         "y": [
          7039.714
         ],
         "yaxis": "y"
        },
        {
         "hovertemplate": "Country=India<br>Total Deaths=%{x}<br>Population Density=%{y}<extra></extra>",
         "legendgroup": "India",
         "marker": {
          "color": "#B6E880",
          "symbol": "circle"
         },
         "mode": "markers",
         "name": "India",
         "orientation": "v",
         "showlegend": true,
         "type": "scatter",
         "x": [
          156385.0
         ],
         "xaxis": "x",
         "y": [
          450.419
         ],
         "yaxis": "y"
        },
        {
         "hovertemplate": "Country=Lebanon<br>Total Deaths=%{x}<br>Population Density=%{y}<extra></extra>",
         "legendgroup": "Lebanon",
         "marker": {
          "color": "#FF97FF",
          "symbol": "circle"
         },
         "mode": "markers",
         "name": "Lebanon",
         "orientation": "v",
         "showlegend": true,
         "type": "scatter",
         "x": [
          4340.0
         ],
         "xaxis": "x",
         "y": [
          594.561
         ],
         "yaxis": "y"
        },
        {
         "hovertemplate": "Country=Macao<br>Total Deaths=%{x}<br>Population Density=%{y}<extra></extra>",
         "legendgroup": "Macao",
         "marker": {
          "color": "#FECB52",
          "symbol": "circle"
         },
         "mode": "markers",
         "name": "Macao",
         "orientation": "v",
         "showlegend": true,
         "type": "scatter",
         "x": [
          null
         ],
         "xaxis": "x",
         "y": [
          20546.766
         ],
         "yaxis": "y"
        },
        {
         "hovertemplate": "Country=Maldives<br>Total Deaths=%{x}<br>Population Density=%{y}<extra></extra>",
         "legendgroup": "Maldives",
         "marker": {
          "color": "#636efa",
          "symbol": "circle"
         },
         "mode": "markers",
         "name": "Maldives",
         "orientation": "v",
         "showlegend": true,
         "type": "scatter",
         "x": [
          60.0
         ],
         "xaxis": "x",
         "y": [
          1454.433
         ],
         "yaxis": "y"
        },
        {
         "hovertemplate": "Country=Malta<br>Total Deaths=%{x}<br>Population Density=%{y}<extra></extra>",
         "legendgroup": "Malta",
         "marker": {
          "color": "#EF553B",
          "symbol": "circle"
         },
         "mode": "markers",
         "name": "Malta",
         "orientation": "v",
         "showlegend": true,
         "type": "scatter",
         "x": [
          304.0
         ],
         "xaxis": "x",
         "y": [
          1454.037
         ],
         "yaxis": "y"
        },
        {
         "hovertemplate": "Country=Mauritius<br>Total Deaths=%{x}<br>Population Density=%{y}<extra></extra>",
         "legendgroup": "Mauritius",
         "marker": {
          "color": "#00cc96",
          "symbol": "circle"
         },
         "mode": "markers",
         "name": "Mauritius",
         "orientation": "v",
         "showlegend": true,
         "type": "scatter",
         "x": [
          10.0
         ],
         "xaxis": "x",
         "y": [
          622.962
         ],
         "yaxis": "y"
        },
        {
         "hovertemplate": "Country=Monaco<br>Total Deaths=%{x}<br>Population Density=%{y}<extra></extra>",
         "legendgroup": "Monaco",
         "marker": {
          "color": "#ab63fa",
          "symbol": "circle"
         },
         "mode": "markers",
         "name": "Monaco",
         "orientation": "v",
         "showlegend": true,
         "type": "scatter",
         "x": [
          22.0
         ],
         "xaxis": "x",
         "y": [
          19347.5
         ],
         "yaxis": "y"
        },
        {
         "hovertemplate": "Country=Netherlands<br>Total Deaths=%{x}<br>Population Density=%{y}<extra></extra>",
         "legendgroup": "Netherlands",
         "marker": {
          "color": "#FFA15A",
          "symbol": "circle"
         },
         "mode": "markers",
         "name": "Netherlands",
         "orientation": "v",
         "showlegend": true,
         "type": "scatter",
         "x": [
          15340.0
         ],
         "xaxis": "x",
         "y": [
          508.544
         ],
         "yaxis": "y"
        },
        {
         "hovertemplate": "Country=Palestine<br>Total Deaths=%{x}<br>Population Density=%{y}<extra></extra>",
         "legendgroup": "Palestine",
         "marker": {
          "color": "#19d3f3",
          "symbol": "circle"
         },
         "mode": "markers",
         "name": "Palestine",
         "orientation": "v",
         "showlegend": true,
         "type": "scatter",
         "x": [
          1976.0
         ],
         "xaxis": "x",
         "y": [
          778.202
         ],
         "yaxis": "y"
        },
        {
         "hovertemplate": "Country=Rwanda<br>Total Deaths=%{x}<br>Population Density=%{y}<extra></extra>",
         "legendgroup": "Rwanda",
         "marker": {
          "color": "#FF6692",
          "symbol": "circle"
         },
         "mode": "markers",
         "name": "Rwanda",
         "orientation": "v",
         "showlegend": true,
         "type": "scatter",
         "x": [
          249.0
         ],
         "xaxis": "x",
         "y": [
          494.869
         ],
         "yaxis": "y"
        },
        {
         "hovertemplate": "Country=San Marino<br>Total Deaths=%{x}<br>Population Density=%{y}<extra></extra>",
         "legendgroup": "San Marino",
         "marker": {
          "color": "#B6E880",
          "symbol": "circle"
         },
         "mode": "markers",
         "name": "San Marino",
         "orientation": "v",
         "showlegend": true,
         "type": "scatter",
         "x": [
          72.0
         ],
         "xaxis": "x",
         "y": [
          556.667
         ],
         "yaxis": "y"
        },
        {
         "hovertemplate": "Country=Singapore<br>Total Deaths=%{x}<br>Population Density=%{y}<extra></extra>",
         "legendgroup": "Singapore",
         "marker": {
          "color": "#FF97FF",
          "symbol": "circle"
         },
         "mode": "markers",
         "name": "Singapore",
         "orientation": "v",
         "showlegend": true,
         "type": "scatter",
         "x": [
          29.0
         ],
         "xaxis": "x",
         "y": [
          7915.731
         ],
         "yaxis": "y"
        },
        {
         "hovertemplate": "Country=South Korea<br>Total Deaths=%{x}<br>Population Density=%{y}<extra></extra>",
         "legendgroup": "South Korea",
         "marker": {
          "color": "#FECB52",
          "symbol": "circle"
         },
         "mode": "markers",
         "name": "South Korea",
         "orientation": "v",
         "showlegend": true,
         "type": "scatter",
         "x": [
          1562.0
         ],
         "xaxis": "x",
         "y": [
          527.967
         ],
         "yaxis": "y"
        }
       ],
       "layout": {
        "legend": {
         "title": {
          "text": "Country"
         },
         "tracegroupgap": 0
        },
        "template": {
         "data": {
          "bar": [
           {
            "error_x": {
             "color": "#2a3f5f"
            },
            "error_y": {
             "color": "#2a3f5f"
            },
            "marker": {
             "line": {
              "color": "#E5ECF6",
              "width": 0.5
             }
            },
            "type": "bar"
           }
          ],
          "barpolar": [
           {
            "marker": {
             "line": {
              "color": "#E5ECF6",
              "width": 0.5
             }
            },
            "type": "barpolar"
           }
          ],
          "carpet": [
           {
            "aaxis": {
             "endlinecolor": "#2a3f5f",
             "gridcolor": "white",
             "linecolor": "white",
             "minorgridcolor": "white",
             "startlinecolor": "#2a3f5f"
            },
            "baxis": {
             "endlinecolor": "#2a3f5f",
             "gridcolor": "white",
             "linecolor": "white",
             "minorgridcolor": "white",
             "startlinecolor": "#2a3f5f"
            },
            "type": "carpet"
           }
          ],
          "choropleth": [
           {
            "colorbar": {
             "outlinewidth": 0,
             "ticks": ""
            },
            "type": "choropleth"
           }
          ],
          "contour": [
           {
            "colorbar": {
             "outlinewidth": 0,
             "ticks": ""
            },
            "colorscale": [
             [
              0.0,
              "#0d0887"
             ],
             [
              0.1111111111111111,
              "#46039f"
             ],
             [
              0.2222222222222222,
              "#7201a8"
             ],
             [
              0.3333333333333333,
              "#9c179e"
             ],
             [
              0.4444444444444444,
              "#bd3786"
             ],
             [
              0.5555555555555556,
              "#d8576b"
             ],
             [
              0.6666666666666666,
              "#ed7953"
             ],
             [
              0.7777777777777778,
              "#fb9f3a"
             ],
             [
              0.8888888888888888,
              "#fdca26"
             ],
             [
              1.0,
              "#f0f921"
             ]
            ],
            "type": "contour"
           }
          ],
          "contourcarpet": [
           {
            "colorbar": {
             "outlinewidth": 0,
             "ticks": ""
            },
            "type": "contourcarpet"
           }
          ],
          "heatmap": [
           {
            "colorbar": {
             "outlinewidth": 0,
             "ticks": ""
            },
            "colorscale": [
             [
              0.0,
              "#0d0887"
             ],
             [
              0.1111111111111111,
              "#46039f"
             ],
             [
              0.2222222222222222,
              "#7201a8"
             ],
             [
              0.3333333333333333,
              "#9c179e"
             ],
             [
              0.4444444444444444,
              "#bd3786"
             ],
             [
              0.5555555555555556,
              "#d8576b"
             ],
             [
              0.6666666666666666,
              "#ed7953"
             ],
             [
              0.7777777777777778,
              "#fb9f3a"
             ],
             [
              0.8888888888888888,
              "#fdca26"
             ],
             [
              1.0,
              "#f0f921"
             ]
            ],
            "type": "heatmap"
           }
          ],
          "heatmapgl": [
           {
            "colorbar": {
             "outlinewidth": 0,
             "ticks": ""
            },
            "colorscale": [
             [
              0.0,
              "#0d0887"
             ],
             [
              0.1111111111111111,
              "#46039f"
             ],
             [
              0.2222222222222222,
              "#7201a8"
             ],
             [
              0.3333333333333333,
              "#9c179e"
             ],
             [
              0.4444444444444444,
              "#bd3786"
             ],
             [
              0.5555555555555556,
              "#d8576b"
             ],
             [
              0.6666666666666666,
              "#ed7953"
             ],
             [
              0.7777777777777778,
              "#fb9f3a"
             ],
             [
              0.8888888888888888,
              "#fdca26"
             ],
             [
              1.0,
              "#f0f921"
             ]
            ],
            "type": "heatmapgl"
           }
          ],
          "histogram": [
           {
            "marker": {
             "colorbar": {
              "outlinewidth": 0,
              "ticks": ""
             }
            },
            "type": "histogram"
           }
          ],
          "histogram2d": [
           {
            "colorbar": {
             "outlinewidth": 0,
             "ticks": ""
            },
            "colorscale": [
             [
              0.0,
              "#0d0887"
             ],
             [
              0.1111111111111111,
              "#46039f"
             ],
             [
              0.2222222222222222,
              "#7201a8"
             ],
             [
              0.3333333333333333,
              "#9c179e"
             ],
             [
              0.4444444444444444,
              "#bd3786"
             ],
             [
              0.5555555555555556,
              "#d8576b"
             ],
             [
              0.6666666666666666,
              "#ed7953"
             ],
             [
              0.7777777777777778,
              "#fb9f3a"
             ],
             [
              0.8888888888888888,
              "#fdca26"
             ],
             [
              1.0,
              "#f0f921"
             ]
            ],
            "type": "histogram2d"
           }
          ],
          "histogram2dcontour": [
           {
            "colorbar": {
             "outlinewidth": 0,
             "ticks": ""
            },
            "colorscale": [
             [
              0.0,
              "#0d0887"
             ],
             [
              0.1111111111111111,
              "#46039f"
             ],
             [
              0.2222222222222222,
              "#7201a8"
             ],
             [
              0.3333333333333333,
              "#9c179e"
             ],
             [
              0.4444444444444444,
              "#bd3786"
             ],
             [
              0.5555555555555556,
              "#d8576b"
             ],
             [
              0.6666666666666666,
              "#ed7953"
             ],
             [
              0.7777777777777778,
              "#fb9f3a"
             ],
             [
              0.8888888888888888,
              "#fdca26"
             ],
             [
              1.0,
              "#f0f921"
             ]
            ],
            "type": "histogram2dcontour"
           }
          ],
          "mesh3d": [
           {
            "colorbar": {
             "outlinewidth": 0,
             "ticks": ""
            },
            "type": "mesh3d"
           }
          ],
          "parcoords": [
           {
            "line": {
             "colorbar": {
              "outlinewidth": 0,
              "ticks": ""
             }
            },
            "type": "parcoords"
           }
          ],
          "pie": [
           {
            "automargin": true,
            "type": "pie"
           }
          ],
          "scatter": [
           {
            "marker": {
             "colorbar": {
              "outlinewidth": 0,
              "ticks": ""
             }
            },
            "type": "scatter"
           }
          ],
          "scatter3d": [
           {
            "line": {
             "colorbar": {
              "outlinewidth": 0,
              "ticks": ""
             }
            },
            "marker": {
             "colorbar": {
              "outlinewidth": 0,
              "ticks": ""
             }
            },
            "type": "scatter3d"
           }
          ],
          "scattercarpet": [
           {
            "marker": {
             "colorbar": {
              "outlinewidth": 0,
              "ticks": ""
             }
            },
            "type": "scattercarpet"
           }
          ],
          "scattergeo": [
           {
            "marker": {
             "colorbar": {
              "outlinewidth": 0,
              "ticks": ""
             }
            },
            "type": "scattergeo"
           }
          ],
          "scattergl": [
           {
            "marker": {
             "colorbar": {
              "outlinewidth": 0,
              "ticks": ""
             }
            },
            "type": "scattergl"
           }
          ],
          "scattermapbox": [
           {
            "marker": {
             "colorbar": {
              "outlinewidth": 0,
              "ticks": ""
             }
            },
            "type": "scattermapbox"
           }
          ],
          "scatterpolar": [
           {
            "marker": {
             "colorbar": {
              "outlinewidth": 0,
              "ticks": ""
             }
            },
            "type": "scatterpolar"
           }
          ],
          "scatterpolargl": [
           {
            "marker": {
             "colorbar": {
              "outlinewidth": 0,
              "ticks": ""
             }
            },
            "type": "scatterpolargl"
           }
          ],
          "scatterternary": [
           {
            "marker": {
             "colorbar": {
              "outlinewidth": 0,
              "ticks": ""
             }
            },
            "type": "scatterternary"
           }
          ],
          "surface": [
           {
            "colorbar": {
             "outlinewidth": 0,
             "ticks": ""
            },
            "colorscale": [
             [
              0.0,
              "#0d0887"
             ],
             [
              0.1111111111111111,
              "#46039f"
             ],
             [
              0.2222222222222222,
              "#7201a8"
             ],
             [
              0.3333333333333333,
              "#9c179e"
             ],
             [
              0.4444444444444444,
              "#bd3786"
             ],
             [
              0.5555555555555556,
              "#d8576b"
             ],
             [
              0.6666666666666666,
              "#ed7953"
             ],
             [
              0.7777777777777778,
              "#fb9f3a"
             ],
             [
              0.8888888888888888,
              "#fdca26"
             ],
             [
              1.0,
              "#f0f921"
             ]
            ],
            "type": "surface"
           }
          ],
          "table": [
           {
            "cells": {
             "fill": {
              "color": "#EBF0F8"
             },
             "line": {
              "color": "white"
             }
            },
            "header": {
             "fill": {
              "color": "#C8D4E3"
             },
             "line": {
              "color": "white"
             }
            },
            "type": "table"
           }
          ]
         },
         "layout": {
          "annotationdefaults": {
           "arrowcolor": "#2a3f5f",
           "arrowhead": 0,
           "arrowwidth": 1
          },
          "autotypenumbers": "strict",
          "coloraxis": {
           "colorbar": {
            "outlinewidth": 0,
            "ticks": ""
           }
          },
          "colorscale": {
           "diverging": [
            [
             0,
             "#8e0152"
            ],
            [
             0.1,
             "#c51b7d"
            ],
            [
             0.2,
             "#de77ae"
            ],
            [
             0.3,
             "#f1b6da"
            ],
            [
             0.4,
             "#fde0ef"
            ],
            [
             0.5,
             "#f7f7f7"
            ],
            [
             0.6,
             "#e6f5d0"
            ],
            [
             0.7,
             "#b8e186"
            ],
            [
             0.8,
             "#7fbc41"
            ],
            [
             0.9,
             "#4d9221"
            ],
            [
             1,
             "#276419"
            ]
           ],
           "sequential": [
            [
             0.0,
             "#0d0887"
            ],
            [
             0.1111111111111111,
             "#46039f"
            ],
            [
             0.2222222222222222,
             "#7201a8"
            ],
            [
             0.3333333333333333,
             "#9c179e"
            ],
            [
             0.4444444444444444,
             "#bd3786"
            ],
            [
             0.5555555555555556,
             "#d8576b"
            ],
            [
             0.6666666666666666,
             "#ed7953"
            ],
            [
             0.7777777777777778,
             "#fb9f3a"
            ],
            [
             0.8888888888888888,
             "#fdca26"
            ],
            [
             1.0,
             "#f0f921"
            ]
           ],
           "sequentialminus": [
            [
             0.0,
             "#0d0887"
            ],
            [
             0.1111111111111111,
             "#46039f"
            ],
            [
             0.2222222222222222,
             "#7201a8"
            ],
            [
             0.3333333333333333,
             "#9c179e"
            ],
            [
             0.4444444444444444,
             "#bd3786"
            ],
            [
             0.5555555555555556,
             "#d8576b"
            ],
            [
             0.6666666666666666,
             "#ed7953"
            ],
            [
             0.7777777777777778,
             "#fb9f3a"
            ],
            [
             0.8888888888888888,
             "#fdca26"
            ],
            [
             1.0,
             "#f0f921"
            ]
           ]
          },
          "colorway": [
           "#636efa",
           "#EF553B",
           "#00cc96",
           "#ab63fa",
           "#FFA15A",
           "#19d3f3",
           "#FF6692",
           "#B6E880",
           "#FF97FF",
           "#FECB52"
          ],
          "font": {
           "color": "#2a3f5f"
          },
          "geo": {
           "bgcolor": "white",
           "lakecolor": "white",
           "landcolor": "#E5ECF6",
           "showlakes": true,
           "showland": true,
           "subunitcolor": "white"
          },
          "hoverlabel": {
           "align": "left"
          },
          "hovermode": "closest",
          "mapbox": {
           "style": "light"
          },
          "paper_bgcolor": "white",
          "plot_bgcolor": "#E5ECF6",
          "polar": {
           "angularaxis": {
            "gridcolor": "white",
            "linecolor": "white",
            "ticks": ""
           },
           "bgcolor": "#E5ECF6",
           "radialaxis": {
            "gridcolor": "white",
            "linecolor": "white",
            "ticks": ""
           }
          },
          "scene": {
           "xaxis": {
            "backgroundcolor": "#E5ECF6",
            "gridcolor": "white",
            "gridwidth": 2,
            "linecolor": "white",
            "showbackground": true,
            "ticks": "",
            "zerolinecolor": "white"
           },
           "yaxis": {
            "backgroundcolor": "#E5ECF6",
            "gridcolor": "white",
            "gridwidth": 2,
            "linecolor": "white",
            "showbackground": true,
            "ticks": "",
            "zerolinecolor": "white"
           },
           "zaxis": {
            "backgroundcolor": "#E5ECF6",
            "gridcolor": "white",
            "gridwidth": 2,
            "linecolor": "white",
            "showbackground": true,
            "ticks": "",
            "zerolinecolor": "white"
           }
          },
          "shapedefaults": {
           "line": {
            "color": "#2a3f5f"
           }
          },
          "ternary": {
           "aaxis": {
            "gridcolor": "white",
            "linecolor": "white",
            "ticks": ""
           },
           "baxis": {
            "gridcolor": "white",
            "linecolor": "white",
            "ticks": ""
           },
           "bgcolor": "#E5ECF6",
           "caxis": {
            "gridcolor": "white",
            "linecolor": "white",
            "ticks": ""
           }
          },
          "title": {
           "x": 0.05
          },
          "xaxis": {
           "automargin": true,
           "gridcolor": "white",
           "linecolor": "white",
           "ticks": "",
           "title": {
            "standoff": 15
           },
           "zerolinecolor": "white",
           "zerolinewidth": 2
          },
          "yaxis": {
           "automargin": true,
           "gridcolor": "white",
           "linecolor": "white",
           "ticks": "",
           "title": {
            "standoff": 15
           },
           "zerolinecolor": "white",
           "zerolinewidth": 2
          }
         }
        },
        "title": {
         "text": "Total Deaths vs Top 20 Countries with the Highest Population Density"
        },
        "xaxis": {
         "anchor": "y",
         "domain": [
          0.0,
          1.0
         ],
         "title": {
          "text": "Total Deaths"
         }
        },
        "yaxis": {
         "anchor": "x",
         "domain": [
          0.0,
          1.0
         ],
         "title": {
          "text": "Population Density"
         }
        }
       }
      },
      "text/html": "<div>                            <div id=\"0fe52200-8004-4f2c-85f3-583c9b8ebe1d\" class=\"plotly-graph-div\" style=\"height:525px; width:100%;\"></div>            <script type=\"text/javascript\">                require([\"plotly\"], function(Plotly) {                    window.PLOTLYENV=window.PLOTLYENV || {};                                    if (document.getElementById(\"0fe52200-8004-4f2c-85f3-583c9b8ebe1d\")) {                    Plotly.newPlot(                        \"0fe52200-8004-4f2c-85f3-583c9b8ebe1d\",                        [{\"hovertemplate\": \"Country=Bahrain<br>Total Deaths=%{x}<br>Population Density=%{y}<extra></extra>\", \"legendgroup\": \"Bahrain\", \"marker\": {\"color\": \"#636efa\", \"symbol\": \"circle\"}, \"mode\": \"markers\", \"name\": \"Bahrain\", \"orientation\": \"v\", \"showlegend\": true, \"type\": \"scatter\", \"x\": [423.0], \"xaxis\": \"x\", \"y\": [1935.907], \"yaxis\": \"y\"}, {\"hovertemplate\": \"Country=Bangladesh<br>Total Deaths=%{x}<br>Population Density=%{y}<extra></extra>\", \"legendgroup\": \"Bangladesh\", \"marker\": {\"color\": \"#EF553B\", \"symbol\": \"circle\"}, \"mode\": \"markers\", \"name\": \"Bangladesh\", \"orientation\": \"v\", \"showlegend\": true, \"type\": \"scatter\", \"x\": [8349.0], \"xaxis\": \"x\", \"y\": [1265.036], \"yaxis\": \"y\"}, {\"hovertemplate\": \"Country=Barbados<br>Total Deaths=%{x}<br>Population Density=%{y}<extra></extra>\", \"legendgroup\": \"Barbados\", \"marker\": {\"color\": \"#00cc96\", \"symbol\": \"circle\"}, \"mode\": \"markers\", \"name\": \"Barbados\", \"orientation\": \"v\", \"showlegend\": true, \"type\": \"scatter\", \"x\": [31.0], \"xaxis\": \"x\", \"y\": [664.463], \"yaxis\": \"y\"}, {\"hovertemplate\": \"Country=Bermuda<br>Total Deaths=%{x}<br>Population Density=%{y}<extra></extra>\", \"legendgroup\": \"Bermuda\", \"marker\": {\"color\": \"#ab63fa\", \"symbol\": \"circle\"}, \"mode\": \"markers\", \"name\": \"Bermuda\", \"orientation\": \"v\", \"showlegend\": true, \"type\": \"scatter\", \"x\": [null], \"xaxis\": \"x\", \"y\": [1308.82], \"yaxis\": \"y\"}, {\"hovertemplate\": \"Country=Comoros<br>Total Deaths=%{x}<br>Population Density=%{y}<extra></extra>\", \"legendgroup\": \"Comoros\", \"marker\": {\"color\": \"#FFA15A\", \"symbol\": \"circle\"}, \"mode\": \"markers\", \"name\": \"Comoros\", \"orientation\": \"v\", \"showlegend\": true, \"type\": \"scatter\", \"x\": [143.0], \"xaxis\": \"x\", \"y\": [437.352], \"yaxis\": \"y\"}, {\"hovertemplate\": \"Country=Gibraltar<br>Total Deaths=%{x}<br>Population Density=%{y}<extra></extra>\", \"legendgroup\": \"Gibraltar\", \"marker\": {\"color\": \"#19d3f3\", \"symbol\": \"circle\"}, \"mode\": \"markers\", \"name\": \"Gibraltar\", \"orientation\": \"v\", \"showlegend\": true, \"type\": \"scatter\", \"x\": [null], \"xaxis\": \"x\", \"y\": [3457.1], \"yaxis\": \"y\"}, {\"hovertemplate\": \"Country=Hong Kong<br>Total Deaths=%{x}<br>Population Density=%{y}<extra></extra>\", \"legendgroup\": \"Hong Kong\", \"marker\": {\"color\": \"#FF6692\", \"symbol\": \"circle\"}, \"mode\": \"markers\", \"name\": \"Hong Kong\", \"orientation\": \"v\", \"showlegend\": true, \"type\": \"scatter\", \"x\": [null], \"xaxis\": \"x\", \"y\": [7039.714], \"yaxis\": \"y\"}, {\"hovertemplate\": \"Country=India<br>Total Deaths=%{x}<br>Population Density=%{y}<extra></extra>\", \"legendgroup\": \"India\", \"marker\": {\"color\": \"#B6E880\", \"symbol\": \"circle\"}, \"mode\": \"markers\", \"name\": \"India\", \"orientation\": \"v\", \"showlegend\": true, \"type\": \"scatter\", \"x\": [156385.0], \"xaxis\": \"x\", \"y\": [450.419], \"yaxis\": \"y\"}, {\"hovertemplate\": \"Country=Lebanon<br>Total Deaths=%{x}<br>Population Density=%{y}<extra></extra>\", \"legendgroup\": \"Lebanon\", \"marker\": {\"color\": \"#FF97FF\", \"symbol\": \"circle\"}, \"mode\": \"markers\", \"name\": \"Lebanon\", \"orientation\": \"v\", \"showlegend\": true, \"type\": \"scatter\", \"x\": [4340.0], \"xaxis\": \"x\", \"y\": [594.561], \"yaxis\": \"y\"}, {\"hovertemplate\": \"Country=Macao<br>Total Deaths=%{x}<br>Population Density=%{y}<extra></extra>\", \"legendgroup\": \"Macao\", \"marker\": {\"color\": \"#FECB52\", \"symbol\": \"circle\"}, \"mode\": \"markers\", \"name\": \"Macao\", \"orientation\": \"v\", \"showlegend\": true, \"type\": \"scatter\", \"x\": [null], \"xaxis\": \"x\", \"y\": [20546.766], \"yaxis\": \"y\"}, {\"hovertemplate\": \"Country=Maldives<br>Total Deaths=%{x}<br>Population Density=%{y}<extra></extra>\", \"legendgroup\": \"Maldives\", \"marker\": {\"color\": \"#636efa\", \"symbol\": \"circle\"}, \"mode\": \"markers\", \"name\": \"Maldives\", \"orientation\": \"v\", \"showlegend\": true, \"type\": \"scatter\", \"x\": [60.0], \"xaxis\": \"x\", \"y\": [1454.433], \"yaxis\": \"y\"}, {\"hovertemplate\": \"Country=Malta<br>Total Deaths=%{x}<br>Population Density=%{y}<extra></extra>\", \"legendgroup\": \"Malta\", \"marker\": {\"color\": \"#EF553B\", \"symbol\": \"circle\"}, \"mode\": \"markers\", \"name\": \"Malta\", \"orientation\": \"v\", \"showlegend\": true, \"type\": \"scatter\", \"x\": [304.0], \"xaxis\": \"x\", \"y\": [1454.037], \"yaxis\": \"y\"}, {\"hovertemplate\": \"Country=Mauritius<br>Total Deaths=%{x}<br>Population Density=%{y}<extra></extra>\", \"legendgroup\": \"Mauritius\", \"marker\": {\"color\": \"#00cc96\", \"symbol\": \"circle\"}, \"mode\": \"markers\", \"name\": \"Mauritius\", \"orientation\": \"v\", \"showlegend\": true, \"type\": \"scatter\", \"x\": [10.0], \"xaxis\": \"x\", \"y\": [622.962], \"yaxis\": \"y\"}, {\"hovertemplate\": \"Country=Monaco<br>Total Deaths=%{x}<br>Population Density=%{y}<extra></extra>\", \"legendgroup\": \"Monaco\", \"marker\": {\"color\": \"#ab63fa\", \"symbol\": \"circle\"}, \"mode\": \"markers\", \"name\": \"Monaco\", \"orientation\": \"v\", \"showlegend\": true, \"type\": \"scatter\", \"x\": [22.0], \"xaxis\": \"x\", \"y\": [19347.5], \"yaxis\": \"y\"}, {\"hovertemplate\": \"Country=Netherlands<br>Total Deaths=%{x}<br>Population Density=%{y}<extra></extra>\", \"legendgroup\": \"Netherlands\", \"marker\": {\"color\": \"#FFA15A\", \"symbol\": \"circle\"}, \"mode\": \"markers\", \"name\": \"Netherlands\", \"orientation\": \"v\", \"showlegend\": true, \"type\": \"scatter\", \"x\": [15340.0], \"xaxis\": \"x\", \"y\": [508.544], \"yaxis\": \"y\"}, {\"hovertemplate\": \"Country=Palestine<br>Total Deaths=%{x}<br>Population Density=%{y}<extra></extra>\", \"legendgroup\": \"Palestine\", \"marker\": {\"color\": \"#19d3f3\", \"symbol\": \"circle\"}, \"mode\": \"markers\", \"name\": \"Palestine\", \"orientation\": \"v\", \"showlegend\": true, \"type\": \"scatter\", \"x\": [1976.0], \"xaxis\": \"x\", \"y\": [778.202], \"yaxis\": \"y\"}, {\"hovertemplate\": \"Country=Rwanda<br>Total Deaths=%{x}<br>Population Density=%{y}<extra></extra>\", \"legendgroup\": \"Rwanda\", \"marker\": {\"color\": \"#FF6692\", \"symbol\": \"circle\"}, \"mode\": \"markers\", \"name\": \"Rwanda\", \"orientation\": \"v\", \"showlegend\": true, \"type\": \"scatter\", \"x\": [249.0], \"xaxis\": \"x\", \"y\": [494.869], \"yaxis\": \"y\"}, {\"hovertemplate\": \"Country=San Marino<br>Total Deaths=%{x}<br>Population Density=%{y}<extra></extra>\", \"legendgroup\": \"San Marino\", \"marker\": {\"color\": \"#B6E880\", \"symbol\": \"circle\"}, \"mode\": \"markers\", \"name\": \"San Marino\", \"orientation\": \"v\", \"showlegend\": true, \"type\": \"scatter\", \"x\": [72.0], \"xaxis\": \"x\", \"y\": [556.667], \"yaxis\": \"y\"}, {\"hovertemplate\": \"Country=Singapore<br>Total Deaths=%{x}<br>Population Density=%{y}<extra></extra>\", \"legendgroup\": \"Singapore\", \"marker\": {\"color\": \"#FF97FF\", \"symbol\": \"circle\"}, \"mode\": \"markers\", \"name\": \"Singapore\", \"orientation\": \"v\", \"showlegend\": true, \"type\": \"scatter\", \"x\": [29.0], \"xaxis\": \"x\", \"y\": [7915.731], \"yaxis\": \"y\"}, {\"hovertemplate\": \"Country=South Korea<br>Total Deaths=%{x}<br>Population Density=%{y}<extra></extra>\", \"legendgroup\": \"South Korea\", \"marker\": {\"color\": \"#FECB52\", \"symbol\": \"circle\"}, \"mode\": \"markers\", \"name\": \"South Korea\", \"orientation\": \"v\", \"showlegend\": true, \"type\": \"scatter\", \"x\": [1562.0], \"xaxis\": \"x\", \"y\": [527.967], \"yaxis\": \"y\"}],                        {\"legend\": {\"title\": {\"text\": \"Country\"}, \"tracegroupgap\": 0}, \"template\": {\"data\": {\"bar\": [{\"error_x\": {\"color\": \"#2a3f5f\"}, \"error_y\": {\"color\": \"#2a3f5f\"}, \"marker\": {\"line\": {\"color\": \"#E5ECF6\", \"width\": 0.5}}, \"type\": \"bar\"}], \"barpolar\": [{\"marker\": {\"line\": {\"color\": \"#E5ECF6\", \"width\": 0.5}}, \"type\": \"barpolar\"}], \"carpet\": [{\"aaxis\": {\"endlinecolor\": \"#2a3f5f\", \"gridcolor\": \"white\", \"linecolor\": \"white\", \"minorgridcolor\": \"white\", \"startlinecolor\": \"#2a3f5f\"}, \"baxis\": {\"endlinecolor\": \"#2a3f5f\", \"gridcolor\": \"white\", \"linecolor\": \"white\", \"minorgridcolor\": \"white\", \"startlinecolor\": \"#2a3f5f\"}, \"type\": \"carpet\"}], \"choropleth\": [{\"colorbar\": {\"outlinewidth\": 0, \"ticks\": \"\"}, \"type\": \"choropleth\"}], \"contour\": [{\"colorbar\": {\"outlinewidth\": 0, \"ticks\": \"\"}, \"colorscale\": [[0.0, \"#0d0887\"], [0.1111111111111111, \"#46039f\"], [0.2222222222222222, \"#7201a8\"], [0.3333333333333333, \"#9c179e\"], [0.4444444444444444, \"#bd3786\"], [0.5555555555555556, \"#d8576b\"], [0.6666666666666666, \"#ed7953\"], [0.7777777777777778, \"#fb9f3a\"], [0.8888888888888888, \"#fdca26\"], [1.0, \"#f0f921\"]], \"type\": \"contour\"}], \"contourcarpet\": [{\"colorbar\": {\"outlinewidth\": 0, \"ticks\": \"\"}, \"type\": \"contourcarpet\"}], \"heatmap\": [{\"colorbar\": {\"outlinewidth\": 0, \"ticks\": \"\"}, \"colorscale\": [[0.0, \"#0d0887\"], [0.1111111111111111, \"#46039f\"], [0.2222222222222222, \"#7201a8\"], [0.3333333333333333, \"#9c179e\"], [0.4444444444444444, \"#bd3786\"], [0.5555555555555556, \"#d8576b\"], [0.6666666666666666, \"#ed7953\"], [0.7777777777777778, \"#fb9f3a\"], [0.8888888888888888, \"#fdca26\"], [1.0, \"#f0f921\"]], \"type\": \"heatmap\"}], \"heatmapgl\": [{\"colorbar\": {\"outlinewidth\": 0, \"ticks\": \"\"}, \"colorscale\": [[0.0, \"#0d0887\"], [0.1111111111111111, \"#46039f\"], [0.2222222222222222, \"#7201a8\"], [0.3333333333333333, \"#9c179e\"], [0.4444444444444444, \"#bd3786\"], [0.5555555555555556, \"#d8576b\"], [0.6666666666666666, \"#ed7953\"], [0.7777777777777778, \"#fb9f3a\"], [0.8888888888888888, \"#fdca26\"], [1.0, \"#f0f921\"]], \"type\": \"heatmapgl\"}], \"histogram\": [{\"marker\": {\"colorbar\": {\"outlinewidth\": 0, \"ticks\": \"\"}}, \"type\": \"histogram\"}], \"histogram2d\": [{\"colorbar\": {\"outlinewidth\": 0, \"ticks\": \"\"}, \"colorscale\": [[0.0, \"#0d0887\"], [0.1111111111111111, \"#46039f\"], [0.2222222222222222, \"#7201a8\"], [0.3333333333333333, \"#9c179e\"], [0.4444444444444444, \"#bd3786\"], [0.5555555555555556, \"#d8576b\"], [0.6666666666666666, \"#ed7953\"], [0.7777777777777778, \"#fb9f3a\"], [0.8888888888888888, \"#fdca26\"], [1.0, \"#f0f921\"]], \"type\": \"histogram2d\"}], \"histogram2dcontour\": [{\"colorbar\": {\"outlinewidth\": 0, \"ticks\": \"\"}, \"colorscale\": [[0.0, \"#0d0887\"], [0.1111111111111111, \"#46039f\"], [0.2222222222222222, \"#7201a8\"], [0.3333333333333333, \"#9c179e\"], [0.4444444444444444, \"#bd3786\"], [0.5555555555555556, \"#d8576b\"], [0.6666666666666666, \"#ed7953\"], [0.7777777777777778, \"#fb9f3a\"], [0.8888888888888888, \"#fdca26\"], [1.0, \"#f0f921\"]], \"type\": \"histogram2dcontour\"}], \"mesh3d\": [{\"colorbar\": {\"outlinewidth\": 0, \"ticks\": \"\"}, \"type\": \"mesh3d\"}], \"parcoords\": [{\"line\": {\"colorbar\": {\"outlinewidth\": 0, \"ticks\": \"\"}}, \"type\": \"parcoords\"}], \"pie\": [{\"automargin\": true, \"type\": \"pie\"}], \"scatter\": [{\"marker\": {\"colorbar\": {\"outlinewidth\": 0, \"ticks\": \"\"}}, \"type\": \"scatter\"}], \"scatter3d\": [{\"line\": {\"colorbar\": {\"outlinewidth\": 0, \"ticks\": \"\"}}, \"marker\": {\"colorbar\": {\"outlinewidth\": 0, \"ticks\": \"\"}}, \"type\": \"scatter3d\"}], \"scattercarpet\": [{\"marker\": {\"colorbar\": {\"outlinewidth\": 0, \"ticks\": \"\"}}, \"type\": \"scattercarpet\"}], \"scattergeo\": [{\"marker\": {\"colorbar\": {\"outlinewidth\": 0, \"ticks\": \"\"}}, \"type\": \"scattergeo\"}], \"scattergl\": [{\"marker\": {\"colorbar\": {\"outlinewidth\": 0, \"ticks\": \"\"}}, \"type\": \"scattergl\"}], \"scattermapbox\": [{\"marker\": {\"colorbar\": {\"outlinewidth\": 0, \"ticks\": \"\"}}, \"type\": \"scattermapbox\"}], \"scatterpolar\": [{\"marker\": {\"colorbar\": {\"outlinewidth\": 0, \"ticks\": \"\"}}, \"type\": \"scatterpolar\"}], \"scatterpolargl\": [{\"marker\": {\"colorbar\": {\"outlinewidth\": 0, \"ticks\": \"\"}}, \"type\": \"scatterpolargl\"}], \"scatterternary\": [{\"marker\": {\"colorbar\": {\"outlinewidth\": 0, \"ticks\": \"\"}}, \"type\": \"scatterternary\"}], \"surface\": [{\"colorbar\": {\"outlinewidth\": 0, \"ticks\": \"\"}, \"colorscale\": [[0.0, \"#0d0887\"], [0.1111111111111111, \"#46039f\"], [0.2222222222222222, \"#7201a8\"], [0.3333333333333333, \"#9c179e\"], [0.4444444444444444, \"#bd3786\"], [0.5555555555555556, \"#d8576b\"], [0.6666666666666666, \"#ed7953\"], [0.7777777777777778, \"#fb9f3a\"], [0.8888888888888888, \"#fdca26\"], [1.0, \"#f0f921\"]], \"type\": \"surface\"}], \"table\": [{\"cells\": {\"fill\": {\"color\": \"#EBF0F8\"}, \"line\": {\"color\": \"white\"}}, \"header\": {\"fill\": {\"color\": \"#C8D4E3\"}, \"line\": {\"color\": \"white\"}}, \"type\": \"table\"}]}, \"layout\": {\"annotationdefaults\": {\"arrowcolor\": \"#2a3f5f\", \"arrowhead\": 0, \"arrowwidth\": 1}, \"autotypenumbers\": \"strict\", \"coloraxis\": {\"colorbar\": {\"outlinewidth\": 0, \"ticks\": \"\"}}, \"colorscale\": {\"diverging\": [[0, \"#8e0152\"], [0.1, \"#c51b7d\"], [0.2, \"#de77ae\"], [0.3, \"#f1b6da\"], [0.4, \"#fde0ef\"], [0.5, \"#f7f7f7\"], [0.6, \"#e6f5d0\"], [0.7, \"#b8e186\"], [0.8, \"#7fbc41\"], [0.9, \"#4d9221\"], [1, \"#276419\"]], \"sequential\": [[0.0, \"#0d0887\"], [0.1111111111111111, \"#46039f\"], [0.2222222222222222, \"#7201a8\"], [0.3333333333333333, \"#9c179e\"], [0.4444444444444444, \"#bd3786\"], [0.5555555555555556, \"#d8576b\"], [0.6666666666666666, \"#ed7953\"], [0.7777777777777778, \"#fb9f3a\"], [0.8888888888888888, \"#fdca26\"], [1.0, \"#f0f921\"]], \"sequentialminus\": [[0.0, \"#0d0887\"], [0.1111111111111111, \"#46039f\"], [0.2222222222222222, \"#7201a8\"], [0.3333333333333333, \"#9c179e\"], [0.4444444444444444, \"#bd3786\"], [0.5555555555555556, \"#d8576b\"], [0.6666666666666666, \"#ed7953\"], [0.7777777777777778, \"#fb9f3a\"], [0.8888888888888888, \"#fdca26\"], [1.0, \"#f0f921\"]]}, \"colorway\": [\"#636efa\", \"#EF553B\", \"#00cc96\", \"#ab63fa\", \"#FFA15A\", \"#19d3f3\", \"#FF6692\", \"#B6E880\", \"#FF97FF\", \"#FECB52\"], \"font\": {\"color\": \"#2a3f5f\"}, \"geo\": {\"bgcolor\": \"white\", \"lakecolor\": \"white\", \"landcolor\": \"#E5ECF6\", \"showlakes\": true, \"showland\": true, \"subunitcolor\": \"white\"}, \"hoverlabel\": {\"align\": \"left\"}, \"hovermode\": \"closest\", \"mapbox\": {\"style\": \"light\"}, \"paper_bgcolor\": \"white\", \"plot_bgcolor\": \"#E5ECF6\", \"polar\": {\"angularaxis\": {\"gridcolor\": \"white\", \"linecolor\": \"white\", \"ticks\": \"\"}, \"bgcolor\": \"#E5ECF6\", \"radialaxis\": {\"gridcolor\": \"white\", \"linecolor\": \"white\", \"ticks\": \"\"}}, \"scene\": {\"xaxis\": {\"backgroundcolor\": \"#E5ECF6\", \"gridcolor\": \"white\", \"gridwidth\": 2, \"linecolor\": \"white\", \"showbackground\": true, \"ticks\": \"\", \"zerolinecolor\": \"white\"}, \"yaxis\": {\"backgroundcolor\": \"#E5ECF6\", \"gridcolor\": \"white\", \"gridwidth\": 2, \"linecolor\": \"white\", \"showbackground\": true, \"ticks\": \"\", \"zerolinecolor\": \"white\"}, \"zaxis\": {\"backgroundcolor\": \"#E5ECF6\", \"gridcolor\": \"white\", \"gridwidth\": 2, \"linecolor\": \"white\", \"showbackground\": true, \"ticks\": \"\", \"zerolinecolor\": \"white\"}}, \"shapedefaults\": {\"line\": {\"color\": \"#2a3f5f\"}}, \"ternary\": {\"aaxis\": {\"gridcolor\": \"white\", \"linecolor\": \"white\", \"ticks\": \"\"}, \"baxis\": {\"gridcolor\": \"white\", \"linecolor\": \"white\", \"ticks\": \"\"}, \"bgcolor\": \"#E5ECF6\", \"caxis\": {\"gridcolor\": \"white\", \"linecolor\": \"white\", \"ticks\": \"\"}}, \"title\": {\"x\": 0.05}, \"xaxis\": {\"automargin\": true, \"gridcolor\": \"white\", \"linecolor\": \"white\", \"ticks\": \"\", \"title\": {\"standoff\": 15}, \"zerolinecolor\": \"white\", \"zerolinewidth\": 2}, \"yaxis\": {\"automargin\": true, \"gridcolor\": \"white\", \"linecolor\": \"white\", \"ticks\": \"\", \"title\": {\"standoff\": 15}, \"zerolinecolor\": \"white\", \"zerolinewidth\": 2}}}, \"title\": {\"text\": \"Total Deaths vs Top 20 Countries with the Highest Population Density\"}, \"xaxis\": {\"anchor\": \"y\", \"domain\": [0.0, 1.0], \"title\": {\"text\": \"Total Deaths\"}}, \"yaxis\": {\"anchor\": \"x\", \"domain\": [0.0, 1.0], \"title\": {\"text\": \"Population Density\"}}},                        {\"responsive\": true}                    ).then(function(){\n                            \nvar gd = document.getElementById('0fe52200-8004-4f2c-85f3-583c9b8ebe1d');\nvar x = new MutationObserver(function (mutations, observer) {{\n        var display = window.getComputedStyle(gd).display;\n        if (!display || display === 'none') {{\n            console.log([gd, 'removed!']);\n            Plotly.purge(gd);\n            observer.disconnect();\n        }}\n}});\n\n// Listen for the removal of the full notebook cells\nvar notebookContainer = gd.closest('#notebook-container');\nif (notebookContainer) {{\n    x.observe(notebookContainer, {childList: true});\n}}\n\n// Listen for the clearing of the current output cell\nvar outputEl = gd.closest('.output');\nif (outputEl) {{\n    x.observe(outputEl, {childList: true});\n}}\n\n                        })                };                });            </script>        </div>"
     },
     "metadata": {},
     "output_type": "display_data"
    }
   ],
   "source": [
    "fig = px.scatter(top20Countries_PopD, x=\"total_deaths\", y=\"population_density\", color=\"location\",\n",
    "                 title=\"Total Deaths vs Top 20 Countries with the Highest Population Density\",\n",
    "                 labels={\n",
    "                     \"total_deaths\" : \"Total Deaths\",\n",
    "                    \"population_density\" : \"Population Density\",\n",
    "                     \"location\" : \"Country\"\n",
    "                    } #Labels are customized using the above dictionary type configuration\n",
    "                )\n",
    "\n",
    "fig.show()"
   ],
   "metadata": {
    "collapsed": false,
    "pycharm": {
     "name": "#%%\n"
    }
   }
  },
  {
   "cell_type": "markdown",
   "source": [
    "### Italy's Positivity Rate"
   ],
   "metadata": {
    "collapsed": false
   }
  },
  {
   "cell_type": "code",
   "execution_count": 10,
   "outputs": [
    {
     "data": {
      "application/vnd.plotly.v1+json": {
       "config": {
        "plotlyServerURL": "https://plot.ly"
       },
       "data": [
        {
         "hovertemplate": "Month=%{x}<br>Total Deaths=%{y}<extra></extra>",
         "legendgroup": "",
         "line": {
          "color": "#636efa",
          "dash": "solid"
         },
         "mode": "lines",
         "name": "",
         "orientation": "v",
         "showlegend": false,
         "type": "scatter",
         "x": [
          "2020-01-01T00:00:00",
          "2020-02-01T00:00:00",
          "2020-03-01T00:00:00",
          "2020-04-01T00:00:00",
          "2020-05-01T00:00:00",
          "2020-06-01T00:00:00",
          "2020-07-01T00:00:00",
          "2020-08-01T00:00:00",
          "2020-09-01T00:00:00",
          "2020-10-01T00:00:00",
          "2020-11-01T00:00:00",
          "2020-12-01T00:00:00",
          "2021-01-01T00:00:00",
          "2021-02-01T00:00:00"
         ],
         "xaxis": "x",
         "y": [
          null,
          null,
          21.20666666666667,
          8.526666666666666,
          1.7451612903225804,
          0.53,
          0.4774193548387096,
          1.0032258064516129,
          1.6666666666666665,
          6.212903225806452,
          15.103333333333335,
          11.000000000000002,
          8.92903225806452,
          4.747619047619046
         ],
         "yaxis": "y"
        }
       ],
       "layout": {
        "legend": {
         "tracegroupgap": 0
        },
        "template": {
         "data": {
          "bar": [
           {
            "error_x": {
             "color": "#2a3f5f"
            },
            "error_y": {
             "color": "#2a3f5f"
            },
            "marker": {
             "line": {
              "color": "#E5ECF6",
              "width": 0.5
             }
            },
            "type": "bar"
           }
          ],
          "barpolar": [
           {
            "marker": {
             "line": {
              "color": "#E5ECF6",
              "width": 0.5
             }
            },
            "type": "barpolar"
           }
          ],
          "carpet": [
           {
            "aaxis": {
             "endlinecolor": "#2a3f5f",
             "gridcolor": "white",
             "linecolor": "white",
             "minorgridcolor": "white",
             "startlinecolor": "#2a3f5f"
            },
            "baxis": {
             "endlinecolor": "#2a3f5f",
             "gridcolor": "white",
             "linecolor": "white",
             "minorgridcolor": "white",
             "startlinecolor": "#2a3f5f"
            },
            "type": "carpet"
           }
          ],
          "choropleth": [
           {
            "colorbar": {
             "outlinewidth": 0,
             "ticks": ""
            },
            "type": "choropleth"
           }
          ],
          "contour": [
           {
            "colorbar": {
             "outlinewidth": 0,
             "ticks": ""
            },
            "colorscale": [
             [
              0.0,
              "#0d0887"
             ],
             [
              0.1111111111111111,
              "#46039f"
             ],
             [
              0.2222222222222222,
              "#7201a8"
             ],
             [
              0.3333333333333333,
              "#9c179e"
             ],
             [
              0.4444444444444444,
              "#bd3786"
             ],
             [
              0.5555555555555556,
              "#d8576b"
             ],
             [
              0.6666666666666666,
              "#ed7953"
             ],
             [
              0.7777777777777778,
              "#fb9f3a"
             ],
             [
              0.8888888888888888,
              "#fdca26"
             ],
             [
              1.0,
              "#f0f921"
             ]
            ],
            "type": "contour"
           }
          ],
          "contourcarpet": [
           {
            "colorbar": {
             "outlinewidth": 0,
             "ticks": ""
            },
            "type": "contourcarpet"
           }
          ],
          "heatmap": [
           {
            "colorbar": {
             "outlinewidth": 0,
             "ticks": ""
            },
            "colorscale": [
             [
              0.0,
              "#0d0887"
             ],
             [
              0.1111111111111111,
              "#46039f"
             ],
             [
              0.2222222222222222,
              "#7201a8"
             ],
             [
              0.3333333333333333,
              "#9c179e"
             ],
             [
              0.4444444444444444,
              "#bd3786"
             ],
             [
              0.5555555555555556,
              "#d8576b"
             ],
             [
              0.6666666666666666,
              "#ed7953"
             ],
             [
              0.7777777777777778,
              "#fb9f3a"
             ],
             [
              0.8888888888888888,
              "#fdca26"
             ],
             [
              1.0,
              "#f0f921"
             ]
            ],
            "type": "heatmap"
           }
          ],
          "heatmapgl": [
           {
            "colorbar": {
             "outlinewidth": 0,
             "ticks": ""
            },
            "colorscale": [
             [
              0.0,
              "#0d0887"
             ],
             [
              0.1111111111111111,
              "#46039f"
             ],
             [
              0.2222222222222222,
              "#7201a8"
             ],
             [
              0.3333333333333333,
              "#9c179e"
             ],
             [
              0.4444444444444444,
              "#bd3786"
             ],
             [
              0.5555555555555556,
              "#d8576b"
             ],
             [
              0.6666666666666666,
              "#ed7953"
             ],
             [
              0.7777777777777778,
              "#fb9f3a"
             ],
             [
              0.8888888888888888,
              "#fdca26"
             ],
             [
              1.0,
              "#f0f921"
             ]
            ],
            "type": "heatmapgl"
           }
          ],
          "histogram": [
           {
            "marker": {
             "colorbar": {
              "outlinewidth": 0,
              "ticks": ""
             }
            },
            "type": "histogram"
           }
          ],
          "histogram2d": [
           {
            "colorbar": {
             "outlinewidth": 0,
             "ticks": ""
            },
            "colorscale": [
             [
              0.0,
              "#0d0887"
             ],
             [
              0.1111111111111111,
              "#46039f"
             ],
             [
              0.2222222222222222,
              "#7201a8"
             ],
             [
              0.3333333333333333,
              "#9c179e"
             ],
             [
              0.4444444444444444,
              "#bd3786"
             ],
             [
              0.5555555555555556,
              "#d8576b"
             ],
             [
              0.6666666666666666,
              "#ed7953"
             ],
             [
              0.7777777777777778,
              "#fb9f3a"
             ],
             [
              0.8888888888888888,
              "#fdca26"
             ],
             [
              1.0,
              "#f0f921"
             ]
            ],
            "type": "histogram2d"
           }
          ],
          "histogram2dcontour": [
           {
            "colorbar": {
             "outlinewidth": 0,
             "ticks": ""
            },
            "colorscale": [
             [
              0.0,
              "#0d0887"
             ],
             [
              0.1111111111111111,
              "#46039f"
             ],
             [
              0.2222222222222222,
              "#7201a8"
             ],
             [
              0.3333333333333333,
              "#9c179e"
             ],
             [
              0.4444444444444444,
              "#bd3786"
             ],
             [
              0.5555555555555556,
              "#d8576b"
             ],
             [
              0.6666666666666666,
              "#ed7953"
             ],
             [
              0.7777777777777778,
              "#fb9f3a"
             ],
             [
              0.8888888888888888,
              "#fdca26"
             ],
             [
              1.0,
              "#f0f921"
             ]
            ],
            "type": "histogram2dcontour"
           }
          ],
          "mesh3d": [
           {
            "colorbar": {
             "outlinewidth": 0,
             "ticks": ""
            },
            "type": "mesh3d"
           }
          ],
          "parcoords": [
           {
            "line": {
             "colorbar": {
              "outlinewidth": 0,
              "ticks": ""
             }
            },
            "type": "parcoords"
           }
          ],
          "pie": [
           {
            "automargin": true,
            "type": "pie"
           }
          ],
          "scatter": [
           {
            "marker": {
             "colorbar": {
              "outlinewidth": 0,
              "ticks": ""
             }
            },
            "type": "scatter"
           }
          ],
          "scatter3d": [
           {
            "line": {
             "colorbar": {
              "outlinewidth": 0,
              "ticks": ""
             }
            },
            "marker": {
             "colorbar": {
              "outlinewidth": 0,
              "ticks": ""
             }
            },
            "type": "scatter3d"
           }
          ],
          "scattercarpet": [
           {
            "marker": {
             "colorbar": {
              "outlinewidth": 0,
              "ticks": ""
             }
            },
            "type": "scattercarpet"
           }
          ],
          "scattergeo": [
           {
            "marker": {
             "colorbar": {
              "outlinewidth": 0,
              "ticks": ""
             }
            },
            "type": "scattergeo"
           }
          ],
          "scattergl": [
           {
            "marker": {
             "colorbar": {
              "outlinewidth": 0,
              "ticks": ""
             }
            },
            "type": "scattergl"
           }
          ],
          "scattermapbox": [
           {
            "marker": {
             "colorbar": {
              "outlinewidth": 0,
              "ticks": ""
             }
            },
            "type": "scattermapbox"
           }
          ],
          "scatterpolar": [
           {
            "marker": {
             "colorbar": {
              "outlinewidth": 0,
              "ticks": ""
             }
            },
            "type": "scatterpolar"
           }
          ],
          "scatterpolargl": [
           {
            "marker": {
             "colorbar": {
              "outlinewidth": 0,
              "ticks": ""
             }
            },
            "type": "scatterpolargl"
           }
          ],
          "scatterternary": [
           {
            "marker": {
             "colorbar": {
              "outlinewidth": 0,
              "ticks": ""
             }
            },
            "type": "scatterternary"
           }
          ],
          "surface": [
           {
            "colorbar": {
             "outlinewidth": 0,
             "ticks": ""
            },
            "colorscale": [
             [
              0.0,
              "#0d0887"
             ],
             [
              0.1111111111111111,
              "#46039f"
             ],
             [
              0.2222222222222222,
              "#7201a8"
             ],
             [
              0.3333333333333333,
              "#9c179e"
             ],
             [
              0.4444444444444444,
              "#bd3786"
             ],
             [
              0.5555555555555556,
              "#d8576b"
             ],
             [
              0.6666666666666666,
              "#ed7953"
             ],
             [
              0.7777777777777778,
              "#fb9f3a"
             ],
             [
              0.8888888888888888,
              "#fdca26"
             ],
             [
              1.0,
              "#f0f921"
             ]
            ],
            "type": "surface"
           }
          ],
          "table": [
           {
            "cells": {
             "fill": {
              "color": "#EBF0F8"
             },
             "line": {
              "color": "white"
             }
            },
            "header": {
             "fill": {
              "color": "#C8D4E3"
             },
             "line": {
              "color": "white"
             }
            },
            "type": "table"
           }
          ]
         },
         "layout": {
          "annotationdefaults": {
           "arrowcolor": "#2a3f5f",
           "arrowhead": 0,
           "arrowwidth": 1
          },
          "autotypenumbers": "strict",
          "coloraxis": {
           "colorbar": {
            "outlinewidth": 0,
            "ticks": ""
           }
          },
          "colorscale": {
           "diverging": [
            [
             0,
             "#8e0152"
            ],
            [
             0.1,
             "#c51b7d"
            ],
            [
             0.2,
             "#de77ae"
            ],
            [
             0.3,
             "#f1b6da"
            ],
            [
             0.4,
             "#fde0ef"
            ],
            [
             0.5,
             "#f7f7f7"
            ],
            [
             0.6,
             "#e6f5d0"
            ],
            [
             0.7,
             "#b8e186"
            ],
            [
             0.8,
             "#7fbc41"
            ],
            [
             0.9,
             "#4d9221"
            ],
            [
             1,
             "#276419"
            ]
           ],
           "sequential": [
            [
             0.0,
             "#0d0887"
            ],
            [
             0.1111111111111111,
             "#46039f"
            ],
            [
             0.2222222222222222,
             "#7201a8"
            ],
            [
             0.3333333333333333,
             "#9c179e"
            ],
            [
             0.4444444444444444,
             "#bd3786"
            ],
            [
             0.5555555555555556,
             "#d8576b"
            ],
            [
             0.6666666666666666,
             "#ed7953"
            ],
            [
             0.7777777777777778,
             "#fb9f3a"
            ],
            [
             0.8888888888888888,
             "#fdca26"
            ],
            [
             1.0,
             "#f0f921"
            ]
           ],
           "sequentialminus": [
            [
             0.0,
             "#0d0887"
            ],
            [
             0.1111111111111111,
             "#46039f"
            ],
            [
             0.2222222222222222,
             "#7201a8"
            ],
            [
             0.3333333333333333,
             "#9c179e"
            ],
            [
             0.4444444444444444,
             "#bd3786"
            ],
            [
             0.5555555555555556,
             "#d8576b"
            ],
            [
             0.6666666666666666,
             "#ed7953"
            ],
            [
             0.7777777777777778,
             "#fb9f3a"
            ],
            [
             0.8888888888888888,
             "#fdca26"
            ],
            [
             1.0,
             "#f0f921"
            ]
           ]
          },
          "colorway": [
           "#636efa",
           "#EF553B",
           "#00cc96",
           "#ab63fa",
           "#FFA15A",
           "#19d3f3",
           "#FF6692",
           "#B6E880",
           "#FF97FF",
           "#FECB52"
          ],
          "font": {
           "color": "#2a3f5f"
          },
          "geo": {
           "bgcolor": "white",
           "lakecolor": "white",
           "landcolor": "#E5ECF6",
           "showlakes": true,
           "showland": true,
           "subunitcolor": "white"
          },
          "hoverlabel": {
           "align": "left"
          },
          "hovermode": "closest",
          "mapbox": {
           "style": "light"
          },
          "paper_bgcolor": "white",
          "plot_bgcolor": "#E5ECF6",
          "polar": {
           "angularaxis": {
            "gridcolor": "white",
            "linecolor": "white",
            "ticks": ""
           },
           "bgcolor": "#E5ECF6",
           "radialaxis": {
            "gridcolor": "white",
            "linecolor": "white",
            "ticks": ""
           }
          },
          "scene": {
           "xaxis": {
            "backgroundcolor": "#E5ECF6",
            "gridcolor": "white",
            "gridwidth": 2,
            "linecolor": "white",
            "showbackground": true,
            "ticks": "",
            "zerolinecolor": "white"
           },
           "yaxis": {
            "backgroundcolor": "#E5ECF6",
            "gridcolor": "white",
            "gridwidth": 2,
            "linecolor": "white",
            "showbackground": true,
            "ticks": "",
            "zerolinecolor": "white"
           },
           "zaxis": {
            "backgroundcolor": "#E5ECF6",
            "gridcolor": "white",
            "gridwidth": 2,
            "linecolor": "white",
            "showbackground": true,
            "ticks": "",
            "zerolinecolor": "white"
           }
          },
          "shapedefaults": {
           "line": {
            "color": "#2a3f5f"
           }
          },
          "ternary": {
           "aaxis": {
            "gridcolor": "white",
            "linecolor": "white",
            "ticks": ""
           },
           "baxis": {
            "gridcolor": "white",
            "linecolor": "white",
            "ticks": ""
           },
           "bgcolor": "#E5ECF6",
           "caxis": {
            "gridcolor": "white",
            "linecolor": "white",
            "ticks": ""
           }
          },
          "title": {
           "x": 0.05
          },
          "xaxis": {
           "automargin": true,
           "gridcolor": "white",
           "linecolor": "white",
           "ticks": "",
           "title": {
            "standoff": 15
           },
           "zerolinecolor": "white",
           "zerolinewidth": 2
          },
          "yaxis": {
           "automargin": true,
           "gridcolor": "white",
           "linecolor": "white",
           "ticks": "",
           "title": {
            "standoff": 15
           },
           "zerolinecolor": "white",
           "zerolinewidth": 2
          }
         }
        },
        "title": {
         "text": "Italy Positivty Rate"
        },
        "xaxis": {
         "anchor": "y",
         "domain": [
          0.0,
          1.0
         ],
         "title": {
          "text": "Month"
         }
        },
        "yaxis": {
         "anchor": "x",
         "domain": [
          0.0,
          1.0
         ],
         "title": {
          "text": "Total Deaths"
         }
        }
       }
      },
      "text/html": "<div>                            <div id=\"41f79960-ba19-4da5-af5b-e41c406f16d2\" class=\"plotly-graph-div\" style=\"height:525px; width:100%;\"></div>            <script type=\"text/javascript\">                require([\"plotly\"], function(Plotly) {                    window.PLOTLYENV=window.PLOTLYENV || {};                                    if (document.getElementById(\"41f79960-ba19-4da5-af5b-e41c406f16d2\")) {                    Plotly.newPlot(                        \"41f79960-ba19-4da5-af5b-e41c406f16d2\",                        [{\"hovertemplate\": \"Month=%{x}<br>Total Deaths=%{y}<extra></extra>\", \"legendgroup\": \"\", \"line\": {\"color\": \"#636efa\", \"dash\": \"solid\"}, \"mode\": \"lines\", \"name\": \"\", \"orientation\": \"v\", \"showlegend\": false, \"type\": \"scatter\", \"x\": [\"2020-01-01T00:00:00\", \"2020-02-01T00:00:00\", \"2020-03-01T00:00:00\", \"2020-04-01T00:00:00\", \"2020-05-01T00:00:00\", \"2020-06-01T00:00:00\", \"2020-07-01T00:00:00\", \"2020-08-01T00:00:00\", \"2020-09-01T00:00:00\", \"2020-10-01T00:00:00\", \"2020-11-01T00:00:00\", \"2020-12-01T00:00:00\", \"2021-01-01T00:00:00\", \"2021-02-01T00:00:00\"], \"xaxis\": \"x\", \"y\": [null, null, 21.20666666666667, 8.526666666666666, 1.7451612903225804, 0.53, 0.4774193548387096, 1.0032258064516129, 1.6666666666666665, 6.212903225806452, 15.103333333333335, 11.000000000000002, 8.92903225806452, 4.747619047619046], \"yaxis\": \"y\"}],                        {\"legend\": {\"tracegroupgap\": 0}, \"template\": {\"data\": {\"bar\": [{\"error_x\": {\"color\": \"#2a3f5f\"}, \"error_y\": {\"color\": \"#2a3f5f\"}, \"marker\": {\"line\": {\"color\": \"#E5ECF6\", \"width\": 0.5}}, \"type\": \"bar\"}], \"barpolar\": [{\"marker\": {\"line\": {\"color\": \"#E5ECF6\", \"width\": 0.5}}, \"type\": \"barpolar\"}], \"carpet\": [{\"aaxis\": {\"endlinecolor\": \"#2a3f5f\", \"gridcolor\": \"white\", \"linecolor\": \"white\", \"minorgridcolor\": \"white\", \"startlinecolor\": \"#2a3f5f\"}, \"baxis\": {\"endlinecolor\": \"#2a3f5f\", \"gridcolor\": \"white\", \"linecolor\": \"white\", \"minorgridcolor\": \"white\", \"startlinecolor\": \"#2a3f5f\"}, \"type\": \"carpet\"}], \"choropleth\": [{\"colorbar\": {\"outlinewidth\": 0, \"ticks\": \"\"}, \"type\": \"choropleth\"}], \"contour\": [{\"colorbar\": {\"outlinewidth\": 0, \"ticks\": \"\"}, \"colorscale\": [[0.0, \"#0d0887\"], [0.1111111111111111, \"#46039f\"], [0.2222222222222222, \"#7201a8\"], [0.3333333333333333, \"#9c179e\"], [0.4444444444444444, \"#bd3786\"], [0.5555555555555556, \"#d8576b\"], [0.6666666666666666, \"#ed7953\"], [0.7777777777777778, \"#fb9f3a\"], [0.8888888888888888, \"#fdca26\"], [1.0, \"#f0f921\"]], \"type\": \"contour\"}], \"contourcarpet\": [{\"colorbar\": {\"outlinewidth\": 0, \"ticks\": \"\"}, \"type\": \"contourcarpet\"}], \"heatmap\": [{\"colorbar\": {\"outlinewidth\": 0, \"ticks\": \"\"}, \"colorscale\": [[0.0, \"#0d0887\"], [0.1111111111111111, \"#46039f\"], [0.2222222222222222, \"#7201a8\"], [0.3333333333333333, \"#9c179e\"], [0.4444444444444444, \"#bd3786\"], [0.5555555555555556, \"#d8576b\"], [0.6666666666666666, \"#ed7953\"], [0.7777777777777778, \"#fb9f3a\"], [0.8888888888888888, \"#fdca26\"], [1.0, \"#f0f921\"]], \"type\": \"heatmap\"}], \"heatmapgl\": [{\"colorbar\": {\"outlinewidth\": 0, \"ticks\": \"\"}, \"colorscale\": [[0.0, \"#0d0887\"], [0.1111111111111111, \"#46039f\"], [0.2222222222222222, \"#7201a8\"], [0.3333333333333333, \"#9c179e\"], [0.4444444444444444, \"#bd3786\"], [0.5555555555555556, \"#d8576b\"], [0.6666666666666666, \"#ed7953\"], [0.7777777777777778, \"#fb9f3a\"], [0.8888888888888888, \"#fdca26\"], [1.0, \"#f0f921\"]], \"type\": \"heatmapgl\"}], \"histogram\": [{\"marker\": {\"colorbar\": {\"outlinewidth\": 0, \"ticks\": \"\"}}, \"type\": \"histogram\"}], \"histogram2d\": [{\"colorbar\": {\"outlinewidth\": 0, \"ticks\": \"\"}, \"colorscale\": [[0.0, \"#0d0887\"], [0.1111111111111111, \"#46039f\"], [0.2222222222222222, \"#7201a8\"], [0.3333333333333333, \"#9c179e\"], [0.4444444444444444, \"#bd3786\"], [0.5555555555555556, \"#d8576b\"], [0.6666666666666666, \"#ed7953\"], [0.7777777777777778, \"#fb9f3a\"], [0.8888888888888888, \"#fdca26\"], [1.0, \"#f0f921\"]], \"type\": \"histogram2d\"}], \"histogram2dcontour\": [{\"colorbar\": {\"outlinewidth\": 0, \"ticks\": \"\"}, \"colorscale\": [[0.0, \"#0d0887\"], [0.1111111111111111, \"#46039f\"], [0.2222222222222222, \"#7201a8\"], [0.3333333333333333, \"#9c179e\"], [0.4444444444444444, \"#bd3786\"], [0.5555555555555556, \"#d8576b\"], [0.6666666666666666, \"#ed7953\"], [0.7777777777777778, \"#fb9f3a\"], [0.8888888888888888, \"#fdca26\"], [1.0, \"#f0f921\"]], \"type\": \"histogram2dcontour\"}], \"mesh3d\": [{\"colorbar\": {\"outlinewidth\": 0, \"ticks\": \"\"}, \"type\": \"mesh3d\"}], \"parcoords\": [{\"line\": {\"colorbar\": {\"outlinewidth\": 0, \"ticks\": \"\"}}, \"type\": \"parcoords\"}], \"pie\": [{\"automargin\": true, \"type\": \"pie\"}], \"scatter\": [{\"marker\": {\"colorbar\": {\"outlinewidth\": 0, \"ticks\": \"\"}}, \"type\": \"scatter\"}], \"scatter3d\": [{\"line\": {\"colorbar\": {\"outlinewidth\": 0, \"ticks\": \"\"}}, \"marker\": {\"colorbar\": {\"outlinewidth\": 0, \"ticks\": \"\"}}, \"type\": \"scatter3d\"}], \"scattercarpet\": [{\"marker\": {\"colorbar\": {\"outlinewidth\": 0, \"ticks\": \"\"}}, \"type\": \"scattercarpet\"}], \"scattergeo\": [{\"marker\": {\"colorbar\": {\"outlinewidth\": 0, \"ticks\": \"\"}}, \"type\": \"scattergeo\"}], \"scattergl\": [{\"marker\": {\"colorbar\": {\"outlinewidth\": 0, \"ticks\": \"\"}}, \"type\": \"scattergl\"}], \"scattermapbox\": [{\"marker\": {\"colorbar\": {\"outlinewidth\": 0, \"ticks\": \"\"}}, \"type\": \"scattermapbox\"}], \"scatterpolar\": [{\"marker\": {\"colorbar\": {\"outlinewidth\": 0, \"ticks\": \"\"}}, \"type\": \"scatterpolar\"}], \"scatterpolargl\": [{\"marker\": {\"colorbar\": {\"outlinewidth\": 0, \"ticks\": \"\"}}, \"type\": \"scatterpolargl\"}], \"scatterternary\": [{\"marker\": {\"colorbar\": {\"outlinewidth\": 0, \"ticks\": \"\"}}, \"type\": \"scatterternary\"}], \"surface\": [{\"colorbar\": {\"outlinewidth\": 0, \"ticks\": \"\"}, \"colorscale\": [[0.0, \"#0d0887\"], [0.1111111111111111, \"#46039f\"], [0.2222222222222222, \"#7201a8\"], [0.3333333333333333, \"#9c179e\"], [0.4444444444444444, \"#bd3786\"], [0.5555555555555556, \"#d8576b\"], [0.6666666666666666, \"#ed7953\"], [0.7777777777777778, \"#fb9f3a\"], [0.8888888888888888, \"#fdca26\"], [1.0, \"#f0f921\"]], \"type\": \"surface\"}], \"table\": [{\"cells\": {\"fill\": {\"color\": \"#EBF0F8\"}, \"line\": {\"color\": \"white\"}}, \"header\": {\"fill\": {\"color\": \"#C8D4E3\"}, \"line\": {\"color\": \"white\"}}, \"type\": \"table\"}]}, \"layout\": {\"annotationdefaults\": {\"arrowcolor\": \"#2a3f5f\", \"arrowhead\": 0, \"arrowwidth\": 1}, \"autotypenumbers\": \"strict\", \"coloraxis\": {\"colorbar\": {\"outlinewidth\": 0, \"ticks\": \"\"}}, \"colorscale\": {\"diverging\": [[0, \"#8e0152\"], [0.1, \"#c51b7d\"], [0.2, \"#de77ae\"], [0.3, \"#f1b6da\"], [0.4, \"#fde0ef\"], [0.5, \"#f7f7f7\"], [0.6, \"#e6f5d0\"], [0.7, \"#b8e186\"], [0.8, \"#7fbc41\"], [0.9, \"#4d9221\"], [1, \"#276419\"]], \"sequential\": [[0.0, \"#0d0887\"], [0.1111111111111111, \"#46039f\"], [0.2222222222222222, \"#7201a8\"], [0.3333333333333333, \"#9c179e\"], [0.4444444444444444, \"#bd3786\"], [0.5555555555555556, \"#d8576b\"], [0.6666666666666666, \"#ed7953\"], [0.7777777777777778, \"#fb9f3a\"], [0.8888888888888888, \"#fdca26\"], [1.0, \"#f0f921\"]], \"sequentialminus\": [[0.0, \"#0d0887\"], [0.1111111111111111, \"#46039f\"], [0.2222222222222222, \"#7201a8\"], [0.3333333333333333, \"#9c179e\"], [0.4444444444444444, \"#bd3786\"], [0.5555555555555556, \"#d8576b\"], [0.6666666666666666, \"#ed7953\"], [0.7777777777777778, \"#fb9f3a\"], [0.8888888888888888, \"#fdca26\"], [1.0, \"#f0f921\"]]}, \"colorway\": [\"#636efa\", \"#EF553B\", \"#00cc96\", \"#ab63fa\", \"#FFA15A\", \"#19d3f3\", \"#FF6692\", \"#B6E880\", \"#FF97FF\", \"#FECB52\"], \"font\": {\"color\": \"#2a3f5f\"}, \"geo\": {\"bgcolor\": \"white\", \"lakecolor\": \"white\", \"landcolor\": \"#E5ECF6\", \"showlakes\": true, \"showland\": true, \"subunitcolor\": \"white\"}, \"hoverlabel\": {\"align\": \"left\"}, \"hovermode\": \"closest\", \"mapbox\": {\"style\": \"light\"}, \"paper_bgcolor\": \"white\", \"plot_bgcolor\": \"#E5ECF6\", \"polar\": {\"angularaxis\": {\"gridcolor\": \"white\", \"linecolor\": \"white\", \"ticks\": \"\"}, \"bgcolor\": \"#E5ECF6\", \"radialaxis\": {\"gridcolor\": \"white\", \"linecolor\": \"white\", \"ticks\": \"\"}}, \"scene\": {\"xaxis\": {\"backgroundcolor\": \"#E5ECF6\", \"gridcolor\": \"white\", \"gridwidth\": 2, \"linecolor\": \"white\", \"showbackground\": true, \"ticks\": \"\", \"zerolinecolor\": \"white\"}, \"yaxis\": {\"backgroundcolor\": \"#E5ECF6\", \"gridcolor\": \"white\", \"gridwidth\": 2, \"linecolor\": \"white\", \"showbackground\": true, \"ticks\": \"\", \"zerolinecolor\": \"white\"}, \"zaxis\": {\"backgroundcolor\": \"#E5ECF6\", \"gridcolor\": \"white\", \"gridwidth\": 2, \"linecolor\": \"white\", \"showbackground\": true, \"ticks\": \"\", \"zerolinecolor\": \"white\"}}, \"shapedefaults\": {\"line\": {\"color\": \"#2a3f5f\"}}, \"ternary\": {\"aaxis\": {\"gridcolor\": \"white\", \"linecolor\": \"white\", \"ticks\": \"\"}, \"baxis\": {\"gridcolor\": \"white\", \"linecolor\": \"white\", \"ticks\": \"\"}, \"bgcolor\": \"#E5ECF6\", \"caxis\": {\"gridcolor\": \"white\", \"linecolor\": \"white\", \"ticks\": \"\"}}, \"title\": {\"x\": 0.05}, \"xaxis\": {\"automargin\": true, \"gridcolor\": \"white\", \"linecolor\": \"white\", \"ticks\": \"\", \"title\": {\"standoff\": 15}, \"zerolinecolor\": \"white\", \"zerolinewidth\": 2}, \"yaxis\": {\"automargin\": true, \"gridcolor\": \"white\", \"linecolor\": \"white\", \"ticks\": \"\", \"title\": {\"standoff\": 15}, \"zerolinecolor\": \"white\", \"zerolinewidth\": 2}}}, \"title\": {\"text\": \"Italy Positivty Rate\"}, \"xaxis\": {\"anchor\": \"y\", \"domain\": [0.0, 1.0], \"title\": {\"text\": \"Month\"}}, \"yaxis\": {\"anchor\": \"x\", \"domain\": [0.0, 1.0], \"title\": {\"text\": \"Total Deaths\"}}},                        {\"responsive\": true}                    ).then(function(){\n                            \nvar gd = document.getElementById('41f79960-ba19-4da5-af5b-e41c406f16d2');\nvar x = new MutationObserver(function (mutations, observer) {{\n        var display = window.getComputedStyle(gd).display;\n        if (!display || display === 'none') {{\n            console.log([gd, 'removed!']);\n            Plotly.purge(gd);\n            observer.disconnect();\n        }}\n}});\n\n// Listen for the removal of the full notebook cells\nvar notebookContainer = gd.closest('#notebook-container');\nif (notebookContainer) {{\n    x.observe(notebookContainer, {childList: true});\n}}\n\n// Listen for the clearing of the current output cell\nvar outputEl = gd.closest('.output');\nif (outputEl) {{\n    x.observe(outputEl, {childList: true});\n}}\n\n                        })                };                });            </script>        </div>"
     },
     "metadata": {},
     "output_type": "display_data"
    }
   ],
   "source": [
    "covid19DataframeItaly = covid19Dataframe[covid19Dataframe[\"iso_code\"]==\"ITA\"]\n",
    "covid19DataframeItalyGrouped = covid19DataframeItaly.groupby(['Year_Month'], as_index=False)['positive_rate'].mean()\n",
    "covid19DataframeItalyGrouped.sort_values(by=['Year_Month'])\n",
    "fig = px.line(covid19DataframeItalyGrouped, x=\"Year_Month\", y=\"positive_rate\", title='Italy Positivty Rate',  labels={\n",
    "                  \"positive_rate\" : \"Total Deaths\",\n",
    "                \"Year_Month\" : \"Month\"\n",
    "               } )\n",
    "fig.show()"
   ],
   "metadata": {
    "collapsed": false,
    "pycharm": {
     "name": "#%%\n"
    }
   }
  },
  {
   "cell_type": "markdown",
   "source": [
    "### Asia Region Focus"
   ],
   "metadata": {
    "collapsed": false
   }
  },
  {
   "cell_type": "code",
   "execution_count": 11,
   "outputs": [],
   "source": [
    "# Filter dataframe to only include Asian countries on February 21, 2021\n",
    "februaryAsia = covid19Dataframe[covid19Dataframe[\"continent\"] == 'Asia']\n",
    "februaryAsia = februaryAsia[februaryAsia[\"Year\"] == 2021]\n",
    "februaryAsia = februaryAsia[februaryAsia[\"Month\"] == 2]\n",
    "februaryAsia = februaryAsia[februaryAsia[\"Day\"] == 21]"
   ],
   "metadata": {
    "collapsed": false,
    "pycharm": {
     "name": "#%%\n"
    }
   }
  },
  {
   "cell_type": "code",
   "execution_count": 12,
   "outputs": [
    {
     "data": {
      "text/plain": "      iso_code continent   location       date  total_cases  new_cases  \\\n29311      IND      Asia      India 2021-02-21   11005850.0    14199.0   \n30418      IRN      Asia       Iran 2021-02-21    1574012.0     7931.0   \n29668      IDN      Asia  Indonesia 2021-02-21    1278653.0     7300.0   \n65261      TUR      Asia     Turkey 2021-02-21    2638422.0     6546.0   \n31541      ISR      Asia     Israel 2021-02-21     750043.0     5530.0   \n\n       new_cases_smoothed  total_deaths  new_deaths  new_deaths_smoothed  ...  \\\n29311           12751.571      156385.0        83.0               93.286  ...   \n30418            7964.143       59483.0        74.0               76.857  ...   \n29668            8740.714       34489.0       173.0              186.571  ...   \n65261            7462.714       28060.0        77.0               84.143  ...   \n31541            3666.143        5577.0        51.0               27.000  ...   \n\n       female_smokers  male_smokers  handwashing_facilities  \\\n29311             1.9          20.6                  59.550   \n30418             0.8          21.1                     NaN   \n29668             2.8          76.1                  64.204   \n65261            14.1          41.1                     NaN   \n31541            15.4          35.4                     NaN   \n\n       hospital_beds_per_thousand  life_expectancy  human_development_index  \\\n29311                        0.53            69.66                    0.645   \n30418                        1.50            76.68                    0.783   \n29668                        1.04            71.72                    0.718   \n65261                        2.81            77.69                    0.820   \n31541                        2.99            82.97                    0.919   \n\n       Day  Month  Year  Year_Month  \n29311   21      2  2021  2021-02-01  \n30418   21      2  2021  2021-02-01  \n29668   21      2  2021  2021-02-01  \n65261   21      2  2021  2021-02-01  \n31541   21      2  2021  2021-02-01  \n\n[5 rows x 63 columns]",
      "text/html": "<div>\n<style scoped>\n    .dataframe tbody tr th:only-of-type {\n        vertical-align: middle;\n    }\n\n    .dataframe tbody tr th {\n        vertical-align: top;\n    }\n\n    .dataframe thead th {\n        text-align: right;\n    }\n</style>\n<table border=\"1\" class=\"dataframe\">\n  <thead>\n    <tr style=\"text-align: right;\">\n      <th></th>\n      <th>iso_code</th>\n      <th>continent</th>\n      <th>location</th>\n      <th>date</th>\n      <th>total_cases</th>\n      <th>new_cases</th>\n      <th>new_cases_smoothed</th>\n      <th>total_deaths</th>\n      <th>new_deaths</th>\n      <th>new_deaths_smoothed</th>\n      <th>...</th>\n      <th>female_smokers</th>\n      <th>male_smokers</th>\n      <th>handwashing_facilities</th>\n      <th>hospital_beds_per_thousand</th>\n      <th>life_expectancy</th>\n      <th>human_development_index</th>\n      <th>Day</th>\n      <th>Month</th>\n      <th>Year</th>\n      <th>Year_Month</th>\n    </tr>\n  </thead>\n  <tbody>\n    <tr>\n      <th>29311</th>\n      <td>IND</td>\n      <td>Asia</td>\n      <td>India</td>\n      <td>2021-02-21</td>\n      <td>11005850.0</td>\n      <td>14199.0</td>\n      <td>12751.571</td>\n      <td>156385.0</td>\n      <td>83.0</td>\n      <td>93.286</td>\n      <td>...</td>\n      <td>1.9</td>\n      <td>20.6</td>\n      <td>59.550</td>\n      <td>0.53</td>\n      <td>69.66</td>\n      <td>0.645</td>\n      <td>21</td>\n      <td>2</td>\n      <td>2021</td>\n      <td>2021-02-01</td>\n    </tr>\n    <tr>\n      <th>30418</th>\n      <td>IRN</td>\n      <td>Asia</td>\n      <td>Iran</td>\n      <td>2021-02-21</td>\n      <td>1574012.0</td>\n      <td>7931.0</td>\n      <td>7964.143</td>\n      <td>59483.0</td>\n      <td>74.0</td>\n      <td>76.857</td>\n      <td>...</td>\n      <td>0.8</td>\n      <td>21.1</td>\n      <td>NaN</td>\n      <td>1.50</td>\n      <td>76.68</td>\n      <td>0.783</td>\n      <td>21</td>\n      <td>2</td>\n      <td>2021</td>\n      <td>2021-02-01</td>\n    </tr>\n    <tr>\n      <th>29668</th>\n      <td>IDN</td>\n      <td>Asia</td>\n      <td>Indonesia</td>\n      <td>2021-02-21</td>\n      <td>1278653.0</td>\n      <td>7300.0</td>\n      <td>8740.714</td>\n      <td>34489.0</td>\n      <td>173.0</td>\n      <td>186.571</td>\n      <td>...</td>\n      <td>2.8</td>\n      <td>76.1</td>\n      <td>64.204</td>\n      <td>1.04</td>\n      <td>71.72</td>\n      <td>0.718</td>\n      <td>21</td>\n      <td>2</td>\n      <td>2021</td>\n      <td>2021-02-01</td>\n    </tr>\n    <tr>\n      <th>65261</th>\n      <td>TUR</td>\n      <td>Asia</td>\n      <td>Turkey</td>\n      <td>2021-02-21</td>\n      <td>2638422.0</td>\n      <td>6546.0</td>\n      <td>7462.714</td>\n      <td>28060.0</td>\n      <td>77.0</td>\n      <td>84.143</td>\n      <td>...</td>\n      <td>14.1</td>\n      <td>41.1</td>\n      <td>NaN</td>\n      <td>2.81</td>\n      <td>77.69</td>\n      <td>0.820</td>\n      <td>21</td>\n      <td>2</td>\n      <td>2021</td>\n      <td>2021-02-01</td>\n    </tr>\n    <tr>\n      <th>31541</th>\n      <td>ISR</td>\n      <td>Asia</td>\n      <td>Israel</td>\n      <td>2021-02-21</td>\n      <td>750043.0</td>\n      <td>5530.0</td>\n      <td>3666.143</td>\n      <td>5577.0</td>\n      <td>51.0</td>\n      <td>27.000</td>\n      <td>...</td>\n      <td>15.4</td>\n      <td>35.4</td>\n      <td>NaN</td>\n      <td>2.99</td>\n      <td>82.97</td>\n      <td>0.919</td>\n      <td>21</td>\n      <td>2</td>\n      <td>2021</td>\n      <td>2021-02-01</td>\n    </tr>\n  </tbody>\n</table>\n<p>5 rows × 63 columns</p>\n</div>"
     },
     "execution_count": 12,
     "metadata": {},
     "output_type": "execute_result"
    }
   ],
   "source": [
    "# Filter out the top 5 highest new case counts in Asian countries for February 21, 2021\n",
    "top5Countries_newcases = februaryAsia.nlargest(5,'new_cases')\n",
    "top5Countries_newcases"
   ],
   "metadata": {
    "collapsed": false,
    "pycharm": {
     "name": "#%%\n"
    }
   }
  },
  {
   "cell_type": "code",
   "execution_count": 13,
   "outputs": [
    {
     "data": {
      "text/plain": "29311    14199.0\n30418     7931.0\n29668     7300.0\n65261     6546.0\n31541     5530.0\nName: new_cases, dtype: float64"
     },
     "execution_count": 13,
     "metadata": {},
     "output_type": "execute_result"
    }
   ],
   "source": [
    "# Top 5 new case counts\n",
    "asiaNewCases = top5Countries_newcases[\"new_cases\"]\n",
    "asiaNewCases"
   ],
   "metadata": {
    "collapsed": false,
    "pycharm": {
     "name": "#%%\n"
    }
   }
  },
  {
   "cell_type": "code",
   "execution_count": 14,
   "outputs": [
    {
     "data": {
      "text/plain": "29311        India\n30418         Iran\n29668    Indonesia\n65261       Turkey\n31541       Israel\nName: location, dtype: object"
     },
     "execution_count": 14,
     "metadata": {},
     "output_type": "execute_result"
    }
   ],
   "source": [
    "# Top 5 new case countries\n",
    "asiaTop5 = top5Countries_newcases[\"location\"]\n",
    "asiaTop5"
   ],
   "metadata": {
    "collapsed": false,
    "pycharm": {
     "name": "#%%\n"
    }
   }
  },
  {
   "cell_type": "markdown",
   "source": [
    "### A look at new cases in Asian Countries on Febuary 21st in Three different Charts"
   ],
   "metadata": {
    "collapsed": false,
    "pycharm": {
     "name": "#%% md\n"
    }
   }
  },
  {
   "cell_type": "code",
   "execution_count": 15,
   "outputs": [
    {
     "data": {
      "text/plain": "<matplotlib.collections.PathCollection at 0x7f6d491fb280>"
     },
     "execution_count": 15,
     "metadata": {},
     "output_type": "execute_result"
    },
    {
     "data": {
      "text/plain": "<Figure size 432x288 with 1 Axes>",
      "image/png": "[encoded data removed]"
     },
     "metadata": {},
     "output_type": "display_data"
    }
   ],
   "source": [
    "# Using Matplotlib to generate a scatter plot for top 5 largest new cases in Asia\n",
    "plt.scatter(asiaNewCases,asiaTop5)"
   ],
   "metadata": {
    "collapsed": false,
    "pycharm": {
     "name": "#%%\n"
    }
   }
  },
  {
   "cell_type": "code",
   "execution_count": 16,
   "outputs": [
    {
     "data": {
      "text/plain": "[<matplotlib.lines.Line2D at 0x7f6d491b3820>]"
     },
     "execution_count": 16,
     "metadata": {},
     "output_type": "execute_result"
    },
    {
     "data": {
      "text/plain": "<Figure size 432x288 with 1 Axes>",
      "image/png": "[encoded data removed]"
     },
     "metadata": {},
     "output_type": "display_data"
    }
   ],
   "source": [
    "# Using Matplotlib to generate a line plot for top 5 largest new cases in Asia\n",
    "plt.plot(asiaNewCases,asiaTop5)"
   ],
   "metadata": {
    "collapsed": false,
    "pycharm": {
     "name": "#%%\n"
    }
   }
  },
  {
   "cell_type": "code",
   "execution_count": 17,
   "outputs": [
    {
     "data": {
      "text/plain": "<Figure size 432x288 with 1 Axes>",
      "image/png": "[encoded data removed]"
     },
     "metadata": {},
     "output_type": "display_data"
    }
   ],
   "source": [
    "# Using Matplotlib to generate a pie chart with labels\n",
    "pie = plt.pie(asiaNewCases, labels=asiaTop5)\n"
   ],
   "metadata": {
    "collapsed": false,
    "pycharm": {
     "name": "#%%\n"
    }
   }
  },
  {
   "cell_type": "code",
   "execution_count": 18,
   "outputs": [
    {
     "data": {
      "text/plain": "<seaborn.axisgrid.FacetGrid at 0x7f6d4912a490>"
     },
     "execution_count": 18,
     "metadata": {},
     "output_type": "execute_result"
    },
    {
     "data": {
      "text/plain": "<Figure size 453.1x360 with 1 Axes>",
      "image/png": "[encoded data removed]"
     },
     "metadata": {},
     "output_type": "display_data"
    }
   ],
   "source": [
    "# Use Seaborn to create plot graph\n",
    "sns.set_theme()\n",
    "\n",
    "# Create a visualization\n",
    "sns.relplot(\n",
    "    data=top5Countries_newcases,\n",
    "    x=\"new_deaths\", y=\"location\",\n",
    "    hue=\"location\", style=\"location\",\n",
    ")"
   ],
   "metadata": {
    "collapsed": false,
    "pycharm": {
     "name": "#%%\n"
    }
   }
  },
  {
   "cell_type": "code",
   "execution_count": 19,
   "outputs": [
    {
     "data": {
      "application/vnd.plotly.v1+json": {
       "config": {
        "plotlyServerURL": "https://plot.ly"
       },
       "data": [
        {
         "alignmentgroup": "True",
         "hovertemplate": "location=%{x}<br>new_cases=%{y}<extra></extra>",
         "legendgroup": "Afghanistan",
         "marker": {
          "color": "#636efa"
         },
         "name": "Afghanistan",
         "offsetgroup": "Afghanistan",
         "orientation": "v",
         "showlegend": true,
         "textposition": "auto",
         "type": "bar",
         "x": [
          "Afghanistan"
         ],
         "xaxis": "x",
         "y": [
          24.0
         ],
         "yaxis": "y"
        },
        {
         "alignmentgroup": "True",
         "hovertemplate": "location=%{x}<br>new_cases=%{y}<extra></extra>",
         "legendgroup": "Armenia",
         "marker": {
          "color": "#EF553B"
         },
         "name": "Armenia",
         "offsetgroup": "Armenia",
         "orientation": "v",
         "showlegend": true,
         "textposition": "auto",
         "type": "bar",
         "x": [
          "Armenia"
         ],
         "xaxis": "x",
         "y": [
          168.0
         ],
         "yaxis": "y"
        },
        {
         "alignmentgroup": "True",
         "hovertemplate": "location=%{x}<br>new_cases=%{y}<extra></extra>",
         "legendgroup": "Azerbaijan",
         "marker": {
          "color": "#00cc96"
         },
         "name": "Azerbaijan",
         "offsetgroup": "Azerbaijan",
         "orientation": "v",
         "showlegend": true,
         "textposition": "auto",
         "type": "bar",
         "x": [
          "Azerbaijan"
         ],
         "xaxis": "x",
         "y": [
          156.0
         ],
         "yaxis": "y"
        },
        {
         "alignmentgroup": "True",
         "hovertemplate": "location=%{x}<br>new_cases=%{y}<extra></extra>",
         "legendgroup": "Bahrain",
         "marker": {
          "color": "#ab63fa"
         },
         "name": "Bahrain",
         "offsetgroup": "Bahrain",
         "orientation": "v",
         "showlegend": true,
         "textposition": "auto",
         "type": "bar",
         "x": [
          "Bahrain"
         ],
         "xaxis": "x",
         "y": [
          575.0
         ],
         "yaxis": "y"
        },
        {
         "alignmentgroup": "True",
         "hovertemplate": "location=%{x}<br>new_cases=%{y}<extra></extra>",
         "legendgroup": "Bangladesh",
         "marker": {
          "color": "#FFA15A"
         },
         "name": "Bangladesh",
         "offsetgroup": "Bangladesh",
         "orientation": "v",
         "showlegend": true,
         "textposition": "auto",
         "type": "bar",
         "x": [
          "Bangladesh"
         ],
         "xaxis": "x",
         "y": [
          327.0
         ],
         "yaxis": "y"
        },
        {
         "alignmentgroup": "True",
         "hovertemplate": "location=%{x}<br>new_cases=%{y}<extra></extra>",
         "legendgroup": "Bhutan",
         "marker": {
          "color": "#19d3f3"
         },
         "name": "Bhutan",
         "offsetgroup": "Bhutan",
         "orientation": "v",
         "showlegend": true,
         "textposition": "auto",
         "type": "bar",
         "x": [
          "Bhutan"
         ],
         "xaxis": "x",
         "y": [
          0.0
         ],
         "yaxis": "y"
        },
        {
         "alignmentgroup": "True",
         "hovertemplate": "location=%{x}<br>new_cases=%{y}<extra></extra>",
         "legendgroup": "Brunei",
         "marker": {
          "color": "#FF6692"
         },
         "name": "Brunei",
         "offsetgroup": "Brunei",
         "orientation": "v",
         "showlegend": true,
         "textposition": "auto",
         "type": "bar",
         "x": [
          "Brunei"
         ],
         "xaxis": "x",
         "y": [
          0.0
         ],
         "yaxis": "y"
        },
        {
         "alignmentgroup": "True",
         "hovertemplate": "location=%{x}<br>new_cases=%{y}<extra></extra>",
         "legendgroup": "Cambodia",
         "marker": {
          "color": "#B6E880"
         },
         "name": "Cambodia",
         "offsetgroup": "Cambodia",
         "orientation": "v",
         "showlegend": true,
         "textposition": "auto",
         "type": "bar",
         "x": [
          "Cambodia"
         ],
         "xaxis": "x",
         "y": [
          35.0
         ],
         "yaxis": "y"
        },
        {
         "alignmentgroup": "True",
         "hovertemplate": "location=%{x}<br>new_cases=%{y}<extra></extra>",
         "legendgroup": "China",
         "marker": {
          "color": "#FF97FF"
         },
         "name": "China",
         "offsetgroup": "China",
         "orientation": "v",
         "showlegend": true,
         "textposition": "auto",
         "type": "bar",
         "x": [
          "China"
         ],
         "xaxis": "x",
         "y": [
          31.0
         ],
         "yaxis": "y"
        },
        {
         "alignmentgroup": "True",
         "hovertemplate": "location=%{x}<br>new_cases=%{y}<extra></extra>",
         "legendgroup": "Georgia",
         "marker": {
          "color": "#FECB52"
         },
         "name": "Georgia",
         "offsetgroup": "Georgia",
         "orientation": "v",
         "showlegend": true,
         "textposition": "auto",
         "type": "bar",
         "x": [
          "Georgia"
         ],
         "xaxis": "x",
         "y": [
          258.0
         ],
         "yaxis": "y"
        },
        {
         "alignmentgroup": "True",
         "hovertemplate": "location=%{x}<br>new_cases=%{y}<extra></extra>",
         "legendgroup": "India",
         "marker": {
          "color": "#636efa"
         },
         "name": "India",
         "offsetgroup": "India",
         "orientation": "v",
         "showlegend": true,
         "textposition": "auto",
         "type": "bar",
         "x": [
          "India"
         ],
         "xaxis": "x",
         "y": [
          14199.0
         ],
         "yaxis": "y"
        },
        {
         "alignmentgroup": "True",
         "hovertemplate": "location=%{x}<br>new_cases=%{y}<extra></extra>",
         "legendgroup": "Indonesia",
         "marker": {
          "color": "#EF553B"
         },
         "name": "Indonesia",
         "offsetgroup": "Indonesia",
         "orientation": "v",
         "showlegend": true,
         "textposition": "auto",
         "type": "bar",
         "x": [
          "Indonesia"
         ],
         "xaxis": "x",
         "y": [
          7300.0
         ],
         "yaxis": "y"
        },
        {
         "alignmentgroup": "True",
         "hovertemplate": "location=%{x}<br>new_cases=%{y}<extra></extra>",
         "legendgroup": "Iran",
         "marker": {
          "color": "#00cc96"
         },
         "name": "Iran",
         "offsetgroup": "Iran",
         "orientation": "v",
         "showlegend": true,
         "textposition": "auto",
         "type": "bar",
         "x": [
          "Iran"
         ],
         "xaxis": "x",
         "y": [
          7931.0
         ],
         "yaxis": "y"
        },
        {
         "alignmentgroup": "True",
         "hovertemplate": "location=%{x}<br>new_cases=%{y}<extra></extra>",
         "legendgroup": "Iraq",
         "marker": {
          "color": "#ab63fa"
         },
         "name": "Iraq",
         "offsetgroup": "Iraq",
         "orientation": "v",
         "showlegend": true,
         "textposition": "auto",
         "type": "bar",
         "x": [
          "Iraq"
         ],
         "xaxis": "x",
         "y": [
          3187.0
         ],
         "yaxis": "y"
        },
        {
         "alignmentgroup": "True",
         "hovertemplate": "location=%{x}<br>new_cases=%{y}<extra></extra>",
         "legendgroup": "Israel",
         "marker": {
          "color": "#FFA15A"
         },
         "name": "Israel",
         "offsetgroup": "Israel",
         "orientation": "v",
         "showlegend": true,
         "textposition": "auto",
         "type": "bar",
         "x": [
          "Israel"
         ],
         "xaxis": "x",
         "y": [
          5530.0
         ],
         "yaxis": "y"
        },
        {
         "alignmentgroup": "True",
         "hovertemplate": "location=%{x}<br>new_cases=%{y}<extra></extra>",
         "legendgroup": "Japan",
         "marker": {
          "color": "#19d3f3"
         },
         "name": "Japan",
         "offsetgroup": "Japan",
         "orientation": "v",
         "showlegend": true,
         "textposition": "auto",
         "type": "bar",
         "x": [
          "Japan"
         ],
         "xaxis": "x",
         "y": [
          1036.0
         ],
         "yaxis": "y"
        },
        {
         "alignmentgroup": "True",
         "hovertemplate": "location=%{x}<br>new_cases=%{y}<extra></extra>",
         "legendgroup": "Jordan",
         "marker": {
          "color": "#FF6692"
         },
         "name": "Jordan",
         "offsetgroup": "Jordan",
         "orientation": "v",
         "showlegend": true,
         "textposition": "auto",
         "type": "bar",
         "x": [
          "Jordan"
         ],
         "xaxis": "x",
         "y": [
          3917.0
         ],
         "yaxis": "y"
        },
        {
         "alignmentgroup": "True",
         "hovertemplate": "location=%{x}<br>new_cases=%{y}<extra></extra>",
         "legendgroup": "Kazakhstan",
         "marker": {
          "color": "#B6E880"
         },
         "name": "Kazakhstan",
         "offsetgroup": "Kazakhstan",
         "orientation": "v",
         "showlegend": true,
         "textposition": "auto",
         "type": "bar",
         "x": [
          "Kazakhstan"
         ],
         "xaxis": "x",
         "y": [
          712.0
         ],
         "yaxis": "y"
        },
        {
         "alignmentgroup": "True",
         "hovertemplate": "location=%{x}<br>new_cases=%{y}<extra></extra>",
         "legendgroup": "Kuwait",
         "marker": {
          "color": "#FF97FF"
         },
         "name": "Kuwait",
         "offsetgroup": "Kuwait",
         "orientation": "v",
         "showlegend": true,
         "textposition": "auto",
         "type": "bar",
         "x": [
          "Kuwait"
         ],
         "xaxis": "x",
         "y": [
          768.0
         ],
         "yaxis": "y"
        },
        {
         "alignmentgroup": "True",
         "hovertemplate": "location=%{x}<br>new_cases=%{y}<extra></extra>",
         "legendgroup": "Kyrgyzstan",
         "marker": {
          "color": "#FECB52"
         },
         "name": "Kyrgyzstan",
         "offsetgroup": "Kyrgyzstan",
         "orientation": "v",
         "showlegend": true,
         "textposition": "auto",
         "type": "bar",
         "x": [
          "Kyrgyzstan"
         ],
         "xaxis": "x",
         "y": [
          98.0
         ],
         "yaxis": "y"
        },
        {
         "alignmentgroup": "True",
         "hovertemplate": "location=%{x}<br>new_cases=%{y}<extra></extra>",
         "legendgroup": "Laos",
         "marker": {
          "color": "#636efa"
         },
         "name": "Laos",
         "offsetgroup": "Laos",
         "orientation": "v",
         "showlegend": true,
         "textposition": "auto",
         "type": "bar",
         "x": [
          "Laos"
         ],
         "xaxis": "x",
         "y": [
          0.0
         ],
         "yaxis": "y"
        },
        {
         "alignmentgroup": "True",
         "hovertemplate": "location=%{x}<br>new_cases=%{y}<extra></extra>",
         "legendgroup": "Lebanon",
         "marker": {
          "color": "#EF553B"
         },
         "name": "Lebanon",
         "offsetgroup": "Lebanon",
         "orientation": "v",
         "showlegend": true,
         "textposition": "auto",
         "type": "bar",
         "x": [
          "Lebanon"
         ],
         "xaxis": "x",
         "y": [
          1702.0
         ],
         "yaxis": "y"
        },
        {
         "alignmentgroup": "True",
         "hovertemplate": "location=%{x}<br>new_cases=%{y}<extra></extra>",
         "legendgroup": "Malaysia",
         "marker": {
          "color": "#00cc96"
         },
         "name": "Malaysia",
         "offsetgroup": "Malaysia",
         "orientation": "v",
         "showlegend": true,
         "textposition": "auto",
         "type": "bar",
         "x": [
          "Malaysia"
         ],
         "xaxis": "x",
         "y": [
          3297.0
         ],
         "yaxis": "y"
        },
        {
         "alignmentgroup": "True",
         "hovertemplate": "location=%{x}<br>new_cases=%{y}<extra></extra>",
         "legendgroup": "Maldives",
         "marker": {
          "color": "#ab63fa"
         },
         "name": "Maldives",
         "offsetgroup": "Maldives",
         "orientation": "v",
         "showlegend": true,
         "textposition": "auto",
         "type": "bar",
         "x": [
          "Maldives"
         ],
         "xaxis": "x",
         "y": [
          157.0
         ],
         "yaxis": "y"
        },
        {
         "alignmentgroup": "True",
         "hovertemplate": "location=%{x}<br>new_cases=%{y}<extra></extra>",
         "legendgroup": "Mongolia",
         "marker": {
          "color": "#FFA15A"
         },
         "name": "Mongolia",
         "offsetgroup": "Mongolia",
         "orientation": "v",
         "showlegend": true,
         "textposition": "auto",
         "type": "bar",
         "x": [
          "Mongolia"
         ],
         "xaxis": "x",
         "y": [
          55.0
         ],
         "yaxis": "y"
        },
        {
         "alignmentgroup": "True",
         "hovertemplate": "location=%{x}<br>new_cases=%{y}<extra></extra>",
         "legendgroup": "Myanmar",
         "marker": {
          "color": "#19d3f3"
         },
         "name": "Myanmar",
         "offsetgroup": "Myanmar",
         "orientation": "v",
         "showlegend": true,
         "textposition": "auto",
         "type": "bar",
         "x": [
          "Myanmar"
         ],
         "xaxis": "x",
         "y": [
          15.0
         ],
         "yaxis": "y"
        },
        {
         "alignmentgroup": "True",
         "hovertemplate": "location=%{x}<br>new_cases=%{y}<extra></extra>",
         "legendgroup": "Nepal",
         "marker": {
          "color": "#FF6692"
         },
         "name": "Nepal",
         "offsetgroup": "Nepal",
         "orientation": "v",
         "showlegend": true,
         "textposition": "auto",
         "type": "bar",
         "x": [
          "Nepal"
         ],
         "xaxis": "x",
         "y": [
          80.0
         ],
         "yaxis": "y"
        },
        {
         "alignmentgroup": "True",
         "hovertemplate": "location=%{x}<br>new_cases=%{y}<extra></extra>",
         "legendgroup": "Oman",
         "marker": {
          "color": "#B6E880"
         },
         "name": "Oman",
         "offsetgroup": "Oman",
         "orientation": "v",
         "showlegend": true,
         "textposition": "auto",
         "type": "bar",
         "x": [
          "Oman"
         ],
         "xaxis": "x",
         "y": [
          868.0
         ],
         "yaxis": "y"
        },
        {
         "alignmentgroup": "True",
         "hovertemplate": "location=%{x}<br>new_cases=%{y}<extra></extra>",
         "legendgroup": "Pakistan",
         "marker": {
          "color": "#FF97FF"
         },
         "name": "Pakistan",
         "offsetgroup": "Pakistan",
         "orientation": "v",
         "showlegend": true,
         "textposition": "auto",
         "type": "bar",
         "x": [
          "Pakistan"
         ],
         "xaxis": "x",
         "y": [
          1160.0
         ],
         "yaxis": "y"
        },
        {
         "alignmentgroup": "True",
         "hovertemplate": "location=%{x}<br>new_cases=%{y}<extra></extra>",
         "legendgroup": "Palestine",
         "marker": {
          "color": "#FECB52"
         },
         "name": "Palestine",
         "offsetgroup": "Palestine",
         "orientation": "v",
         "showlegend": true,
         "textposition": "auto",
         "type": "bar",
         "x": [
          "Palestine"
         ],
         "xaxis": "x",
         "y": [
          1320.0
         ],
         "yaxis": "y"
        },
        {
         "alignmentgroup": "True",
         "hovertemplate": "location=%{x}<br>new_cases=%{y}<extra></extra>",
         "legendgroup": "Philippines",
         "marker": {
          "color": "#636efa"
         },
         "name": "Philippines",
         "offsetgroup": "Philippines",
         "orientation": "v",
         "showlegend": true,
         "textposition": "auto",
         "type": "bar",
         "x": [
          "Philippines"
         ],
         "xaxis": "x",
         "y": [
          1881.0
         ],
         "yaxis": "y"
        },
        {
         "alignmentgroup": "True",
         "hovertemplate": "location=%{x}<br>new_cases=%{y}<extra></extra>",
         "legendgroup": "Qatar",
         "marker": {
          "color": "#EF553B"
         },
         "name": "Qatar",
         "offsetgroup": "Qatar",
         "orientation": "v",
         "showlegend": true,
         "textposition": "auto",
         "type": "bar",
         "x": [
          "Qatar"
         ],
         "xaxis": "x",
         "y": [
          459.0
         ],
         "yaxis": "y"
        },
        {
         "alignmentgroup": "True",
         "hovertemplate": "location=%{x}<br>new_cases=%{y}<extra></extra>",
         "legendgroup": "Saudi Arabia",
         "marker": {
          "color": "#00cc96"
         },
         "name": "Saudi Arabia",
         "offsetgroup": "Saudi Arabia",
         "orientation": "v",
         "showlegend": true,
         "textposition": "auto",
         "type": "bar",
         "x": [
          "Saudi Arabia"
         ],
         "xaxis": "x",
         "y": [
          315.0
         ],
         "yaxis": "y"
        },
        {
         "alignmentgroup": "True",
         "hovertemplate": "location=%{x}<br>new_cases=%{y}<extra></extra>",
         "legendgroup": "Singapore",
         "marker": {
          "color": "#ab63fa"
         },
         "name": "Singapore",
         "offsetgroup": "Singapore",
         "orientation": "v",
         "showlegend": true,
         "textposition": "auto",
         "type": "bar",
         "x": [
          "Singapore"
         ],
         "xaxis": "x",
         "y": [
          11.0
         ],
         "yaxis": "y"
        },
        {
         "alignmentgroup": "True",
         "hovertemplate": "location=%{x}<br>new_cases=%{y}<extra></extra>",
         "legendgroup": "South Korea",
         "marker": {
          "color": "#FFA15A"
         },
         "name": "South Korea",
         "offsetgroup": "South Korea",
         "orientation": "v",
         "showlegend": true,
         "textposition": "auto",
         "type": "bar",
         "x": [
          "South Korea"
         ],
         "xaxis": "x",
         "y": [
          332.0
         ],
         "yaxis": "y"
        },
        {
         "alignmentgroup": "True",
         "hovertemplate": "location=%{x}<br>new_cases=%{y}<extra></extra>",
         "legendgroup": "Sri Lanka",
         "marker": {
          "color": "#19d3f3"
         },
         "name": "Sri Lanka",
         "offsetgroup": "Sri Lanka",
         "orientation": "v",
         "showlegend": true,
         "textposition": "auto",
         "type": "bar",
         "x": [
          "Sri Lanka"
         ],
         "xaxis": "x",
         "y": [
          519.0
         ],
         "yaxis": "y"
        },
        {
         "alignmentgroup": "True",
         "hovertemplate": "location=%{x}<br>new_cases=%{y}<extra></extra>",
         "legendgroup": "Syria",
         "marker": {
          "color": "#FF6692"
         },
         "name": "Syria",
         "offsetgroup": "Syria",
         "orientation": "v",
         "showlegend": true,
         "textposition": "auto",
         "type": "bar",
         "x": [
          "Syria"
         ],
         "xaxis": "x",
         "y": [
          36.0
         ],
         "yaxis": "y"
        },
        {
         "alignmentgroup": "True",
         "hovertemplate": "location=%{x}<br>new_cases=%{y}<extra></extra>",
         "legendgroup": "Taiwan",
         "marker": {
          "color": "#B6E880"
         },
         "name": "Taiwan",
         "offsetgroup": "Taiwan",
         "orientation": "v",
         "showlegend": true,
         "textposition": "auto",
         "type": "bar",
         "x": [
          "Taiwan"
         ],
         "xaxis": "x",
         "y": [
          0.0
         ],
         "yaxis": "y"
        },
        {
         "alignmentgroup": "True",
         "hovertemplate": "location=%{x}<br>new_cases=%{y}<extra></extra>",
         "legendgroup": "Tajikistan",
         "marker": {
          "color": "#FF97FF"
         },
         "name": "Tajikistan",
         "offsetgroup": "Tajikistan",
         "orientation": "v",
         "showlegend": true,
         "textposition": "auto",
         "type": "bar",
         "x": [
          "Tajikistan"
         ],
         "xaxis": "x",
         "y": [
          0.0
         ],
         "yaxis": "y"
        },
        {
         "alignmentgroup": "True",
         "hovertemplate": "location=%{x}<br>new_cases=%{y}<extra></extra>",
         "legendgroup": "Thailand",
         "marker": {
          "color": "#FECB52"
         },
         "name": "Thailand",
         "offsetgroup": "Thailand",
         "orientation": "v",
         "showlegend": true,
         "textposition": "auto",
         "type": "bar",
         "x": [
          "Thailand"
         ],
         "xaxis": "x",
         "y": [
          181.0
         ],
         "yaxis": "y"
        },
        {
         "alignmentgroup": "True",
         "hovertemplate": "location=%{x}<br>new_cases=%{y}<extra></extra>",
         "legendgroup": "Timor",
         "marker": {
          "color": "#636efa"
         },
         "name": "Timor",
         "offsetgroup": "Timor",
         "orientation": "v",
         "showlegend": true,
         "textposition": "auto",
         "type": "bar",
         "x": [
          "Timor"
         ],
         "xaxis": "x",
         "y": [
          0.0
         ],
         "yaxis": "y"
        },
        {
         "alignmentgroup": "True",
         "hovertemplate": "location=%{x}<br>new_cases=%{y}<extra></extra>",
         "legendgroup": "Turkey",
         "marker": {
          "color": "#EF553B"
         },
         "name": "Turkey",
         "offsetgroup": "Turkey",
         "orientation": "v",
         "showlegend": true,
         "textposition": "auto",
         "type": "bar",
         "x": [
          "Turkey"
         ],
         "xaxis": "x",
         "y": [
          6546.0
         ],
         "yaxis": "y"
        },
        {
         "alignmentgroup": "True",
         "hovertemplate": "location=%{x}<br>new_cases=%{y}<extra></extra>",
         "legendgroup": "United Arab Emirates",
         "marker": {
          "color": "#00cc96"
         },
         "name": "United Arab Emirates",
         "offsetgroup": "United Arab Emirates",
         "orientation": "v",
         "showlegend": true,
         "textposition": "auto",
         "type": "bar",
         "x": [
          "United Arab Emirates"
         ],
         "xaxis": "x",
         "y": [
          2250.0
         ],
         "yaxis": "y"
        },
        {
         "alignmentgroup": "True",
         "hovertemplate": "location=%{x}<br>new_cases=%{y}<extra></extra>",
         "legendgroup": "Uzbekistan",
         "marker": {
          "color": "#ab63fa"
         },
         "name": "Uzbekistan",
         "offsetgroup": "Uzbekistan",
         "orientation": "v",
         "showlegend": true,
         "textposition": "auto",
         "type": "bar",
         "x": [
          "Uzbekistan"
         ],
         "xaxis": "x",
         "y": [
          22.0
         ],
         "yaxis": "y"
        },
        {
         "alignmentgroup": "True",
         "hovertemplate": "location=%{x}<br>new_cases=%{y}<extra></extra>",
         "legendgroup": "Vietnam",
         "marker": {
          "color": "#FFA15A"
         },
         "name": "Vietnam",
         "offsetgroup": "Vietnam",
         "orientation": "v",
         "showlegend": true,
         "textposition": "auto",
         "type": "bar",
         "x": [
          "Vietnam"
         ],
         "xaxis": "x",
         "y": [
          15.0
         ],
         "yaxis": "y"
        },
        {
         "alignmentgroup": "True",
         "hovertemplate": "location=%{x}<br>new_cases=%{y}<extra></extra>",
         "legendgroup": "Yemen",
         "marker": {
          "color": "#19d3f3"
         },
         "name": "Yemen",
         "offsetgroup": "Yemen",
         "orientation": "v",
         "showlegend": true,
         "textposition": "auto",
         "type": "bar",
         "x": [
          "Yemen"
         ],
         "xaxis": "x",
         "y": [
          8.0
         ],
         "yaxis": "y"
        }
       ],
       "layout": {
        "barmode": "relative",
        "legend": {
         "title": {
          "text": "location"
         },
         "tracegroupgap": 0
        },
        "template": {
         "data": {
          "bar": [
           {
            "error_x": {
             "color": "#2a3f5f"
            },
            "error_y": {
             "color": "#2a3f5f"
            },
            "marker": {
             "line": {
              "color": "#E5ECF6",
              "width": 0.5
             }
            },
            "type": "bar"
           }
          ],
          "barpolar": [
           {
            "marker": {
             "line": {
              "color": "#E5ECF6",
              "width": 0.5
             }
            },
            "type": "barpolar"
           }
          ],
          "carpet": [
           {
            "aaxis": {
             "endlinecolor": "#2a3f5f",
             "gridcolor": "white",
             "linecolor": "white",
             "minorgridcolor": "white",
             "startlinecolor": "#2a3f5f"
            },
            "baxis": {
             "endlinecolor": "#2a3f5f",
             "gridcolor": "white",
             "linecolor": "white",
             "minorgridcolor": "white",
             "startlinecolor": "#2a3f5f"
            },
            "type": "carpet"
           }
          ],
          "choropleth": [
           {
            "colorbar": {
             "outlinewidth": 0,
             "ticks": ""
            },
            "type": "choropleth"
           }
          ],
          "contour": [
           {
            "colorbar": {
             "outlinewidth": 0,
             "ticks": ""
            },
            "colorscale": [
             [
              0.0,
              "#0d0887"
             ],
             [
              0.1111111111111111,
              "#46039f"
             ],
             [
              0.2222222222222222,
              "#7201a8"
             ],
             [
              0.3333333333333333,
              "#9c179e"
             ],
             [
              0.4444444444444444,
              "#bd3786"
             ],
             [
              0.5555555555555556,
              "#d8576b"
             ],
             [
              0.6666666666666666,
              "#ed7953"
             ],
             [
              0.7777777777777778,
              "#fb9f3a"
             ],
             [
              0.8888888888888888,
              "#fdca26"
             ],
             [
              1.0,
              "#f0f921"
             ]
            ],
            "type": "contour"
           }
          ],
          "contourcarpet": [
           {
            "colorbar": {
             "outlinewidth": 0,
             "ticks": ""
            },
            "type": "contourcarpet"
           }
          ],
          "heatmap": [
           {
            "colorbar": {
             "outlinewidth": 0,
             "ticks": ""
            },
            "colorscale": [
             [
              0.0,
              "#0d0887"
             ],
             [
              0.1111111111111111,
              "#46039f"
             ],
             [
              0.2222222222222222,
              "#7201a8"
             ],
             [
              0.3333333333333333,
              "#9c179e"
             ],
             [
              0.4444444444444444,
              "#bd3786"
             ],
             [
              0.5555555555555556,
              "#d8576b"
             ],
             [
              0.6666666666666666,
              "#ed7953"
             ],
             [
              0.7777777777777778,
              "#fb9f3a"
             ],
             [
              0.8888888888888888,
              "#fdca26"
             ],
             [
              1.0,
              "#f0f921"
             ]
            ],
            "type": "heatmap"
           }
          ],
          "heatmapgl": [
           {
            "colorbar": {
             "outlinewidth": 0,
             "ticks": ""
            },
            "colorscale": [
             [
              0.0,
              "#0d0887"
             ],
             [
              0.1111111111111111,
              "#46039f"
             ],
             [
              0.2222222222222222,
              "#7201a8"
             ],
             [
              0.3333333333333333,
              "#9c179e"
             ],
             [
              0.4444444444444444,
              "#bd3786"
             ],
             [
              0.5555555555555556,
              "#d8576b"
             ],
             [
              0.6666666666666666,
              "#ed7953"
             ],
             [
              0.7777777777777778,
              "#fb9f3a"
             ],
             [
              0.8888888888888888,
              "#fdca26"
             ],
             [
              1.0,
              "#f0f921"
             ]
            ],
            "type": "heatmapgl"
           }
          ],
          "histogram": [
           {
            "marker": {
             "colorbar": {
              "outlinewidth": 0,
              "ticks": ""
             }
            },
            "type": "histogram"
           }
          ],
          "histogram2d": [
           {
            "colorbar": {
             "outlinewidth": 0,
             "ticks": ""
            },
            "colorscale": [
             [
              0.0,
              "#0d0887"
             ],
             [
              0.1111111111111111,
              "#46039f"
             ],
             [
              0.2222222222222222,
              "#7201a8"
             ],
             [
              0.3333333333333333,
              "#9c179e"
             ],
             [
              0.4444444444444444,
              "#bd3786"
             ],
             [
              0.5555555555555556,
              "#d8576b"
             ],
             [
              0.6666666666666666,
              "#ed7953"
             ],
             [
              0.7777777777777778,
              "#fb9f3a"
             ],
             [
              0.8888888888888888,
              "#fdca26"
             ],
             [
              1.0,
              "#f0f921"
             ]
            ],
            "type": "histogram2d"
           }
          ],
          "histogram2dcontour": [
           {
            "colorbar": {
             "outlinewidth": 0,
             "ticks": ""
            },
            "colorscale": [
             [
              0.0,
              "#0d0887"
             ],
             [
              0.1111111111111111,
              "#46039f"
             ],
             [
              0.2222222222222222,
              "#7201a8"
             ],
             [
              0.3333333333333333,
              "#9c179e"
             ],
             [
              0.4444444444444444,
              "#bd3786"
             ],
             [
              0.5555555555555556,
              "#d8576b"
             ],
             [
              0.6666666666666666,
              "#ed7953"
             ],
             [
              0.7777777777777778,
              "#fb9f3a"
             ],
             [
              0.8888888888888888,
              "#fdca26"
             ],
             [
              1.0,
              "#f0f921"
             ]
            ],
            "type": "histogram2dcontour"
           }
          ],
          "mesh3d": [
           {
            "colorbar": {
             "outlinewidth": 0,
             "ticks": ""
            },
            "type": "mesh3d"
           }
          ],
          "parcoords": [
           {
            "line": {
             "colorbar": {
              "outlinewidth": 0,
              "ticks": ""
             }
            },
            "type": "parcoords"
           }
          ],
          "pie": [
           {
            "automargin": true,
            "type": "pie"
           }
          ],
          "scatter": [
           {
            "marker": {
             "colorbar": {
              "outlinewidth": 0,
              "ticks": ""
             }
            },
            "type": "scatter"
           }
          ],
          "scatter3d": [
           {
            "line": {
             "colorbar": {
              "outlinewidth": 0,
              "ticks": ""
             }
            },
            "marker": {
             "colorbar": {
              "outlinewidth": 0,
              "ticks": ""
             }
            },
            "type": "scatter3d"
           }
          ],
          "scattercarpet": [
           {
            "marker": {
             "colorbar": {
              "outlinewidth": 0,
              "ticks": ""
             }
            },
            "type": "scattercarpet"
           }
          ],
          "scattergeo": [
           {
            "marker": {
             "colorbar": {
              "outlinewidth": 0,
              "ticks": ""
             }
            },
            "type": "scattergeo"
           }
          ],
          "scattergl": [
           {
            "marker": {
             "colorbar": {
              "outlinewidth": 0,
              "ticks": ""
             }
            },
            "type": "scattergl"
           }
          ],
          "scattermapbox": [
           {
            "marker": {
             "colorbar": {
              "outlinewidth": 0,
              "ticks": ""
             }
            },
            "type": "scattermapbox"
           }
          ],
          "scatterpolar": [
           {
            "marker": {
             "colorbar": {
              "outlinewidth": 0,
              "ticks": ""
             }
            },
            "type": "scatterpolar"
           }
          ],
          "scatterpolargl": [
           {
            "marker": {
             "colorbar": {
              "outlinewidth": 0,
              "ticks": ""
             }
            },
            "type": "scatterpolargl"
           }
          ],
          "scatterternary": [
           {
            "marker": {
             "colorbar": {
              "outlinewidth": 0,
              "ticks": ""
             }
            },
            "type": "scatterternary"
           }
          ],
          "surface": [
           {
            "colorbar": {
             "outlinewidth": 0,
             "ticks": ""
            },
            "colorscale": [
             [
              0.0,
              "#0d0887"
             ],
             [
              0.1111111111111111,
              "#46039f"
             ],
             [
              0.2222222222222222,
              "#7201a8"
             ],
             [
              0.3333333333333333,
              "#9c179e"
             ],
             [
              0.4444444444444444,
              "#bd3786"
             ],
             [
              0.5555555555555556,
              "#d8576b"
             ],
             [
              0.6666666666666666,
              "#ed7953"
             ],
             [
              0.7777777777777778,
              "#fb9f3a"
             ],
             [
              0.8888888888888888,
              "#fdca26"
             ],
             [
              1.0,
              "#f0f921"
             ]
            ],
            "type": "surface"
           }
          ],
          "table": [
           {
            "cells": {
             "fill": {
              "color": "#EBF0F8"
             },
             "line": {
              "color": "white"
             }
            },
            "header": {
             "fill": {
              "color": "#C8D4E3"
             },
             "line": {
              "color": "white"
             }
            },
            "type": "table"
           }
          ]
         },
         "layout": {
          "annotationdefaults": {
           "arrowcolor": "#2a3f5f",
           "arrowhead": 0,
           "arrowwidth": 1
          },
          "autotypenumbers": "strict",
          "coloraxis": {
           "colorbar": {
            "outlinewidth": 0,
            "ticks": ""
           }
          },
          "colorscale": {
           "diverging": [
            [
             0,
             "#8e0152"
            ],
            [
             0.1,
             "#c51b7d"
            ],
            [
             0.2,
             "#de77ae"
            ],
            [
             0.3,
             "#f1b6da"
            ],
            [
             0.4,
             "#fde0ef"
            ],
            [
             0.5,
             "#f7f7f7"
            ],
            [
             0.6,
             "#e6f5d0"
            ],
            [
             0.7,
             "#b8e186"
            ],
            [
             0.8,
             "#7fbc41"
            ],
            [
             0.9,
             "#4d9221"
            ],
            [
             1,
             "#276419"
            ]
           ],
           "sequential": [
            [
             0.0,
             "#0d0887"
            ],
            [
             0.1111111111111111,
             "#46039f"
            ],
            [
             0.2222222222222222,
             "#7201a8"
            ],
            [
             0.3333333333333333,
             "#9c179e"
            ],
            [
             0.4444444444444444,
             "#bd3786"
            ],
            [
             0.5555555555555556,
             "#d8576b"
            ],
            [
             0.6666666666666666,
             "#ed7953"
            ],
            [
             0.7777777777777778,
             "#fb9f3a"
            ],
            [
             0.8888888888888888,
             "#fdca26"
            ],
            [
             1.0,
             "#f0f921"
            ]
           ],
           "sequentialminus": [
            [
             0.0,
             "#0d0887"
            ],
            [
             0.1111111111111111,
             "#46039f"
            ],
            [
             0.2222222222222222,
             "#7201a8"
            ],
            [
             0.3333333333333333,
             "#9c179e"
            ],
            [
             0.4444444444444444,
             "#bd3786"
            ],
            [
             0.5555555555555556,
             "#d8576b"
            ],
            [
             0.6666666666666666,
             "#ed7953"
            ],
            [
             0.7777777777777778,
             "#fb9f3a"
            ],
            [
             0.8888888888888888,
             "#fdca26"
            ],
            [
             1.0,
             "#f0f921"
            ]
           ]
          },
          "colorway": [
           "#636efa",
           "#EF553B",
           "#00cc96",
           "#ab63fa",
           "#FFA15A",
           "#19d3f3",
           "#FF6692",
           "#B6E880",
           "#FF97FF",
           "#FECB52"
          ],
          "font": {
           "color": "#2a3f5f"
          },
          "geo": {
           "bgcolor": "white",
           "lakecolor": "white",
           "landcolor": "#E5ECF6",
           "showlakes": true,
           "showland": true,
           "subunitcolor": "white"
          },
          "hoverlabel": {
           "align": "left"
          },
          "hovermode": "closest",
          "mapbox": {
           "style": "light"
          },
          "paper_bgcolor": "white",
          "plot_bgcolor": "#E5ECF6",
          "polar": {
           "angularaxis": {
            "gridcolor": "white",
            "linecolor": "white",
            "ticks": ""
           },
           "bgcolor": "#E5ECF6",
           "radialaxis": {
            "gridcolor": "white",
            "linecolor": "white",
            "ticks": ""
           }
          },
          "scene": {
           "xaxis": {
            "backgroundcolor": "#E5ECF6",
            "gridcolor": "white",
            "gridwidth": 2,
            "linecolor": "white",
            "showbackground": true,
            "ticks": "",
            "zerolinecolor": "white"
           },
           "yaxis": {
            "backgroundcolor": "#E5ECF6",
            "gridcolor": "white",
            "gridwidth": 2,
            "linecolor": "white",
            "showbackground": true,
            "ticks": "",
            "zerolinecolor": "white"
           },
           "zaxis": {
            "backgroundcolor": "#E5ECF6",
            "gridcolor": "white",
            "gridwidth": 2,
            "linecolor": "white",
            "showbackground": true,
            "ticks": "",
            "zerolinecolor": "white"
           }
          },
          "shapedefaults": {
           "line": {
            "color": "#2a3f5f"
           }
          },
          "ternary": {
           "aaxis": {
            "gridcolor": "white",
            "linecolor": "white",
            "ticks": ""
           },
           "baxis": {
            "gridcolor": "white",
            "linecolor": "white",
            "ticks": ""
           },
           "bgcolor": "#E5ECF6",
           "caxis": {
            "gridcolor": "white",
            "linecolor": "white",
            "ticks": ""
           }
          },
          "title": {
           "x": 0.05
          },
          "xaxis": {
           "automargin": true,
           "gridcolor": "white",
           "linecolor": "white",
           "ticks": "",
           "title": {
            "standoff": 15
           },
           "zerolinecolor": "white",
           "zerolinewidth": 2
          },
          "yaxis": {
           "automargin": true,
           "gridcolor": "white",
           "linecolor": "white",
           "ticks": "",
           "title": {
            "standoff": 15
           },
           "zerolinecolor": "white",
           "zerolinewidth": 2
          }
         }
        },
        "title": {
         "text": "February 21, 2021 New Cases in Asia"
        },
        "xaxis": {
         "anchor": "y",
         "categoryarray": [
          "Afghanistan",
          "Armenia",
          "Azerbaijan",
          "Bahrain",
          "Bangladesh",
          "Bhutan",
          "Brunei",
          "Cambodia",
          "China",
          "Georgia",
          "India",
          "Indonesia",
          "Iran",
          "Iraq",
          "Israel",
          "Japan",
          "Jordan",
          "Kazakhstan",
          "Kuwait",
          "Kyrgyzstan",
          "Laos",
          "Lebanon",
          "Malaysia",
          "Maldives",
          "Mongolia",
          "Myanmar",
          "Nepal",
          "Oman",
          "Pakistan",
          "Palestine",
          "Philippines",
          "Qatar",
          "Saudi Arabia",
          "Singapore",
          "South Korea",
          "Sri Lanka",
          "Syria",
          "Taiwan",
          "Tajikistan",
          "Thailand",
          "Timor",
          "Turkey",
          "United Arab Emirates",
          "Uzbekistan",
          "Vietnam",
          "Yemen"
         ],
         "categoryorder": "array",
         "domain": [
          0.0,
          1.0
         ],
         "title": {
          "text": "location"
         }
        },
        "yaxis": {
         "anchor": "x",
         "domain": [
          0.0,
          1.0
         ],
         "title": {
          "text": "new_cases"
         }
        }
       }
      },
      "text/html": "<div>                            <div id=\"08e8a19e-09f9-45ae-ae97-76470629e31d\" class=\"plotly-graph-div\" style=\"height:525px; width:100%;\"></div>            <script type=\"text/javascript\">                require([\"plotly\"], function(Plotly) {                    window.PLOTLYENV=window.PLOTLYENV || {};                                    if (document.getElementById(\"08e8a19e-09f9-45ae-ae97-76470629e31d\")) {                    Plotly.newPlot(                        \"08e8a19e-09f9-45ae-ae97-76470629e31d\",                        [{\"alignmentgroup\": \"True\", \"hovertemplate\": \"location=%{x}<br>new_cases=%{y}<extra></extra>\", \"legendgroup\": \"Afghanistan\", \"marker\": {\"color\": \"#636efa\"}, \"name\": \"Afghanistan\", \"offsetgroup\": \"Afghanistan\", \"orientation\": \"v\", \"showlegend\": true, \"textposition\": \"auto\", \"type\": \"bar\", \"x\": [\"Afghanistan\"], \"xaxis\": \"x\", \"y\": [24.0], \"yaxis\": \"y\"}, {\"alignmentgroup\": \"True\", \"hovertemplate\": \"location=%{x}<br>new_cases=%{y}<extra></extra>\", \"legendgroup\": \"Armenia\", \"marker\": {\"color\": \"#EF553B\"}, \"name\": \"Armenia\", \"offsetgroup\": \"Armenia\", \"orientation\": \"v\", \"showlegend\": true, \"textposition\": \"auto\", \"type\": \"bar\", \"x\": [\"Armenia\"], \"xaxis\": \"x\", \"y\": [168.0], \"yaxis\": \"y\"}, {\"alignmentgroup\": \"True\", \"hovertemplate\": \"location=%{x}<br>new_cases=%{y}<extra></extra>\", \"legendgroup\": \"Azerbaijan\", \"marker\": {\"color\": \"#00cc96\"}, \"name\": \"Azerbaijan\", \"offsetgroup\": \"Azerbaijan\", \"orientation\": \"v\", \"showlegend\": true, \"textposition\": \"auto\", \"type\": \"bar\", \"x\": [\"Azerbaijan\"], \"xaxis\": \"x\", \"y\": [156.0], \"yaxis\": \"y\"}, {\"alignmentgroup\": \"True\", \"hovertemplate\": \"location=%{x}<br>new_cases=%{y}<extra></extra>\", \"legendgroup\": \"Bahrain\", \"marker\": {\"color\": \"#ab63fa\"}, \"name\": \"Bahrain\", \"offsetgroup\": \"Bahrain\", \"orientation\": \"v\", \"showlegend\": true, \"textposition\": \"auto\", \"type\": \"bar\", \"x\": [\"Bahrain\"], \"xaxis\": \"x\", \"y\": [575.0], \"yaxis\": \"y\"}, {\"alignmentgroup\": \"True\", \"hovertemplate\": \"location=%{x}<br>new_cases=%{y}<extra></extra>\", \"legendgroup\": \"Bangladesh\", \"marker\": {\"color\": \"#FFA15A\"}, \"name\": \"Bangladesh\", \"offsetgroup\": \"Bangladesh\", \"orientation\": \"v\", \"showlegend\": true, \"textposition\": \"auto\", \"type\": \"bar\", \"x\": [\"Bangladesh\"], \"xaxis\": \"x\", \"y\": [327.0], \"yaxis\": \"y\"}, {\"alignmentgroup\": \"True\", \"hovertemplate\": \"location=%{x}<br>new_cases=%{y}<extra></extra>\", \"legendgroup\": \"Bhutan\", \"marker\": {\"color\": \"#19d3f3\"}, \"name\": \"Bhutan\", \"offsetgroup\": \"Bhutan\", \"orientation\": \"v\", \"showlegend\": true, \"textposition\": \"auto\", \"type\": \"bar\", \"x\": [\"Bhutan\"], \"xaxis\": \"x\", \"y\": [0.0], \"yaxis\": \"y\"}, {\"alignmentgroup\": \"True\", \"hovertemplate\": \"location=%{x}<br>new_cases=%{y}<extra></extra>\", \"legendgroup\": \"Brunei\", \"marker\": {\"color\": \"#FF6692\"}, \"name\": \"Brunei\", \"offsetgroup\": \"Brunei\", \"orientation\": \"v\", \"showlegend\": true, \"textposition\": \"auto\", \"type\": \"bar\", \"x\": [\"Brunei\"], \"xaxis\": \"x\", \"y\": [0.0], \"yaxis\": \"y\"}, {\"alignmentgroup\": \"True\", \"hovertemplate\": \"location=%{x}<br>new_cases=%{y}<extra></extra>\", \"legendgroup\": \"Cambodia\", \"marker\": {\"color\": \"#B6E880\"}, \"name\": \"Cambodia\", \"offsetgroup\": \"Cambodia\", \"orientation\": \"v\", \"showlegend\": true, \"textposition\": \"auto\", \"type\": \"bar\", \"x\": [\"Cambodia\"], \"xaxis\": \"x\", \"y\": [35.0], \"yaxis\": \"y\"}, {\"alignmentgroup\": \"True\", \"hovertemplate\": \"location=%{x}<br>new_cases=%{y}<extra></extra>\", \"legendgroup\": \"China\", \"marker\": {\"color\": \"#FF97FF\"}, \"name\": \"China\", \"offsetgroup\": \"China\", \"orientation\": \"v\", \"showlegend\": true, \"textposition\": \"auto\", \"type\": \"bar\", \"x\": [\"China\"], \"xaxis\": \"x\", \"y\": [31.0], \"yaxis\": \"y\"}, {\"alignmentgroup\": \"True\", \"hovertemplate\": \"location=%{x}<br>new_cases=%{y}<extra></extra>\", \"legendgroup\": \"Georgia\", \"marker\": {\"color\": \"#FECB52\"}, \"name\": \"Georgia\", \"offsetgroup\": \"Georgia\", \"orientation\": \"v\", \"showlegend\": true, \"textposition\": \"auto\", \"type\": \"bar\", \"x\": [\"Georgia\"], \"xaxis\": \"x\", \"y\": [258.0], \"yaxis\": \"y\"}, {\"alignmentgroup\": \"True\", \"hovertemplate\": \"location=%{x}<br>new_cases=%{y}<extra></extra>\", \"legendgroup\": \"India\", \"marker\": {\"color\": \"#636efa\"}, \"name\": \"India\", \"offsetgroup\": \"India\", \"orientation\": \"v\", \"showlegend\": true, \"textposition\": \"auto\", \"type\": \"bar\", \"x\": [\"India\"], \"xaxis\": \"x\", \"y\": [14199.0], \"yaxis\": \"y\"}, {\"alignmentgroup\": \"True\", \"hovertemplate\": \"location=%{x}<br>new_cases=%{y}<extra></extra>\", \"legendgroup\": \"Indonesia\", \"marker\": {\"color\": \"#EF553B\"}, \"name\": \"Indonesia\", \"offsetgroup\": \"Indonesia\", \"orientation\": \"v\", \"showlegend\": true, \"textposition\": \"auto\", \"type\": \"bar\", \"x\": [\"Indonesia\"], \"xaxis\": \"x\", \"y\": [7300.0], \"yaxis\": \"y\"}, {\"alignmentgroup\": \"True\", \"hovertemplate\": \"location=%{x}<br>new_cases=%{y}<extra></extra>\", \"legendgroup\": \"Iran\", \"marker\": {\"color\": \"#00cc96\"}, \"name\": \"Iran\", \"offsetgroup\": \"Iran\", \"orientation\": \"v\", \"showlegend\": true, \"textposition\": \"auto\", \"type\": \"bar\", \"x\": [\"Iran\"], \"xaxis\": \"x\", \"y\": [7931.0], \"yaxis\": \"y\"}, {\"alignmentgroup\": \"True\", \"hovertemplate\": \"location=%{x}<br>new_cases=%{y}<extra></extra>\", \"legendgroup\": \"Iraq\", \"marker\": {\"color\": \"#ab63fa\"}, \"name\": \"Iraq\", \"offsetgroup\": \"Iraq\", \"orientation\": \"v\", \"showlegend\": true, \"textposition\": \"auto\", \"type\": \"bar\", \"x\": [\"Iraq\"], \"xaxis\": \"x\", \"y\": [3187.0], \"yaxis\": \"y\"}, {\"alignmentgroup\": \"True\", \"hovertemplate\": \"location=%{x}<br>new_cases=%{y}<extra></extra>\", \"legendgroup\": \"Israel\", \"marker\": {\"color\": \"#FFA15A\"}, \"name\": \"Israel\", \"offsetgroup\": \"Israel\", \"orientation\": \"v\", \"showlegend\": true, \"textposition\": \"auto\", \"type\": \"bar\", \"x\": [\"Israel\"], \"xaxis\": \"x\", \"y\": [5530.0], \"yaxis\": \"y\"}, {\"alignmentgroup\": \"True\", \"hovertemplate\": \"location=%{x}<br>new_cases=%{y}<extra></extra>\", \"legendgroup\": \"Japan\", \"marker\": {\"color\": \"#19d3f3\"}, \"name\": \"Japan\", \"offsetgroup\": \"Japan\", \"orientation\": \"v\", \"showlegend\": true, \"textposition\": \"auto\", \"type\": \"bar\", \"x\": [\"Japan\"], \"xaxis\": \"x\", \"y\": [1036.0], \"yaxis\": \"y\"}, {\"alignmentgroup\": \"True\", \"hovertemplate\": \"location=%{x}<br>new_cases=%{y}<extra></extra>\", \"legendgroup\": \"Jordan\", \"marker\": {\"color\": \"#FF6692\"}, \"name\": \"Jordan\", \"offsetgroup\": \"Jordan\", \"orientation\": \"v\", \"showlegend\": true, \"textposition\": \"auto\", \"type\": \"bar\", \"x\": [\"Jordan\"], \"xaxis\": \"x\", \"y\": [3917.0], \"yaxis\": \"y\"}, {\"alignmentgroup\": \"True\", \"hovertemplate\": \"location=%{x}<br>new_cases=%{y}<extra></extra>\", \"legendgroup\": \"Kazakhstan\", \"marker\": {\"color\": \"#B6E880\"}, \"name\": \"Kazakhstan\", \"offsetgroup\": \"Kazakhstan\", \"orientation\": \"v\", \"showlegend\": true, \"textposition\": \"auto\", \"type\": \"bar\", \"x\": [\"Kazakhstan\"], \"xaxis\": \"x\", \"y\": [712.0], \"yaxis\": \"y\"}, {\"alignmentgroup\": \"True\", \"hovertemplate\": \"location=%{x}<br>new_cases=%{y}<extra></extra>\", \"legendgroup\": \"Kuwait\", \"marker\": {\"color\": \"#FF97FF\"}, \"name\": \"Kuwait\", \"offsetgroup\": \"Kuwait\", \"orientation\": \"v\", \"showlegend\": true, \"textposition\": \"auto\", \"type\": \"bar\", \"x\": [\"Kuwait\"], \"xaxis\": \"x\", \"y\": [768.0], \"yaxis\": \"y\"}, {\"alignmentgroup\": \"True\", \"hovertemplate\": \"location=%{x}<br>new_cases=%{y}<extra></extra>\", \"legendgroup\": \"Kyrgyzstan\", \"marker\": {\"color\": \"#FECB52\"}, \"name\": \"Kyrgyzstan\", \"offsetgroup\": \"Kyrgyzstan\", \"orientation\": \"v\", \"showlegend\": true, \"textposition\": \"auto\", \"type\": \"bar\", \"x\": [\"Kyrgyzstan\"], \"xaxis\": \"x\", \"y\": [98.0], \"yaxis\": \"y\"}, {\"alignmentgroup\": \"True\", \"hovertemplate\": \"location=%{x}<br>new_cases=%{y}<extra></extra>\", \"legendgroup\": \"Laos\", \"marker\": {\"color\": \"#636efa\"}, \"name\": \"Laos\", \"offsetgroup\": \"Laos\", \"orientation\": \"v\", \"showlegend\": true, \"textposition\": \"auto\", \"type\": \"bar\", \"x\": [\"Laos\"], \"xaxis\": \"x\", \"y\": [0.0], \"yaxis\": \"y\"}, {\"alignmentgroup\": \"True\", \"hovertemplate\": \"location=%{x}<br>new_cases=%{y}<extra></extra>\", \"legendgroup\": \"Lebanon\", \"marker\": {\"color\": \"#EF553B\"}, \"name\": \"Lebanon\", \"offsetgroup\": \"Lebanon\", \"orientation\": \"v\", \"showlegend\": true, \"textposition\": \"auto\", \"type\": \"bar\", \"x\": [\"Lebanon\"], \"xaxis\": \"x\", \"y\": [1702.0], \"yaxis\": \"y\"}, {\"alignmentgroup\": \"True\", \"hovertemplate\": \"location=%{x}<br>new_cases=%{y}<extra></extra>\", \"legendgroup\": \"Malaysia\", \"marker\": {\"color\": \"#00cc96\"}, \"name\": \"Malaysia\", \"offsetgroup\": \"Malaysia\", \"orientation\": \"v\", \"showlegend\": true, \"textposition\": \"auto\", \"type\": \"bar\", \"x\": [\"Malaysia\"], \"xaxis\": \"x\", \"y\": [3297.0], \"yaxis\": \"y\"}, {\"alignmentgroup\": \"True\", \"hovertemplate\": \"location=%{x}<br>new_cases=%{y}<extra></extra>\", \"legendgroup\": \"Maldives\", \"marker\": {\"color\": \"#ab63fa\"}, \"name\": \"Maldives\", \"offsetgroup\": \"Maldives\", \"orientation\": \"v\", \"showlegend\": true, \"textposition\": \"auto\", \"type\": \"bar\", \"x\": [\"Maldives\"], \"xaxis\": \"x\", \"y\": [157.0], \"yaxis\": \"y\"}, {\"alignmentgroup\": \"True\", \"hovertemplate\": \"location=%{x}<br>new_cases=%{y}<extra></extra>\", \"legendgroup\": \"Mongolia\", \"marker\": {\"color\": \"#FFA15A\"}, \"name\": \"Mongolia\", \"offsetgroup\": \"Mongolia\", \"orientation\": \"v\", \"showlegend\": true, \"textposition\": \"auto\", \"type\": \"bar\", \"x\": [\"Mongolia\"], \"xaxis\": \"x\", \"y\": [55.0], \"yaxis\": \"y\"}, {\"alignmentgroup\": \"True\", \"hovertemplate\": \"location=%{x}<br>new_cases=%{y}<extra></extra>\", \"legendgroup\": \"Myanmar\", \"marker\": {\"color\": \"#19d3f3\"}, \"name\": \"Myanmar\", \"offsetgroup\": \"Myanmar\", \"orientation\": \"v\", \"showlegend\": true, \"textposition\": \"auto\", \"type\": \"bar\", \"x\": [\"Myanmar\"], \"xaxis\": \"x\", \"y\": [15.0], \"yaxis\": \"y\"}, {\"alignmentgroup\": \"True\", \"hovertemplate\": \"location=%{x}<br>new_cases=%{y}<extra></extra>\", \"legendgroup\": \"Nepal\", \"marker\": {\"color\": \"#FF6692\"}, \"name\": \"Nepal\", \"offsetgroup\": \"Nepal\", \"orientation\": \"v\", \"showlegend\": true, \"textposition\": \"auto\", \"type\": \"bar\", \"x\": [\"Nepal\"], \"xaxis\": \"x\", \"y\": [80.0], \"yaxis\": \"y\"}, {\"alignmentgroup\": \"True\", \"hovertemplate\": \"location=%{x}<br>new_cases=%{y}<extra></extra>\", \"legendgroup\": \"Oman\", \"marker\": {\"color\": \"#B6E880\"}, \"name\": \"Oman\", \"offsetgroup\": \"Oman\", \"orientation\": \"v\", \"showlegend\": true, \"textposition\": \"auto\", \"type\": \"bar\", \"x\": [\"Oman\"], \"xaxis\": \"x\", \"y\": [868.0], \"yaxis\": \"y\"}, {\"alignmentgroup\": \"True\", \"hovertemplate\": \"location=%{x}<br>new_cases=%{y}<extra></extra>\", \"legendgroup\": \"Pakistan\", \"marker\": {\"color\": \"#FF97FF\"}, \"name\": \"Pakistan\", \"offsetgroup\": \"Pakistan\", \"orientation\": \"v\", \"showlegend\": true, \"textposition\": \"auto\", \"type\": \"bar\", \"x\": [\"Pakistan\"], \"xaxis\": \"x\", \"y\": [1160.0], \"yaxis\": \"y\"}, {\"alignmentgroup\": \"True\", \"hovertemplate\": \"location=%{x}<br>new_cases=%{y}<extra></extra>\", \"legendgroup\": \"Palestine\", \"marker\": {\"color\": \"#FECB52\"}, \"name\": \"Palestine\", \"offsetgroup\": \"Palestine\", \"orientation\": \"v\", \"showlegend\": true, \"textposition\": \"auto\", \"type\": \"bar\", \"x\": [\"Palestine\"], \"xaxis\": \"x\", \"y\": [1320.0], \"yaxis\": \"y\"}, {\"alignmentgroup\": \"True\", \"hovertemplate\": \"location=%{x}<br>new_cases=%{y}<extra></extra>\", \"legendgroup\": \"Philippines\", \"marker\": {\"color\": \"#636efa\"}, \"name\": \"Philippines\", \"offsetgroup\": \"Philippines\", \"orientation\": \"v\", \"showlegend\": true, \"textposition\": \"auto\", \"type\": \"bar\", \"x\": [\"Philippines\"], \"xaxis\": \"x\", \"y\": [1881.0], \"yaxis\": \"y\"}, {\"alignmentgroup\": \"True\", \"hovertemplate\": \"location=%{x}<br>new_cases=%{y}<extra></extra>\", \"legendgroup\": \"Qatar\", \"marker\": {\"color\": \"#EF553B\"}, \"name\": \"Qatar\", \"offsetgroup\": \"Qatar\", \"orientation\": \"v\", \"showlegend\": true, \"textposition\": \"auto\", \"type\": \"bar\", \"x\": [\"Qatar\"], \"xaxis\": \"x\", \"y\": [459.0], \"yaxis\": \"y\"}, {\"alignmentgroup\": \"True\", \"hovertemplate\": \"location=%{x}<br>new_cases=%{y}<extra></extra>\", \"legendgroup\": \"Saudi Arabia\", \"marker\": {\"color\": \"#00cc96\"}, \"name\": \"Saudi Arabia\", \"offsetgroup\": \"Saudi Arabia\", \"orientation\": \"v\", \"showlegend\": true, \"textposition\": \"auto\", \"type\": \"bar\", \"x\": [\"Saudi Arabia\"], \"xaxis\": \"x\", \"y\": [315.0], \"yaxis\": \"y\"}, {\"alignmentgroup\": \"True\", \"hovertemplate\": \"location=%{x}<br>new_cases=%{y}<extra></extra>\", \"legendgroup\": \"Singapore\", \"marker\": {\"color\": \"#ab63fa\"}, \"name\": \"Singapore\", \"offsetgroup\": \"Singapore\", \"orientation\": \"v\", \"showlegend\": true, \"textposition\": \"auto\", \"type\": \"bar\", \"x\": [\"Singapore\"], \"xaxis\": \"x\", \"y\": [11.0], \"yaxis\": \"y\"}, {\"alignmentgroup\": \"True\", \"hovertemplate\": \"location=%{x}<br>new_cases=%{y}<extra></extra>\", \"legendgroup\": \"South Korea\", \"marker\": {\"color\": \"#FFA15A\"}, \"name\": \"South Korea\", \"offsetgroup\": \"South Korea\", \"orientation\": \"v\", \"showlegend\": true, \"textposition\": \"auto\", \"type\": \"bar\", \"x\": [\"South Korea\"], \"xaxis\": \"x\", \"y\": [332.0], \"yaxis\": \"y\"}, {\"alignmentgroup\": \"True\", \"hovertemplate\": \"location=%{x}<br>new_cases=%{y}<extra></extra>\", \"legendgroup\": \"Sri Lanka\", \"marker\": {\"color\": \"#19d3f3\"}, \"name\": \"Sri Lanka\", \"offsetgroup\": \"Sri Lanka\", \"orientation\": \"v\", \"showlegend\": true, \"textposition\": \"auto\", \"type\": \"bar\", \"x\": [\"Sri Lanka\"], \"xaxis\": \"x\", \"y\": [519.0], \"yaxis\": \"y\"}, {\"alignmentgroup\": \"True\", \"hovertemplate\": \"location=%{x}<br>new_cases=%{y}<extra></extra>\", \"legendgroup\": \"Syria\", \"marker\": {\"color\": \"#FF6692\"}, \"name\": \"Syria\", \"offsetgroup\": \"Syria\", \"orientation\": \"v\", \"showlegend\": true, \"textposition\": \"auto\", \"type\": \"bar\", \"x\": [\"Syria\"], \"xaxis\": \"x\", \"y\": [36.0], \"yaxis\": \"y\"}, {\"alignmentgroup\": \"True\", \"hovertemplate\": \"location=%{x}<br>new_cases=%{y}<extra></extra>\", \"legendgroup\": \"Taiwan\", \"marker\": {\"color\": \"#B6E880\"}, \"name\": \"Taiwan\", \"offsetgroup\": \"Taiwan\", \"orientation\": \"v\", \"showlegend\": true, \"textposition\": \"auto\", \"type\": \"bar\", \"x\": [\"Taiwan\"], \"xaxis\": \"x\", \"y\": [0.0], \"yaxis\": \"y\"}, {\"alignmentgroup\": \"True\", \"hovertemplate\": \"location=%{x}<br>new_cases=%{y}<extra></extra>\", \"legendgroup\": \"Tajikistan\", \"marker\": {\"color\": \"#FF97FF\"}, \"name\": \"Tajikistan\", \"offsetgroup\": \"Tajikistan\", \"orientation\": \"v\", \"showlegend\": true, \"textposition\": \"auto\", \"type\": \"bar\", \"x\": [\"Tajikistan\"], \"xaxis\": \"x\", \"y\": [0.0], \"yaxis\": \"y\"}, {\"alignmentgroup\": \"True\", \"hovertemplate\": \"location=%{x}<br>new_cases=%{y}<extra></extra>\", \"legendgroup\": \"Thailand\", \"marker\": {\"color\": \"#FECB52\"}, \"name\": \"Thailand\", \"offsetgroup\": \"Thailand\", \"orientation\": \"v\", \"showlegend\": true, \"textposition\": \"auto\", \"type\": \"bar\", \"x\": [\"Thailand\"], \"xaxis\": \"x\", \"y\": [181.0], \"yaxis\": \"y\"}, {\"alignmentgroup\": \"True\", \"hovertemplate\": \"location=%{x}<br>new_cases=%{y}<extra></extra>\", \"legendgroup\": \"Timor\", \"marker\": {\"color\": \"#636efa\"}, \"name\": \"Timor\", \"offsetgroup\": \"Timor\", \"orientation\": \"v\", \"showlegend\": true, \"textposition\": \"auto\", \"type\": \"bar\", \"x\": [\"Timor\"], \"xaxis\": \"x\", \"y\": [0.0], \"yaxis\": \"y\"}, {\"alignmentgroup\": \"True\", \"hovertemplate\": \"location=%{x}<br>new_cases=%{y}<extra></extra>\", \"legendgroup\": \"Turkey\", \"marker\": {\"color\": \"#EF553B\"}, \"name\": \"Turkey\", \"offsetgroup\": \"Turkey\", \"orientation\": \"v\", \"showlegend\": true, \"textposition\": \"auto\", \"type\": \"bar\", \"x\": [\"Turkey\"], \"xaxis\": \"x\", \"y\": [6546.0], \"yaxis\": \"y\"}, {\"alignmentgroup\": \"True\", \"hovertemplate\": \"location=%{x}<br>new_cases=%{y}<extra></extra>\", \"legendgroup\": \"United Arab Emirates\", \"marker\": {\"color\": \"#00cc96\"}, \"name\": \"United Arab Emirates\", \"offsetgroup\": \"United Arab Emirates\", \"orientation\": \"v\", \"showlegend\": true, \"textposition\": \"auto\", \"type\": \"bar\", \"x\": [\"United Arab Emirates\"], \"xaxis\": \"x\", \"y\": [2250.0], \"yaxis\": \"y\"}, {\"alignmentgroup\": \"True\", \"hovertemplate\": \"location=%{x}<br>new_cases=%{y}<extra></extra>\", \"legendgroup\": \"Uzbekistan\", \"marker\": {\"color\": \"#ab63fa\"}, \"name\": \"Uzbekistan\", \"offsetgroup\": \"Uzbekistan\", \"orientation\": \"v\", \"showlegend\": true, \"textposition\": \"auto\", \"type\": \"bar\", \"x\": [\"Uzbekistan\"], \"xaxis\": \"x\", \"y\": [22.0], \"yaxis\": \"y\"}, {\"alignmentgroup\": \"True\", \"hovertemplate\": \"location=%{x}<br>new_cases=%{y}<extra></extra>\", \"legendgroup\": \"Vietnam\", \"marker\": {\"color\": \"#FFA15A\"}, \"name\": \"Vietnam\", \"offsetgroup\": \"Vietnam\", \"orientation\": \"v\", \"showlegend\": true, \"textposition\": \"auto\", \"type\": \"bar\", \"x\": [\"Vietnam\"], \"xaxis\": \"x\", \"y\": [15.0], \"yaxis\": \"y\"}, {\"alignmentgroup\": \"True\", \"hovertemplate\": \"location=%{x}<br>new_cases=%{y}<extra></extra>\", \"legendgroup\": \"Yemen\", \"marker\": {\"color\": \"#19d3f3\"}, \"name\": \"Yemen\", \"offsetgroup\": \"Yemen\", \"orientation\": \"v\", \"showlegend\": true, \"textposition\": \"auto\", \"type\": \"bar\", \"x\": [\"Yemen\"], \"xaxis\": \"x\", \"y\": [8.0], \"yaxis\": \"y\"}],                        {\"barmode\": \"relative\", \"legend\": {\"title\": {\"text\": \"location\"}, \"tracegroupgap\": 0}, \"template\": {\"data\": {\"bar\": [{\"error_x\": {\"color\": \"#2a3f5f\"}, \"error_y\": {\"color\": \"#2a3f5f\"}, \"marker\": {\"line\": {\"color\": \"#E5ECF6\", \"width\": 0.5}}, \"type\": \"bar\"}], \"barpolar\": [{\"marker\": {\"line\": {\"color\": \"#E5ECF6\", \"width\": 0.5}}, \"type\": \"barpolar\"}], \"carpet\": [{\"aaxis\": {\"endlinecolor\": \"#2a3f5f\", \"gridcolor\": \"white\", \"linecolor\": \"white\", \"minorgridcolor\": \"white\", \"startlinecolor\": \"#2a3f5f\"}, \"baxis\": {\"endlinecolor\": \"#2a3f5f\", \"gridcolor\": \"white\", \"linecolor\": \"white\", \"minorgridcolor\": \"white\", \"startlinecolor\": \"#2a3f5f\"}, \"type\": \"carpet\"}], \"choropleth\": [{\"colorbar\": {\"outlinewidth\": 0, \"ticks\": \"\"}, \"type\": \"choropleth\"}], \"contour\": [{\"colorbar\": {\"outlinewidth\": 0, \"ticks\": \"\"}, \"colorscale\": [[0.0, \"#0d0887\"], [0.1111111111111111, \"#46039f\"], [0.2222222222222222, \"#7201a8\"], [0.3333333333333333, \"#9c179e\"], [0.4444444444444444, \"#bd3786\"], [0.5555555555555556, \"#d8576b\"], [0.6666666666666666, \"#ed7953\"], [0.7777777777777778, \"#fb9f3a\"], [0.8888888888888888, \"#fdca26\"], [1.0, \"#f0f921\"]], \"type\": \"contour\"}], \"contourcarpet\": [{\"colorbar\": {\"outlinewidth\": 0, \"ticks\": \"\"}, \"type\": \"contourcarpet\"}], \"heatmap\": [{\"colorbar\": {\"outlinewidth\": 0, \"ticks\": \"\"}, \"colorscale\": [[0.0, \"#0d0887\"], [0.1111111111111111, \"#46039f\"], [0.2222222222222222, \"#7201a8\"], [0.3333333333333333, \"#9c179e\"], [0.4444444444444444, \"#bd3786\"], [0.5555555555555556, \"#d8576b\"], [0.6666666666666666, \"#ed7953\"], [0.7777777777777778, \"#fb9f3a\"], [0.8888888888888888, \"#fdca26\"], [1.0, \"#f0f921\"]], \"type\": \"heatmap\"}], \"heatmapgl\": [{\"colorbar\": {\"outlinewidth\": 0, \"ticks\": \"\"}, \"colorscale\": [[0.0, \"#0d0887\"], [0.1111111111111111, \"#46039f\"], [0.2222222222222222, \"#7201a8\"], [0.3333333333333333, \"#9c179e\"], [0.4444444444444444, \"#bd3786\"], [0.5555555555555556, \"#d8576b\"], [0.6666666666666666, \"#ed7953\"], [0.7777777777777778, \"#fb9f3a\"], [0.8888888888888888, \"#fdca26\"], [1.0, \"#f0f921\"]], \"type\": \"heatmapgl\"}], \"histogram\": [{\"marker\": {\"colorbar\": {\"outlinewidth\": 0, \"ticks\": \"\"}}, \"type\": \"histogram\"}], \"histogram2d\": [{\"colorbar\": {\"outlinewidth\": 0, \"ticks\": \"\"}, \"colorscale\": [[0.0, \"#0d0887\"], [0.1111111111111111, \"#46039f\"], [0.2222222222222222, \"#7201a8\"], [0.3333333333333333, \"#9c179e\"], [0.4444444444444444, \"#bd3786\"], [0.5555555555555556, \"#d8576b\"], [0.6666666666666666, \"#ed7953\"], [0.7777777777777778, \"#fb9f3a\"], [0.8888888888888888, \"#fdca26\"], [1.0, \"#f0f921\"]], \"type\": \"histogram2d\"}], \"histogram2dcontour\": [{\"colorbar\": {\"outlinewidth\": 0, \"ticks\": \"\"}, \"colorscale\": [[0.0, \"#0d0887\"], [0.1111111111111111, \"#46039f\"], [0.2222222222222222, \"#7201a8\"], [0.3333333333333333, \"#9c179e\"], [0.4444444444444444, \"#bd3786\"], [0.5555555555555556, \"#d8576b\"], [0.6666666666666666, \"#ed7953\"], [0.7777777777777778, \"#fb9f3a\"], [0.8888888888888888, \"#fdca26\"], [1.0, \"#f0f921\"]], \"type\": \"histogram2dcontour\"}], \"mesh3d\": [{\"colorbar\": {\"outlinewidth\": 0, \"ticks\": \"\"}, \"type\": \"mesh3d\"}], \"parcoords\": [{\"line\": {\"colorbar\": {\"outlinewidth\": 0, \"ticks\": \"\"}}, \"type\": \"parcoords\"}], \"pie\": [{\"automargin\": true, \"type\": \"pie\"}], \"scatter\": [{\"marker\": {\"colorbar\": {\"outlinewidth\": 0, \"ticks\": \"\"}}, \"type\": \"scatter\"}], \"scatter3d\": [{\"line\": {\"colorbar\": {\"outlinewidth\": 0, \"ticks\": \"\"}}, \"marker\": {\"colorbar\": {\"outlinewidth\": 0, \"ticks\": \"\"}}, \"type\": \"scatter3d\"}], \"scattercarpet\": [{\"marker\": {\"colorbar\": {\"outlinewidth\": 0, \"ticks\": \"\"}}, \"type\": \"scattercarpet\"}], \"scattergeo\": [{\"marker\": {\"colorbar\": {\"outlinewidth\": 0, \"ticks\": \"\"}}, \"type\": \"scattergeo\"}], \"scattergl\": [{\"marker\": {\"colorbar\": {\"outlinewidth\": 0, \"ticks\": \"\"}}, \"type\": \"scattergl\"}], \"scattermapbox\": [{\"marker\": {\"colorbar\": {\"outlinewidth\": 0, \"ticks\": \"\"}}, \"type\": \"scattermapbox\"}], \"scatterpolar\": [{\"marker\": {\"colorbar\": {\"outlinewidth\": 0, \"ticks\": \"\"}}, \"type\": \"scatterpolar\"}], \"scatterpolargl\": [{\"marker\": {\"colorbar\": {\"outlinewidth\": 0, \"ticks\": \"\"}}, \"type\": \"scatterpolargl\"}], \"scatterternary\": [{\"marker\": {\"colorbar\": {\"outlinewidth\": 0, \"ticks\": \"\"}}, \"type\": \"scatterternary\"}], \"surface\": [{\"colorbar\": {\"outlinewidth\": 0, \"ticks\": \"\"}, \"colorscale\": [[0.0, \"#0d0887\"], [0.1111111111111111, \"#46039f\"], [0.2222222222222222, \"#7201a8\"], [0.3333333333333333, \"#9c179e\"], [0.4444444444444444, \"#bd3786\"], [0.5555555555555556, \"#d8576b\"], [0.6666666666666666, \"#ed7953\"], [0.7777777777777778, \"#fb9f3a\"], [0.8888888888888888, \"#fdca26\"], [1.0, \"#f0f921\"]], \"type\": \"surface\"}], \"table\": [{\"cells\": {\"fill\": {\"color\": \"#EBF0F8\"}, \"line\": {\"color\": \"white\"}}, \"header\": {\"fill\": {\"color\": \"#C8D4E3\"}, \"line\": {\"color\": \"white\"}}, \"type\": \"table\"}]}, \"layout\": {\"annotationdefaults\": {\"arrowcolor\": \"#2a3f5f\", \"arrowhead\": 0, \"arrowwidth\": 1}, \"autotypenumbers\": \"strict\", \"coloraxis\": {\"colorbar\": {\"outlinewidth\": 0, \"ticks\": \"\"}}, \"colorscale\": {\"diverging\": [[0, \"#8e0152\"], [0.1, \"#c51b7d\"], [0.2, \"#de77ae\"], [0.3, \"#f1b6da\"], [0.4, \"#fde0ef\"], [0.5, \"#f7f7f7\"], [0.6, \"#e6f5d0\"], [0.7, \"#b8e186\"], [0.8, \"#7fbc41\"], [0.9, \"#4d9221\"], [1, \"#276419\"]], \"sequential\": [[0.0, \"#0d0887\"], [0.1111111111111111, \"#46039f\"], [0.2222222222222222, \"#7201a8\"], [0.3333333333333333, \"#9c179e\"], [0.4444444444444444, \"#bd3786\"], [0.5555555555555556, \"#d8576b\"], [0.6666666666666666, \"#ed7953\"], [0.7777777777777778, \"#fb9f3a\"], [0.8888888888888888, \"#fdca26\"], [1.0, \"#f0f921\"]], \"sequentialminus\": [[0.0, \"#0d0887\"], [0.1111111111111111, \"#46039f\"], [0.2222222222222222, \"#7201a8\"], [0.3333333333333333, \"#9c179e\"], [0.4444444444444444, \"#bd3786\"], [0.5555555555555556, \"#d8576b\"], [0.6666666666666666, \"#ed7953\"], [0.7777777777777778, \"#fb9f3a\"], [0.8888888888888888, \"#fdca26\"], [1.0, \"#f0f921\"]]}, \"colorway\": [\"#636efa\", \"#EF553B\", \"#00cc96\", \"#ab63fa\", \"#FFA15A\", \"#19d3f3\", \"#FF6692\", \"#B6E880\", \"#FF97FF\", \"#FECB52\"], \"font\": {\"color\": \"#2a3f5f\"}, \"geo\": {\"bgcolor\": \"white\", \"lakecolor\": \"white\", \"landcolor\": \"#E5ECF6\", \"showlakes\": true, \"showland\": true, \"subunitcolor\": \"white\"}, \"hoverlabel\": {\"align\": \"left\"}, \"hovermode\": \"closest\", \"mapbox\": {\"style\": \"light\"}, \"paper_bgcolor\": \"white\", \"plot_bgcolor\": \"#E5ECF6\", \"polar\": {\"angularaxis\": {\"gridcolor\": \"white\", \"linecolor\": \"white\", \"ticks\": \"\"}, \"bgcolor\": \"#E5ECF6\", \"radialaxis\": {\"gridcolor\": \"white\", \"linecolor\": \"white\", \"ticks\": \"\"}}, \"scene\": {\"xaxis\": {\"backgroundcolor\": \"#E5ECF6\", \"gridcolor\": \"white\", \"gridwidth\": 2, \"linecolor\": \"white\", \"showbackground\": true, \"ticks\": \"\", \"zerolinecolor\": \"white\"}, \"yaxis\": {\"backgroundcolor\": \"#E5ECF6\", \"gridcolor\": \"white\", \"gridwidth\": 2, \"linecolor\": \"white\", \"showbackground\": true, \"ticks\": \"\", \"zerolinecolor\": \"white\"}, \"zaxis\": {\"backgroundcolor\": \"#E5ECF6\", \"gridcolor\": \"white\", \"gridwidth\": 2, \"linecolor\": \"white\", \"showbackground\": true, \"ticks\": \"\", \"zerolinecolor\": \"white\"}}, \"shapedefaults\": {\"line\": {\"color\": \"#2a3f5f\"}}, \"ternary\": {\"aaxis\": {\"gridcolor\": \"white\", \"linecolor\": \"white\", \"ticks\": \"\"}, \"baxis\": {\"gridcolor\": \"white\", \"linecolor\": \"white\", \"ticks\": \"\"}, \"bgcolor\": \"#E5ECF6\", \"caxis\": {\"gridcolor\": \"white\", \"linecolor\": \"white\", \"ticks\": \"\"}}, \"title\": {\"x\": 0.05}, \"xaxis\": {\"automargin\": true, \"gridcolor\": \"white\", \"linecolor\": \"white\", \"ticks\": \"\", \"title\": {\"standoff\": 15}, \"zerolinecolor\": \"white\", \"zerolinewidth\": 2}, \"yaxis\": {\"automargin\": true, \"gridcolor\": \"white\", \"linecolor\": \"white\", \"ticks\": \"\", \"title\": {\"standoff\": 15}, \"zerolinecolor\": \"white\", \"zerolinewidth\": 2}}}, \"title\": {\"text\": \"February 21, 2021 New Cases in Asia\"}, \"xaxis\": {\"anchor\": \"y\", \"categoryarray\": [\"Afghanistan\", \"Armenia\", \"Azerbaijan\", \"Bahrain\", \"Bangladesh\", \"Bhutan\", \"Brunei\", \"Cambodia\", \"China\", \"Georgia\", \"India\", \"Indonesia\", \"Iran\", \"Iraq\", \"Israel\", \"Japan\", \"Jordan\", \"Kazakhstan\", \"Kuwait\", \"Kyrgyzstan\", \"Laos\", \"Lebanon\", \"Malaysia\", \"Maldives\", \"Mongolia\", \"Myanmar\", \"Nepal\", \"Oman\", \"Pakistan\", \"Palestine\", \"Philippines\", \"Qatar\", \"Saudi Arabia\", \"Singapore\", \"South Korea\", \"Sri Lanka\", \"Syria\", \"Taiwan\", \"Tajikistan\", \"Thailand\", \"Timor\", \"Turkey\", \"United Arab Emirates\", \"Uzbekistan\", \"Vietnam\", \"Yemen\"], \"categoryorder\": \"array\", \"domain\": [0.0, 1.0], \"title\": {\"text\": \"location\"}}, \"yaxis\": {\"anchor\": \"x\", \"domain\": [0.0, 1.0], \"title\": {\"text\": \"new_cases\"}}},                        {\"responsive\": true}                    ).then(function(){\n                            \nvar gd = document.getElementById('08e8a19e-09f9-45ae-ae97-76470629e31d');\nvar x = new MutationObserver(function (mutations, observer) {{\n        var display = window.getComputedStyle(gd).display;\n        if (!display || display === 'none') {{\n            console.log([gd, 'removed!']);\n            Plotly.purge(gd);\n            observer.disconnect();\n        }}\n}});\n\n// Listen for the removal of the full notebook cells\nvar notebookContainer = gd.closest('#notebook-container');\nif (notebookContainer) {{\n    x.observe(notebookContainer, {childList: true});\n}}\n\n// Listen for the clearing of the current output cell\nvar outputEl = gd.closest('.output');\nif (outputEl) {{\n    x.observe(outputEl, {childList: true});\n}}\n\n                        })                };                });            </script>        </div>"
     },
     "metadata": {},
     "output_type": "display_data"
    }
   ],
   "source": [
    "# Using plotly to display February, 21 2021 new cases in Asia\n",
    "fig = px.bar(februaryAsia, x='location', y='new_cases', color='location', title='February 21, 2021 New Cases in Asia')\n",
    "fig.show()"
   ],
   "metadata": {
    "collapsed": false,
    "pycharm": {
     "name": "#%%\n"
    }
   }
  },
  {
   "cell_type": "code",
   "execution_count": 20,
   "outputs": [
    {
     "data": {
      "text/plain": "     iso_code      continent  location       date  total_cases  new_cases  \\\n2161      AIA  North America  Anguilla 2021-02-04          NaN        NaN   \n2162      AIA  North America  Anguilla 2021-02-05          NaN        NaN   \n2163      AIA  North America  Anguilla 2021-02-06          NaN        NaN   \n2164      AIA  North America  Anguilla 2021-02-07          NaN        NaN   \n2165      AIA  North America  Anguilla 2021-02-08          NaN        NaN   \n\n      new_cases_smoothed  total_deaths  new_deaths  new_deaths_smoothed  ...  \\\n2161                 NaN           NaN         NaN                  NaN  ...   \n2162                 NaN           NaN         NaN                  NaN  ...   \n2163                 NaN           NaN         NaN                  NaN  ...   \n2164                 NaN           NaN         NaN                  NaN  ...   \n2165                 NaN           NaN         NaN                  NaN  ...   \n\n      female_smokers  male_smokers  handwashing_facilities  \\\n2161             NaN           NaN                     NaN   \n2162             NaN           NaN                     NaN   \n2163             NaN           NaN                     NaN   \n2164             NaN           NaN                     NaN   \n2165             NaN           NaN                     NaN   \n\n      hospital_beds_per_thousand  life_expectancy  human_development_index  \\\n2161                         NaN            81.88                      NaN   \n2162                         NaN            81.88                      NaN   \n2163                         NaN            81.88                      NaN   \n2164                         NaN            81.88                      NaN   \n2165                         NaN            81.88                      NaN   \n\n      Day  Month  Year  Year_Month  \n2161    4      2  2021  2021-02-01  \n2162    5      2  2021  2021-02-01  \n2163    6      2  2021  2021-02-01  \n2164    7      2  2021  2021-02-01  \n2165    8      2  2021  2021-02-01  \n\n[5 rows x 63 columns]",
      "text/html": "<div>\n<style scoped>\n    .dataframe tbody tr th:only-of-type {\n        vertical-align: middle;\n    }\n\n    .dataframe tbody tr th {\n        vertical-align: top;\n    }\n\n    .dataframe thead th {\n        text-align: right;\n    }\n</style>\n<table border=\"1\" class=\"dataframe\">\n  <thead>\n    <tr style=\"text-align: right;\">\n      <th></th>\n      <th>iso_code</th>\n      <th>continent</th>\n      <th>location</th>\n      <th>date</th>\n      <th>total_cases</th>\n      <th>new_cases</th>\n      <th>new_cases_smoothed</th>\n      <th>total_deaths</th>\n      <th>new_deaths</th>\n      <th>new_deaths_smoothed</th>\n      <th>...</th>\n      <th>female_smokers</th>\n      <th>male_smokers</th>\n      <th>handwashing_facilities</th>\n      <th>hospital_beds_per_thousand</th>\n      <th>life_expectancy</th>\n      <th>human_development_index</th>\n      <th>Day</th>\n      <th>Month</th>\n      <th>Year</th>\n      <th>Year_Month</th>\n    </tr>\n  </thead>\n  <tbody>\n    <tr>\n      <th>2161</th>\n      <td>AIA</td>\n      <td>North America</td>\n      <td>Anguilla</td>\n      <td>2021-02-04</td>\n      <td>NaN</td>\n      <td>NaN</td>\n      <td>NaN</td>\n      <td>NaN</td>\n      <td>NaN</td>\n      <td>NaN</td>\n      <td>...</td>\n      <td>NaN</td>\n      <td>NaN</td>\n      <td>NaN</td>\n      <td>NaN</td>\n      <td>81.88</td>\n      <td>NaN</td>\n      <td>4</td>\n      <td>2</td>\n      <td>2021</td>\n      <td>2021-02-01</td>\n    </tr>\n    <tr>\n      <th>2162</th>\n      <td>AIA</td>\n      <td>North America</td>\n      <td>Anguilla</td>\n      <td>2021-02-05</td>\n      <td>NaN</td>\n      <td>NaN</td>\n      <td>NaN</td>\n      <td>NaN</td>\n      <td>NaN</td>\n      <td>NaN</td>\n      <td>...</td>\n      <td>NaN</td>\n      <td>NaN</td>\n      <td>NaN</td>\n      <td>NaN</td>\n      <td>81.88</td>\n      <td>NaN</td>\n      <td>5</td>\n      <td>2</td>\n      <td>2021</td>\n      <td>2021-02-01</td>\n    </tr>\n    <tr>\n      <th>2163</th>\n      <td>AIA</td>\n      <td>North America</td>\n      <td>Anguilla</td>\n      <td>2021-02-06</td>\n      <td>NaN</td>\n      <td>NaN</td>\n      <td>NaN</td>\n      <td>NaN</td>\n      <td>NaN</td>\n      <td>NaN</td>\n      <td>...</td>\n      <td>NaN</td>\n      <td>NaN</td>\n      <td>NaN</td>\n      <td>NaN</td>\n      <td>81.88</td>\n      <td>NaN</td>\n      <td>6</td>\n      <td>2</td>\n      <td>2021</td>\n      <td>2021-02-01</td>\n    </tr>\n    <tr>\n      <th>2164</th>\n      <td>AIA</td>\n      <td>North America</td>\n      <td>Anguilla</td>\n      <td>2021-02-07</td>\n      <td>NaN</td>\n      <td>NaN</td>\n      <td>NaN</td>\n      <td>NaN</td>\n      <td>NaN</td>\n      <td>NaN</td>\n      <td>...</td>\n      <td>NaN</td>\n      <td>NaN</td>\n      <td>NaN</td>\n      <td>NaN</td>\n      <td>81.88</td>\n      <td>NaN</td>\n      <td>7</td>\n      <td>2</td>\n      <td>2021</td>\n      <td>2021-02-01</td>\n    </tr>\n    <tr>\n      <th>2165</th>\n      <td>AIA</td>\n      <td>North America</td>\n      <td>Anguilla</td>\n      <td>2021-02-08</td>\n      <td>NaN</td>\n      <td>NaN</td>\n      <td>NaN</td>\n      <td>NaN</td>\n      <td>NaN</td>\n      <td>NaN</td>\n      <td>...</td>\n      <td>NaN</td>\n      <td>NaN</td>\n      <td>NaN</td>\n      <td>NaN</td>\n      <td>81.88</td>\n      <td>NaN</td>\n      <td>8</td>\n      <td>2</td>\n      <td>2021</td>\n      <td>2021-02-01</td>\n    </tr>\n  </tbody>\n</table>\n<p>5 rows × 63 columns</p>\n</div>"
     },
     "execution_count": 20,
     "metadata": {},
     "output_type": "execute_result"
    }
   ],
   "source": [
    "#Create a data frame that only has North America data\n",
    "covid19DataframeNorthAmerica = (covid19Dataframe[covid19Dataframe[\"continent\"]==\"North America\"]).copy()\n",
    "covid19DataframeNorthAmerica.head()"
   ],
   "metadata": {
    "collapsed": false,
    "pycharm": {
     "name": "#%%\n"
    }
   }
  },
  {
   "cell_type": "code",
   "execution_count": 21,
   "outputs": [
    {
     "data": {
      "text/plain": "<AxesSubplot:>"
     },
     "execution_count": 21,
     "metadata": {},
     "output_type": "execute_result"
    },
    {
     "data": {
      "text/plain": "<Figure size 432x288 with 2 Axes>",
      "image/png": "[encoded data removed]"
     },
     "metadata": {},
     "output_type": "display_data"
    }
   ],
   "source": [
    "sns.heatmap(covid19DataframeNorthAmerica.corr(),cmap='coolwarm')"
   ],
   "metadata": {
    "collapsed": false,
    "pycharm": {
     "name": "#%%\n"
    }
   }
  },
  {
   "cell_type": "code",
   "execution_count": 21,
   "outputs": [],
   "source": [],
   "metadata": {
    "collapsed": false,
    "pycharm": {
     "name": "#%%\n"
    }
   }
  },
  {
   "cell_type": "code",
   "execution_count": 22,
   "outputs": [
    {
     "data": {
      "text/plain": "'temp-plot.html'"
     },
     "execution_count": 22,
     "metadata": {},
     "output_type": "execute_result"
    }
   ],
   "source": [
    "#Choropleth World Map - Death Count\n",
    "data = dict(\n",
    "type = 'choropleth',\n",
    "colorscale = 'Viridis',\n",
    "reversescale = True,\n",
    "locations = covid19Dataframe['location'],\n",
    "locationmode = \"country names\",\n",
    "z = covid19Dataframe['total_deaths_per_million'],\n",
    "text = covid19Dataframe['location'],\n",
    "colorbar = {'title' : 'total_deaths_per_million'},\n",
    ")\n",
    "layout = dict(title = 'Total Deaths Per Million',\n",
    "geo = dict(showframe = False,projection = {'type':'mercator'})\n",
    "              )\n",
    "choromap = go.Figure(data = [data],layout = layout)\n",
    "plot(choromap,validate=False)\n"
   ],
   "metadata": {
    "collapsed": false,
    "pycharm": {
     "name": "#%%\n"
    }
   }
  }
 ],
 "metadata": {
  "kernelspec": {
   "display_name": "Python 3",
   "language": "python",
   "name": "python3"
  },
  "language_info": {
   "codemirror_mode": {
    "name": "ipython",
    "version": 2
   },
   "file_extension": ".py",
   "mimetype": "text/x-python",
   "name": "python",
   "nbconvert_exporter": "python",
   "pygments_lexer": "ipython2",
   "version": "2.7.6"
  }
 },
 "nbformat": 4,
 "nbformat_minor": 0
}