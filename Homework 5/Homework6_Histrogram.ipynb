{
 "cells": [
  {
   "cell_type": "code",
   "execution_count": 1,
   "metadata": {},
   "outputs": [],
   "source": [
    "import datetime as dt\n",
    "import pandas as pd\n",
    "import numpy as np\n",
    "import matplotlib as mpl\n",
    "import matplotlib.pyplot as plt\n",
    "import seaborn as sns\n",
    "#import plotly.express as px\n",
    "import matplotlib.dates as mdates\n",
    "from matplotlib.ticker import FuncFormatter\n",
    "from matplotlib.dates import DateFormatter\n",
    "%matplotlib inline"
   ]
  },
  {
   "cell_type": "code",
   "execution_count": 2,
   "metadata": {},
   "outputs": [],
   "source": [
    "Country1 = \"USA\"  \n",
    "Country2 = \"BRA\"  \n",
    "Country3 = \"MEX\"\n",
    "Country4 = \"IND\"  \n"
   ]
  },
  {
   "cell_type": "code",
   "execution_count": 3,
   "metadata": {},
   "outputs": [],
   "source": [
    "covid19Data = pd.read_csv(\"https://raw.githubusercontent.com/WhipSnake23/Python-Class-Project/main/Data/owid-covid-data.csv\")\n",
    "\n",
    "#scrub data from rolled up rows for each region globally. NOTE: ~==\"not\"\n",
    "covid19Data = covid19Data[~covid19Data.iso_code.str.contains(\"OWID\")]\n",
    "covid19DataCountry1= covid19Data[(covid19Data[\"iso_code\"] == Country1)]\n",
    "covid19DataCountry2= covid19Data[(covid19Data[\"iso_code\"] == Country2)]\n",
    "covid19DataCountry3= covid19Data[(covid19Data[\"iso_code\"] == Country3)]\n",
    "covid19DataCountry4= covid19Data[(covid19Data[\"iso_code\"] == Country4)]\n",
    "\n",
    "covid19DataCountry1.insert(0,'YearMonth',pd.to_datetime(covid19DataCountry1['date']).dt.to_period('M'))\n",
    "covid19DataCountry2.insert(0,'YearMonth',pd.to_datetime(covid19DataCountry2['date']).dt.to_period('M'))\n",
    "covid19DataCountry3.insert(0,'YearMonth',pd.to_datetime(covid19DataCountry3['date']).dt.to_period('M'))\n",
    "covid19DataCountry4.insert(0,'YearMonth',pd.to_datetime(covid19DataCountry4['date']).dt.to_period('M'))\n",
    "\n",
    "country1Deaths=covid19DataCountry1.groupby(['YearMonth'], as_index=False).agg(total_deaths1=('total_deaths', sum))\n",
    "country2Deaths=covid19DataCountry2.groupby(['YearMonth'], as_index=False).agg(total_deaths2=('total_deaths', sum))\n",
    "country3Deaths=covid19DataCountry3.groupby(['YearMonth'], as_index=False).agg(total_deaths3=('total_deaths', sum))\n",
    "country4Deaths=covid19DataCountry4.groupby(['YearMonth'], as_index=False).agg(total_deaths4=('total_deaths', sum))\n",
    "\n",
    "deathsByPeriod = pd.concat([country1Deaths['total_deaths1'], country2Deaths['total_deaths2'],\n",
    "                            country3Deaths['total_deaths3'], country4Deaths['total_deaths4']]\n",
    "                           , axis=1,join='outer')\n",
    "\n",
    "#print(f\"{deathsByPeriod}\")"
   ]
  },
  {
   "cell_type": "code",
   "execution_count": 4,
   "metadata": {},
   "outputs": [],
   "source": [
    "def millions(x, pos):\n",
    "    'The two args are the value and tick position'\n",
    "    return '%1.1fM' % (x * 1e-6)"
   ]
  },
  {
   "cell_type": "code",
   "execution_count": 5,
   "metadata": {},
   "outputs": [
    {
     "name": "stdout",
     "output_type": "stream",
     "text": [
      "    total_deaths1  total_deaths2  total_deaths3  total_deaths4\n",
      "0             0.0            0.0            0.0            0.0\n",
      "1             0.0            1.0            0.0            0.0\n",
      "2            26.0           67.0            0.0            0.0\n",
      "3          1071.0          509.0           19.0           14.0\n",
      "4          2806.0         1353.0          165.0           94.0\n",
      "5          3582.0         2370.0          563.0          332.0\n",
      "6          4339.0         3345.0         1164.0          813.0\n",
      "7          5282.0         4004.0         1749.0         1582.0\n",
      "8          5902.0         4733.0         2150.0         2477.0\n",
      "9          6812.0         4986.0         2649.0         3481.0\n",
      "10         7523.0         5703.0         2963.0         3910.0\n",
      "11         9697.0         6484.0         3594.0         4468.0\n",
      "12        12432.0         4954.0         4367.0         4714.0\n",
      "13        10027.0            NaN         3579.0         3264.0\n"
     ]
    }
   ],
   "source": [
    "deathsByPeriod['total_deaths1'] = deathsByPeriod['total_deaths1'].div(1000).round(0)\n",
    "deathsByPeriod['total_deaths2'] = deathsByPeriod['total_deaths2'].div(1000).round(0)\n",
    "deathsByPeriod['total_deaths3'] = deathsByPeriod['total_deaths3'].div(1000).round(0)\n",
    "deathsByPeriod['total_deaths4'] = deathsByPeriod['total_deaths4'].div(1000).round(0)\n",
    "print(f\"{deathsByPeriod}\")"
   ]
  },
  {
   "cell_type": "code",
   "execution_count": 6,
   "metadata": {},
   "outputs": [
    {
     "data": {
      "text/plain": [
       "array([[<AxesSubplot:title={'center':'Deaths in USA (1000s)'}>,\n",
       "        <AxesSubplot:title={'center':'Deaths in BRA (1000s)'}>],\n",
       "       [<AxesSubplot:title={'center':'Deaths in MEX (1000s)'}>,\n",
       "        <AxesSubplot:title={'center':'Deaths in IND (1000s)'}>]],\n",
       "      dtype=object)"
      ]
     },
     "execution_count": 6,
     "metadata": {},
     "output_type": "execute_result"
    },
    {
     "data": {
      "image/png": "[encoded data removed]",
      "text/plain": [
       "<Figure size 432x288 with 4 Axes>"
      ]
     },
     "metadata": {
      "needs_background": "light"
     },
     "output_type": "display_data"
    }
   ],
   "source": [
    "#plt.subplots(figsize=(12,12)) \n",
    "histrogramOfDeaths = pd.DataFrame({\n",
    "    'Deaths in USA (1000s)' : deathsByPeriod['total_deaths1'], \n",
    "    'Deaths in BRA (1000s)': deathsByPeriod['total_deaths3'], \n",
    "    'Deaths in MEX (1000s)': deathsByPeriod['total_deaths3'], \n",
    "    'Deaths in IND (1000s)': deathsByPeriod['total_deaths4'] \n",
    "    })\n",
    "\n",
    "histrogramOfDeaths.hist()\n"
   ]
  },
  {
   "cell_type": "code",
   "execution_count": 7,
   "metadata": {},
   "outputs": [
    {
     "data": {
      "text/plain": [
       "(array([[4., 0., 2., 1., 2., 1., 1., 1., 1., 1.],\n",
       "        [4., 2., 1., 3., 2., 1., 0., 0., 0., 0.],\n",
       "        [7., 2., 4., 1., 0., 0., 0., 0., 0., 0.],\n",
       "        [7., 2., 2., 3., 0., 0., 0., 0., 0., 0.]]),\n",
       " array([    0. ,  1243.2,  2486.4,  3729.6,  4972.8,  6216. ,  7459.2,\n",
       "         8702.4,  9945.6, 11188.8, 12432. ]),\n",
       " <a list of 4 BarContainer objects>)"
      ]
     },
     "execution_count": 7,
     "metadata": {},
     "output_type": "execute_result"
    },
    {
     "data": {
      "image/png": "[encoded data removed]",
      "text/plain": [
       "<Figure size 432x288 with 1 Axes>"
      ]
     },
     "metadata": {
      "needs_background": "light"
     },
     "output_type": "display_data"
    }
   ],
   "source": [
    "plt.hist([deathsByPeriod['total_deaths1'], \n",
    "          deathsByPeriod['total_deaths2'],\n",
    "          deathsByPeriod['total_deaths3'],\n",
    "          deathsByPeriod['total_deaths4']\n",
    "         ])"
   ]
  },
  {
   "cell_type": "code",
   "execution_count": 8,
   "metadata": {},
   "outputs": [
    {
     "data": {
      "text/plain": [
       "(array([4., 0., 1., 1., 0., 1., 1., 3., 1., 1.]),\n",
       " array([   0. ,  648.4, 1296.8, 1945.2, 2593.6, 3242. , 3890.4, 4538.8,\n",
       "        5187.2, 5835.6, 6484. ]),\n",
       " <BarContainer object of 10 artists>)"
      ]
     },
     "execution_count": 8,
     "metadata": {},
     "output_type": "execute_result"
    },
    {
     "data": {
      "image/png": "[encoded data removed]",
      "text/plain": [
       "<Figure size 432x288 with 1 Axes>"
      ]
     },
     "metadata": {
      "needs_background": "light"
     },
     "output_type": "display_data"
    }
   ],
   "source": [
    "plt.hist(deathsByPeriod['total_deaths1'], alpha=0.1)\n",
    "plt.hist(deathsByPeriod['total_deaths2'], alpha=0.2)\n"
   ]
  },
  {
   "cell_type": "code",
   "execution_count": null,
   "metadata": {},
   "outputs": [],
   "source": []
  }
 ],
 "metadata": {
  "kernelspec": {
   "display_name": "Python 3",
   "language": "python",
   "name": "python3"
  },
  "language_info": {
   "codemirror_mode": {
    "name": "ipython",
    "version": 3
   },
   "file_extension": ".py",
   "mimetype": "text/x-python",
   "name": "python",
   "nbconvert_exporter": "python",
   "pygments_lexer": "ipython3",
   "version": "3.8.5"
  }
 },
 "nbformat": 4,
 "nbformat_minor": 4
}