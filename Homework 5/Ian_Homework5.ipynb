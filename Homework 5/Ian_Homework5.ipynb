{
 "cells": [
  {
   "cell_type": "code",
   "execution_count": 294,
   "metadata": {
    "collapsed": true
   },
   "outputs": [],
   "source": [
    "import datetime as dt\n",
    "import pandas as pd\n",
    "import matplotlib as mpl\n",
    "import matplotlib.pyplot as plt\n",
    "import seaborn as sns\n",
    "import plotly.express as px"
   ]
  },
  {
   "cell_type": "code",
   "execution_count": 295,
   "outputs": [],
   "source": [
    "#import CSV from project github\n",
    "covid19Dataframe = pd.read_csv(\"https://raw.githubusercontent.com/WhipSnake23/Python-Class-Project/main/Data/owid-covid-data.csv\")\n",
    "\n",
    "#scrub data from rolled up rows for each region globally. NOTE: ~==\"not\"\n",
    "covid19Dataframe = covid19Dataframe[~covid19Dataframe.iso_code.str.contains(\"OWID\")]\n",
    "\n",
    "#Get some date fields created\n",
    "covid19Dataframe.insert(59,'Day',pd.to_datetime(covid19Dataframe['date']),True)\n",
    "covid19Dataframe.insert(60,'Month',pd.to_datetime(covid19Dataframe['date']),True)\n",
    "covid19Dataframe.insert(61,'Year',pd.to_datetime(covid19Dataframe['date']),True)\n",
    "covid19Dataframe.insert(62,'Year_Month',pd.to_datetime(covid19Dataframe['date']),True)\n",
    "covid19Dataframe['Day'] = covid19Dataframe['Day'].dt.day\n",
    "covid19Dataframe['Month'] = covid19Dataframe['Month'].dt.month\n",
    "covid19Dataframe['Year'] = covid19Dataframe['Year'].dt.year\n",
    "covid19Dataframe['Year_Month'] = covid19Dataframe['Year'].astype(str) + '-' + covid19Dataframe['Month'].astype(str)\n",
    "#Convert Date Column to Date and Time\n",
    "covid19Dataframe['date'] = pd.to_datetime(covid19Dataframe['date'])\n",
    "\n",
    "\n",
    "covid19DataframeMexico = covid19Dataframe[covid19Dataframe[\"iso_code\"]==\"MEX\"]\n",
    "covid19DataframeMexicoGrouped = covid19DataframeMexico.groupby(['Year_Month'])['total_deaths'].sum()\n",
    "covid19DataframeMexicoDates = covid19DataframeMexico[\"Year_Month\"]\n"
   ],
   "metadata": {
    "collapsed": false,
    "pycharm": {
     "name": "#%%\n"
    }
   }
  },
  {
   "cell_type": "code",
   "execution_count": 296,
   "outputs": [],
   "source": [
    "covid19DataframeMexicoTotalDeaths = covid19DataframeMexico[\"total_deaths\"]"
   ],
   "metadata": {
    "collapsed": false,
    "pycharm": {
     "name": "#%%\n"
    }
   }
  },
  {
   "cell_type": "code",
   "execution_count": 297,
   "outputs": [
    {
     "data": {
      "text/plain": "<BarContainer object of 418 artists>"
     },
     "execution_count": 297,
     "metadata": {},
     "output_type": "execute_result"
    },
    {
     "data": {
      "text/plain": "<Figure size 792x792 with 1 Axes>",
      "image/png": "[encoded data removed]"
     },
     "metadata": {},
     "output_type": "display_data"
    }
   ],
   "source": [
    "fig = plt.figure(figsize=(11,11))\n",
    "plt.bar(covid19DataframeMexicoDates, covid19DataframeMexicoTotalDeaths)"
   ],
   "metadata": {
    "collapsed": false,
    "pycharm": {
     "name": "#%%\n"
    }
   }
  },
  {
   "cell_type": "code",
   "execution_count": 298,
   "outputs": [
    {
     "data": {
      "text/plain": "          location       date  total_deaths  median_age\n4446       Austria 2021-02-21        8386.0        44.4\n10116     Bulgaria 2021-02-21        9854.0        44.7\n15832      Croatia 2021-02-21        5429.0        44.0\n16179         Cuba 2021-02-21         296.0        43.1\n16891      Czechia 2021-02-21       19214.0        43.3\n24933      Germany 2021-02-21       67946.0        46.6\n25686       Greece 2021-02-21        6297.0        45.3\n28205    Hong Kong 2021-02-02           NaN        44.8\n28560      Hungary 2021-02-21       14299.0        43.4\n31929        Italy 2021-02-21       95718.0        47.9\n32674        Japan 2021-02-21        7485.0        48.2\n35499       Latvia 2021-02-21        1542.0        43.9\n37564    Lithuania 2021-02-21        3171.0        43.5\n44876  Netherlands 2021-02-21       15340.0        43.2\n51383     Portugal 2021-02-21       15962.0        46.2\n52104      Romania 2021-02-21       19847.0        43.0\n57528     Slovenia 2021-02-21        3776.0        44.5\n59149  South Korea 2021-02-21        1562.0        43.4\n59859        Spain 2021-02-21       67101.0        45.5\n61725  Switzerland 2021-02-21        9887.0        43.1",
      "text/html": "<div>\n<style scoped>\n    .dataframe tbody tr th:only-of-type {\n        vertical-align: middle;\n    }\n\n    .dataframe tbody tr th {\n        vertical-align: top;\n    }\n\n    .dataframe thead th {\n        text-align: right;\n    }\n</style>\n<table border=\"1\" class=\"dataframe\">\n  <thead>\n    <tr style=\"text-align: right;\">\n      <th></th>\n      <th>location</th>\n      <th>date</th>\n      <th>total_deaths</th>\n      <th>median_age</th>\n    </tr>\n  </thead>\n  <tbody>\n    <tr>\n      <th>4446</th>\n      <td>Austria</td>\n      <td>2021-02-21</td>\n      <td>8386.0</td>\n      <td>44.4</td>\n    </tr>\n    <tr>\n      <th>10116</th>\n      <td>Bulgaria</td>\n      <td>2021-02-21</td>\n      <td>9854.0</td>\n      <td>44.7</td>\n    </tr>\n    <tr>\n      <th>15832</th>\n      <td>Croatia</td>\n      <td>2021-02-21</td>\n      <td>5429.0</td>\n      <td>44.0</td>\n    </tr>\n    <tr>\n      <th>16179</th>\n      <td>Cuba</td>\n      <td>2021-02-21</td>\n      <td>296.0</td>\n      <td>43.1</td>\n    </tr>\n    <tr>\n      <th>16891</th>\n      <td>Czechia</td>\n      <td>2021-02-21</td>\n      <td>19214.0</td>\n      <td>43.3</td>\n    </tr>\n    <tr>\n      <th>24933</th>\n      <td>Germany</td>\n      <td>2021-02-21</td>\n      <td>67946.0</td>\n      <td>46.6</td>\n    </tr>\n    <tr>\n      <th>25686</th>\n      <td>Greece</td>\n      <td>2021-02-21</td>\n      <td>6297.0</td>\n      <td>45.3</td>\n    </tr>\n    <tr>\n      <th>28205</th>\n      <td>Hong Kong</td>\n      <td>2021-02-02</td>\n      <td>NaN</td>\n      <td>44.8</td>\n    </tr>\n    <tr>\n      <th>28560</th>\n      <td>Hungary</td>\n      <td>2021-02-21</td>\n      <td>14299.0</td>\n      <td>43.4</td>\n    </tr>\n    <tr>\n      <th>31929</th>\n      <td>Italy</td>\n      <td>2021-02-21</td>\n      <td>95718.0</td>\n      <td>47.9</td>\n    </tr>\n    <tr>\n      <th>32674</th>\n      <td>Japan</td>\n      <td>2021-02-21</td>\n      <td>7485.0</td>\n      <td>48.2</td>\n    </tr>\n    <tr>\n      <th>35499</th>\n      <td>Latvia</td>\n      <td>2021-02-21</td>\n      <td>1542.0</td>\n      <td>43.9</td>\n    </tr>\n    <tr>\n      <th>37564</th>\n      <td>Lithuania</td>\n      <td>2021-02-21</td>\n      <td>3171.0</td>\n      <td>43.5</td>\n    </tr>\n    <tr>\n      <th>44876</th>\n      <td>Netherlands</td>\n      <td>2021-02-21</td>\n      <td>15340.0</td>\n      <td>43.2</td>\n    </tr>\n    <tr>\n      <th>51383</th>\n      <td>Portugal</td>\n      <td>2021-02-21</td>\n      <td>15962.0</td>\n      <td>46.2</td>\n    </tr>\n    <tr>\n      <th>52104</th>\n      <td>Romania</td>\n      <td>2021-02-21</td>\n      <td>19847.0</td>\n      <td>43.0</td>\n    </tr>\n    <tr>\n      <th>57528</th>\n      <td>Slovenia</td>\n      <td>2021-02-21</td>\n      <td>3776.0</td>\n      <td>44.5</td>\n    </tr>\n    <tr>\n      <th>59149</th>\n      <td>South Korea</td>\n      <td>2021-02-21</td>\n      <td>1562.0</td>\n      <td>43.4</td>\n    </tr>\n    <tr>\n      <th>59859</th>\n      <td>Spain</td>\n      <td>2021-02-21</td>\n      <td>67101.0</td>\n      <td>45.5</td>\n    </tr>\n    <tr>\n      <th>61725</th>\n      <td>Switzerland</td>\n      <td>2021-02-21</td>\n      <td>9887.0</td>\n      <td>43.1</td>\n    </tr>\n  </tbody>\n</table>\n</div>"
     },
     "execution_count": 298,
     "metadata": {},
     "output_type": "execute_result"
    }
   ],
   "source": [
    "countries = covid19Dataframe[['iso_code','median_age']]\n",
    "countries = countries.drop_duplicates()\n",
    "top20Countries_MedianAge = countries.nlargest(20,'median_age')\n",
    "top20Countries_list = top20Countries_MedianAge['iso_code'].values.tolist()\n",
    "booleanSeries = covid19Dataframe.iso_code.isin(top20Countries_list)\n",
    "top20Countries_MedianAge = covid19Dataframe[booleanSeries]\n",
    "top20Countries_MedianAge = top20Countries_MedianAge[['location','date','total_deaths','median_age']]\n",
    "top20Countries_MedianAge = top20Countries_MedianAge[top20Countries_MedianAge.groupby('location').date.transform('max') == top20Countries_MedianAge['date']]\n",
    "top20Countries_MedianAge"
   ],
   "metadata": {
    "collapsed": false,
    "pycharm": {
     "name": "#%%\n"
    }
   }
  },
  {
   "cell_type": "code",
   "execution_count": 299,
   "outputs": [
    {
     "data": {
      "text/plain": "<seaborn.axisgrid.FacetGrid at 0x7fca7ba771f0>"
     },
     "execution_count": 299,
     "metadata": {},
     "output_type": "execute_result"
    },
    {
     "data": {
      "text/plain": "<Figure size 467.225x360 with 1 Axes>",
      "image/png": "[encoded data removed]"
     },
     "metadata": {},
     "output_type": "display_data"
    }
   ],
   "source": [
    "sns.set_theme()\n",
    "\n",
    "# Create a visualization\n",
    "sns.relplot(\n",
    "    data=top20Countries_MedianAge,\n",
    "    x=\"total_deaths\", y=\"median_age\",\n",
    "    hue=\"location\", style=\"location\",\n",
    ")"
   ],
   "metadata": {
    "collapsed": false,
    "pycharm": {
     "name": "#%%\n"
    }
   }
  },
  {
   "cell_type": "code",
   "source": [
    "countries = covid19Dataframe[['iso_code','population_density']]\n",
    "countries = countries.drop_duplicates()\n",
    "top20Countries_PopD = countries.nlargest(20,'population_density')\n",
    "top20Countries_list = top20Countries_PopD['iso_code'].values.tolist()\n",
    "booleanSeries = covid19Dataframe.iso_code.isin(top20Countries_list)\n",
    "top20Countries_PopD = covid19Dataframe[booleanSeries]\n",
    "top20Countries_PopD = top20Countries_PopD[['location','date','total_deaths','population_density']]\n",
    "top20Countries_PopD = top20Countries_PopD[top20Countries_PopD.groupby('location').date.transform('max') == top20Countries_PopD['date']]\n",
    "top20Countries_PopD\n"
   ],
   "metadata": {
    "collapsed": false,
    "pycharm": {
     "name": "#%%\n"
    }
   },
   "execution_count": 300,
   "outputs": [
    {
     "data": {
      "text/plain": "          location       date  total_deaths  population_density\n5511       Bahrain 2021-02-21         423.0            1935.907\n5867    Bangladesh 2021-02-21        8349.0            1265.036\n6209      Barbados 2021-02-21          31.0             664.463\n7669       Bermuda 2021-02-15           NaN            1308.820\n14424      Comoros 2021-02-21         143.0             437.352\n25320    Gibraltar 2021-02-20           NaN            3457.100\n28205    Hong Kong 2021-02-02           NaN            7039.714\n29311        India 2021-02-21      156385.0             450.419\n35866      Lebanon 2021-02-21        4340.0             594.561\n37939        Macao 2021-02-18           NaN           20546.766\n39353     Maldives 2021-02-21          60.0            1454.433\n40069        Malta 2021-02-21         304.0            1454.037\n40872    Mauritius 2021-02-21          10.0             622.962\n42032       Monaco 2021-02-21          22.0           19347.500\n44876  Netherlands 2021-02-21       15340.0             508.544\n48883    Palestine 2021-02-21        1976.0             778.202\n52837       Rwanda 2021-02-21         249.0             494.869\n54319   San Marino 2021-02-21          72.0             556.667\n56789    Singapore 2021-02-21          29.0            7915.731\n59149  South Korea 2021-02-21        1562.0             527.967",
      "text/html": "<div>\n<style scoped>\n    .dataframe tbody tr th:only-of-type {\n        vertical-align: middle;\n    }\n\n    .dataframe tbody tr th {\n        vertical-align: top;\n    }\n\n    .dataframe thead th {\n        text-align: right;\n    }\n</style>\n<table border=\"1\" class=\"dataframe\">\n  <thead>\n    <tr style=\"text-align: right;\">\n      <th></th>\n      <th>location</th>\n      <th>date</th>\n      <th>total_deaths</th>\n      <th>population_density</th>\n    </tr>\n  </thead>\n  <tbody>\n    <tr>\n      <th>5511</th>\n      <td>Bahrain</td>\n      <td>2021-02-21</td>\n      <td>423.0</td>\n      <td>1935.907</td>\n    </tr>\n    <tr>\n      <th>5867</th>\n      <td>Bangladesh</td>\n      <td>2021-02-21</td>\n      <td>8349.0</td>\n      <td>1265.036</td>\n    </tr>\n    <tr>\n      <th>6209</th>\n      <td>Barbados</td>\n      <td>2021-02-21</td>\n      <td>31.0</td>\n      <td>664.463</td>\n    </tr>\n    <tr>\n      <th>7669</th>\n      <td>Bermuda</td>\n      <td>2021-02-15</td>\n      <td>NaN</td>\n      <td>1308.820</td>\n    </tr>\n    <tr>\n      <th>14424</th>\n      <td>Comoros</td>\n      <td>2021-02-21</td>\n      <td>143.0</td>\n      <td>437.352</td>\n    </tr>\n    <tr>\n      <th>25320</th>\n      <td>Gibraltar</td>\n      <td>2021-02-20</td>\n      <td>NaN</td>\n      <td>3457.100</td>\n    </tr>\n    <tr>\n      <th>28205</th>\n      <td>Hong Kong</td>\n      <td>2021-02-02</td>\n      <td>NaN</td>\n      <td>7039.714</td>\n    </tr>\n    <tr>\n      <th>29311</th>\n      <td>India</td>\n      <td>2021-02-21</td>\n      <td>156385.0</td>\n      <td>450.419</td>\n    </tr>\n    <tr>\n      <th>35866</th>\n      <td>Lebanon</td>\n      <td>2021-02-21</td>\n      <td>4340.0</td>\n      <td>594.561</td>\n    </tr>\n    <tr>\n      <th>37939</th>\n      <td>Macao</td>\n      <td>2021-02-18</td>\n      <td>NaN</td>\n      <td>20546.766</td>\n    </tr>\n    <tr>\n      <th>39353</th>\n      <td>Maldives</td>\n      <td>2021-02-21</td>\n      <td>60.0</td>\n      <td>1454.433</td>\n    </tr>\n    <tr>\n      <th>40069</th>\n      <td>Malta</td>\n      <td>2021-02-21</td>\n      <td>304.0</td>\n      <td>1454.037</td>\n    </tr>\n    <tr>\n      <th>40872</th>\n      <td>Mauritius</td>\n      <td>2021-02-21</td>\n      <td>10.0</td>\n      <td>622.962</td>\n    </tr>\n    <tr>\n      <th>42032</th>\n      <td>Monaco</td>\n      <td>2021-02-21</td>\n      <td>22.0</td>\n      <td>19347.500</td>\n    </tr>\n    <tr>\n      <th>44876</th>\n      <td>Netherlands</td>\n      <td>2021-02-21</td>\n      <td>15340.0</td>\n      <td>508.544</td>\n    </tr>\n    <tr>\n      <th>48883</th>\n      <td>Palestine</td>\n      <td>2021-02-21</td>\n      <td>1976.0</td>\n      <td>778.202</td>\n    </tr>\n    <tr>\n      <th>52837</th>\n      <td>Rwanda</td>\n      <td>2021-02-21</td>\n      <td>249.0</td>\n      <td>494.869</td>\n    </tr>\n    <tr>\n      <th>54319</th>\n      <td>San Marino</td>\n      <td>2021-02-21</td>\n      <td>72.0</td>\n      <td>556.667</td>\n    </tr>\n    <tr>\n      <th>56789</th>\n      <td>Singapore</td>\n      <td>2021-02-21</td>\n      <td>29.0</td>\n      <td>7915.731</td>\n    </tr>\n    <tr>\n      <th>59149</th>\n      <td>South Korea</td>\n      <td>2021-02-21</td>\n      <td>1562.0</td>\n      <td>527.967</td>\n    </tr>\n  </tbody>\n</table>\n</div>"
     },
     "execution_count": 300,
     "metadata": {},
     "output_type": "execute_result"
    }
   ]
  },
  {
   "cell_type": "code",
   "execution_count": 301,
   "outputs": [
    {
     "data": {
      "application/vnd.plotly.v1+json": {
       "config": {
        "plotlyServerURL": "https://plot.ly"
       },
       "data": [
        {
         "hovertemplate": "location=Bahrain<br>total_deaths=%{x}<br>population_density=%{y}<extra></extra>",
         "legendgroup": "Bahrain",
         "marker": {
          "color": "#636efa",
          "symbol": "circle"
         },
         "mode": "markers",
         "name": "Bahrain",
         "orientation": "v",
         "showlegend": true,
         "type": "scatter",
         "x": [
          423.0
         ],
         "xaxis": "x",
         "y": [
          1935.907
         ],
         "yaxis": "y"
        },
        {
         "hovertemplate": "location=Bangladesh<br>total_deaths=%{x}<br>population_density=%{y}<extra></extra>",
         "legendgroup": "Bangladesh",
         "marker": {
          "color": "#EF553B",
          "symbol": "circle"
         },
         "mode": "markers",
         "name": "Bangladesh",
         "orientation": "v",
         "showlegend": true,
         "type": "scatter",
         "x": [
          8349.0
         ],
         "xaxis": "x",
         "y": [
          1265.036
         ],
         "yaxis": "y"
        },
        {
         "hovertemplate": "location=Barbados<br>total_deaths=%{x}<br>population_density=%{y}<extra></extra>",
         "legendgroup": "Barbados",
         "marker": {
          "color": "#00cc96",
          "symbol": "circle"
         },
         "mode": "markers",
         "name": "Barbados",
         "orientation": "v",
         "showlegend": true,
         "type": "scatter",
         "x": [
          31.0
         ],
         "xaxis": "x",
         "y": [
          664.463
         ],
         "yaxis": "y"
        },
        {
         "hovertemplate": "location=Bermuda<br>total_deaths=%{x}<br>population_density=%{y}<extra></extra>",
         "legendgroup": "Bermuda",
         "marker": {
          "color": "#ab63fa",
          "symbol": "circle"
         },
         "mode": "markers",
         "name": "Bermuda",
         "orientation": "v",
         "showlegend": true,
         "type": "scatter",
         "x": [
          null
         ],
         "xaxis": "x",
         "y": [
          1308.82
         ],
         "yaxis": "y"
        },
        {
         "hovertemplate": "location=Comoros<br>total_deaths=%{x}<br>population_density=%{y}<extra></extra>",
         "legendgroup": "Comoros",
         "marker": {
          "color": "#FFA15A",
          "symbol": "circle"
         },
         "mode": "markers",
         "name": "Comoros",
         "orientation": "v",
         "showlegend": true,
         "type": "scatter",
         "x": [
          143.0
         ],
         "xaxis": "x",
         "y": [
          437.352
         ],
         "yaxis": "y"
        },
        {
         "hovertemplate": "location=Gibraltar<br>total_deaths=%{x}<br>population_density=%{y}<extra></extra>",
         "legendgroup": "Gibraltar",
         "marker": {
          "color": "#19d3f3",
          "symbol": "circle"
         },
         "mode": "markers",
         "name": "Gibraltar",
         "orientation": "v",
         "showlegend": true,
         "type": "scatter",
         "x": [
          null
         ],
         "xaxis": "x",
         "y": [
          3457.1
         ],
         "yaxis": "y"
        },
        {
         "hovertemplate": "location=Hong Kong<br>total_deaths=%{x}<br>population_density=%{y}<extra></extra>",
         "legendgroup": "Hong Kong",
         "marker": {
          "color": "#FF6692",
          "symbol": "circle"
         },
         "mode": "markers",
         "name": "Hong Kong",
         "orientation": "v",
         "showlegend": true,
         "type": "scatter",
         "x": [
          null
         ],
         "xaxis": "x",
         "y": [
          7039.714
         ],
         "yaxis": "y"
        },
        {
         "hovertemplate": "location=India<br>total_deaths=%{x}<br>population_density=%{y}<extra></extra>",
         "legendgroup": "India",
         "marker": {
          "color": "#B6E880",
          "symbol": "circle"
         },
         "mode": "markers",
         "name": "India",
         "orientation": "v",
         "showlegend": true,
         "type": "scatter",
         "x": [
          156385.0
         ],
         "xaxis": "x",
         "y": [
          450.419
         ],
         "yaxis": "y"
        },
        {
         "hovertemplate": "location=Lebanon<br>total_deaths=%{x}<br>population_density=%{y}<extra></extra>",
         "legendgroup": "Lebanon",
         "marker": {
          "color": "#FF97FF",
          "symbol": "circle"
         },
         "mode": "markers",
         "name": "Lebanon",
         "orientation": "v",
         "showlegend": true,
         "type": "scatter",
         "x": [
          4340.0
         ],
         "xaxis": "x",
         "y": [
          594.561
         ],
         "yaxis": "y"
        },
        {
         "hovertemplate": "location=Macao<br>total_deaths=%{x}<br>population_density=%{y}<extra></extra>",
         "legendgroup": "Macao",
         "marker": {
          "color": "#FECB52",
          "symbol": "circle"
         },
         "mode": "markers",
         "name": "Macao",
         "orientation": "v",
         "showlegend": true,
         "type": "scatter",
         "x": [
          null
         ],
         "xaxis": "x",
         "y": [
          20546.766
         ],
         "yaxis": "y"
        },
        {
         "hovertemplate": "location=Maldives<br>total_deaths=%{x}<br>population_density=%{y}<extra></extra>",
         "legendgroup": "Maldives",
         "marker": {
          "color": "#636efa",
          "symbol": "circle"
         },
         "mode": "markers",
         "name": "Maldives",
         "orientation": "v",
         "showlegend": true,
         "type": "scatter",
         "x": [
          60.0
         ],
         "xaxis": "x",
         "y": [
          1454.433
         ],
         "yaxis": "y"
        },
        {
         "hovertemplate": "location=Malta<br>total_deaths=%{x}<br>population_density=%{y}<extra></extra>",
         "legendgroup": "Malta",
         "marker": {
          "color": "#EF553B",
          "symbol": "circle"
         },
         "mode": "markers",
         "name": "Malta",
         "orientation": "v",
         "showlegend": true,
         "type": "scatter",
         "x": [
          304.0
         ],
         "xaxis": "x",
         "y": [
          1454.037
         ],
         "yaxis": "y"
        },
        {
         "hovertemplate": "location=Mauritius<br>total_deaths=%{x}<br>population_density=%{y}<extra></extra>",
         "legendgroup": "Mauritius",
         "marker": {
          "color": "#00cc96",
          "symbol": "circle"
         },
         "mode": "markers",
         "name": "Mauritius",
         "orientation": "v",
         "showlegend": true,
         "type": "scatter",
         "x": [
          10.0
         ],
         "xaxis": "x",
         "y": [
          622.962
         ],
         "yaxis": "y"
        },
        {
         "hovertemplate": "location=Monaco<br>total_deaths=%{x}<br>population_density=%{y}<extra></extra>",
         "legendgroup": "Monaco",
         "marker": {
          "color": "#ab63fa",
          "symbol": "circle"
         },
         "mode": "markers",
         "name": "Monaco",
         "orientation": "v",
         "showlegend": true,
         "type": "scatter",
         "x": [
          22.0
         ],
         "xaxis": "x",
         "y": [
          19347.5
         ],
         "yaxis": "y"
        },
        {
         "hovertemplate": "location=Netherlands<br>total_deaths=%{x}<br>population_density=%{y}<extra></extra>",
         "legendgroup": "Netherlands",
         "marker": {
          "color": "#FFA15A",
          "symbol": "circle"
         },
         "mode": "markers",
         "name": "Netherlands",
         "orientation": "v",
         "showlegend": true,
         "type": "scatter",
         "x": [
          15340.0
         ],
         "xaxis": "x",
         "y": [
          508.544
         ],
         "yaxis": "y"
        },
        {
         "hovertemplate": "location=Palestine<br>total_deaths=%{x}<br>population_density=%{y}<extra></extra>",
         "legendgroup": "Palestine",
         "marker": {
          "color": "#19d3f3",
          "symbol": "circle"
         },
         "mode": "markers",
         "name": "Palestine",
         "orientation": "v",
         "showlegend": true,
         "type": "scatter",
         "x": [
          1976.0
         ],
         "xaxis": "x",
         "y": [
          778.202
         ],
         "yaxis": "y"
        },
        {
         "hovertemplate": "location=Rwanda<br>total_deaths=%{x}<br>population_density=%{y}<extra></extra>",
         "legendgroup": "Rwanda",
         "marker": {
          "color": "#FF6692",
          "symbol": "circle"
         },
         "mode": "markers",
         "name": "Rwanda",
         "orientation": "v",
         "showlegend": true,
         "type": "scatter",
         "x": [
          249.0
         ],
         "xaxis": "x",
         "y": [
          494.869
         ],
         "yaxis": "y"
        },
        {
         "hovertemplate": "location=San Marino<br>total_deaths=%{x}<br>population_density=%{y}<extra></extra>",
         "legendgroup": "San Marino",
         "marker": {
          "color": "#B6E880",
          "symbol": "circle"
         },
         "mode": "markers",
         "name": "San Marino",
         "orientation": "v",
         "showlegend": true,
         "type": "scatter",
         "x": [
          72.0
         ],
         "xaxis": "x",
         "y": [
          556.667
         ],
         "yaxis": "y"
        },
        {
         "hovertemplate": "location=Singapore<br>total_deaths=%{x}<br>population_density=%{y}<extra></extra>",
         "legendgroup": "Singapore",
         "marker": {
          "color": "#FF97FF",
          "symbol": "circle"
         },
         "mode": "markers",
         "name": "Singapore",
         "orientation": "v",
         "showlegend": true,
         "type": "scatter",
         "x": [
          29.0
         ],
         "xaxis": "x",
         "y": [
          7915.731
         ],
         "yaxis": "y"
        },
        {
         "hovertemplate": "location=South Korea<br>total_deaths=%{x}<br>population_density=%{y}<extra></extra>",
         "legendgroup": "South Korea",
         "marker": {
          "color": "#FECB52",
          "symbol": "circle"
         },
         "mode": "markers",
         "name": "South Korea",
         "orientation": "v",
         "showlegend": true,
         "type": "scatter",
         "x": [
          1562.0
         ],
         "xaxis": "x",
         "y": [
          527.967
         ],
         "yaxis": "y"
        }
       ],
       "layout": {
        "legend": {
         "title": {
          "text": "location"
         },
         "tracegroupgap": 0
        },
        "template": {
         "data": {
          "bar": [
           {
            "error_x": {
             "color": "#2a3f5f"
            },
            "error_y": {
             "color": "#2a3f5f"
            },
            "marker": {
             "line": {
              "color": "#E5ECF6",
              "width": 0.5
             }
            },
            "type": "bar"
           }
          ],
          "barpolar": [
           {
            "marker": {
             "line": {
              "color": "#E5ECF6",
              "width": 0.5
             }
            },
            "type": "barpolar"
           }
          ],
          "carpet": [
           {
            "aaxis": {
             "endlinecolor": "#2a3f5f",
             "gridcolor": "white",
             "linecolor": "white",
             "minorgridcolor": "white",
             "startlinecolor": "#2a3f5f"
            },
            "baxis": {
             "endlinecolor": "#2a3f5f",
             "gridcolor": "white",
             "linecolor": "white",
             "minorgridcolor": "white",
             "startlinecolor": "#2a3f5f"
            },
            "type": "carpet"
           }
          ],
          "choropleth": [
           {
            "colorbar": {
             "outlinewidth": 0,
             "ticks": ""
            },
            "type": "choropleth"
           }
          ],
          "contour": [
           {
            "colorbar": {
             "outlinewidth": 0,
             "ticks": ""
            },
            "colorscale": [
             [
              0.0,
              "#0d0887"
             ],
             [
              0.1111111111111111,
              "#46039f"
             ],
             [
              0.2222222222222222,
              "#7201a8"
             ],
             [
              0.3333333333333333,
              "#9c179e"
             ],
             [
              0.4444444444444444,
              "#bd3786"
             ],
             [
              0.5555555555555556,
              "#d8576b"
             ],
             [
              0.6666666666666666,
              "#ed7953"
             ],
             [
              0.7777777777777778,
              "#fb9f3a"
             ],
             [
              0.8888888888888888,
              "#fdca26"
             ],
             [
              1.0,
              "#f0f921"
             ]
            ],
            "type": "contour"
           }
          ],
          "contourcarpet": [
           {
            "colorbar": {
             "outlinewidth": 0,
             "ticks": ""
            },
            "type": "contourcarpet"
           }
          ],
          "heatmap": [
           {
            "colorbar": {
             "outlinewidth": 0,
             "ticks": ""
            },
            "colorscale": [
             [
              0.0,
              "#0d0887"
             ],
             [
              0.1111111111111111,
              "#46039f"
             ],
             [
              0.2222222222222222,
              "#7201a8"
             ],
             [
              0.3333333333333333,
              "#9c179e"
             ],
             [
              0.4444444444444444,
              "#bd3786"
             ],
             [
              0.5555555555555556,
              "#d8576b"
             ],
             [
              0.6666666666666666,
              "#ed7953"
             ],
             [
              0.7777777777777778,
              "#fb9f3a"
             ],
             [
              0.8888888888888888,
              "#fdca26"
             ],
             [
              1.0,
              "#f0f921"
             ]
            ],
            "type": "heatmap"
           }
          ],
          "heatmapgl": [
           {
            "colorbar": {
             "outlinewidth": 0,
             "ticks": ""
            },
            "colorscale": [
             [
              0.0,
              "#0d0887"
             ],
             [
              0.1111111111111111,
              "#46039f"
             ],
             [
              0.2222222222222222,
              "#7201a8"
             ],
             [
              0.3333333333333333,
              "#9c179e"
             ],
             [
              0.4444444444444444,
              "#bd3786"
             ],
             [
              0.5555555555555556,
              "#d8576b"
             ],
             [
              0.6666666666666666,
              "#ed7953"
             ],
             [
              0.7777777777777778,
              "#fb9f3a"
             ],
             [
              0.8888888888888888,
              "#fdca26"
             ],
             [
              1.0,
              "#f0f921"
             ]
            ],
            "type": "heatmapgl"
           }
          ],
          "histogram": [
           {
            "marker": {
             "colorbar": {
              "outlinewidth": 0,
              "ticks": ""
             }
            },
            "type": "histogram"
           }
          ],
          "histogram2d": [
           {
            "colorbar": {
             "outlinewidth": 0,
             "ticks": ""
            },
            "colorscale": [
             [
              0.0,
              "#0d0887"
             ],
             [
              0.1111111111111111,
              "#46039f"
             ],
             [
              0.2222222222222222,
              "#7201a8"
             ],
             [
              0.3333333333333333,
              "#9c179e"
             ],
             [
              0.4444444444444444,
              "#bd3786"
             ],
             [
              0.5555555555555556,
              "#d8576b"
             ],
             [
              0.6666666666666666,
              "#ed7953"
             ],
             [
              0.7777777777777778,
              "#fb9f3a"
             ],
             [
              0.8888888888888888,
              "#fdca26"
             ],
             [
              1.0,
              "#f0f921"
             ]
            ],
            "type": "histogram2d"
           }
          ],
          "histogram2dcontour": [
           {
            "colorbar": {
             "outlinewidth": 0,
             "ticks": ""
            },
            "colorscale": [
             [
              0.0,
              "#0d0887"
             ],
             [
              0.1111111111111111,
              "#46039f"
             ],
             [
              0.2222222222222222,
              "#7201a8"
             ],
             [
              0.3333333333333333,
              "#9c179e"
             ],
             [
              0.4444444444444444,
              "#bd3786"
             ],
             [
              0.5555555555555556,
              "#d8576b"
             ],
             [
              0.6666666666666666,
              "#ed7953"
             ],
             [
              0.7777777777777778,
              "#fb9f3a"
             ],
             [
              0.8888888888888888,
              "#fdca26"
             ],
             [
              1.0,
              "#f0f921"
             ]
            ],
            "type": "histogram2dcontour"
           }
          ],
          "mesh3d": [
           {
            "colorbar": {
             "outlinewidth": 0,
             "ticks": ""
            },
            "type": "mesh3d"
           }
          ],
          "parcoords": [
           {
            "line": {
             "colorbar": {
              "outlinewidth": 0,
              "ticks": ""
             }
            },
            "type": "parcoords"
           }
          ],
          "pie": [
           {
            "automargin": true,
            "type": "pie"
           }
          ],
          "scatter": [
           {
            "marker": {
             "colorbar": {
              "outlinewidth": 0,
              "ticks": ""
             }
            },
            "type": "scatter"
           }
          ],
          "scatter3d": [
           {
            "line": {
             "colorbar": {
              "outlinewidth": 0,
              "ticks": ""
             }
            },
            "marker": {
             "colorbar": {
              "outlinewidth": 0,
              "ticks": ""
             }
            },
            "type": "scatter3d"
           }
          ],
          "scattercarpet": [
           {
            "marker": {
             "colorbar": {
              "outlinewidth": 0,
              "ticks": ""
             }
            },
            "type": "scattercarpet"
           }
          ],
          "scattergeo": [
           {
            "marker": {
             "colorbar": {
              "outlinewidth": 0,
              "ticks": ""
             }
            },
            "type": "scattergeo"
           }
          ],
          "scattergl": [
           {
            "marker": {
             "colorbar": {
              "outlinewidth": 0,
              "ticks": ""
             }
            },
            "type": "scattergl"
           }
          ],
          "scattermapbox": [
           {
            "marker": {
             "colorbar": {
              "outlinewidth": 0,
              "ticks": ""
             }
            },
            "type": "scattermapbox"
           }
          ],
          "scatterpolar": [
           {
            "marker": {
             "colorbar": {
              "outlinewidth": 0,
              "ticks": ""
             }
            },
            "type": "scatterpolar"
           }
          ],
          "scatterpolargl": [
           {
            "marker": {
             "colorbar": {
              "outlinewidth": 0,
              "ticks": ""
             }
            },
            "type": "scatterpolargl"
           }
          ],
          "scatterternary": [
           {
            "marker": {
             "colorbar": {
              "outlinewidth": 0,
              "ticks": ""
             }
            },
            "type": "scatterternary"
           }
          ],
          "surface": [
           {
            "colorbar": {
             "outlinewidth": 0,
             "ticks": ""
            },
            "colorscale": [
             [
              0.0,
              "#0d0887"
             ],
             [
              0.1111111111111111,
              "#46039f"
             ],
             [
              0.2222222222222222,
              "#7201a8"
             ],
             [
              0.3333333333333333,
              "#9c179e"
             ],
             [
              0.4444444444444444,
              "#bd3786"
             ],
             [
              0.5555555555555556,
              "#d8576b"
             ],
             [
              0.6666666666666666,
              "#ed7953"
             ],
             [
              0.7777777777777778,
              "#fb9f3a"
             ],
             [
              0.8888888888888888,
              "#fdca26"
             ],
             [
              1.0,
              "#f0f921"
             ]
            ],
            "type": "surface"
           }
          ],
          "table": [
           {
            "cells": {
             "fill": {
              "color": "#EBF0F8"
             },
             "line": {
              "color": "white"
             }
            },
            "header": {
             "fill": {
              "color": "#C8D4E3"
             },
             "line": {
              "color": "white"
             }
            },
            "type": "table"
           }
          ]
         },
         "layout": {
          "annotationdefaults": {
           "arrowcolor": "#2a3f5f",
           "arrowhead": 0,
           "arrowwidth": 1
          },
          "autotypenumbers": "strict",
          "coloraxis": {
           "colorbar": {
            "outlinewidth": 0,
            "ticks": ""
           }
          },
          "colorscale": {
           "diverging": [
            [
             0,
             "#8e0152"
            ],
            [
             0.1,
             "#c51b7d"
            ],
            [
             0.2,
             "#de77ae"
            ],
            [
             0.3,
             "#f1b6da"
            ],
            [
             0.4,
             "#fde0ef"
            ],
            [
             0.5,
             "#f7f7f7"
            ],
            [
             0.6,
             "#e6f5d0"
            ],
            [
             0.7,
             "#b8e186"
            ],
            [
             0.8,
             "#7fbc41"
            ],
            [
             0.9,
             "#4d9221"
            ],
            [
             1,
             "#276419"
            ]
           ],
           "sequential": [
            [
             0.0,
             "#0d0887"
            ],
            [
             0.1111111111111111,
             "#46039f"
            ],
            [
             0.2222222222222222,
             "#7201a8"
            ],
            [
             0.3333333333333333,
             "#9c179e"
            ],
            [
             0.4444444444444444,
             "#bd3786"
            ],
            [
             0.5555555555555556,
             "#d8576b"
            ],
            [
             0.6666666666666666,
             "#ed7953"
            ],
            [
             0.7777777777777778,
             "#fb9f3a"
            ],
            [
             0.8888888888888888,
             "#fdca26"
            ],
            [
             1.0,
             "#f0f921"
            ]
           ],
           "sequentialminus": [
            [
             0.0,
             "#0d0887"
            ],
            [
             0.1111111111111111,
             "#46039f"
            ],
            [
             0.2222222222222222,
             "#7201a8"
            ],
            [
             0.3333333333333333,
             "#9c179e"
            ],
            [
             0.4444444444444444,
             "#bd3786"
            ],
            [
             0.5555555555555556,
             "#d8576b"
            ],
            [
             0.6666666666666666,
             "#ed7953"
            ],
            [
             0.7777777777777778,
             "#fb9f3a"
            ],
            [
             0.8888888888888888,
             "#fdca26"
            ],
            [
             1.0,
             "#f0f921"
            ]
           ]
          },
          "colorway": [
           "#636efa",
           "#EF553B",
           "#00cc96",
           "#ab63fa",
           "#FFA15A",
           "#19d3f3",
           "#FF6692",
           "#B6E880",
           "#FF97FF",
           "#FECB52"
          ],
          "font": {
           "color": "#2a3f5f"
          },
          "geo": {
           "bgcolor": "white",
           "lakecolor": "white",
           "landcolor": "#E5ECF6",
           "showlakes": true,
           "showland": true,
           "subunitcolor": "white"
          },
          "hoverlabel": {
           "align": "left"
          },
          "hovermode": "closest",
          "mapbox": {
           "style": "light"
          },
          "paper_bgcolor": "white",
          "plot_bgcolor": "#E5ECF6",
          "polar": {
           "angularaxis": {
            "gridcolor": "white",
            "linecolor": "white",
            "ticks": ""
           },
           "bgcolor": "#E5ECF6",
           "radialaxis": {
            "gridcolor": "white",
            "linecolor": "white",
            "ticks": ""
           }
          },
          "scene": {
           "xaxis": {
            "backgroundcolor": "#E5ECF6",
            "gridcolor": "white",
            "gridwidth": 2,
            "linecolor": "white",
            "showbackground": true,
            "ticks": "",
            "zerolinecolor": "white"
           },
           "yaxis": {
            "backgroundcolor": "#E5ECF6",
            "gridcolor": "white",
            "gridwidth": 2,
            "linecolor": "white",
            "showbackground": true,
            "ticks": "",
            "zerolinecolor": "white"
           },
           "zaxis": {
            "backgroundcolor": "#E5ECF6",
            "gridcolor": "white",
            "gridwidth": 2,
            "linecolor": "white",
            "showbackground": true,
            "ticks": "",
            "zerolinecolor": "white"
           }
          },
          "shapedefaults": {
           "line": {
            "color": "#2a3f5f"
           }
          },
          "ternary": {
           "aaxis": {
            "gridcolor": "white",
            "linecolor": "white",
            "ticks": ""
           },
           "baxis": {
            "gridcolor": "white",
            "linecolor": "white",
            "ticks": ""
           },
           "bgcolor": "#E5ECF6",
           "caxis": {
            "gridcolor": "white",
            "linecolor": "white",
            "ticks": ""
           }
          },
          "title": {
           "x": 0.05
          },
          "xaxis": {
           "automargin": true,
           "gridcolor": "white",
           "linecolor": "white",
           "ticks": "",
           "title": {
            "standoff": 15
           },
           "zerolinecolor": "white",
           "zerolinewidth": 2
          },
          "yaxis": {
           "automargin": true,
           "gridcolor": "white",
           "linecolor": "white",
           "ticks": "",
           "title": {
            "standoff": 15
           },
           "zerolinecolor": "white",
           "zerolinewidth": 2
          }
         }
        },
        "title": {
         "text": "Total Deaths by Population Density"
        },
        "xaxis": {
         "anchor": "y",
         "domain": [
          0.0,
          1.0
         ],
         "title": {
          "text": "total_deaths"
         }
        },
        "yaxis": {
         "anchor": "x",
         "domain": [
          0.0,
          1.0
         ],
         "title": {
          "text": "population_density"
         }
        }
       }
      },
      "text/html": "<div>                            <div id=\"933fa108-c16f-4399-acf8-44a6defa47aa\" class=\"plotly-graph-div\" style=\"height:525px; width:100%;\"></div>            <script type=\"text/javascript\">                require([\"plotly\"], function(Plotly) {                    window.PLOTLYENV=window.PLOTLYENV || {};                                    if (document.getElementById(\"933fa108-c16f-4399-acf8-44a6defa47aa\")) {                    Plotly.newPlot(                        \"933fa108-c16f-4399-acf8-44a6defa47aa\",                        [{\"hovertemplate\": \"location=Bahrain<br>total_deaths=%{x}<br>population_density=%{y}<extra></extra>\", \"legendgroup\": \"Bahrain\", \"marker\": {\"color\": \"#636efa\", \"symbol\": \"circle\"}, \"mode\": \"markers\", \"name\": \"Bahrain\", \"orientation\": \"v\", \"showlegend\": true, \"type\": \"scatter\", \"x\": [423.0], \"xaxis\": \"x\", \"y\": [1935.907], \"yaxis\": \"y\"}, {\"hovertemplate\": \"location=Bangladesh<br>total_deaths=%{x}<br>population_density=%{y}<extra></extra>\", \"legendgroup\": \"Bangladesh\", \"marker\": {\"color\": \"#EF553B\", \"symbol\": \"circle\"}, \"mode\": \"markers\", \"name\": \"Bangladesh\", \"orientation\": \"v\", \"showlegend\": true, \"type\": \"scatter\", \"x\": [8349.0], \"xaxis\": \"x\", \"y\": [1265.036], \"yaxis\": \"y\"}, {\"hovertemplate\": \"location=Barbados<br>total_deaths=%{x}<br>population_density=%{y}<extra></extra>\", \"legendgroup\": \"Barbados\", \"marker\": {\"color\": \"#00cc96\", \"symbol\": \"circle\"}, \"mode\": \"markers\", \"name\": \"Barbados\", \"orientation\": \"v\", \"showlegend\": true, \"type\": \"scatter\", \"x\": [31.0], \"xaxis\": \"x\", \"y\": [664.463], \"yaxis\": \"y\"}, {\"hovertemplate\": \"location=Bermuda<br>total_deaths=%{x}<br>population_density=%{y}<extra></extra>\", \"legendgroup\": \"Bermuda\", \"marker\": {\"color\": \"#ab63fa\", \"symbol\": \"circle\"}, \"mode\": \"markers\", \"name\": \"Bermuda\", \"orientation\": \"v\", \"showlegend\": true, \"type\": \"scatter\", \"x\": [null], \"xaxis\": \"x\", \"y\": [1308.82], \"yaxis\": \"y\"}, {\"hovertemplate\": \"location=Comoros<br>total_deaths=%{x}<br>population_density=%{y}<extra></extra>\", \"legendgroup\": \"Comoros\", \"marker\": {\"color\": \"#FFA15A\", \"symbol\": \"circle\"}, \"mode\": \"markers\", \"name\": \"Comoros\", \"orientation\": \"v\", \"showlegend\": true, \"type\": \"scatter\", \"x\": [143.0], \"xaxis\": \"x\", \"y\": [437.352], \"yaxis\": \"y\"}, {\"hovertemplate\": \"location=Gibraltar<br>total_deaths=%{x}<br>population_density=%{y}<extra></extra>\", \"legendgroup\": \"Gibraltar\", \"marker\": {\"color\": \"#19d3f3\", \"symbol\": \"circle\"}, \"mode\": \"markers\", \"name\": \"Gibraltar\", \"orientation\": \"v\", \"showlegend\": true, \"type\": \"scatter\", \"x\": [null], \"xaxis\": \"x\", \"y\": [3457.1], \"yaxis\": \"y\"}, {\"hovertemplate\": \"location=Hong Kong<br>total_deaths=%{x}<br>population_density=%{y}<extra></extra>\", \"legendgroup\": \"Hong Kong\", \"marker\": {\"color\": \"#FF6692\", \"symbol\": \"circle\"}, \"mode\": \"markers\", \"name\": \"Hong Kong\", \"orientation\": \"v\", \"showlegend\": true, \"type\": \"scatter\", \"x\": [null], \"xaxis\": \"x\", \"y\": [7039.714], \"yaxis\": \"y\"}, {\"hovertemplate\": \"location=India<br>total_deaths=%{x}<br>population_density=%{y}<extra></extra>\", \"legendgroup\": \"India\", \"marker\": {\"color\": \"#B6E880\", \"symbol\": \"circle\"}, \"mode\": \"markers\", \"name\": \"India\", \"orientation\": \"v\", \"showlegend\": true, \"type\": \"scatter\", \"x\": [156385.0], \"xaxis\": \"x\", \"y\": [450.419], \"yaxis\": \"y\"}, {\"hovertemplate\": \"location=Lebanon<br>total_deaths=%{x}<br>population_density=%{y}<extra></extra>\", \"legendgroup\": \"Lebanon\", \"marker\": {\"color\": \"#FF97FF\", \"symbol\": \"circle\"}, \"mode\": \"markers\", \"name\": \"Lebanon\", \"orientation\": \"v\", \"showlegend\": true, \"type\": \"scatter\", \"x\": [4340.0], \"xaxis\": \"x\", \"y\": [594.561], \"yaxis\": \"y\"}, {\"hovertemplate\": \"location=Macao<br>total_deaths=%{x}<br>population_density=%{y}<extra></extra>\", \"legendgroup\": \"Macao\", \"marker\": {\"color\": \"#FECB52\", \"symbol\": \"circle\"}, \"mode\": \"markers\", \"name\": \"Macao\", \"orientation\": \"v\", \"showlegend\": true, \"type\": \"scatter\", \"x\": [null], \"xaxis\": \"x\", \"y\": [20546.766], \"yaxis\": \"y\"}, {\"hovertemplate\": \"location=Maldives<br>total_deaths=%{x}<br>population_density=%{y}<extra></extra>\", \"legendgroup\": \"Maldives\", \"marker\": {\"color\": \"#636efa\", \"symbol\": \"circle\"}, \"mode\": \"markers\", \"name\": \"Maldives\", \"orientation\": \"v\", \"showlegend\": true, \"type\": \"scatter\", \"x\": [60.0], \"xaxis\": \"x\", \"y\": [1454.433], \"yaxis\": \"y\"}, {\"hovertemplate\": \"location=Malta<br>total_deaths=%{x}<br>population_density=%{y}<extra></extra>\", \"legendgroup\": \"Malta\", \"marker\": {\"color\": \"#EF553B\", \"symbol\": \"circle\"}, \"mode\": \"markers\", \"name\": \"Malta\", \"orientation\": \"v\", \"showlegend\": true, \"type\": \"scatter\", \"x\": [304.0], \"xaxis\": \"x\", \"y\": [1454.037], \"yaxis\": \"y\"}, {\"hovertemplate\": \"location=Mauritius<br>total_deaths=%{x}<br>population_density=%{y}<extra></extra>\", \"legendgroup\": \"Mauritius\", \"marker\": {\"color\": \"#00cc96\", \"symbol\": \"circle\"}, \"mode\": \"markers\", \"name\": \"Mauritius\", \"orientation\": \"v\", \"showlegend\": true, \"type\": \"scatter\", \"x\": [10.0], \"xaxis\": \"x\", \"y\": [622.962], \"yaxis\": \"y\"}, {\"hovertemplate\": \"location=Monaco<br>total_deaths=%{x}<br>population_density=%{y}<extra></extra>\", \"legendgroup\": \"Monaco\", \"marker\": {\"color\": \"#ab63fa\", \"symbol\": \"circle\"}, \"mode\": \"markers\", \"name\": \"Monaco\", \"orientation\": \"v\", \"showlegend\": true, \"type\": \"scatter\", \"x\": [22.0], \"xaxis\": \"x\", \"y\": [19347.5], \"yaxis\": \"y\"}, {\"hovertemplate\": \"location=Netherlands<br>total_deaths=%{x}<br>population_density=%{y}<extra></extra>\", \"legendgroup\": \"Netherlands\", \"marker\": {\"color\": \"#FFA15A\", \"symbol\": \"circle\"}, \"mode\": \"markers\", \"name\": \"Netherlands\", \"orientation\": \"v\", \"showlegend\": true, \"type\": \"scatter\", \"x\": [15340.0], \"xaxis\": \"x\", \"y\": [508.544], \"yaxis\": \"y\"}, {\"hovertemplate\": \"location=Palestine<br>total_deaths=%{x}<br>population_density=%{y}<extra></extra>\", \"legendgroup\": \"Palestine\", \"marker\": {\"color\": \"#19d3f3\", \"symbol\": \"circle\"}, \"mode\": \"markers\", \"name\": \"Palestine\", \"orientation\": \"v\", \"showlegend\": true, \"type\": \"scatter\", \"x\": [1976.0], \"xaxis\": \"x\", \"y\": [778.202], \"yaxis\": \"y\"}, {\"hovertemplate\": \"location=Rwanda<br>total_deaths=%{x}<br>population_density=%{y}<extra></extra>\", \"legendgroup\": \"Rwanda\", \"marker\": {\"color\": \"#FF6692\", \"symbol\": \"circle\"}, \"mode\": \"markers\", \"name\": \"Rwanda\", \"orientation\": \"v\", \"showlegend\": true, \"type\": \"scatter\", \"x\": [249.0], \"xaxis\": \"x\", \"y\": [494.869], \"yaxis\": \"y\"}, {\"hovertemplate\": \"location=San Marino<br>total_deaths=%{x}<br>population_density=%{y}<extra></extra>\", \"legendgroup\": \"San Marino\", \"marker\": {\"color\": \"#B6E880\", \"symbol\": \"circle\"}, \"mode\": \"markers\", \"name\": \"San Marino\", \"orientation\": \"v\", \"showlegend\": true, \"type\": \"scatter\", \"x\": [72.0], \"xaxis\": \"x\", \"y\": [556.667], \"yaxis\": \"y\"}, {\"hovertemplate\": \"location=Singapore<br>total_deaths=%{x}<br>population_density=%{y}<extra></extra>\", \"legendgroup\": \"Singapore\", \"marker\": {\"color\": \"#FF97FF\", \"symbol\": \"circle\"}, \"mode\": \"markers\", \"name\": \"Singapore\", \"orientation\": \"v\", \"showlegend\": true, \"type\": \"scatter\", \"x\": [29.0], \"xaxis\": \"x\", \"y\": [7915.731], \"yaxis\": \"y\"}, {\"hovertemplate\": \"location=South Korea<br>total_deaths=%{x}<br>population_density=%{y}<extra></extra>\", \"legendgroup\": \"South Korea\", \"marker\": {\"color\": \"#FECB52\", \"symbol\": \"circle\"}, \"mode\": \"markers\", \"name\": \"South Korea\", \"orientation\": \"v\", \"showlegend\": true, \"type\": \"scatter\", \"x\": [1562.0], \"xaxis\": \"x\", \"y\": [527.967], \"yaxis\": \"y\"}],                        {\"legend\": {\"title\": {\"text\": \"location\"}, \"tracegroupgap\": 0}, \"template\": {\"data\": {\"bar\": [{\"error_x\": {\"color\": \"#2a3f5f\"}, \"error_y\": {\"color\": \"#2a3f5f\"}, \"marker\": {\"line\": {\"color\": \"#E5ECF6\", \"width\": 0.5}}, \"type\": \"bar\"}], \"barpolar\": [{\"marker\": {\"line\": {\"color\": \"#E5ECF6\", \"width\": 0.5}}, \"type\": \"barpolar\"}], \"carpet\": [{\"aaxis\": {\"endlinecolor\": \"#2a3f5f\", \"gridcolor\": \"white\", \"linecolor\": \"white\", \"minorgridcolor\": \"white\", \"startlinecolor\": \"#2a3f5f\"}, \"baxis\": {\"endlinecolor\": \"#2a3f5f\", \"gridcolor\": \"white\", \"linecolor\": \"white\", \"minorgridcolor\": \"white\", \"startlinecolor\": \"#2a3f5f\"}, \"type\": \"carpet\"}], \"choropleth\": [{\"colorbar\": {\"outlinewidth\": 0, \"ticks\": \"\"}, \"type\": \"choropleth\"}], \"contour\": [{\"colorbar\": {\"outlinewidth\": 0, \"ticks\": \"\"}, \"colorscale\": [[0.0, \"#0d0887\"], [0.1111111111111111, \"#46039f\"], [0.2222222222222222, \"#7201a8\"], [0.3333333333333333, \"#9c179e\"], [0.4444444444444444, \"#bd3786\"], [0.5555555555555556, \"#d8576b\"], [0.6666666666666666, \"#ed7953\"], [0.7777777777777778, \"#fb9f3a\"], [0.8888888888888888, \"#fdca26\"], [1.0, \"#f0f921\"]], \"type\": \"contour\"}], \"contourcarpet\": [{\"colorbar\": {\"outlinewidth\": 0, \"ticks\": \"\"}, \"type\": \"contourcarpet\"}], \"heatmap\": [{\"colorbar\": {\"outlinewidth\": 0, \"ticks\": \"\"}, \"colorscale\": [[0.0, \"#0d0887\"], [0.1111111111111111, \"#46039f\"], [0.2222222222222222, \"#7201a8\"], [0.3333333333333333, \"#9c179e\"], [0.4444444444444444, \"#bd3786\"], [0.5555555555555556, \"#d8576b\"], [0.6666666666666666, \"#ed7953\"], [0.7777777777777778, \"#fb9f3a\"], [0.8888888888888888, \"#fdca26\"], [1.0, \"#f0f921\"]], \"type\": \"heatmap\"}], \"heatmapgl\": [{\"colorbar\": {\"outlinewidth\": 0, \"ticks\": \"\"}, \"colorscale\": [[0.0, \"#0d0887\"], [0.1111111111111111, \"#46039f\"], [0.2222222222222222, \"#7201a8\"], [0.3333333333333333, \"#9c179e\"], [0.4444444444444444, \"#bd3786\"], [0.5555555555555556, \"#d8576b\"], [0.6666666666666666, \"#ed7953\"], [0.7777777777777778, \"#fb9f3a\"], [0.8888888888888888, \"#fdca26\"], [1.0, \"#f0f921\"]], \"type\": \"heatmapgl\"}], \"histogram\": [{\"marker\": {\"colorbar\": {\"outlinewidth\": 0, \"ticks\": \"\"}}, \"type\": \"histogram\"}], \"histogram2d\": [{\"colorbar\": {\"outlinewidth\": 0, \"ticks\": \"\"}, \"colorscale\": [[0.0, \"#0d0887\"], [0.1111111111111111, \"#46039f\"], [0.2222222222222222, \"#7201a8\"], [0.3333333333333333, \"#9c179e\"], [0.4444444444444444, \"#bd3786\"], [0.5555555555555556, \"#d8576b\"], [0.6666666666666666, \"#ed7953\"], [0.7777777777777778, \"#fb9f3a\"], [0.8888888888888888, \"#fdca26\"], [1.0, \"#f0f921\"]], \"type\": \"histogram2d\"}], \"histogram2dcontour\": [{\"colorbar\": {\"outlinewidth\": 0, \"ticks\": \"\"}, \"colorscale\": [[0.0, \"#0d0887\"], [0.1111111111111111, \"#46039f\"], [0.2222222222222222, \"#7201a8\"], [0.3333333333333333, \"#9c179e\"], [0.4444444444444444, \"#bd3786\"], [0.5555555555555556, \"#d8576b\"], [0.6666666666666666, \"#ed7953\"], [0.7777777777777778, \"#fb9f3a\"], [0.8888888888888888, \"#fdca26\"], [1.0, \"#f0f921\"]], \"type\": \"histogram2dcontour\"}], \"mesh3d\": [{\"colorbar\": {\"outlinewidth\": 0, \"ticks\": \"\"}, \"type\": \"mesh3d\"}], \"parcoords\": [{\"line\": {\"colorbar\": {\"outlinewidth\": 0, \"ticks\": \"\"}}, \"type\": \"parcoords\"}], \"pie\": [{\"automargin\": true, \"type\": \"pie\"}], \"scatter\": [{\"marker\": {\"colorbar\": {\"outlinewidth\": 0, \"ticks\": \"\"}}, \"type\": \"scatter\"}], \"scatter3d\": [{\"line\": {\"colorbar\": {\"outlinewidth\": 0, \"ticks\": \"\"}}, \"marker\": {\"colorbar\": {\"outlinewidth\": 0, \"ticks\": \"\"}}, \"type\": \"scatter3d\"}], \"scattercarpet\": [{\"marker\": {\"colorbar\": {\"outlinewidth\": 0, \"ticks\": \"\"}}, \"type\": \"scattercarpet\"}], \"scattergeo\": [{\"marker\": {\"colorbar\": {\"outlinewidth\": 0, \"ticks\": \"\"}}, \"type\": \"scattergeo\"}], \"scattergl\": [{\"marker\": {\"colorbar\": {\"outlinewidth\": 0, \"ticks\": \"\"}}, \"type\": \"scattergl\"}], \"scattermapbox\": [{\"marker\": {\"colorbar\": {\"outlinewidth\": 0, \"ticks\": \"\"}}, \"type\": \"scattermapbox\"}], \"scatterpolar\": [{\"marker\": {\"colorbar\": {\"outlinewidth\": 0, \"ticks\": \"\"}}, \"type\": \"scatterpolar\"}], \"scatterpolargl\": [{\"marker\": {\"colorbar\": {\"outlinewidth\": 0, \"ticks\": \"\"}}, \"type\": \"scatterpolargl\"}], \"scatterternary\": [{\"marker\": {\"colorbar\": {\"outlinewidth\": 0, \"ticks\": \"\"}}, \"type\": \"scatterternary\"}], \"surface\": [{\"colorbar\": {\"outlinewidth\": 0, \"ticks\": \"\"}, \"colorscale\": [[0.0, \"#0d0887\"], [0.1111111111111111, \"#46039f\"], [0.2222222222222222, \"#7201a8\"], [0.3333333333333333, \"#9c179e\"], [0.4444444444444444, \"#bd3786\"], [0.5555555555555556, \"#d8576b\"], [0.6666666666666666, \"#ed7953\"], [0.7777777777777778, \"#fb9f3a\"], [0.8888888888888888, \"#fdca26\"], [1.0, \"#f0f921\"]], \"type\": \"surface\"}], \"table\": [{\"cells\": {\"fill\": {\"color\": \"#EBF0F8\"}, \"line\": {\"color\": \"white\"}}, \"header\": {\"fill\": {\"color\": \"#C8D4E3\"}, \"line\": {\"color\": \"white\"}}, \"type\": \"table\"}]}, \"layout\": {\"annotationdefaults\": {\"arrowcolor\": \"#2a3f5f\", \"arrowhead\": 0, \"arrowwidth\": 1}, \"autotypenumbers\": \"strict\", \"coloraxis\": {\"colorbar\": {\"outlinewidth\": 0, \"ticks\": \"\"}}, \"colorscale\": {\"diverging\": [[0, \"#8e0152\"], [0.1, \"#c51b7d\"], [0.2, \"#de77ae\"], [0.3, \"#f1b6da\"], [0.4, \"#fde0ef\"], [0.5, \"#f7f7f7\"], [0.6, \"#e6f5d0\"], [0.7, \"#b8e186\"], [0.8, \"#7fbc41\"], [0.9, \"#4d9221\"], [1, \"#276419\"]], \"sequential\": [[0.0, \"#0d0887\"], [0.1111111111111111, \"#46039f\"], [0.2222222222222222, \"#7201a8\"], [0.3333333333333333, \"#9c179e\"], [0.4444444444444444, \"#bd3786\"], [0.5555555555555556, \"#d8576b\"], [0.6666666666666666, \"#ed7953\"], [0.7777777777777778, \"#fb9f3a\"], [0.8888888888888888, \"#fdca26\"], [1.0, \"#f0f921\"]], \"sequentialminus\": [[0.0, \"#0d0887\"], [0.1111111111111111, \"#46039f\"], [0.2222222222222222, \"#7201a8\"], [0.3333333333333333, \"#9c179e\"], [0.4444444444444444, \"#bd3786\"], [0.5555555555555556, \"#d8576b\"], [0.6666666666666666, \"#ed7953\"], [0.7777777777777778, \"#fb9f3a\"], [0.8888888888888888, \"#fdca26\"], [1.0, \"#f0f921\"]]}, \"colorway\": [\"#636efa\", \"#EF553B\", \"#00cc96\", \"#ab63fa\", \"#FFA15A\", \"#19d3f3\", \"#FF6692\", \"#B6E880\", \"#FF97FF\", \"#FECB52\"], \"font\": {\"color\": \"#2a3f5f\"}, \"geo\": {\"bgcolor\": \"white\", \"lakecolor\": \"white\", \"landcolor\": \"#E5ECF6\", \"showlakes\": true, \"showland\": true, \"subunitcolor\": \"white\"}, \"hoverlabel\": {\"align\": \"left\"}, \"hovermode\": \"closest\", \"mapbox\": {\"style\": \"light\"}, \"paper_bgcolor\": \"white\", \"plot_bgcolor\": \"#E5ECF6\", \"polar\": {\"angularaxis\": {\"gridcolor\": \"white\", \"linecolor\": \"white\", \"ticks\": \"\"}, \"bgcolor\": \"#E5ECF6\", \"radialaxis\": {\"gridcolor\": \"white\", \"linecolor\": \"white\", \"ticks\": \"\"}}, \"scene\": {\"xaxis\": {\"backgroundcolor\": \"#E5ECF6\", \"gridcolor\": \"white\", \"gridwidth\": 2, \"linecolor\": \"white\", \"showbackground\": true, \"ticks\": \"\", \"zerolinecolor\": \"white\"}, \"yaxis\": {\"backgroundcolor\": \"#E5ECF6\", \"gridcolor\": \"white\", \"gridwidth\": 2, \"linecolor\": \"white\", \"showbackground\": true, \"ticks\": \"\", \"zerolinecolor\": \"white\"}, \"zaxis\": {\"backgroundcolor\": \"#E5ECF6\", \"gridcolor\": \"white\", \"gridwidth\": 2, \"linecolor\": \"white\", \"showbackground\": true, \"ticks\": \"\", \"zerolinecolor\": \"white\"}}, \"shapedefaults\": {\"line\": {\"color\": \"#2a3f5f\"}}, \"ternary\": {\"aaxis\": {\"gridcolor\": \"white\", \"linecolor\": \"white\", \"ticks\": \"\"}, \"baxis\": {\"gridcolor\": \"white\", \"linecolor\": \"white\", \"ticks\": \"\"}, \"bgcolor\": \"#E5ECF6\", \"caxis\": {\"gridcolor\": \"white\", \"linecolor\": \"white\", \"ticks\": \"\"}}, \"title\": {\"x\": 0.05}, \"xaxis\": {\"automargin\": true, \"gridcolor\": \"white\", \"linecolor\": \"white\", \"ticks\": \"\", \"title\": {\"standoff\": 15}, \"zerolinecolor\": \"white\", \"zerolinewidth\": 2}, \"yaxis\": {\"automargin\": true, \"gridcolor\": \"white\", \"linecolor\": \"white\", \"ticks\": \"\", \"title\": {\"standoff\": 15}, \"zerolinecolor\": \"white\", \"zerolinewidth\": 2}}}, \"title\": {\"text\": \"Total Deaths by Population Density\"}, \"xaxis\": {\"anchor\": \"y\", \"domain\": [0.0, 1.0], \"title\": {\"text\": \"total_deaths\"}}, \"yaxis\": {\"anchor\": \"x\", \"domain\": [0.0, 1.0], \"title\": {\"text\": \"population_density\"}}},                        {\"responsive\": true}                    ).then(function(){\n                            \nvar gd = document.getElementById('933fa108-c16f-4399-acf8-44a6defa47aa');\nvar x = new MutationObserver(function (mutations, observer) {{\n        var display = window.getComputedStyle(gd).display;\n        if (!display || display === 'none') {{\n            console.log([gd, 'removed!']);\n            Plotly.purge(gd);\n            observer.disconnect();\n        }}\n}});\n\n// Listen for the removal of the full notebook cells\nvar notebookContainer = gd.closest('#notebook-container');\nif (notebookContainer) {{\n    x.observe(notebookContainer, {childList: true});\n}}\n\n// Listen for the clearing of the current output cell\nvar outputEl = gd.closest('.output');\nif (outputEl) {{\n    x.observe(outputEl, {childList: true});\n}}\n\n                        })                };                });            </script>        </div>"
     },
     "metadata": {},
     "output_type": "display_data"
    }
   ],
   "source": [
    "fig = px.scatter(top20Countries_PopD, x=\"total_deaths\", y=\"population_density\", color=\"location\",\n",
    "                 title=\"Total Deaths by Population Density\",\n",
    "                 labels={\"Total Death\"} # customize axis label\n",
    "                )\n",
    "\n",
    "fig.show()\n"
   ],
   "metadata": {
    "collapsed": false,
    "pycharm": {
     "name": "#%%\n"
    }
   }
  },
  {
   "cell_type": "code",
   "execution_count": 302,
   "outputs": [
    {
     "name": "stderr",
     "output_type": "stream",
     "text": [
      "<ipython-input-302-392f47094a5a>:2: SettingWithCopyWarning:\n",
      "\n",
      "\n",
      "A value is trying to be set on a copy of a slice from a DataFrame.\n",
      "Try using .loc[row_indexer,col_indexer] = value instead\n",
      "\n",
      "See the caveats in the documentation: https://pandas.pydata.org/pandas-docs/stable/user_guide/indexing.html#returning-a-view-versus-a-copy\n",
      "\n"
     ]
    },
    {
     "data": {
      "application/vnd.plotly.v1+json": {
       "config": {
        "plotlyServerURL": "https://plot.ly"
       },
       "data": [
        {
         "hovertemplate": "Year_Month=%{x}<br>positive_rate=%{y}<extra></extra>",
         "legendgroup": "",
         "line": {
          "color": "#636efa",
          "dash": "solid"
         },
         "mode": "lines",
         "name": "",
         "orientation": "v",
         "showlegend": false,
         "type": "scatter",
         "x": [
          "2020-1",
          "2020-2",
          "2020-2",
          "2020-2",
          "2020-2",
          "2020-2",
          "2020-2",
          "2020-2",
          "2020-2",
          "2020-2",
          "2020-2",
          "2020-2",
          "2020-2",
          "2020-2",
          "2020-2",
          "2020-2",
          "2020-2",
          "2020-2",
          "2020-2",
          "2020-2",
          "2020-2",
          "2020-2",
          "2020-2",
          "2020-2",
          "2020-2",
          "2020-2",
          "2020-2",
          "2020-2",
          "2020-2",
          "2020-2",
          "2020-3",
          "2020-3",
          "2020-3",
          "2020-3",
          "2020-3",
          "2020-3",
          "2020-3",
          "2020-3",
          "2020-3",
          "2020-3",
          "2020-3",
          "2020-3",
          "2020-3",
          "2020-3",
          "2020-3",
          "2020-3",
          "2020-3",
          "2020-3",
          "2020-3",
          "2020-3",
          "2020-3",
          "2020-3",
          "2020-3",
          "2020-3",
          "2020-3",
          "2020-3",
          "2020-3",
          "2020-3",
          "2020-3",
          "2020-3",
          "2020-3",
          "2020-4",
          "2020-4",
          "2020-4",
          "2020-4",
          "2020-4",
          "2020-4",
          "2020-4",
          "2020-4",
          "2020-4",
          "2020-4",
          "2020-4",
          "2020-4",
          "2020-4",
          "2020-4",
          "2020-4",
          "2020-4",
          "2020-4",
          "2020-4",
          "2020-4",
          "2020-4",
          "2020-4",
          "2020-4",
          "2020-4",
          "2020-4",
          "2020-4",
          "2020-4",
          "2020-4",
          "2020-4",
          "2020-4",
          "2020-4",
          "2020-5",
          "2020-5",
          "2020-5",
          "2020-5",
          "2020-5",
          "2020-5",
          "2020-5",
          "2020-5",
          "2020-5",
          "2020-5",
          "2020-5",
          "2020-5",
          "2020-5",
          "2020-5",
          "2020-5",
          "2020-5",
          "2020-5",
          "2020-5",
          "2020-5",
          "2020-5",
          "2020-5",
          "2020-5",
          "2020-5",
          "2020-5",
          "2020-5",
          "2020-5",
          "2020-5",
          "2020-5",
          "2020-5",
          "2020-5",
          "2020-5",
          "2020-6",
          "2020-6",
          "2020-6",
          "2020-6",
          "2020-6",
          "2020-6",
          "2020-6",
          "2020-6",
          "2020-6",
          "2020-6",
          "2020-6",
          "2020-6",
          "2020-6",
          "2020-6",
          "2020-6",
          "2020-6",
          "2020-6",
          "2020-6",
          "2020-6",
          "2020-6",
          "2020-6",
          "2020-6",
          "2020-6",
          "2020-6",
          "2020-6",
          "2020-6",
          "2020-6",
          "2020-6",
          "2020-6",
          "2020-6",
          "2020-7",
          "2020-7",
          "2020-7",
          "2020-7",
          "2020-7",
          "2020-7",
          "2020-7",
          "2020-7",
          "2020-7",
          "2020-7",
          "2020-7",
          "2020-7",
          "2020-7",
          "2020-7",
          "2020-7",
          "2020-7",
          "2020-7",
          "2020-7",
          "2020-7",
          "2020-7",
          "2020-7",
          "2020-7",
          "2020-7",
          "2020-7",
          "2020-7",
          "2020-7",
          "2020-7",
          "2020-7",
          "2020-7",
          "2020-7",
          "2020-7",
          "2020-8",
          "2020-8",
          "2020-8",
          "2020-8",
          "2020-8",
          "2020-8",
          "2020-8",
          "2020-8",
          "2020-8",
          "2020-8",
          "2020-8",
          "2020-8",
          "2020-8",
          "2020-8",
          "2020-8",
          "2020-8",
          "2020-8",
          "2020-8",
          "2020-8",
          "2020-8",
          "2020-8",
          "2020-8",
          "2020-8",
          "2020-8",
          "2020-8",
          "2020-8",
          "2020-8",
          "2020-8",
          "2020-8",
          "2020-8",
          "2020-8",
          "2020-9",
          "2020-9",
          "2020-9",
          "2020-9",
          "2020-9",
          "2020-9",
          "2020-9",
          "2020-9",
          "2020-9",
          "2020-9",
          "2020-9",
          "2020-9",
          "2020-9",
          "2020-9",
          "2020-9",
          "2020-9",
          "2020-9",
          "2020-9",
          "2020-9",
          "2020-9",
          "2020-9",
          "2020-9",
          "2020-9",
          "2020-9",
          "2020-9",
          "2020-9",
          "2020-9",
          "2020-9",
          "2020-9",
          "2020-9",
          "2020-10",
          "2020-10",
          "2020-10",
          "2020-10",
          "2020-10",
          "2020-10",
          "2020-10",
          "2020-10",
          "2020-10",
          "2020-10",
          "2020-10",
          "2020-10",
          "2020-10",
          "2020-10",
          "2020-10",
          "2020-10",
          "2020-10",
          "2020-10",
          "2020-10",
          "2020-10",
          "2020-10",
          "2020-10",
          "2020-10",
          "2020-10",
          "2020-10",
          "2020-10",
          "2020-10",
          "2020-10",
          "2020-10",
          "2020-10",
          "2020-10",
          "2020-11",
          "2020-11",
          "2020-11",
          "2020-11",
          "2020-11",
          "2020-11",
          "2020-11",
          "2020-11",
          "2020-11",
          "2020-11",
          "2020-11",
          "2020-11",
          "2020-11",
          "2020-11",
          "2020-11",
          "2020-11",
          "2020-11",
          "2020-11",
          "2020-11",
          "2020-11",
          "2020-11",
          "2020-11",
          "2020-11",
          "2020-11",
          "2020-11",
          "2020-11",
          "2020-11",
          "2020-11",
          "2020-11",
          "2020-11",
          "2020-12",
          "2020-12",
          "2020-12",
          "2020-12",
          "2020-12",
          "2020-12",
          "2020-12",
          "2020-12",
          "2020-12",
          "2020-12",
          "2020-12",
          "2020-12",
          "2020-12",
          "2020-12",
          "2020-12",
          "2020-12",
          "2020-12",
          "2020-12",
          "2020-12",
          "2020-12",
          "2020-12",
          "2020-12",
          "2020-12",
          "2020-12",
          "2020-12",
          "2020-12",
          "2020-12",
          "2020-12",
          "2020-12",
          "2020-12",
          "2020-12",
          "2021-1",
          "2021-1",
          "2021-1",
          "2021-1",
          "2021-1",
          "2021-1",
          "2021-1",
          "2021-1",
          "2021-1",
          "2021-1",
          "2021-1",
          "2021-1",
          "2021-1",
          "2021-1",
          "2021-1",
          "2021-1",
          "2021-1",
          "2021-1",
          "2021-1",
          "2021-1",
          "2021-1",
          "2021-1",
          "2021-1",
          "2021-1",
          "2021-1",
          "2021-1",
          "2021-1",
          "2021-1",
          "2021-1",
          "2021-1",
          "2021-1",
          "2021-2",
          "2021-2",
          "2021-2",
          "2021-2",
          "2021-2",
          "2021-2",
          "2021-2",
          "2021-2",
          "2021-2",
          "2021-2",
          "2021-2",
          "2021-2",
          "2021-2",
          "2021-2",
          "2021-2",
          "2021-2",
          "2021-2",
          "2021-2",
          "2021-2",
          "2021-2",
          "2021-2"
         ],
         "xaxis": "x",
         "y": [
          null,
          null,
          null,
          null,
          null,
          null,
          null,
          null,
          null,
          null,
          null,
          null,
          null,
          null,
          null,
          null,
          null,
          null,
          null,
          null,
          null,
          null,
          null,
          null,
          null,
          null,
          null,
          null,
          null,
          null,
          null,
          9.5,
          12.6,
          13.0,
          15.7,
          18.099999999999998,
          20.3,
          19.7,
          23.400000000000002,
          21.9,
          21.6,
          21.0,
          21.3,
          22.8,
          23.200000000000003,
          22.400000000000002,
          24.3,
          25.2,
          26.8,
          26.8,
          26.1,
          25.8,
          26.1,
          25.4,
          24.3,
          22.2,
          21.099999999999998,
          19.8,
          19.7,
          18.7,
          17.4,
          16.7,
          15.7,
          14.799999999999999,
          14.099999999999998,
          13.200000000000001,
          12.6,
          12.0,
          10.9,
          10.4,
          9.700000000000001,
          9.0,
          8.6,
          8.3,
          8.5,
          8.3,
          7.8,
          7.3999999999999995,
          6.9,
          6.5,
          6.2,
          5.7,
          5.6000000000000005,
          5.2,
          5.2,
          4.8,
          4.7,
          4.6,
          4.3999999999999995,
          4.1000000000000005,
          3.9,
          3.5000000000000004,
          3.5000000000000004,
          3.3000000000000003,
          3.1,
          2.9000000000000004,
          2.7,
          2.6,
          2.5,
          2.1999999999999997,
          2.0,
          1.9,
          1.9,
          1.7999999999999998,
          1.7000000000000002,
          1.6,
          1.5,
          1.4000000000000001,
          1.4000000000000001,
          1.3,
          1.2,
          1.0999999999999999,
          1.0999999999999999,
          1.0,
          1.0,
          1.0,
          0.8999999999999999,
          0.8999999999999999,
          0.8,
          0.8,
          0.8,
          0.7000000000000001,
          0.7000000000000001,
          0.7000000000000001,
          0.7000000000000001,
          0.6,
          0.6,
          0.6,
          0.6,
          0.6,
          0.6,
          0.5,
          0.5,
          0.4,
          0.5,
          0.5,
          0.5,
          0.5,
          0.5,
          0.5,
          0.5,
          0.4,
          0.4,
          0.4,
          0.4,
          0.5,
          0.5,
          0.6,
          0.6,
          0.5,
          0.5,
          0.5,
          0.4,
          0.4,
          0.4,
          0.4,
          0.4,
          0.4,
          0.4,
          0.5,
          0.5,
          0.5,
          0.5,
          0.5,
          0.5,
          0.5,
          0.5,
          0.5,
          0.4,
          0.5,
          0.5,
          0.5,
          0.5,
          0.5,
          0.5,
          0.5,
          0.5,
          0.5,
          0.5,
          0.5,
          0.5,
          0.5,
          0.6,
          0.6,
          0.5,
          0.5,
          0.6,
          0.6,
          0.6,
          0.6,
          0.7000000000000001,
          0.7000000000000001,
          0.8,
          0.8,
          0.8999999999999999,
          0.8999999999999999,
          1.0,
          1.0999999999999999,
          1.0999999999999999,
          1.0999999999999999,
          1.0,
          1.0,
          1.0,
          1.0999999999999999,
          1.0999999999999999,
          1.2,
          1.3,
          1.4000000000000001,
          1.4000000000000001,
          1.5,
          1.5,
          1.5,
          1.5,
          1.5,
          1.5,
          1.5,
          1.5,
          1.5,
          1.5,
          1.5,
          1.5,
          1.6,
          1.6,
          1.6,
          1.6,
          1.7000000000000002,
          1.7000000000000002,
          1.7000000000000002,
          1.7000000000000002,
          1.7000000000000002,
          1.7000000000000002,
          1.7000000000000002,
          1.7000000000000002,
          1.7000000000000002,
          1.7000000000000002,
          1.7000000000000002,
          1.7000000000000002,
          1.7999999999999998,
          1.7000000000000002,
          1.7999999999999998,
          1.7999999999999998,
          1.7999999999999998,
          1.9,
          1.9,
          2.0,
          2.0,
          2.1,
          2.1999999999999997,
          2.3,
          2.4,
          2.6,
          2.8000000000000003,
          3.2,
          3.5000000000000004,
          3.8,
          4.0,
          4.3,
          4.6,
          4.9,
          5.3,
          5.7,
          6.1,
          6.5,
          6.800000000000001,
          7.3,
          8.0,
          8.6,
          9.3,
          10.0,
          10.5,
          11.1,
          11.799999999999999,
          12.4,
          13.0,
          13.5,
          14.000000000000002,
          14.2,
          14.6,
          14.899999999999999,
          15.299999999999999,
          15.5,
          15.9,
          16.0,
          16.1,
          16.2,
          16.2,
          16.3,
          16.3,
          16.1,
          16.2,
          16.3,
          16.2,
          16.2,
          15.9,
          15.8,
          15.6,
          15.299999999999999,
          15.0,
          14.6,
          14.099999999999998,
          13.700000000000001,
          13.3,
          12.8,
          12.4,
          12.1,
          11.799999999999999,
          11.700000000000001,
          11.3,
          11.1,
          11.0,
          11.0,
          10.9,
          10.8,
          11.0,
          10.9,
          10.6,
          10.5,
          10.5,
          10.5,
          10.299999999999999,
          10.0,
          12.4,
          12.2,
          12.1,
          12.0,
          12.1,
          12.0,
          11.799999999999999,
          9.2,
          9.8,
          10.100000000000001,
          10.299999999999999,
          10.299999999999999,
          10.4,
          10.8,
          11.600000000000001,
          11.899999999999999,
          12.2,
          12.2,
          12.4,
          12.7,
          13.100000000000001,
          13.5,
          13.200000000000001,
          12.6,
          12.5,
          12.5,
          12.3,
          11.899999999999999,
          11.3,
          9.9,
          8.9,
          8.0,
          7.3,
          6.5,
          5.8999999999999995,
          5.4,
          5.3,
          5.0,
          5.0,
          5.0,
          5.0,
          5.1,
          5.1,
          5.1,
          5.0,
          5.0,
          4.9,
          4.9,
          4.8,
          4.8,
          4.8,
          4.9,
          4.9,
          4.9,
          4.9,
          4.8,
          4.8,
          4.8,
          4.7,
          4.7,
          4.6,
          4.6,
          4.6,
          4.5,
          4.6,
          4.6,
          4.6
         ],
         "yaxis": "y"
        }
       ],
       "layout": {
        "legend": {
         "tracegroupgap": 0
        },
        "template": {
         "data": {
          "bar": [
           {
            "error_x": {
             "color": "#2a3f5f"
            },
            "error_y": {
             "color": "#2a3f5f"
            },
            "marker": {
             "line": {
              "color": "#E5ECF6",
              "width": 0.5
             }
            },
            "type": "bar"
           }
          ],
          "barpolar": [
           {
            "marker": {
             "line": {
              "color": "#E5ECF6",
              "width": 0.5
             }
            },
            "type": "barpolar"
           }
          ],
          "carpet": [
           {
            "aaxis": {
             "endlinecolor": "#2a3f5f",
             "gridcolor": "white",
             "linecolor": "white",
             "minorgridcolor": "white",
             "startlinecolor": "#2a3f5f"
            },
            "baxis": {
             "endlinecolor": "#2a3f5f",
             "gridcolor": "white",
             "linecolor": "white",
             "minorgridcolor": "white",
             "startlinecolor": "#2a3f5f"
            },
            "type": "carpet"
           }
          ],
          "choropleth": [
           {
            "colorbar": {
             "outlinewidth": 0,
             "ticks": ""
            },
            "type": "choropleth"
           }
          ],
          "contour": [
           {
            "colorbar": {
             "outlinewidth": 0,
             "ticks": ""
            },
            "colorscale": [
             [
              0.0,
              "#0d0887"
             ],
             [
              0.1111111111111111,
              "#46039f"
             ],
             [
              0.2222222222222222,
              "#7201a8"
             ],
             [
              0.3333333333333333,
              "#9c179e"
             ],
             [
              0.4444444444444444,
              "#bd3786"
             ],
             [
              0.5555555555555556,
              "#d8576b"
             ],
             [
              0.6666666666666666,
              "#ed7953"
             ],
             [
              0.7777777777777778,
              "#fb9f3a"
             ],
             [
              0.8888888888888888,
              "#fdca26"
             ],
             [
              1.0,
              "#f0f921"
             ]
            ],
            "type": "contour"
           }
          ],
          "contourcarpet": [
           {
            "colorbar": {
             "outlinewidth": 0,
             "ticks": ""
            },
            "type": "contourcarpet"
           }
          ],
          "heatmap": [
           {
            "colorbar": {
             "outlinewidth": 0,
             "ticks": ""
            },
            "colorscale": [
             [
              0.0,
              "#0d0887"
             ],
             [
              0.1111111111111111,
              "#46039f"
             ],
             [
              0.2222222222222222,
              "#7201a8"
             ],
             [
              0.3333333333333333,
              "#9c179e"
             ],
             [
              0.4444444444444444,
              "#bd3786"
             ],
             [
              0.5555555555555556,
              "#d8576b"
             ],
             [
              0.6666666666666666,
              "#ed7953"
             ],
             [
              0.7777777777777778,
              "#fb9f3a"
             ],
             [
              0.8888888888888888,
              "#fdca26"
             ],
             [
              1.0,
              "#f0f921"
             ]
            ],
            "type": "heatmap"
           }
          ],
          "heatmapgl": [
           {
            "colorbar": {
             "outlinewidth": 0,
             "ticks": ""
            },
            "colorscale": [
             [
              0.0,
              "#0d0887"
             ],
             [
              0.1111111111111111,
              "#46039f"
             ],
             [
              0.2222222222222222,
              "#7201a8"
             ],
             [
              0.3333333333333333,
              "#9c179e"
             ],
             [
              0.4444444444444444,
              "#bd3786"
             ],
             [
              0.5555555555555556,
              "#d8576b"
             ],
             [
              0.6666666666666666,
              "#ed7953"
             ],
             [
              0.7777777777777778,
              "#fb9f3a"
             ],
             [
              0.8888888888888888,
              "#fdca26"
             ],
             [
              1.0,
              "#f0f921"
             ]
            ],
            "type": "heatmapgl"
           }
          ],
          "histogram": [
           {
            "marker": {
             "colorbar": {
              "outlinewidth": 0,
              "ticks": ""
             }
            },
            "type": "histogram"
           }
          ],
          "histogram2d": [
           {
            "colorbar": {
             "outlinewidth": 0,
             "ticks": ""
            },
            "colorscale": [
             [
              0.0,
              "#0d0887"
             ],
             [
              0.1111111111111111,
              "#46039f"
             ],
             [
              0.2222222222222222,
              "#7201a8"
             ],
             [
              0.3333333333333333,
              "#9c179e"
             ],
             [
              0.4444444444444444,
              "#bd3786"
             ],
             [
              0.5555555555555556,
              "#d8576b"
             ],
             [
              0.6666666666666666,
              "#ed7953"
             ],
             [
              0.7777777777777778,
              "#fb9f3a"
             ],
             [
              0.8888888888888888,
              "#fdca26"
             ],
             [
              1.0,
              "#f0f921"
             ]
            ],
            "type": "histogram2d"
           }
          ],
          "histogram2dcontour": [
           {
            "colorbar": {
             "outlinewidth": 0,
             "ticks": ""
            },
            "colorscale": [
             [
              0.0,
              "#0d0887"
             ],
             [
              0.1111111111111111,
              "#46039f"
             ],
             [
              0.2222222222222222,
              "#7201a8"
             ],
             [
              0.3333333333333333,
              "#9c179e"
             ],
             [
              0.4444444444444444,
              "#bd3786"
             ],
             [
              0.5555555555555556,
              "#d8576b"
             ],
             [
              0.6666666666666666,
              "#ed7953"
             ],
             [
              0.7777777777777778,
              "#fb9f3a"
             ],
             [
              0.8888888888888888,
              "#fdca26"
             ],
             [
              1.0,
              "#f0f921"
             ]
            ],
            "type": "histogram2dcontour"
           }
          ],
          "mesh3d": [
           {
            "colorbar": {
             "outlinewidth": 0,
             "ticks": ""
            },
            "type": "mesh3d"
           }
          ],
          "parcoords": [
           {
            "line": {
             "colorbar": {
              "outlinewidth": 0,
              "ticks": ""
             }
            },
            "type": "parcoords"
           }
          ],
          "pie": [
           {
            "automargin": true,
            "type": "pie"
           }
          ],
          "scatter": [
           {
            "marker": {
             "colorbar": {
              "outlinewidth": 0,
              "ticks": ""
             }
            },
            "type": "scatter"
           }
          ],
          "scatter3d": [
           {
            "line": {
             "colorbar": {
              "outlinewidth": 0,
              "ticks": ""
             }
            },
            "marker": {
             "colorbar": {
              "outlinewidth": 0,
              "ticks": ""
             }
            },
            "type": "scatter3d"
           }
          ],
          "scattercarpet": [
           {
            "marker": {
             "colorbar": {
              "outlinewidth": 0,
              "ticks": ""
             }
            },
            "type": "scattercarpet"
           }
          ],
          "scattergeo": [
           {
            "marker": {
             "colorbar": {
              "outlinewidth": 0,
              "ticks": ""
             }
            },
            "type": "scattergeo"
           }
          ],
          "scattergl": [
           {
            "marker": {
             "colorbar": {
              "outlinewidth": 0,
              "ticks": ""
             }
            },
            "type": "scattergl"
           }
          ],
          "scattermapbox": [
           {
            "marker": {
             "colorbar": {
              "outlinewidth": 0,
              "ticks": ""
             }
            },
            "type": "scattermapbox"
           }
          ],
          "scatterpolar": [
           {
            "marker": {
             "colorbar": {
              "outlinewidth": 0,
              "ticks": ""
             }
            },
            "type": "scatterpolar"
           }
          ],
          "scatterpolargl": [
           {
            "marker": {
             "colorbar": {
              "outlinewidth": 0,
              "ticks": ""
             }
            },
            "type": "scatterpolargl"
           }
          ],
          "scatterternary": [
           {
            "marker": {
             "colorbar": {
              "outlinewidth": 0,
              "ticks": ""
             }
            },
            "type": "scatterternary"
           }
          ],
          "surface": [
           {
            "colorbar": {
             "outlinewidth": 0,
             "ticks": ""
            },
            "colorscale": [
             [
              0.0,
              "#0d0887"
             ],
             [
              0.1111111111111111,
              "#46039f"
             ],
             [
              0.2222222222222222,
              "#7201a8"
             ],
             [
              0.3333333333333333,
              "#9c179e"
             ],
             [
              0.4444444444444444,
              "#bd3786"
             ],
             [
              0.5555555555555556,
              "#d8576b"
             ],
             [
              0.6666666666666666,
              "#ed7953"
             ],
             [
              0.7777777777777778,
              "#fb9f3a"
             ],
             [
              0.8888888888888888,
              "#fdca26"
             ],
             [
              1.0,
              "#f0f921"
             ]
            ],
            "type": "surface"
           }
          ],
          "table": [
           {
            "cells": {
             "fill": {
              "color": "#EBF0F8"
             },
             "line": {
              "color": "white"
             }
            },
            "header": {
             "fill": {
              "color": "#C8D4E3"
             },
             "line": {
              "color": "white"
             }
            },
            "type": "table"
           }
          ]
         },
         "layout": {
          "annotationdefaults": {
           "arrowcolor": "#2a3f5f",
           "arrowhead": 0,
           "arrowwidth": 1
          },
          "autotypenumbers": "strict",
          "coloraxis": {
           "colorbar": {
            "outlinewidth": 0,
            "ticks": ""
           }
          },
          "colorscale": {
           "diverging": [
            [
             0,
             "#8e0152"
            ],
            [
             0.1,
             "#c51b7d"
            ],
            [
             0.2,
             "#de77ae"
            ],
            [
             0.3,
             "#f1b6da"
            ],
            [
             0.4,
             "#fde0ef"
            ],
            [
             0.5,
             "#f7f7f7"
            ],
            [
             0.6,
             "#e6f5d0"
            ],
            [
             0.7,
             "#b8e186"
            ],
            [
             0.8,
             "#7fbc41"
            ],
            [
             0.9,
             "#4d9221"
            ],
            [
             1,
             "#276419"
            ]
           ],
           "sequential": [
            [
             0.0,
             "#0d0887"
            ],
            [
             0.1111111111111111,
             "#46039f"
            ],
            [
             0.2222222222222222,
             "#7201a8"
            ],
            [
             0.3333333333333333,
             "#9c179e"
            ],
            [
             0.4444444444444444,
             "#bd3786"
            ],
            [
             0.5555555555555556,
             "#d8576b"
            ],
            [
             0.6666666666666666,
             "#ed7953"
            ],
            [
             0.7777777777777778,
             "#fb9f3a"
            ],
            [
             0.8888888888888888,
             "#fdca26"
            ],
            [
             1.0,
             "#f0f921"
            ]
           ],
           "sequentialminus": [
            [
             0.0,
             "#0d0887"
            ],
            [
             0.1111111111111111,
             "#46039f"
            ],
            [
             0.2222222222222222,
             "#7201a8"
            ],
            [
             0.3333333333333333,
             "#9c179e"
            ],
            [
             0.4444444444444444,
             "#bd3786"
            ],
            [
             0.5555555555555556,
             "#d8576b"
            ],
            [
             0.6666666666666666,
             "#ed7953"
            ],
            [
             0.7777777777777778,
             "#fb9f3a"
            ],
            [
             0.8888888888888888,
             "#fdca26"
            ],
            [
             1.0,
             "#f0f921"
            ]
           ]
          },
          "colorway": [
           "#636efa",
           "#EF553B",
           "#00cc96",
           "#ab63fa",
           "#FFA15A",
           "#19d3f3",
           "#FF6692",
           "#B6E880",
           "#FF97FF",
           "#FECB52"
          ],
          "font": {
           "color": "#2a3f5f"
          },
          "geo": {
           "bgcolor": "white",
           "lakecolor": "white",
           "landcolor": "#E5ECF6",
           "showlakes": true,
           "showland": true,
           "subunitcolor": "white"
          },
          "hoverlabel": {
           "align": "left"
          },
          "hovermode": "closest",
          "mapbox": {
           "style": "light"
          },
          "paper_bgcolor": "white",
          "plot_bgcolor": "#E5ECF6",
          "polar": {
           "angularaxis": {
            "gridcolor": "white",
            "linecolor": "white",
            "ticks": ""
           },
           "bgcolor": "#E5ECF6",
           "radialaxis": {
            "gridcolor": "white",
            "linecolor": "white",
            "ticks": ""
           }
          },
          "scene": {
           "xaxis": {
            "backgroundcolor": "#E5ECF6",
            "gridcolor": "white",
            "gridwidth": 2,
            "linecolor": "white",
            "showbackground": true,
            "ticks": "",
            "zerolinecolor": "white"
           },
           "yaxis": {
            "backgroundcolor": "#E5ECF6",
            "gridcolor": "white",
            "gridwidth": 2,
            "linecolor": "white",
            "showbackground": true,
            "ticks": "",
            "zerolinecolor": "white"
           },
           "zaxis": {
            "backgroundcolor": "#E5ECF6",
            "gridcolor": "white",
            "gridwidth": 2,
            "linecolor": "white",
            "showbackground": true,
            "ticks": "",
            "zerolinecolor": "white"
           }
          },
          "shapedefaults": {
           "line": {
            "color": "#2a3f5f"
           }
          },
          "ternary": {
           "aaxis": {
            "gridcolor": "white",
            "linecolor": "white",
            "ticks": ""
           },
           "baxis": {
            "gridcolor": "white",
            "linecolor": "white",
            "ticks": ""
           },
           "bgcolor": "#E5ECF6",
           "caxis": {
            "gridcolor": "white",
            "linecolor": "white",
            "ticks": ""
           }
          },
          "title": {
           "x": 0.05
          },
          "xaxis": {
           "automargin": true,
           "gridcolor": "white",
           "linecolor": "white",
           "ticks": "",
           "title": {
            "standoff": 15
           },
           "zerolinecolor": "white",
           "zerolinewidth": 2
          },
          "yaxis": {
           "automargin": true,
           "gridcolor": "white",
           "linecolor": "white",
           "ticks": "",
           "title": {
            "standoff": 15
           },
           "zerolinecolor": "white",
           "zerolinewidth": 2
          }
         }
        },
        "title": {
         "text": "Italy Positivty Rate"
        },
        "xaxis": {
         "anchor": "y",
         "domain": [
          0.0,
          1.0
         ],
         "title": {
          "text": "Year_Month"
         }
        },
        "yaxis": {
         "anchor": "x",
         "domain": [
          0.0,
          1.0
         ],
         "title": {
          "text": "positive_rate"
         }
        }
       }
      },
      "text/html": "<div>                            <div id=\"b4cc9668-3173-4599-87e9-14ec7f5e6528\" class=\"plotly-graph-div\" style=\"height:525px; width:100%;\"></div>            <script type=\"text/javascript\">                require([\"plotly\"], function(Plotly) {                    window.PLOTLYENV=window.PLOTLYENV || {};                                    if (document.getElementById(\"b4cc9668-3173-4599-87e9-14ec7f5e6528\")) {                    Plotly.newPlot(                        \"b4cc9668-3173-4599-87e9-14ec7f5e6528\",                        [{\"hovertemplate\": \"Year_Month=%{x}<br>positive_rate=%{y}<extra></extra>\", \"legendgroup\": \"\", \"line\": {\"color\": \"#636efa\", \"dash\": \"solid\"}, \"mode\": \"lines\", \"name\": \"\", \"orientation\": \"v\", \"showlegend\": false, \"type\": \"scatter\", \"x\": [\"2020-1\", \"2020-2\", \"2020-2\", \"2020-2\", \"2020-2\", \"2020-2\", \"2020-2\", \"2020-2\", \"2020-2\", \"2020-2\", \"2020-2\", \"2020-2\", \"2020-2\", \"2020-2\", \"2020-2\", \"2020-2\", \"2020-2\", \"2020-2\", \"2020-2\", \"2020-2\", \"2020-2\", \"2020-2\", \"2020-2\", \"2020-2\", \"2020-2\", \"2020-2\", \"2020-2\", \"2020-2\", \"2020-2\", \"2020-2\", \"2020-3\", \"2020-3\", \"2020-3\", \"2020-3\", \"2020-3\", \"2020-3\", \"2020-3\", \"2020-3\", \"2020-3\", \"2020-3\", \"2020-3\", \"2020-3\", \"2020-3\", \"2020-3\", \"2020-3\", \"2020-3\", \"2020-3\", \"2020-3\", \"2020-3\", \"2020-3\", \"2020-3\", \"2020-3\", \"2020-3\", \"2020-3\", \"2020-3\", \"2020-3\", \"2020-3\", \"2020-3\", \"2020-3\", \"2020-3\", \"2020-3\", \"2020-4\", \"2020-4\", \"2020-4\", \"2020-4\", \"2020-4\", \"2020-4\", \"2020-4\", \"2020-4\", \"2020-4\", \"2020-4\", \"2020-4\", \"2020-4\", \"2020-4\", \"2020-4\", \"2020-4\", \"2020-4\", \"2020-4\", \"2020-4\", \"2020-4\", \"2020-4\", \"2020-4\", \"2020-4\", \"2020-4\", \"2020-4\", \"2020-4\", \"2020-4\", \"2020-4\", \"2020-4\", \"2020-4\", \"2020-4\", \"2020-5\", \"2020-5\", \"2020-5\", \"2020-5\", \"2020-5\", \"2020-5\", \"2020-5\", \"2020-5\", \"2020-5\", \"2020-5\", \"2020-5\", \"2020-5\", \"2020-5\", \"2020-5\", \"2020-5\", \"2020-5\", \"2020-5\", \"2020-5\", \"2020-5\", \"2020-5\", \"2020-5\", \"2020-5\", \"2020-5\", \"2020-5\", \"2020-5\", \"2020-5\", \"2020-5\", \"2020-5\", \"2020-5\", \"2020-5\", \"2020-5\", \"2020-6\", \"2020-6\", \"2020-6\", \"2020-6\", \"2020-6\", \"2020-6\", \"2020-6\", \"2020-6\", \"2020-6\", \"2020-6\", \"2020-6\", \"2020-6\", \"2020-6\", \"2020-6\", \"2020-6\", \"2020-6\", \"2020-6\", \"2020-6\", \"2020-6\", \"2020-6\", \"2020-6\", \"2020-6\", \"2020-6\", \"2020-6\", \"2020-6\", \"2020-6\", \"2020-6\", \"2020-6\", \"2020-6\", \"2020-6\", \"2020-7\", \"2020-7\", \"2020-7\", \"2020-7\", \"2020-7\", \"2020-7\", \"2020-7\", \"2020-7\", \"2020-7\", \"2020-7\", \"2020-7\", \"2020-7\", \"2020-7\", \"2020-7\", \"2020-7\", \"2020-7\", \"2020-7\", \"2020-7\", \"2020-7\", \"2020-7\", \"2020-7\", \"2020-7\", \"2020-7\", \"2020-7\", \"2020-7\", \"2020-7\", \"2020-7\", \"2020-7\", \"2020-7\", \"2020-7\", \"2020-7\", \"2020-8\", \"2020-8\", \"2020-8\", \"2020-8\", \"2020-8\", \"2020-8\", \"2020-8\", \"2020-8\", \"2020-8\", \"2020-8\", \"2020-8\", \"2020-8\", \"2020-8\", \"2020-8\", \"2020-8\", \"2020-8\", \"2020-8\", \"2020-8\", \"2020-8\", \"2020-8\", \"2020-8\", \"2020-8\", \"2020-8\", \"2020-8\", \"2020-8\", \"2020-8\", \"2020-8\", \"2020-8\", \"2020-8\", \"2020-8\", \"2020-8\", \"2020-9\", \"2020-9\", \"2020-9\", \"2020-9\", \"2020-9\", \"2020-9\", \"2020-9\", \"2020-9\", \"2020-9\", \"2020-9\", \"2020-9\", \"2020-9\", \"2020-9\", \"2020-9\", \"2020-9\", \"2020-9\", \"2020-9\", \"2020-9\", \"2020-9\", \"2020-9\", \"2020-9\", \"2020-9\", \"2020-9\", \"2020-9\", \"2020-9\", \"2020-9\", \"2020-9\", \"2020-9\", \"2020-9\", \"2020-9\", \"2020-10\", \"2020-10\", \"2020-10\", \"2020-10\", \"2020-10\", \"2020-10\", \"2020-10\", \"2020-10\", \"2020-10\", \"2020-10\", \"2020-10\", \"2020-10\", \"2020-10\", \"2020-10\", \"2020-10\", \"2020-10\", \"2020-10\", \"2020-10\", \"2020-10\", \"2020-10\", \"2020-10\", \"2020-10\", \"2020-10\", \"2020-10\", \"2020-10\", \"2020-10\", \"2020-10\", \"2020-10\", \"2020-10\", \"2020-10\", \"2020-10\", \"2020-11\", \"2020-11\", \"2020-11\", \"2020-11\", \"2020-11\", \"2020-11\", \"2020-11\", \"2020-11\", \"2020-11\", \"2020-11\", \"2020-11\", \"2020-11\", \"2020-11\", \"2020-11\", \"2020-11\", \"2020-11\", \"2020-11\", \"2020-11\", \"2020-11\", \"2020-11\", \"2020-11\", \"2020-11\", \"2020-11\", \"2020-11\", \"2020-11\", \"2020-11\", \"2020-11\", \"2020-11\", \"2020-11\", \"2020-11\", \"2020-12\", \"2020-12\", \"2020-12\", \"2020-12\", \"2020-12\", \"2020-12\", \"2020-12\", \"2020-12\", \"2020-12\", \"2020-12\", \"2020-12\", \"2020-12\", \"2020-12\", \"2020-12\", \"2020-12\", \"2020-12\", \"2020-12\", \"2020-12\", \"2020-12\", \"2020-12\", \"2020-12\", \"2020-12\", \"2020-12\", \"2020-12\", \"2020-12\", \"2020-12\", \"2020-12\", \"2020-12\", \"2020-12\", \"2020-12\", \"2020-12\", \"2021-1\", \"2021-1\", \"2021-1\", \"2021-1\", \"2021-1\", \"2021-1\", \"2021-1\", \"2021-1\", \"2021-1\", \"2021-1\", \"2021-1\", \"2021-1\", \"2021-1\", \"2021-1\", \"2021-1\", \"2021-1\", \"2021-1\", \"2021-1\", \"2021-1\", \"2021-1\", \"2021-1\", \"2021-1\", \"2021-1\", \"2021-1\", \"2021-1\", \"2021-1\", \"2021-1\", \"2021-1\", \"2021-1\", \"2021-1\", \"2021-1\", \"2021-2\", \"2021-2\", \"2021-2\", \"2021-2\", \"2021-2\", \"2021-2\", \"2021-2\", \"2021-2\", \"2021-2\", \"2021-2\", \"2021-2\", \"2021-2\", \"2021-2\", \"2021-2\", \"2021-2\", \"2021-2\", \"2021-2\", \"2021-2\", \"2021-2\", \"2021-2\", \"2021-2\"], \"xaxis\": \"x\", \"y\": [null, null, null, null, null, null, null, null, null, null, null, null, null, null, null, null, null, null, null, null, null, null, null, null, null, null, null, null, null, null, null, 9.5, 12.6, 13.0, 15.7, 18.099999999999998, 20.3, 19.7, 23.400000000000002, 21.9, 21.6, 21.0, 21.3, 22.8, 23.200000000000003, 22.400000000000002, 24.3, 25.2, 26.8, 26.8, 26.1, 25.8, 26.1, 25.4, 24.3, 22.2, 21.099999999999998, 19.8, 19.7, 18.7, 17.4, 16.7, 15.7, 14.799999999999999, 14.099999999999998, 13.200000000000001, 12.6, 12.0, 10.9, 10.4, 9.700000000000001, 9.0, 8.6, 8.3, 8.5, 8.3, 7.8, 7.3999999999999995, 6.9, 6.5, 6.2, 5.7, 5.6000000000000005, 5.2, 5.2, 4.8, 4.7, 4.6, 4.3999999999999995, 4.1000000000000005, 3.9, 3.5000000000000004, 3.5000000000000004, 3.3000000000000003, 3.1, 2.9000000000000004, 2.7, 2.6, 2.5, 2.1999999999999997, 2.0, 1.9, 1.9, 1.7999999999999998, 1.7000000000000002, 1.6, 1.5, 1.4000000000000001, 1.4000000000000001, 1.3, 1.2, 1.0999999999999999, 1.0999999999999999, 1.0, 1.0, 1.0, 0.8999999999999999, 0.8999999999999999, 0.8, 0.8, 0.8, 0.7000000000000001, 0.7000000000000001, 0.7000000000000001, 0.7000000000000001, 0.6, 0.6, 0.6, 0.6, 0.6, 0.6, 0.5, 0.5, 0.4, 0.5, 0.5, 0.5, 0.5, 0.5, 0.5, 0.5, 0.4, 0.4, 0.4, 0.4, 0.5, 0.5, 0.6, 0.6, 0.5, 0.5, 0.5, 0.4, 0.4, 0.4, 0.4, 0.4, 0.4, 0.4, 0.5, 0.5, 0.5, 0.5, 0.5, 0.5, 0.5, 0.5, 0.5, 0.4, 0.5, 0.5, 0.5, 0.5, 0.5, 0.5, 0.5, 0.5, 0.5, 0.5, 0.5, 0.5, 0.5, 0.6, 0.6, 0.5, 0.5, 0.6, 0.6, 0.6, 0.6, 0.7000000000000001, 0.7000000000000001, 0.8, 0.8, 0.8999999999999999, 0.8999999999999999, 1.0, 1.0999999999999999, 1.0999999999999999, 1.0999999999999999, 1.0, 1.0, 1.0, 1.0999999999999999, 1.0999999999999999, 1.2, 1.3, 1.4000000000000001, 1.4000000000000001, 1.5, 1.5, 1.5, 1.5, 1.5, 1.5, 1.5, 1.5, 1.5, 1.5, 1.5, 1.5, 1.6, 1.6, 1.6, 1.6, 1.7000000000000002, 1.7000000000000002, 1.7000000000000002, 1.7000000000000002, 1.7000000000000002, 1.7000000000000002, 1.7000000000000002, 1.7000000000000002, 1.7000000000000002, 1.7000000000000002, 1.7000000000000002, 1.7000000000000002, 1.7999999999999998, 1.7000000000000002, 1.7999999999999998, 1.7999999999999998, 1.7999999999999998, 1.9, 1.9, 2.0, 2.0, 2.1, 2.1999999999999997, 2.3, 2.4, 2.6, 2.8000000000000003, 3.2, 3.5000000000000004, 3.8, 4.0, 4.3, 4.6, 4.9, 5.3, 5.7, 6.1, 6.5, 6.800000000000001, 7.3, 8.0, 8.6, 9.3, 10.0, 10.5, 11.1, 11.799999999999999, 12.4, 13.0, 13.5, 14.000000000000002, 14.2, 14.6, 14.899999999999999, 15.299999999999999, 15.5, 15.9, 16.0, 16.1, 16.2, 16.2, 16.3, 16.3, 16.1, 16.2, 16.3, 16.2, 16.2, 15.9, 15.8, 15.6, 15.299999999999999, 15.0, 14.6, 14.099999999999998, 13.700000000000001, 13.3, 12.8, 12.4, 12.1, 11.799999999999999, 11.700000000000001, 11.3, 11.1, 11.0, 11.0, 10.9, 10.8, 11.0, 10.9, 10.6, 10.5, 10.5, 10.5, 10.299999999999999, 10.0, 12.4, 12.2, 12.1, 12.0, 12.1, 12.0, 11.799999999999999, 9.2, 9.8, 10.100000000000001, 10.299999999999999, 10.299999999999999, 10.4, 10.8, 11.600000000000001, 11.899999999999999, 12.2, 12.2, 12.4, 12.7, 13.100000000000001, 13.5, 13.200000000000001, 12.6, 12.5, 12.5, 12.3, 11.899999999999999, 11.3, 9.9, 8.9, 8.0, 7.3, 6.5, 5.8999999999999995, 5.4, 5.3, 5.0, 5.0, 5.0, 5.0, 5.1, 5.1, 5.1, 5.0, 5.0, 4.9, 4.9, 4.8, 4.8, 4.8, 4.9, 4.9, 4.9, 4.9, 4.8, 4.8, 4.8, 4.7, 4.7, 4.6, 4.6, 4.6, 4.5, 4.6, 4.6, 4.6], \"yaxis\": \"y\"}],                        {\"legend\": {\"tracegroupgap\": 0}, \"template\": {\"data\": {\"bar\": [{\"error_x\": {\"color\": \"#2a3f5f\"}, \"error_y\": {\"color\": \"#2a3f5f\"}, \"marker\": {\"line\": {\"color\": \"#E5ECF6\", \"width\": 0.5}}, \"type\": \"bar\"}], \"barpolar\": [{\"marker\": {\"line\": {\"color\": \"#E5ECF6\", \"width\": 0.5}}, \"type\": \"barpolar\"}], \"carpet\": [{\"aaxis\": {\"endlinecolor\": \"#2a3f5f\", \"gridcolor\": \"white\", \"linecolor\": \"white\", \"minorgridcolor\": \"white\", \"startlinecolor\": \"#2a3f5f\"}, \"baxis\": {\"endlinecolor\": \"#2a3f5f\", \"gridcolor\": \"white\", \"linecolor\": \"white\", \"minorgridcolor\": \"white\", \"startlinecolor\": \"#2a3f5f\"}, \"type\": \"carpet\"}], \"choropleth\": [{\"colorbar\": {\"outlinewidth\": 0, \"ticks\": \"\"}, \"type\": \"choropleth\"}], \"contour\": [{\"colorbar\": {\"outlinewidth\": 0, \"ticks\": \"\"}, \"colorscale\": [[0.0, \"#0d0887\"], [0.1111111111111111, \"#46039f\"], [0.2222222222222222, \"#7201a8\"], [0.3333333333333333, \"#9c179e\"], [0.4444444444444444, \"#bd3786\"], [0.5555555555555556, \"#d8576b\"], [0.6666666666666666, \"#ed7953\"], [0.7777777777777778, \"#fb9f3a\"], [0.8888888888888888, \"#fdca26\"], [1.0, \"#f0f921\"]], \"type\": \"contour\"}], \"contourcarpet\": [{\"colorbar\": {\"outlinewidth\": 0, \"ticks\": \"\"}, \"type\": \"contourcarpet\"}], \"heatmap\": [{\"colorbar\": {\"outlinewidth\": 0, \"ticks\": \"\"}, \"colorscale\": [[0.0, \"#0d0887\"], [0.1111111111111111, \"#46039f\"], [0.2222222222222222, \"#7201a8\"], [0.3333333333333333, \"#9c179e\"], [0.4444444444444444, \"#bd3786\"], [0.5555555555555556, \"#d8576b\"], [0.6666666666666666, \"#ed7953\"], [0.7777777777777778, \"#fb9f3a\"], [0.8888888888888888, \"#fdca26\"], [1.0, \"#f0f921\"]], \"type\": \"heatmap\"}], \"heatmapgl\": [{\"colorbar\": {\"outlinewidth\": 0, \"ticks\": \"\"}, \"colorscale\": [[0.0, \"#0d0887\"], [0.1111111111111111, \"#46039f\"], [0.2222222222222222, \"#7201a8\"], [0.3333333333333333, \"#9c179e\"], [0.4444444444444444, \"#bd3786\"], [0.5555555555555556, \"#d8576b\"], [0.6666666666666666, \"#ed7953\"], [0.7777777777777778, \"#fb9f3a\"], [0.8888888888888888, \"#fdca26\"], [1.0, \"#f0f921\"]], \"type\": \"heatmapgl\"}], \"histogram\": [{\"marker\": {\"colorbar\": {\"outlinewidth\": 0, \"ticks\": \"\"}}, \"type\": \"histogram\"}], \"histogram2d\": [{\"colorbar\": {\"outlinewidth\": 0, \"ticks\": \"\"}, \"colorscale\": [[0.0, \"#0d0887\"], [0.1111111111111111, \"#46039f\"], [0.2222222222222222, \"#7201a8\"], [0.3333333333333333, \"#9c179e\"], [0.4444444444444444, \"#bd3786\"], [0.5555555555555556, \"#d8576b\"], [0.6666666666666666, \"#ed7953\"], [0.7777777777777778, \"#fb9f3a\"], [0.8888888888888888, \"#fdca26\"], [1.0, \"#f0f921\"]], \"type\": \"histogram2d\"}], \"histogram2dcontour\": [{\"colorbar\": {\"outlinewidth\": 0, \"ticks\": \"\"}, \"colorscale\": [[0.0, \"#0d0887\"], [0.1111111111111111, \"#46039f\"], [0.2222222222222222, \"#7201a8\"], [0.3333333333333333, \"#9c179e\"], [0.4444444444444444, \"#bd3786\"], [0.5555555555555556, \"#d8576b\"], [0.6666666666666666, \"#ed7953\"], [0.7777777777777778, \"#fb9f3a\"], [0.8888888888888888, \"#fdca26\"], [1.0, \"#f0f921\"]], \"type\": \"histogram2dcontour\"}], \"mesh3d\": [{\"colorbar\": {\"outlinewidth\": 0, \"ticks\": \"\"}, \"type\": \"mesh3d\"}], \"parcoords\": [{\"line\": {\"colorbar\": {\"outlinewidth\": 0, \"ticks\": \"\"}}, \"type\": \"parcoords\"}], \"pie\": [{\"automargin\": true, \"type\": \"pie\"}], \"scatter\": [{\"marker\": {\"colorbar\": {\"outlinewidth\": 0, \"ticks\": \"\"}}, \"type\": \"scatter\"}], \"scatter3d\": [{\"line\": {\"colorbar\": {\"outlinewidth\": 0, \"ticks\": \"\"}}, \"marker\": {\"colorbar\": {\"outlinewidth\": 0, \"ticks\": \"\"}}, \"type\": \"scatter3d\"}], \"scattercarpet\": [{\"marker\": {\"colorbar\": {\"outlinewidth\": 0, \"ticks\": \"\"}}, \"type\": \"scattercarpet\"}], \"scattergeo\": [{\"marker\": {\"colorbar\": {\"outlinewidth\": 0, \"ticks\": \"\"}}, \"type\": \"scattergeo\"}], \"scattergl\": [{\"marker\": {\"colorbar\": {\"outlinewidth\": 0, \"ticks\": \"\"}}, \"type\": \"scattergl\"}], \"scattermapbox\": [{\"marker\": {\"colorbar\": {\"outlinewidth\": 0, \"ticks\": \"\"}}, \"type\": \"scattermapbox\"}], \"scatterpolar\": [{\"marker\": {\"colorbar\": {\"outlinewidth\": 0, \"ticks\": \"\"}}, \"type\": \"scatterpolar\"}], \"scatterpolargl\": [{\"marker\": {\"colorbar\": {\"outlinewidth\": 0, \"ticks\": \"\"}}, \"type\": \"scatterpolargl\"}], \"scatterternary\": [{\"marker\": {\"colorbar\": {\"outlinewidth\": 0, \"ticks\": \"\"}}, \"type\": \"scatterternary\"}], \"surface\": [{\"colorbar\": {\"outlinewidth\": 0, \"ticks\": \"\"}, \"colorscale\": [[0.0, \"#0d0887\"], [0.1111111111111111, \"#46039f\"], [0.2222222222222222, \"#7201a8\"], [0.3333333333333333, \"#9c179e\"], [0.4444444444444444, \"#bd3786\"], [0.5555555555555556, \"#d8576b\"], [0.6666666666666666, \"#ed7953\"], [0.7777777777777778, \"#fb9f3a\"], [0.8888888888888888, \"#fdca26\"], [1.0, \"#f0f921\"]], \"type\": \"surface\"}], \"table\": [{\"cells\": {\"fill\": {\"color\": \"#EBF0F8\"}, \"line\": {\"color\": \"white\"}}, \"header\": {\"fill\": {\"color\": \"#C8D4E3\"}, \"line\": {\"color\": \"white\"}}, \"type\": \"table\"}]}, \"layout\": {\"annotationdefaults\": {\"arrowcolor\": \"#2a3f5f\", \"arrowhead\": 0, \"arrowwidth\": 1}, \"autotypenumbers\": \"strict\", \"coloraxis\": {\"colorbar\": {\"outlinewidth\": 0, \"ticks\": \"\"}}, \"colorscale\": {\"diverging\": [[0, \"#8e0152\"], [0.1, \"#c51b7d\"], [0.2, \"#de77ae\"], [0.3, \"#f1b6da\"], [0.4, \"#fde0ef\"], [0.5, \"#f7f7f7\"], [0.6, \"#e6f5d0\"], [0.7, \"#b8e186\"], [0.8, \"#7fbc41\"], [0.9, \"#4d9221\"], [1, \"#276419\"]], \"sequential\": [[0.0, \"#0d0887\"], [0.1111111111111111, \"#46039f\"], [0.2222222222222222, \"#7201a8\"], [0.3333333333333333, \"#9c179e\"], [0.4444444444444444, \"#bd3786\"], [0.5555555555555556, \"#d8576b\"], [0.6666666666666666, \"#ed7953\"], [0.7777777777777778, \"#fb9f3a\"], [0.8888888888888888, \"#fdca26\"], [1.0, \"#f0f921\"]], \"sequentialminus\": [[0.0, \"#0d0887\"], [0.1111111111111111, \"#46039f\"], [0.2222222222222222, \"#7201a8\"], [0.3333333333333333, \"#9c179e\"], [0.4444444444444444, \"#bd3786\"], [0.5555555555555556, \"#d8576b\"], [0.6666666666666666, \"#ed7953\"], [0.7777777777777778, \"#fb9f3a\"], [0.8888888888888888, \"#fdca26\"], [1.0, \"#f0f921\"]]}, \"colorway\": [\"#636efa\", \"#EF553B\", \"#00cc96\", \"#ab63fa\", \"#FFA15A\", \"#19d3f3\", \"#FF6692\", \"#B6E880\", \"#FF97FF\", \"#FECB52\"], \"font\": {\"color\": \"#2a3f5f\"}, \"geo\": {\"bgcolor\": \"white\", \"lakecolor\": \"white\", \"landcolor\": \"#E5ECF6\", \"showlakes\": true, \"showland\": true, \"subunitcolor\": \"white\"}, \"hoverlabel\": {\"align\": \"left\"}, \"hovermode\": \"closest\", \"mapbox\": {\"style\": \"light\"}, \"paper_bgcolor\": \"white\", \"plot_bgcolor\": \"#E5ECF6\", \"polar\": {\"angularaxis\": {\"gridcolor\": \"white\", \"linecolor\": \"white\", \"ticks\": \"\"}, \"bgcolor\": \"#E5ECF6\", \"radialaxis\": {\"gridcolor\": \"white\", \"linecolor\": \"white\", \"ticks\": \"\"}}, \"scene\": {\"xaxis\": {\"backgroundcolor\": \"#E5ECF6\", \"gridcolor\": \"white\", \"gridwidth\": 2, \"linecolor\": \"white\", \"showbackground\": true, \"ticks\": \"\", \"zerolinecolor\": \"white\"}, \"yaxis\": {\"backgroundcolor\": \"#E5ECF6\", \"gridcolor\": \"white\", \"gridwidth\": 2, \"linecolor\": \"white\", \"showbackground\": true, \"ticks\": \"\", \"zerolinecolor\": \"white\"}, \"zaxis\": {\"backgroundcolor\": \"#E5ECF6\", \"gridcolor\": \"white\", \"gridwidth\": 2, \"linecolor\": \"white\", \"showbackground\": true, \"ticks\": \"\", \"zerolinecolor\": \"white\"}}, \"shapedefaults\": {\"line\": {\"color\": \"#2a3f5f\"}}, \"ternary\": {\"aaxis\": {\"gridcolor\": \"white\", \"linecolor\": \"white\", \"ticks\": \"\"}, \"baxis\": {\"gridcolor\": \"white\", \"linecolor\": \"white\", \"ticks\": \"\"}, \"bgcolor\": \"#E5ECF6\", \"caxis\": {\"gridcolor\": \"white\", \"linecolor\": \"white\", \"ticks\": \"\"}}, \"title\": {\"x\": 0.05}, \"xaxis\": {\"automargin\": true, \"gridcolor\": \"white\", \"linecolor\": \"white\", \"ticks\": \"\", \"title\": {\"standoff\": 15}, \"zerolinecolor\": \"white\", \"zerolinewidth\": 2}, \"yaxis\": {\"automargin\": true, \"gridcolor\": \"white\", \"linecolor\": \"white\", \"ticks\": \"\", \"title\": {\"standoff\": 15}, \"zerolinecolor\": \"white\", \"zerolinewidth\": 2}}}, \"title\": {\"text\": \"Italy Positivty Rate\"}, \"xaxis\": {\"anchor\": \"y\", \"domain\": [0.0, 1.0], \"title\": {\"text\": \"Year_Month\"}}, \"yaxis\": {\"anchor\": \"x\", \"domain\": [0.0, 1.0], \"title\": {\"text\": \"positive_rate\"}}},                        {\"responsive\": true}                    ).then(function(){\n                            \nvar gd = document.getElementById('b4cc9668-3173-4599-87e9-14ec7f5e6528');\nvar x = new MutationObserver(function (mutations, observer) {{\n        var display = window.getComputedStyle(gd).display;\n        if (!display || display === 'none') {{\n            console.log([gd, 'removed!']);\n            Plotly.purge(gd);\n            observer.disconnect();\n        }}\n}});\n\n// Listen for the removal of the full notebook cells\nvar notebookContainer = gd.closest('#notebook-container');\nif (notebookContainer) {{\n    x.observe(notebookContainer, {childList: true});\n}}\n\n// Listen for the clearing of the current output cell\nvar outputEl = gd.closest('.output');\nif (outputEl) {{\n    x.observe(outputEl, {childList: true});\n}}\n\n                        })                };                });            </script>        </div>"
     },
     "metadata": {},
     "output_type": "display_data"
    }
   ],
   "source": [
    "covid19DataframeGermany = covid19Dataframe[covid19Dataframe[\"iso_code\"]==\"ITA\"]\n",
    "covid19DataframeGermany['positive_rate'] = covid19DataframeGermany['positive_rate'] * 100\n",
    "covid19DataframeGermanyGrouped = covid19DataframeGermany.groupby(['Year_Month'])['positive_rate'].mean()\n",
    "fig = px.line(covid19DataframeGermany, x=\"Year_Month\", y=\"positive_rate\", title='Italy Positivty Rate')\n",
    "fig.show()\n"
   ],
   "metadata": {
    "collapsed": false,
    "pycharm": {
     "name": "#%%\n"
    }
   }
  }
 ],
 "metadata": {
  "kernelspec": {
   "display_name": "Python 3",
   "language": "python",
   "name": "python3"
  },
  "language_info": {
   "codemirror_mode": {
    "name": "ipython",
    "version": 2
   },
   "file_extension": ".py",
   "mimetype": "text/x-python",
   "name": "python",
   "nbconvert_exporter": "python",
   "pygments_lexer": "ipython2",
   "version": "2.7.6"
  }
 },
 "nbformat": 4,
 "nbformat_minor": 0
}