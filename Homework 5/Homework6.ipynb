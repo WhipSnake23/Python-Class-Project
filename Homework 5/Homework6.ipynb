{
 "cells": [
  {
   "cell_type": "code",
   "execution_count": 1,
   "metadata": {},
   "outputs": [],
   "source": [
    "import datetime as dt\n",
    "import pandas as pd\n",
    "import numpy as np\n",
    "import matplotlib as mpl\n",
    "import matplotlib.pyplot as plt\n",
    "import seaborn as sns\n",
    "#import plotly.express as px\n",
    "import matplotlib.dates as mdates\n",
    "from matplotlib.ticker import FuncFormatter\n",
    "from matplotlib.dates import DateFormatter"
   ]
  },
  {
   "cell_type": "code",
   "execution_count": 2,
   "metadata": {},
   "outputs": [],
   "source": [
    "Country1 = \"USA\"  \n",
    "Country2 = \"BRA\"  \n",
    "Country3 = \"MEX\"\n",
    "Country4 = \"IND\"  \n",
    "Country5 = \"GBR\"  \n"
   ]
  },
  {
   "cell_type": "code",
   "execution_count": 3,
   "metadata": {},
   "outputs": [
    {
     "name": "stdout",
     "output_type": "stream",
     "text": [
      "   YearMonth  total_deaths1  total_deaths2  total_deaths3  total_deaths4  \\\n",
      "0    2020-01            0.0            0.0            0.0            0.0   \n",
      "1    2020-02            1.0          976.0            0.0            0.0   \n",
      "2    2020-03        25738.0        66571.0          136.0          226.0   \n",
      "3    2020-04      1070749.0       509030.0        19390.0        14417.0   \n",
      "4    2020-05      2805562.0      1353392.0       165485.0        94154.0   \n",
      "5    2020-06      3582409.0      2370476.0       562682.0       331856.0   \n",
      "6    2020-07      4339173.0      3345405.0      1164238.0       812555.0   \n",
      "7    2020-08      5281969.0      4004352.0      1749213.0      1582152.0   \n",
      "8    2020-09      5902414.0      4732789.0      2150492.0      2476764.0   \n",
      "9    2020-10      6812467.0      4986319.0      2649132.0      3481048.0   \n",
      "10   2020-11      7522620.0      5702548.0      2962546.0      3909675.0   \n",
      "11   2020-12      9696730.0      6483686.0      3594393.0      4468495.0   \n",
      "12   2021-01     12432170.0      4954217.0      4367196.0      4714113.0   \n",
      "13   2021-02     10026708.0            NaN      3578762.0      3264493.0   \n",
      "\n",
      "    total_deaths5  \n",
      "0             0.0  \n",
      "1             0.0  \n",
      "2         12576.0  \n",
      "3        457216.0  \n",
      "4       1030749.0  \n",
      "5       1182674.0  \n",
      "6       1270661.0  \n",
      "7       1284798.0  \n",
      "8       1254505.0  \n",
      "9       1358294.0  \n",
      "10      1573977.0  \n",
      "11      2042273.0  \n",
      "12      2759728.0  \n",
      "13      2416755.0  \n"
     ]
    }
   ],
   "source": [
    "covid19Data = pd.read_csv(\"https://raw.githubusercontent.com/WhipSnake23/Python-Class-Project/main/Data/owid-covid-data.csv\")\n",
    "\n",
    "#scrub data from rolled up rows for each region globally. NOTE: ~==\"not\"\n",
    "covid19Data = covid19Data[~covid19Data.iso_code.str.contains(\"OWID\")]\n",
    "covid19DataCountry1= covid19Data[(covid19Data[\"iso_code\"] == Country1)]\n",
    "covid19DataCountry2= covid19Data[(covid19Data[\"iso_code\"] == Country2)]\n",
    "covid19DataCountry3= covid19Data[(covid19Data[\"iso_code\"] == Country3)]\n",
    "covid19DataCountry4= covid19Data[(covid19Data[\"iso_code\"] == Country4)]\n",
    "covid19DataCountry5= covid19Data[(covid19Data[\"iso_code\"] == Country5)]\n",
    "\n",
    "covid19DataCountry1.insert(0,'YearMonth',pd.to_datetime(covid19DataCountry1['date']).dt.to_period('M'))\n",
    "covid19DataCountry2.insert(0,'YearMonth',pd.to_datetime(covid19DataCountry2['date']).dt.to_period('M'))\n",
    "covid19DataCountry3.insert(0,'YearMonth',pd.to_datetime(covid19DataCountry3['date']).dt.to_period('M'))\n",
    "covid19DataCountry4.insert(0,'YearMonth',pd.to_datetime(covid19DataCountry4['date']).dt.to_period('M'))\n",
    "covid19DataCountry5.insert(0,'YearMonth',pd.to_datetime(covid19DataCountry5['date']).dt.to_period('M'))\n",
    "\n",
    "country1Deaths=covid19DataCountry1.groupby(['YearMonth'], as_index=False).agg(total_deaths1=('total_deaths', sum))\n",
    "country2Deaths=covid19DataCountry2.groupby(['YearMonth'], as_index=False).agg(total_deaths2=('total_deaths', sum))\n",
    "country3Deaths=covid19DataCountry3.groupby(['YearMonth'], as_index=False).agg(total_deaths3=('total_deaths', sum))\n",
    "country4Deaths=covid19DataCountry4.groupby(['YearMonth'], as_index=False).agg(total_deaths4=('total_deaths', sum))\n",
    "country5Deaths=covid19DataCountry5.groupby(['YearMonth'], as_index=False).agg(total_deaths5=('total_deaths', sum))\n",
    "\n",
    "deathsByPeriod = pd.concat([country1Deaths['YearMonth'], country1Deaths['total_deaths1'], country2Deaths['total_deaths2'], country3Deaths['total_deaths3']\n",
    "                                                         ,country4Deaths['total_deaths4'], country5Deaths['total_deaths5']  \n",
    "                              ], axis=1,join='outer')\n",
    "\n",
    "print(f\"{deathsByPeriod}\")"
   ]
  },
  {
   "cell_type": "code",
   "execution_count": 4,
   "metadata": {},
   "outputs": [],
   "source": [
    "def millions(x, pos):\n",
    "    'The two args are the value and tick position'\n",
    "    return '%1.1fM' % (x * 1e-6)"
   ]
  },
  {
   "cell_type": "code",
   "execution_count": 5,
   "metadata": {},
   "outputs": [],
   "source": [
    "deathsByPeriod['total_deaths1'] = deathsByPeriod['total_deaths1'].div(1000).round(0)\n",
    "deathsByPeriod['total_deaths2'] = deathsByPeriod['total_deaths2'].div(1000).round(0)\n",
    "deathsByPeriod['total_deaths3'] = deathsByPeriod['total_deaths3'].div(1000).round(0)\n",
    "deathsByPeriod['total_deaths4'] = deathsByPeriod['total_deaths4'].div(1000).round(0)\n",
    "deathsByPeriod['total_deaths5'] = deathsByPeriod['total_deaths5'].div(1000).round(0)"
   ]
  },
  {
   "cell_type": "code",
   "execution_count": 6,
   "metadata": {},
   "outputs": [],
   "source": [
    "bars1 = deathsByPeriod['total_deaths1'][:12]\n",
    "bars2 = deathsByPeriod['total_deaths2'][:12]\n",
    "bars3 = deathsByPeriod['total_deaths3'][:12]\n",
    "bars4 = deathsByPeriod['total_deaths4'][:12]\n",
    "bars5 = deathsByPeriod['total_deaths5'][:12]"
   ]
  },
  {
   "cell_type": "code",
   "execution_count": 7,
   "metadata": {},
   "outputs": [],
   "source": [
    "names = deathsByPeriod['YearMonth'][:12]\n",
    "#print(f\"{names}\")"
   ]
  },
  {
   "cell_type": "code",
   "execution_count": 8,
   "metadata": {},
   "outputs": [
    {
     "data": {
      "text/plain": "<Figure size 864x864 with 1 Axes>",
      "image/png": "[encoded data removed]"
     },
     "metadata": {
      "needs_background": "light"
     },
     "output_type": "display_data"
    }
   ],
   "source": [
    "barWidth = 1\n",
    "bars12 = np.add(bars1, bars2).tolist()\n",
    "bars123 = np.add(bars12, bars3).tolist()\n",
    "bars1234 = np.add(bars123, bars4).tolist()\n",
    "p = [0,1,2,3,4,5,6,7,8,9,10,11] # bar position on x-axis \n",
    "plt.subplots(figsize=(12, 12))\n",
    "plt.bar(p, bars1, color='#0000ff', edgecolor='white', width=barWidth)\n",
    "plt.bar(p, bars2, bottom=bars1, color='#557f2d', edgecolor='white', width=barWidth)\n",
    "plt.bar(p, bars3, bottom=bars12, color='#ffff00', edgecolor='white', width=barWidth)\n",
    "plt.bar(p, bars4, bottom=bars123, color='#ff0000', edgecolor='white', width=barWidth)\n",
    "plt.bar(p, bars5, bottom=bars1234, color='#7f6d5f', edgecolor='white', width=barWidth)\n",
    "\n",
    "\n",
    "# Custom X axis\n",
    "plt.xticks(p, names, fontweight='bold')\n",
    "plt.xlabel(\"Time Periods (YYYY-MM)\")\n",
    "\n",
    "plt.show()"
   ]
  },
  {
   "cell_type": "markdown",
   "metadata": {},
   "source": [
    "Total Deaths vs Population Density of State "
   ]
  }
 ],
 "metadata": {
  "kernelspec": {
   "display_name": "Python 3",
   "language": "python",
   "name": "python3"
  },
  "language_info": {
   "codemirror_mode": {
    "name": "ipython",
    "version": 3
   },
   "file_extension": ".py",
   "mimetype": "text/x-python",
   "name": "python",
   "nbconvert_exporter": "python",
   "pygments_lexer": "ipython3",
   "version": "3.8.5"
  }
 },
 "nbformat": 4,
 "nbformat_minor": 4
}