{
 "cells": [
  {
   "cell_type": "markdown",
   "metadata": {
    "collapsed": true,
    "pycharm": {
     "name": "#%% md\n"
    }
   },
   "source": [
    "### Homework 5 Part 2\n",
    "\n",
    "1. What type of data are you dealing with? Think, is it all from one source, multiple sources, categorical, etc.\n",
    "What difficulties, if any, are present in this data?\n",
    "    - Covid Data which combines mutiple data sources into one. The data is quanatative, catagorical, and timeseries in nature.\n",
    "    - Issues with the data\n",
    "        - Large number of Columns and rows\n",
    "        - Timeseries data can be difficult to use in certain chart types\n",
    "\n",
    "2. What types of visualization are useful, and why is your choice a preferred choice? Which library did you decide to use?\n",
    "Again, why did you choose it?\n",
    "    - heatplots and scatter plots helped us quickly determine any relationships between the points. Bar charts fit well with the time series nature of our data as well. Stack bars and Pie charts provided a way to see the quantative data easily.\n",
    "    - We opted to use all three of the libraries to get hands on. We found Seaborn and Plotly to be the easiest. We opted to use many different types of visualizations that fit questions that we came up.\n",
    "\n",
    "3. After looking at this all, do you feel you have too much, or too little information? Do you feel you'll come up with good results/information from the data you have on hand? If you have too little data to make this all meaning0ful, can you get more data? What's your plan, in other words.\n",
    "    - We most likely have to much data. However it affords us the ability to ask many questions we might not be able to with a smaller dataset. \n"
   ]
  }
 ],
 "metadata": {
  "kernelspec": {
   "display_name": "Python 3",
   "language": "python",
   "name": "python3"
  },
  "language_info": {
   "codemirror_mode": {
    "name": "ipython",
    "version": 2
   },
   "file_extension": ".py",
   "mimetype": "text/x-python",
   "name": "python",
   "nbconvert_exporter": "python",
   "pygments_lexer": "ipython2",
   "version": "2.7.6"
  }
 },
 "nbformat": 4,
 "nbformat_minor": 0
}