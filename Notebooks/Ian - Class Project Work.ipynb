{
 "cells": [
  {
   "cell_type": "markdown",
   "metadata": {
    "collapsed": true,
    "pycharm": {
     "name": "#%% md\n"
    }
   },
   "source": [
    "## Linear Regression Analysis of Covid 19 data for Canada, Italy, India, and the United States\n",
    "#### By: Ian"
   ]
  },
  {
   "cell_type": "markdown",
   "source": [
    "### Import needed Libraries"
   ],
   "metadata": {
    "collapsed": false
   }
  },
  {
   "cell_type": "code",
   "execution_count": 68,
   "outputs": [],
   "source": [
    "##Import Key Libraries for use\n",
    "import datetime as dt\n",
    "import math\n",
    "import pandas as pd\n",
    "import numpy as np\n",
    "import sklearn\n",
    "from sklearn.model_selection import train_test_split\n",
    "from sklearn.linear_model import ElasticNet\n",
    "from sklearn.metrics import explained_variance_score, mean_absolute_error, r2_score, mean_squared_error"
   ],
   "metadata": {
    "collapsed": false,
    "pycharm": {
     "name": "#%%\n"
    }
   }
  },
  {
   "cell_type": "markdown",
   "source": [
    "### Import and Scrub Data from Github"
   ],
   "metadata": {
    "collapsed": false
   }
  },
  {
   "cell_type": "code",
   "execution_count": 69,
   "outputs": [],
   "source": [
    "#Import CSV\n",
    "covid19Dataframe = pd.read_csv(\"https://raw.githubusercontent.com/WhipSnake23/Python-Class-Project/main/Data/owid-covid-data.csv\")\n",
    "#Remove Smoothed Columns from dataframe\n",
    "covid19Dataframe = covid19Dataframe[covid19Dataframe.iso_code.str.contains(\"CAN\")]\n",
    "covid19Dataframe = covid19Dataframe.drop(columns=['new_cases_smoothed','new_deaths_smoothed','new_cases_smoothed_per_million','new_deaths_smoothed_per_million','new_tests_smoothed','new_tests_smoothed_per_thousand','new_vaccinations_smoothed','new_vaccinations_smoothed_per_million'])\n",
    "\n",
    "#Reset Index\n",
    "covid19Dataframe.reset_index(drop=True, inplace=True)\n",
    "#Drop rows where Total Deaths is blank. This is required for the ML\n",
    "covid19Dataframe.dropna(subset=['total_cases_per_million'],inplace=True)\n",
    "covid19Dataframe.dropna(subset=['total_deaths'],inplace=True)\n",
    "covid19Dataframe.dropna(subset=['hosp_patients'],inplace=True)\n",
    "\n",
    "#Import Comparison Data set containing data from March. The data set we are using stops in February\n",
    "#canadaMarchCovidData = pd.read_csv(\"https://raw.githubusercontent.com/WhipSnake23/Python-Class-Project/main/Data/Canada-MarchData.csv\")\n",
    "#canadaMarchCovidData = canadaMarchCovidData.drop(columns=['new_cases_smoothed','new_deaths_smoothed','new_cases_smoothed_per_million','new_deaths_smoothed_per_million','new_tests_smoothed','new_tests_smoothed_per_thousand','new_vaccinations_smoothed','new_vaccinations_smoothed_per_million'])\n",
    "#Reset Index\n",
    "#canadaMarchCovidData.reset_index(drop=True, inplace=True)\n",
    "#Drop rows where hosp_patients hasnt been reported\n",
    "#canadaMarchCovidData.dropna(subset=['hosp_patients'],inplace=True)"
   ],
   "metadata": {
    "collapsed": false,
    "pycharm": {
     "name": "#%%\n"
    }
   }
  },
  {
   "cell_type": "markdown",
   "source": [
    "### Define Notebook Functions"
   ],
   "metadata": {
    "collapsed": false,
    "pycharm": {
     "name": "#%% md\n"
    }
   }
  },
  {
   "cell_type": "code",
   "execution_count": 70,
   "outputs": [],
   "source": [
    "#These functions make it easier to test configuration changes and features easier\n",
    "\n",
    "#Prints the Scores from the run of the algorithum against the data\n",
    "def printMetrics(test, predictions):\n",
    "    print(f\"Score: {explained_variance_score(test, predictions):.2f}\")\n",
    "    print(f\"MAE: {mean_absolute_error(test, predictions):.2f}\")\n",
    "    print(f\"RMSE: {math.sqrt(mean_squared_error(test, predictions)):.2f}\")\n",
    "    print(f\"r2: {r2_score(test, predictions):.2f}\")\n",
    "\n",
    "#Function to run the algorithum and call metric function\n",
    "def RunModel(f_Features,f_Target,f_execution):\n",
    "    x_train, x_test, y_train, y_test = train_test_split(f_Features, f_Target, test_size=0.25, random_state=1)\n",
    "    model = ElasticNet(random_state=1)\n",
    "    model.fit(x_train, y_train)\n",
    "    if f_execution == \"score\":\n",
    "        predictions = model.predict(x_test)\n",
    "        printMetrics(y_test, predictions)\n",
    "    elif f_execution == \"predict\":\n",
    "        print(\"Hello\")"
   ],
   "metadata": {
    "collapsed": false,
    "pycharm": {
     "name": "#%%\n"
    }
   }
  },
  {
   "cell_type": "code",
   "execution_count": 71,
   "outputs": [],
   "source": [
    "targetColumn = \"total_cases_per_million\""
   ],
   "metadata": {
    "collapsed": false,
    "pycharm": {
     "name": "#%%\n"
    }
   }
  },
  {
   "cell_type": "code",
   "execution_count": 72,
   "outputs": [
    {
     "name": "stdout",
     "output_type": "stream",
     "text": [
      "Score: 0.90\n",
      "MAE: 1465.54\n",
      "RMSE: 1912.15\n",
      "r2: 0.90\n"
     ]
    }
   ],
   "source": [
    "featureColumns = [\"new_cases\",\"median_age\",\"population_density\",\"population\",\"total_deaths\", \"hosp_patients\"]\n",
    "\n",
    "features=covid19Dataframe[featureColumns]\n",
    "target=covid19Dataframe[targetColumn]\n",
    "\n",
    "RunModel(features,target,\"score\")\n",
    "\n",
    "#RunModel(features,target,\"predict\")\n"
   ],
   "metadata": {
    "collapsed": false,
    "pycharm": {
     "name": "#%%\n"
    }
   }
  }
 ],
 "metadata": {
  "kernelspec": {
   "display_name": "Python 3",
   "language": "python",
   "name": "python3"
  },
  "language_info": {
   "codemirror_mode": {
    "name": "ipython",
    "version": 2
   },
   "file_extension": ".py",
   "mimetype": "text/x-python",
   "name": "python",
   "nbconvert_exporter": "python",
   "pygments_lexer": "ipython2",
   "version": "2.7.6"
  }
 },
 "nbformat": 4,
 "nbformat_minor": 0
}