{
 "cells": [
  {
   "cell_type": "markdown",
   "metadata": {
    "collapsed": true,
    "pycharm": {
     "name": "#%% md\n"
    }
   },
   "source": [
    "## Linear Regression Analysis of Covid 19 data for Canada, Italy, India, and the United States\n",
    "#### By: Ian"
   ]
  },
  {
   "cell_type": "markdown",
   "source": [
    "### Import needed Libraries"
   ],
   "metadata": {
    "collapsed": false
   }
  },
  {
   "cell_type": "code",
   "execution_count": 400,
   "outputs": [],
   "source": [
    "##Import Key Libraries for use\n",
    "import datetime as dt\n",
    "import math\n",
    "import pandas as pd\n",
    "import numpy as np\n",
    "import sklearn\n",
    "from sklearn.model_selection import train_test_split\n",
    "from sklearn.linear_model import ElasticNet\n",
    "from sklearn.metrics import explained_variance_score, mean_absolute_error, r2_score, mean_squared_error"
   ],
   "metadata": {
    "collapsed": false,
    "pycharm": {
     "name": "#%%\n"
    }
   }
  },
  {
   "cell_type": "markdown",
   "source": [
    "### Import and Scrub Data from Github"
   ],
   "metadata": {
    "collapsed": false
   }
  },
  {
   "cell_type": "code",
   "execution_count": 401,
   "outputs": [],
   "source": [
    "#Import CSV\n",
    "covid19Dataframe = pd.read_csv(\"https://raw.githubusercontent.com/WhipSnake23/Python-Class-Project/main/Data/owid-covid-data.csv\")\n",
    "#Remove Smoothed Columns from dataframe\n",
    "covid19Dataframe = covid19Dataframe[covid19Dataframe.iso_code.str.contains(\"CAN\")| (covid19Dataframe.iso_code.str.contains(\"IND\")) | (covid19Dataframe.iso_code.str.contains(\"ITA\")) | (covid19Dataframe.iso_code.str.contains(\"USA\"))]\n",
    "covid19Dataframe = covid19Dataframe.drop(columns=['new_cases_smoothed','new_deaths_smoothed','new_cases_smoothed_per_million','new_deaths_smoothed_per_million','new_tests_smoothed','new_tests_smoothed_per_thousand','new_vaccinations_smoothed','new_vaccinations_smoothed_per_million'])\n",
    "\n",
    "#Reset Index\n",
    "covid19Dataframe.reset_index(drop=True, inplace=True)\n",
    "#Drop rows where Total Deaths is blank. This is required for the ML\n",
    "covid19Dataframe.dropna(subset=['total_cases_per_million'],inplace=True)\n",
    "covid19Dataframe.dropna(subset=['total_deaths'],inplace=True)\n",
    "covid19Dataframe.dropna(subset=['hosp_patients'],inplace=True)\n",
    "covid19Dataframe.dropna(subset=['total_vaccinations'],inplace=True)\n",
    "covid19Dataframe.dropna(subset=['extreme_poverty'],inplace=True)\n",
    "\n",
    "#Import Comparison Data set containing data from March. The data set we are using stops in February\n",
    "canadaMarchCovidData = pd.read_csv(\"https://raw.githubusercontent.com/WhipSnake23/Python-Class-Project/main/Data/Canada-MarchData.csv\")\n",
    "canadaMarchCovidData = canadaMarchCovidData.drop(columns=['new_cases_smoothed','new_deaths_smoothed','new_cases_smoothed_per_million','new_deaths_smoothed_per_million','new_tests_smoothed','new_tests_smoothed_per_thousand','new_vaccinations_smoothed','new_vaccinations_smoothed_per_million'])\n",
    "#Reset Index\n",
    "canadaMarchCovidData.reset_index(drop=True, inplace=True)\n",
    "#Drop rows where hosp_patients hasnt been reported\n",
    "canadaMarchCovidData.dropna(subset=['hosp_patients'],inplace=True)"
   ],
   "metadata": {
    "collapsed": false,
    "pycharm": {
     "name": "#%%\n"
    }
   }
  },
  {
   "cell_type": "markdown",
   "source": [
    "### Define Notebook Functions"
   ],
   "metadata": {
    "collapsed": false,
    "pycharm": {
     "name": "#%% md\n"
    }
   }
  },
  {
   "cell_type": "code",
   "execution_count": 402,
   "outputs": [],
   "source": [
    "#These functions make it easier to test configuration changes and features easier\n",
    "\n",
    "#Prints the Scores from the run of the algorithum against the data\n",
    "def printMetrics(test, predictions):\n",
    "    print(f\"Score: {explained_variance_score(test, predictions):.2f}\")\n",
    "    print(f\"MAE: {mean_absolute_error(test, predictions):.2f}\")\n",
    "    print(f\"RMSE: {math.sqrt(mean_squared_error(test, predictions)):.2f}\")\n",
    "    print(f\"r2: {r2_score(test, predictions):.2f}\")\n",
    "\n",
    "#Function to run the algorithum and call metric function\n",
    "# def RunModel(f_Features,f_Target,f_execution,f_dataframe=\"NAN\"):\n",
    "#     x_train, x_test, y_train, y_test = train_test_split(f_Features, f_Target, test_size=0.25, random_state=1)\n",
    "#     model = ElasticNet(random_state=1)\n",
    "#     model.fit(x_train, y_train)\n",
    "#     if f_execution == \"score\":\n",
    "#         predictions = model.predict(x_test)\n",
    "#         printMetrics(y_test, predictions)\n",
    "#     elif f_execution == \"predict\":\n",
    "#         predictions = model.predict(f_dataframe)\n",
    "#         printMetrics(y_test, predictions)\n",
    "#     return predictions"
   ],
   "metadata": {
    "collapsed": false,
    "pycharm": {
     "name": "#%%\n"
    }
   }
  },
  {
   "cell_type": "code",
   "execution_count": 403,
   "outputs": [],
   "source": [
    "targetColumn = \"total_cases_per_million\""
   ],
   "metadata": {
    "collapsed": false,
    "pycharm": {
     "name": "#%%\n"
    }
   }
  },
  {
   "cell_type": "code",
   "execution_count": 404,
   "outputs": [
    {
     "name": "stdout",
     "output_type": "stream",
     "text": [
      "Score: 0.99\n",
      "MAE: 1229.18\n",
      "RMSE: 2095.38\n",
      "r2: 0.99\n"
     ]
    }
   ],
   "source": [
    "featureColumns = [\"new_cases_per_million\",\"total_deaths_per_million\",\"human_development_index\",\"median_age\",\"population\"]\n",
    "#featureColumns = [\"total_deaths_per_million\",\"new_cases_per_million\",\"human_development_index\",\"gdp_per_capita\",\"median_age\",\"population_density\",\"population\"]\n",
    "features=covid19Dataframe[featureColumns]\n",
    "target=covid19Dataframe[targetColumn]\n",
    "\n",
    "#RunModel(features,target,\"score\")\n",
    "x_train, x_test, y_train, y_test = train_test_split(features, target, test_size=0.25, random_state=1)\n",
    "model = ElasticNet(random_state=1,max_iter=10000)\n",
    "model.fit(x_train, y_train)\n",
    "predictions = model.predict(x_test)\n",
    "printMetrics(y_test, predictions)\n",
    "\n"
   ],
   "metadata": {
    "collapsed": false,
    "pycharm": {
     "name": "#%%\n"
    }
   }
  },
  {
   "cell_type": "code",
   "execution_count": 405,
   "outputs": [
    {
     "name": "stdout",
     "output_type": "stream",
     "text": [
      "Score: 0.99\n",
      "MAE: 1229.18\n",
      "RMSE: 2095.38\n",
      "r2: 0.99\n"
     ]
    },
    {
     "data": {
      "text/plain": "    new_cases_per_million  total_deaths_per_million  human_development_index  \\\n0                  97.875                   583.273                    0.929   \n1                  70.558                   584.042                    0.929   \n2                  73.764                   585.685                    0.929   \n3                  78.957                   586.930                    0.929   \n4                  78.612                   587.751                    0.929   \n5                  73.366                   588.520                    0.929   \n6                  70.160                   589.103                    0.929   \n7                 107.254                   590.083                    0.929   \n8                  77.579                   590.904                    0.929   \n9                  81.050                   591.646                    0.929   \n10                 82.269                   592.626                    0.929   \n11                 93.132                   593.421                    0.929   \n12                 80.282                   594.190                    0.929   \n13                 71.829                   594.958                    0.929   \n14                100.975                   595.726                    0.929   \n15                 75.698                   596.389                    0.929   \n16                 90.270                   597.290                    0.929   \n17                 95.728                   598.191                    0.929   \n18                112.129                   598.932                    0.929   \n19                 90.535                   599.727                    0.929   \n20                 82.799                   600.284                    0.929   \n21                128.848                   601.317                    0.929   \n22                 94.563                   601.847                    0.929   \n23                104.631                   602.483                    0.929   \n24                135.233                   603.331                    0.929   \n\n    median_age  population  total_cases_per_million  \n0         41.4    37742157                  22350.0  \n1         41.4    37742157                  22760.0  \n2         41.4    37742157                  22766.0  \n3         41.4    37742157                  22731.0  \n4         41.4    37742157                  22761.0  \n5         41.4    37742157                  22859.0  \n6         41.4    37742157                  22923.0  \n7         41.4    37742157                  22430.0  \n8         41.4    37742157                  22874.0  \n9         41.4    37742157                  22848.0  \n10        41.4    37742157                  22862.0  \n11        41.4    37742157                  22733.0  \n12        41.4    37742157                  22938.0  \n13        41.4    37742157                  23082.0  \n14        41.4    37742157                  22694.0  \n15        41.4    37742157                  23071.0  \n16        41.4    37742157                  22894.0  \n17        41.4    37742157                  22845.0  \n18        41.4    37742157                  22636.0  \n19        41.4    37742157                  22966.0  \n20        41.4    37742157                  23092.0  \n21        41.4    37742157                  22474.0  \n22        41.4    37742157                  22975.0  \n23        41.4    37742157                  22853.0  \n24        41.4    37742157                  22447.0  ",
      "text/html": "<div>\n<style scoped>\n    .dataframe tbody tr th:only-of-type {\n        vertical-align: middle;\n    }\n\n    .dataframe tbody tr th {\n        vertical-align: top;\n    }\n\n    .dataframe thead th {\n        text-align: right;\n    }\n</style>\n<table border=\"1\" class=\"dataframe\">\n  <thead>\n    <tr style=\"text-align: right;\">\n      <th></th>\n      <th>new_cases_per_million</th>\n      <th>total_deaths_per_million</th>\n      <th>human_development_index</th>\n      <th>median_age</th>\n      <th>population</th>\n      <th>total_cases_per_million</th>\n    </tr>\n  </thead>\n  <tbody>\n    <tr>\n      <th>0</th>\n      <td>97.875</td>\n      <td>583.273</td>\n      <td>0.929</td>\n      <td>41.4</td>\n      <td>37742157</td>\n      <td>22350.0</td>\n    </tr>\n    <tr>\n      <th>1</th>\n      <td>70.558</td>\n      <td>584.042</td>\n      <td>0.929</td>\n      <td>41.4</td>\n      <td>37742157</td>\n      <td>22760.0</td>\n    </tr>\n    <tr>\n      <th>2</th>\n      <td>73.764</td>\n      <td>585.685</td>\n      <td>0.929</td>\n      <td>41.4</td>\n      <td>37742157</td>\n      <td>22766.0</td>\n    </tr>\n    <tr>\n      <th>3</th>\n      <td>78.957</td>\n      <td>586.930</td>\n      <td>0.929</td>\n      <td>41.4</td>\n      <td>37742157</td>\n      <td>22731.0</td>\n    </tr>\n    <tr>\n      <th>4</th>\n      <td>78.612</td>\n      <td>587.751</td>\n      <td>0.929</td>\n      <td>41.4</td>\n      <td>37742157</td>\n      <td>22761.0</td>\n    </tr>\n    <tr>\n      <th>5</th>\n      <td>73.366</td>\n      <td>588.520</td>\n      <td>0.929</td>\n      <td>41.4</td>\n      <td>37742157</td>\n      <td>22859.0</td>\n    </tr>\n    <tr>\n      <th>6</th>\n      <td>70.160</td>\n      <td>589.103</td>\n      <td>0.929</td>\n      <td>41.4</td>\n      <td>37742157</td>\n      <td>22923.0</td>\n    </tr>\n    <tr>\n      <th>7</th>\n      <td>107.254</td>\n      <td>590.083</td>\n      <td>0.929</td>\n      <td>41.4</td>\n      <td>37742157</td>\n      <td>22430.0</td>\n    </tr>\n    <tr>\n      <th>8</th>\n      <td>77.579</td>\n      <td>590.904</td>\n      <td>0.929</td>\n      <td>41.4</td>\n      <td>37742157</td>\n      <td>22874.0</td>\n    </tr>\n    <tr>\n      <th>9</th>\n      <td>81.050</td>\n      <td>591.646</td>\n      <td>0.929</td>\n      <td>41.4</td>\n      <td>37742157</td>\n      <td>22848.0</td>\n    </tr>\n    <tr>\n      <th>10</th>\n      <td>82.269</td>\n      <td>592.626</td>\n      <td>0.929</td>\n      <td>41.4</td>\n      <td>37742157</td>\n      <td>22862.0</td>\n    </tr>\n    <tr>\n      <th>11</th>\n      <td>93.132</td>\n      <td>593.421</td>\n      <td>0.929</td>\n      <td>41.4</td>\n      <td>37742157</td>\n      <td>22733.0</td>\n    </tr>\n    <tr>\n      <th>12</th>\n      <td>80.282</td>\n      <td>594.190</td>\n      <td>0.929</td>\n      <td>41.4</td>\n      <td>37742157</td>\n      <td>22938.0</td>\n    </tr>\n    <tr>\n      <th>13</th>\n      <td>71.829</td>\n      <td>594.958</td>\n      <td>0.929</td>\n      <td>41.4</td>\n      <td>37742157</td>\n      <td>23082.0</td>\n    </tr>\n    <tr>\n      <th>14</th>\n      <td>100.975</td>\n      <td>595.726</td>\n      <td>0.929</td>\n      <td>41.4</td>\n      <td>37742157</td>\n      <td>22694.0</td>\n    </tr>\n    <tr>\n      <th>15</th>\n      <td>75.698</td>\n      <td>596.389</td>\n      <td>0.929</td>\n      <td>41.4</td>\n      <td>37742157</td>\n      <td>23071.0</td>\n    </tr>\n    <tr>\n      <th>16</th>\n      <td>90.270</td>\n      <td>597.290</td>\n      <td>0.929</td>\n      <td>41.4</td>\n      <td>37742157</td>\n      <td>22894.0</td>\n    </tr>\n    <tr>\n      <th>17</th>\n      <td>95.728</td>\n      <td>598.191</td>\n      <td>0.929</td>\n      <td>41.4</td>\n      <td>37742157</td>\n      <td>22845.0</td>\n    </tr>\n    <tr>\n      <th>18</th>\n      <td>112.129</td>\n      <td>598.932</td>\n      <td>0.929</td>\n      <td>41.4</td>\n      <td>37742157</td>\n      <td>22636.0</td>\n    </tr>\n    <tr>\n      <th>19</th>\n      <td>90.535</td>\n      <td>599.727</td>\n      <td>0.929</td>\n      <td>41.4</td>\n      <td>37742157</td>\n      <td>22966.0</td>\n    </tr>\n    <tr>\n      <th>20</th>\n      <td>82.799</td>\n      <td>600.284</td>\n      <td>0.929</td>\n      <td>41.4</td>\n      <td>37742157</td>\n      <td>23092.0</td>\n    </tr>\n    <tr>\n      <th>21</th>\n      <td>128.848</td>\n      <td>601.317</td>\n      <td>0.929</td>\n      <td>41.4</td>\n      <td>37742157</td>\n      <td>22474.0</td>\n    </tr>\n    <tr>\n      <th>22</th>\n      <td>94.563</td>\n      <td>601.847</td>\n      <td>0.929</td>\n      <td>41.4</td>\n      <td>37742157</td>\n      <td>22975.0</td>\n    </tr>\n    <tr>\n      <th>23</th>\n      <td>104.631</td>\n      <td>602.483</td>\n      <td>0.929</td>\n      <td>41.4</td>\n      <td>37742157</td>\n      <td>22853.0</td>\n    </tr>\n    <tr>\n      <th>24</th>\n      <td>135.233</td>\n      <td>603.331</td>\n      <td>0.929</td>\n      <td>41.4</td>\n      <td>37742157</td>\n      <td>22447.0</td>\n    </tr>\n  </tbody>\n</table>\n</div>"
     },
     "execution_count": 405,
     "metadata": {},
     "output_type": "execute_result"
    }
   ],
   "source": [
    "#Prediction Methods\n",
    "predictionDataFrame = canadaMarchCovidData[featureColumns]\n",
    "predictedValues = model.predict(predictionDataFrame)\n",
    "printMetrics(y_test, predictions)\n",
    "#predictedValues = RunModel(features,target,\"predict\",predictionDataFrame)\n",
    "predictedValues = np.around(predictedValues,decimals=0)\n",
    "#predictedValues\n",
    "predictedValuesFrame = predictionDataFrame.copy()\n",
    "predictedValuesFrame['total_cases_per_million'] = predictedValues\n",
    "\n",
    "predictedValuesFrame\n",
    "#columnToCompare = ['total_cases_per_million']\n",
    "#actualDeaths = canadaMarchCovidData[columnToCompare]\n",
    "#predictedDeaths = predictedValuesFrame[columnToCompare]\n",
    "#comparedDataFrame = actualDeaths.compare(predictedDeaths)\n",
    "#comparedDataFrame = comparedDataFrame[\"total_cases_per_million\"]\n",
    "\n",
    "#comparedDataFrame = comparedDataFrame.rename(columns={\"self\": \"Actual_Deaths\", \"other\": \"Predicted_Deaths\"})\n",
    "\n",
    "#comparedDataFrame[\"Difference\"] = np.nan\n",
    "#comparedDataFrame['Difference'] = comparedDataFrame['Actual_Deaths'] - comparedDataFrame['Predicted_Deaths']\n",
    "#comparedDataFrame"
   ],
   "metadata": {
    "collapsed": false,
    "pycharm": {
     "name": "#%%\n"
    }
   }
  },
  {
   "cell_type": "code",
   "execution_count": 405,
   "outputs": [],
   "source": [],
   "metadata": {
    "collapsed": false,
    "pycharm": {
     "name": "#%%\n"
    }
   }
  }
 ],
 "metadata": {
  "kernelspec": {
   "display_name": "Python 3",
   "language": "python",
   "name": "python3"
  },
  "language_info": {
   "codemirror_mode": {
    "name": "ipython",
    "version": 2
   },
   "file_extension": ".py",
   "mimetype": "text/x-python",
   "name": "python",
   "nbconvert_exporter": "python",
   "pygments_lexer": "ipython2",
   "version": "2.7.6"
  }
 },
 "nbformat": 4,
 "nbformat_minor": 0
}