{
 "cells": [
  {
   "cell_type": "markdown",
   "metadata": {
    "collapsed": true,
    "pycharm": {
     "name": "#%% md\n"
    }
   },
   "source": [
    "## Linear Regression Analysis of Covid 19 data for Canada, Italy, India, and the United States\n",
    "#### By: Ian"
   ]
  },
  {
   "cell_type": "markdown",
   "source": [
    "### Import needed Libraries"
   ],
   "metadata": {
    "collapsed": false
   }
  },
  {
   "cell_type": "code",
   "execution_count": 474,
   "outputs": [],
   "source": [
    "##Import Key Libraries for use\n",
    "import datetime as dt\n",
    "import math\n",
    "import pandas as pd\n",
    "import numpy as np\n",
    "import sklearn\n",
    "from sklearn.model_selection import train_test_split\n",
    "from sklearn.linear_model import ElasticNet\n",
    "from sklearn.metrics import explained_variance_score, mean_absolute_error, r2_score, mean_squared_error"
   ],
   "metadata": {
    "collapsed": false,
    "pycharm": {
     "name": "#%%\n"
    }
   }
  },
  {
   "cell_type": "markdown",
   "source": [
    "### Import and Scrub Data from Github"
   ],
   "metadata": {
    "collapsed": false
   }
  },
  {
   "cell_type": "code",
   "execution_count": 475,
   "outputs": [],
   "source": [
    "neededColumns = [\"total_cases_per_million\",\"new_cases_per_million\",\"total_deaths_per_million\",\"human_development_index\",\"median_age\",\"population\"]\n",
    "#Import CSV\n",
    "covid19Dataframe = pd.read_csv(\"https://raw.githubusercontent.com/WhipSnake23/Python-Class-Project/main/Data/owid-covid-data.csv\")\n",
    "#Remove Smoothed Columns from dataframe\n",
    "covid19Dataframe = covid19Dataframe[covid19Dataframe.iso_code.str.contains(\"CAN\")| (covid19Dataframe.iso_code.str.contains(\"IND\")) | (covid19Dataframe.iso_code.str.contains(\"ITA\")) | (covid19Dataframe.iso_code.str.contains(\"USA\"))]\n",
    "covid19Dataframe = covid19Dataframe[neededColumns]\n",
    "covid19Dataframe.dropna(subset=['new_cases_per_million'],inplace=True)\n",
    "covid19Dataframe.dropna(subset=['total_deaths_per_million'],inplace=True)\n",
    "\n",
    "#Reset Index\n",
    "covid19Dataframe.reset_index(drop=True, inplace=True)\n",
    "\n",
    "\n",
    "\n",
    "#Import Comparison Data set containing data from March. The data set we are using stops in February\n",
    "MarchCovidData = pd.read_csv(\"https://raw.githubusercontent.com/WhipSnake23/Python-Class-Project/main/Data/Covid-IND_CAN-USA_ITA-March.csv\")\n",
    "MarchCovidData = MarchCovidData[neededColumns]\n",
    "MarchCovidData.dropna(subset=['new_cases_per_million'],inplace=True)\n",
    "MarchCovidData.dropna(subset=['total_deaths_per_million'],inplace=True)\n",
    "#Reset Index\n",
    "MarchCovidData.reset_index(drop=True, inplace=True)\n"
   ],
   "metadata": {
    "collapsed": false,
    "pycharm": {
     "name": "#%%\n"
    }
   }
  },
  {
   "cell_type": "markdown",
   "source": [
    "### Define Notebook Functions"
   ],
   "metadata": {
    "collapsed": false,
    "pycharm": {
     "name": "#%% md\n"
    }
   }
  },
  {
   "cell_type": "code",
   "execution_count": 476,
   "outputs": [],
   "source": [
    "#These functions make it easier to test configuration changes and features easier\n",
    "\n",
    "#Prints the Scores from the run of the algorithum against the data\n",
    "def printMetrics(test, predictions):\n",
    "    print(f\"Score: {explained_variance_score(test, predictions):.2f}\")\n",
    "    print(f\"MAE: {mean_absolute_error(test, predictions):.2f}\")\n",
    "    print(f\"RMSE: {math.sqrt(mean_squared_error(test, predictions)):.2f}\")\n",
    "    print(f\"r2: {r2_score(test, predictions):.2f}\")\n",
    "\n",
    "#Function to run the algorithum and call metric function\n",
    "# def RunModel(f_Features,f_Target,f_execution,f_dataframe=\"NAN\"):\n",
    "#     x_train, x_test, y_train, y_test = train_test_split(f_Features, f_Target, test_size=0.25, random_state=1)\n",
    "#     model = ElasticNet(random_state=1)\n",
    "#     model.fit(x_train, y_train)\n",
    "#     if f_execution == \"score\":\n",
    "#         predictions = model.predict(x_test)\n",
    "#         printMetrics(y_test, predictions)\n",
    "#     elif f_execution == \"predict\":\n",
    "#         predictions = model.predict(f_dataframe)\n",
    "#         printMetrics(y_test, predictions)\n",
    "#     return predictions"
   ],
   "metadata": {
    "collapsed": false,
    "pycharm": {
     "name": "#%%\n"
    }
   }
  },
  {
   "cell_type": "code",
   "execution_count": 477,
   "outputs": [],
   "source": [
    "targetColumn = \"total_cases_per_million\""
   ],
   "metadata": {
    "collapsed": false,
    "pycharm": {
     "name": "#%%\n"
    }
   }
  },
  {
   "cell_type": "code",
   "execution_count": 478,
   "outputs": [
    {
     "name": "stdout",
     "output_type": "stream",
     "text": [
      "Score: 0.92\n",
      "MAE: 3185.80\n",
      "RMSE: 4726.74\n",
      "r2: 0.92\n"
     ]
    }
   ],
   "source": [
    "featureColumns = [\"new_cases_per_million\",\"total_deaths_per_million\",\"human_development_index\",\"median_age\",\"population\"]\n",
    "#featureColumns = [\"total_deaths_per_million\",\"new_cases_per_million\",\"human_development_index\",\"gdp_per_capita\",\"median_age\",\"population_density\",\"population\"]\n",
    "features=covid19Dataframe[featureColumns]\n",
    "target=covid19Dataframe[targetColumn]\n",
    "\n",
    "#RunModel(features,target,\"score\")\n",
    "x_train, x_test, y_train, y_test = train_test_split(features, target, test_size=0.25, random_state=1)\n",
    "model = ElasticNet(random_state=1,max_iter=10000)\n",
    "model.fit(x_train, y_train)\n",
    "predictions = model.predict(x_test)\n",
    "printMetrics(y_test, predictions)\n"
   ],
   "metadata": {
    "collapsed": false,
    "pycharm": {
     "name": "#%%\n"
    }
   }
  },
  {
   "cell_type": "code",
   "execution_count": 479,
   "outputs": [],
   "source": [
    "#Prediction Methods\n",
    "# predictionDataFrame = canadaMarchCovidData[featureColumns]\n",
    "# predictedValues = model.predict(predictionDataFrame)\n",
    "# printMetrics(y_test, predictions)\n",
    "# #predictedValues = RunModel(features,target,\"predict\",predictionDataFrame)\n",
    "# predictedValues = np.around(predictedValues,decimals=0)\n",
    "# #predictedValues\n",
    "# predictedValuesFrame = predictionDataFrame.copy()\n",
    "# predictedValuesFrame['total_cases_per_million'] = predictedValues\n",
    "#\n",
    "# columnToCompare = ['total_cases_per_million']\n",
    "# actual_total_cases_per_million = canadaMarchCovidData[columnToCompare]\n",
    "# predicted_actual_total_cases_per_million = predictedValuesFrame[columnToCompare]\n",
    "# comparedDataFrame = actual_total_cases_per_million.compare(predicted_actual_total_cases_per_million)\n",
    "# comparedDataFrame = comparedDataFrame[\"total_cases_per_million\"]\n",
    "#\n",
    "# comparedDataFrame = comparedDataFrame.rename(columns={\"self\": \"Actual\", \"other\": \"Predicted\"})\n",
    "#\n",
    "# comparedDataFrame[\"Difference\"] = np.nan\n",
    "# comparedDataFrame['Difference'] = comparedDataFrame['Actual'] - comparedDataFrame['Predicted']\n",
    "# comparedDataFrame\n"
   ],
   "metadata": {
    "collapsed": false,
    "pycharm": {
     "name": "#%%\n"
    }
   }
  },
  {
   "cell_type": "code",
   "execution_count": 480,
   "outputs": [
    {
     "data": {
      "text/plain": "     total_cases_per_million  new_cases_per_million  total_deaths_per_million  \\\n0                  23193.905                 97.875                   583.273   \n1                  23264.463                 70.558                   584.042   \n2                  23338.226                 73.764                   585.685   \n3                  23417.183                 78.957                   586.930   \n4                  23495.795                 78.612                   587.751   \n..                       ...                    ...                       ...   \n119                91296.394                187.521                  1658.334   \n120                91428.399                132.005                  1659.866   \n121                91638.122                209.723                  1661.984   \n122                91823.136                185.014                  1664.627   \n123                92025.639                202.503                  1667.878   \n\n     human_development_index  median_age  population  \\\n0                      0.929        41.4    37742157   \n1                      0.929        41.4    37742157   \n2                      0.929        41.4    37742157   \n3                      0.929        41.4    37742157   \n4                      0.929        41.4    37742157   \n..                       ...         ...         ...   \n119                    0.926        38.3   331002647   \n120                    0.926        38.3   331002647   \n121                    0.926        38.3   331002647   \n122                    0.926        38.3   331002647   \n123                    0.926        38.3   331002647   \n\n     new_cases_per_mil_Increase  total_deaths_per_mil_Increase  \n0                     112.55625                      670.76395  \n1                      81.14170                      671.64830  \n2                      84.82860                      673.53775  \n3                      90.80055                      674.96950  \n4                      90.40380                      675.91365  \n..                          ...                            ...  \n119                   215.64915                     1907.08410  \n120                   151.80575                     1908.84590  \n121                   241.18145                     1911.28160  \n122                   212.76610                     1914.32105  \n123                   232.87845                     1918.05970  \n\n[124 rows x 8 columns]",
      "text/html": "<div>\n<style scoped>\n    .dataframe tbody tr th:only-of-type {\n        vertical-align: middle;\n    }\n\n    .dataframe tbody tr th {\n        vertical-align: top;\n    }\n\n    .dataframe thead th {\n        text-align: right;\n    }\n</style>\n<table border=\"1\" class=\"dataframe\">\n  <thead>\n    <tr style=\"text-align: right;\">\n      <th></th>\n      <th>total_cases_per_million</th>\n      <th>new_cases_per_million</th>\n      <th>total_deaths_per_million</th>\n      <th>human_development_index</th>\n      <th>median_age</th>\n      <th>population</th>\n      <th>new_cases_per_mil_Increase</th>\n      <th>total_deaths_per_mil_Increase</th>\n    </tr>\n  </thead>\n  <tbody>\n    <tr>\n      <th>0</th>\n      <td>23193.905</td>\n      <td>97.875</td>\n      <td>583.273</td>\n      <td>0.929</td>\n      <td>41.4</td>\n      <td>37742157</td>\n      <td>112.55625</td>\n      <td>670.76395</td>\n    </tr>\n    <tr>\n      <th>1</th>\n      <td>23264.463</td>\n      <td>70.558</td>\n      <td>584.042</td>\n      <td>0.929</td>\n      <td>41.4</td>\n      <td>37742157</td>\n      <td>81.14170</td>\n      <td>671.64830</td>\n    </tr>\n    <tr>\n      <th>2</th>\n      <td>23338.226</td>\n      <td>73.764</td>\n      <td>585.685</td>\n      <td>0.929</td>\n      <td>41.4</td>\n      <td>37742157</td>\n      <td>84.82860</td>\n      <td>673.53775</td>\n    </tr>\n    <tr>\n      <th>3</th>\n      <td>23417.183</td>\n      <td>78.957</td>\n      <td>586.930</td>\n      <td>0.929</td>\n      <td>41.4</td>\n      <td>37742157</td>\n      <td>90.80055</td>\n      <td>674.96950</td>\n    </tr>\n    <tr>\n      <th>4</th>\n      <td>23495.795</td>\n      <td>78.612</td>\n      <td>587.751</td>\n      <td>0.929</td>\n      <td>41.4</td>\n      <td>37742157</td>\n      <td>90.40380</td>\n      <td>675.91365</td>\n    </tr>\n    <tr>\n      <th>...</th>\n      <td>...</td>\n      <td>...</td>\n      <td>...</td>\n      <td>...</td>\n      <td>...</td>\n      <td>...</td>\n      <td>...</td>\n      <td>...</td>\n    </tr>\n    <tr>\n      <th>119</th>\n      <td>91296.394</td>\n      <td>187.521</td>\n      <td>1658.334</td>\n      <td>0.926</td>\n      <td>38.3</td>\n      <td>331002647</td>\n      <td>215.64915</td>\n      <td>1907.08410</td>\n    </tr>\n    <tr>\n      <th>120</th>\n      <td>91428.399</td>\n      <td>132.005</td>\n      <td>1659.866</td>\n      <td>0.926</td>\n      <td>38.3</td>\n      <td>331002647</td>\n      <td>151.80575</td>\n      <td>1908.84590</td>\n    </tr>\n    <tr>\n      <th>121</th>\n      <td>91638.122</td>\n      <td>209.723</td>\n      <td>1661.984</td>\n      <td>0.926</td>\n      <td>38.3</td>\n      <td>331002647</td>\n      <td>241.18145</td>\n      <td>1911.28160</td>\n    </tr>\n    <tr>\n      <th>122</th>\n      <td>91823.136</td>\n      <td>185.014</td>\n      <td>1664.627</td>\n      <td>0.926</td>\n      <td>38.3</td>\n      <td>331002647</td>\n      <td>212.76610</td>\n      <td>1914.32105</td>\n    </tr>\n    <tr>\n      <th>123</th>\n      <td>92025.639</td>\n      <td>202.503</td>\n      <td>1667.878</td>\n      <td>0.926</td>\n      <td>38.3</td>\n      <td>331002647</td>\n      <td>232.87845</td>\n      <td>1918.05970</td>\n    </tr>\n  </tbody>\n</table>\n<p>124 rows × 8 columns</p>\n</div>"
     },
     "execution_count": 480,
     "metadata": {},
     "output_type": "execute_result"
    }
   ],
   "source": [
    "##Increase/Decrease by 10% new_cases_per_million total_deaths_per_million - based on March Data\n",
    "MarchCovidData.insert(6,\"new_cases_per_mil_Increase\",(MarchCovidData['new_cases_per_million'] * .15) + MarchCovidData['new_cases_per_million'],True)\n",
    "MarchCovidData.insert(7,\"total_deaths_per_mil_Increase\",(MarchCovidData['total_deaths_per_million'] * .15) + MarchCovidData['total_deaths_per_million'] ,True)\n",
    "MarchCovidData\n"
   ],
   "metadata": {
    "collapsed": false,
    "pycharm": {
     "name": "#%%\n"
    }
   }
  }
 ],
 "metadata": {
  "kernelspec": {
   "display_name": "Python 3",
   "language": "python",
   "name": "python3"
  },
  "language_info": {
   "codemirror_mode": {
    "name": "ipython",
    "version": 2
   },
   "file_extension": ".py",
   "mimetype": "text/x-python",
   "name": "python",
   "nbconvert_exporter": "python",
   "pygments_lexer": "ipython2",
   "version": "2.7.6"
  }
 },
 "nbformat": 4,
 "nbformat_minor": 0
}